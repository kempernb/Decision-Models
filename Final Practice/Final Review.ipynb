{
 "cells": [
  {
   "cell_type": "code",
   "execution_count": 1,
   "metadata": {},
   "outputs": [],
   "source": [
    "# import Glop package\n",
    "from ortools.linear_solver import pywraplp as glp\n",
    "import lptools as lpt"
   ]
  },
  {
   "cell_type": "code",
   "execution_count": 2,
   "metadata": {},
   "outputs": [],
   "source": [
    "#Create LP model object\n",
    "mymodel = glp.Solver('Sports',glp.Solver.GLOP_LINEAR_PROGRAMMING)"
   ]
  },
  {
   "cell_type": "code",
   "execution_count": 3,
   "metadata": {},
   "outputs": [],
   "source": [
    "inf = mymodel.infinity()\n",
    "\n",
    "         # name: supply capacity, objective coefficient list\n",
    "source = {'Muncie': (3 , [8,6]),    #\n",
    "          'Brazil': (6 , [3,8]),\n",
    "          'Xenia':  (5,  [9,3])\n",
    "         }  \n",
    "\n",
    "        # name: supply capacity, objective coefficient list\n",
    "transship = {'Louisville': (500, [44,34,34,32]),   #shipping cost per unit to each customer\n",
    "             'Cincinnati': (500, [57,35,28,24]),   # No supply capacity given\n",
    "            }   \n",
    "\n",
    "        # name: demand quantity required\n",
    "demand = {'Macon': 2, 'Greenwood': 4, 'Concord': 3, 'Chatham': 3}    # weekly customer demand for Just Sports, Sports N Stuff, and Sports Dude\n",
    "\n",
    "mymodel.Objective().SetMinimization()"
   ]
  },
  {
   "cell_type": "code",
   "execution_count": 4,
   "metadata": {},
   "outputs": [],
   "source": [
    "# create inbound shipment variables from suppliers to dcs and a dictionary to access them\n",
    "ship = dict()\n",
    "for s in source:\n",
    "    ship[s] = dict()\n",
    "    (b,coeff_lst) = source[s]\n",
    "    for (t,c) in zip(transship,coeff_lst):\n",
    "        ship[s][t] = mymodel.NumVar(0,inf, s + \".\" + t) \n",
    "        mymodel.Objective().SetCoefficient(ship[s][t], c)"
   ]
  },
  {
   "cell_type": "code",
   "execution_count": 5,
   "metadata": {},
   "outputs": [],
   "source": [
    "# create outbound shipment variables from DCs to Customers and a dictionary to access them\n",
    "for t in transship:\n",
    "    ship[t] = dict()\n",
    "    (b,coeff_lst) = transship[t]\n",
    "    for (d,c) in zip(demand,coeff_lst):\n",
    "        ship[t][d] = mymodel.NumVar(0,inf, t + \".\" + d )\n",
    "        mymodel.Objective().SetCoefficient(ship[t][d], c)"
   ]
  },
  {
   "cell_type": "code",
   "execution_count": 6,
   "metadata": {},
   "outputs": [],
   "source": [
    "# create source/supply constraints\n",
    "for s in source:\n",
    "    (b,coeff_lst) = source[s]\n",
    "    constr = mymodel.Constraint(-inf,b,s )\n",
    "    for t in transship:\n",
    "        constr.SetCoefficient(ship[s][t], 1)\n",
    "        \n",
    "# create DC\n",
    "for t in transship:\n",
    "    (b,coeff_lst) = transship[t]\n",
    "    constr = mymodel.Constraint(-inf,b,t )\n",
    "    for s in source:\n",
    "        constr.SetCoefficient(ship[s][t], 1)"
   ]
  },
  {
   "cell_type": "code",
   "execution_count": 7,
   "metadata": {},
   "outputs": [
    {
     "name": "stdout",
     "output_type": "stream",
     "text": [
      "Variables:\n",
      "Muncie.Louisville, Muncie.Cincinnati, Brazil.Louisville, Brazil.Cincinnati, Xenia.Louisville, Xenia.Cincinnati, Louisville.Macon, Louisville.Greenwood, Louisville.Concord, Louisville.Chatham, Cincinnati.Macon, Cincinnati.Greenwood, Cincinnati.Concord, Cincinnati.Chatham \n",
      "\n",
      "minimize: 8.0*Muncie.Louisville + 6.0*Muncie.Cincinnati + 3.0*Brazil.Louisville + 8.0*Brazil.Cincinnati + 9.0*Xenia.Louisville + 3.0*Xenia.Cincinnati + 44.0*Louisville.Macon + 34.0*Louisville.Greenwood + 34.0*Louisville.Concord + 32.0*Louisville.Chatham + 57.0*Cincinnati.Macon + 35.0*Cincinnati.Greenwood + 28.0*Cincinnati.Concord + 24.0*Cincinnati.Chatham \n",
      "\n",
      "Subject To:\n",
      "Muncie: 1.0*Muncie.Louisville + 1.0*Muncie.Cincinnati <= 3.0\n",
      "Brazil: 1.0*Brazil.Louisville + 1.0*Brazil.Cincinnati <= 6.0\n",
      "Xenia: 1.0*Xenia.Louisville + 1.0*Xenia.Cincinnati <= 5.0\n",
      "Louisville: 1.0*Muncie.Louisville + 1.0*Brazil.Louisville + 1.0*Xenia.Louisville <= 500.0\n",
      "Cincinnati: 1.0*Muncie.Cincinnati + 1.0*Brazil.Cincinnati + 1.0*Xenia.Cincinnati <= 500.0\n",
      "\n",
      "Bounds:\n",
      "Muncie.Louisville >= 0.0\n",
      "Muncie.Cincinnati >= 0.0\n",
      "Brazil.Louisville >= 0.0\n",
      "Brazil.Cincinnati >= 0.0\n",
      "Xenia.Louisville >= 0.0\n",
      "Xenia.Cincinnati >= 0.0\n",
      "Louisville.Macon >= 0.0\n",
      "Louisville.Greenwood >= 0.0\n",
      "Louisville.Concord >= 0.0\n",
      "Louisville.Chatham >= 0.0\n",
      "Cincinnati.Macon >= 0.0\n",
      "Cincinnati.Greenwood >= 0.0\n",
      "Cincinnati.Concord >= 0.0\n",
      "Cincinnati.Chatham >= 0.0\n"
     ]
    }
   ],
   "source": [
    "lpt.print_model(mymodel)"
   ]
  },
  {
   "cell_type": "code",
   "execution_count": 8,
   "metadata": {},
   "outputs": [],
   "source": [
    "# create demand constraints\n",
    "for d in demand:\n",
    "    lb = ub = demand[d]\n",
    "    constr = mymodel.Constraint(lb,ub,d)\n",
    "    for t in transship:\n",
    "        constr.SetCoefficient(ship[t][d], 1)"
   ]
  },
  {
   "cell_type": "code",
   "execution_count": 9,
   "metadata": {},
   "outputs": [
    {
     "name": "stdout",
     "output_type": "stream",
     "text": [
      "Variables:\n",
      "Muncie.Louisville, Muncie.Cincinnati, Brazil.Louisville, Brazil.Cincinnati, Xenia.Louisville, Xenia.Cincinnati, Louisville.Macon, Louisville.Greenwood, Louisville.Concord, Louisville.Chatham, Cincinnati.Macon, Cincinnati.Greenwood, Cincinnati.Concord, Cincinnati.Chatham \n",
      "\n",
      "minimize: 8.0*Muncie.Louisville + 6.0*Muncie.Cincinnati + 3.0*Brazil.Louisville + 8.0*Brazil.Cincinnati + 9.0*Xenia.Louisville + 3.0*Xenia.Cincinnati + 44.0*Louisville.Macon + 34.0*Louisville.Greenwood + 34.0*Louisville.Concord + 32.0*Louisville.Chatham + 57.0*Cincinnati.Macon + 35.0*Cincinnati.Greenwood + 28.0*Cincinnati.Concord + 24.0*Cincinnati.Chatham \n",
      "\n",
      "Subject To:\n",
      "Muncie: 1.0*Muncie.Louisville + 1.0*Muncie.Cincinnati <= 3.0\n",
      "Brazil: 1.0*Brazil.Louisville + 1.0*Brazil.Cincinnati <= 6.0\n",
      "Xenia: 1.0*Xenia.Louisville + 1.0*Xenia.Cincinnati <= 5.0\n",
      "Louisville: 1.0*Muncie.Louisville + 1.0*Brazil.Louisville + 1.0*Xenia.Louisville <= 500.0\n",
      "Cincinnati: 1.0*Muncie.Cincinnati + 1.0*Brazil.Cincinnati + 1.0*Xenia.Cincinnati <= 500.0\n",
      "Macon: 1.0*Louisville.Macon + 1.0*Cincinnati.Macon = 2.0\n",
      "Greenwood: 1.0*Louisville.Greenwood + 1.0*Cincinnati.Greenwood = 4.0\n",
      "Concord: 1.0*Louisville.Concord + 1.0*Cincinnati.Concord = 3.0\n",
      "Chatham: 1.0*Louisville.Chatham + 1.0*Cincinnati.Chatham = 3.0\n",
      "\n",
      "Bounds:\n",
      "Muncie.Louisville >= 0.0\n",
      "Muncie.Cincinnati >= 0.0\n",
      "Brazil.Louisville >= 0.0\n",
      "Brazil.Cincinnati >= 0.0\n",
      "Xenia.Louisville >= 0.0\n",
      "Xenia.Cincinnati >= 0.0\n",
      "Louisville.Macon >= 0.0\n",
      "Louisville.Greenwood >= 0.0\n",
      "Louisville.Concord >= 0.0\n",
      "Louisville.Chatham >= 0.0\n",
      "Cincinnati.Macon >= 0.0\n",
      "Cincinnati.Greenwood >= 0.0\n",
      "Cincinnati.Concord >= 0.0\n",
      "Cincinnati.Chatham >= 0.0\n"
     ]
    }
   ],
   "source": [
    "lpt.print_model(mymodel)"
   ]
  },
  {
   "cell_type": "code",
   "execution_count": 10,
   "metadata": {},
   "outputs": [],
   "source": [
    "# create transshipment flow balance constraints\n",
    "for t in transship:\n",
    "    constr = mymodel.Constraint(0,0,t )\n",
    "    for s in source:\n",
    "        constr.SetCoefficient(ship[s][t], 1)\n",
    "    for d in demand:\n",
    "        constr.SetCoefficient(ship[t][d], -1)"
   ]
  },
  {
   "cell_type": "code",
   "execution_count": 11,
   "metadata": {},
   "outputs": [
    {
     "name": "stdout",
     "output_type": "stream",
     "text": [
      "Variables:\n",
      "Muncie.Louisville, Muncie.Cincinnati, Brazil.Louisville, Brazil.Cincinnati, Xenia.Louisville, Xenia.Cincinnati, Louisville.Macon, Louisville.Greenwood, Louisville.Concord, Louisville.Chatham, Cincinnati.Macon, Cincinnati.Greenwood, Cincinnati.Concord, Cincinnati.Chatham \n",
      "\n",
      "minimize: 8.0*Muncie.Louisville + 6.0*Muncie.Cincinnati + 3.0*Brazil.Louisville + 8.0*Brazil.Cincinnati + 9.0*Xenia.Louisville + 3.0*Xenia.Cincinnati + 44.0*Louisville.Macon + 34.0*Louisville.Greenwood + 34.0*Louisville.Concord + 32.0*Louisville.Chatham + 57.0*Cincinnati.Macon + 35.0*Cincinnati.Greenwood + 28.0*Cincinnati.Concord + 24.0*Cincinnati.Chatham \n",
      "\n",
      "Subject To:\n",
      "Muncie: 1.0*Muncie.Louisville + 1.0*Muncie.Cincinnati <= 3.0\n",
      "Brazil: 1.0*Brazil.Louisville + 1.0*Brazil.Cincinnati <= 6.0\n",
      "Xenia: 1.0*Xenia.Louisville + 1.0*Xenia.Cincinnati <= 5.0\n",
      "Louisville: 1.0*Muncie.Louisville + 1.0*Brazil.Louisville + 1.0*Xenia.Louisville <= 500.0\n",
      "Cincinnati: 1.0*Muncie.Cincinnati + 1.0*Brazil.Cincinnati + 1.0*Xenia.Cincinnati <= 500.0\n",
      "Macon: 1.0*Louisville.Macon + 1.0*Cincinnati.Macon = 2.0\n",
      "Greenwood: 1.0*Louisville.Greenwood + 1.0*Cincinnati.Greenwood = 4.0\n",
      "Concord: 1.0*Louisville.Concord + 1.0*Cincinnati.Concord = 3.0\n",
      "Chatham: 1.0*Louisville.Chatham + 1.0*Cincinnati.Chatham = 3.0\n",
      "Louisville: 1.0*Muncie.Louisville + 1.0*Brazil.Louisville + 1.0*Xenia.Louisville - 1.0*Louisville.Macon - 1.0*Louisville.Greenwood - 1.0*Louisville.Concord - 1.0*Louisville.Chatham = 0.0\n",
      "Cincinnati: 1.0*Muncie.Cincinnati + 1.0*Brazil.Cincinnati + 1.0*Xenia.Cincinnati - 1.0*Cincinnati.Macon - 1.0*Cincinnati.Greenwood - 1.0*Cincinnati.Concord - 1.0*Cincinnati.Chatham = 0.0\n",
      "\n",
      "Bounds:\n",
      "Muncie.Louisville >= 0.0\n",
      "Muncie.Cincinnati >= 0.0\n",
      "Brazil.Louisville >= 0.0\n",
      "Brazil.Cincinnati >= 0.0\n",
      "Xenia.Louisville >= 0.0\n",
      "Xenia.Cincinnati >= 0.0\n",
      "Louisville.Macon >= 0.0\n",
      "Louisville.Greenwood >= 0.0\n",
      "Louisville.Concord >= 0.0\n",
      "Louisville.Chatham >= 0.0\n",
      "Cincinnati.Macon >= 0.0\n",
      "Cincinnati.Greenwood >= 0.0\n",
      "Cincinnati.Concord >= 0.0\n",
      "Cincinnati.Chatham >= 0.0\n"
     ]
    }
   ],
   "source": [
    "lpt.print_model(mymodel)"
   ]
  },
  {
   "cell_type": "code",
   "execution_count": 12,
   "metadata": {},
   "outputs": [
    {
     "name": "stdout",
     "output_type": "stream",
     "text": [
      "Solution Status = 0\n",
      "Optimal Value = 419.00\n",
      "Muncie.Louisville = 0.00\n",
      "Muncie.Cincinnati = 1.00\n",
      "Brazil.Louisville = 6.00\n",
      "Brazil.Cincinnati = 0.00\n",
      "Xenia.Louisville = 0.00\n",
      "Xenia.Cincinnati = 5.00\n",
      "Louisville.Macon = 2.00\n",
      "Louisville.Greenwood = 4.00\n",
      "Louisville.Concord = 0.00\n",
      "Louisville.Chatham = 0.00\n",
      "Cincinnati.Macon = 0.00\n",
      "Cincinnati.Greenwood = 0.00\n",
      "Cincinnati.Concord = 3.00\n",
      "Cincinnati.Chatham = 3.00\n"
     ]
    }
   ],
   "source": [
    "#solve model and display results\n",
    "status = mymodel.Solve()\n",
    "print('Solution Status =',status)\n",
    "print('Optimal Value = %.2f' % mymodel.Objective().Value())\n",
    "\n",
    "optimal_value1 = mymodel.Objective().Value()\n",
    "for v in mymodel.variables():\n",
    "    print('%s = %.2f' % (v.name(),v.solution_value()))"
   ]
  },
  {
   "cell_type": "code",
   "execution_count": 1,
   "metadata": {},
   "outputs": [
    {
     "ename": "NameError",
     "evalue": "name 'mymodel' is not defined",
     "output_type": "error",
     "traceback": [
      "\u001b[0;31m---------------------------------------------------------------------------\u001b[0m",
      "\u001b[0;31mNameError\u001b[0m                                 Traceback (most recent call last)",
      "\u001b[0;32m<ipython-input-1-f35d4bf2cc4c>\u001b[0m in \u001b[0;36m<module>\u001b[0;34m\u001b[0m\n\u001b[1;32m      1\u001b[0m \u001b[0;31m#solve model and display results\u001b[0m\u001b[0;34m\u001b[0m\u001b[0;34m\u001b[0m\u001b[0;34m\u001b[0m\u001b[0m\n\u001b[0;32m----> 2\u001b[0;31m \u001b[0mstatus\u001b[0m \u001b[0;34m=\u001b[0m \u001b[0mmymodel\u001b[0m\u001b[0;34m.\u001b[0m\u001b[0mSolve\u001b[0m\u001b[0;34m(\u001b[0m\u001b[0;34m)\u001b[0m\u001b[0;34m\u001b[0m\u001b[0;34m\u001b[0m\u001b[0m\n\u001b[0m\u001b[1;32m      3\u001b[0m \u001b[0mprint\u001b[0m\u001b[0;34m(\u001b[0m\u001b[0;34m'Solution Status ='\u001b[0m\u001b[0;34m,\u001b[0m\u001b[0mstatus\u001b[0m\u001b[0;34m)\u001b[0m\u001b[0;34m\u001b[0m\u001b[0;34m\u001b[0m\u001b[0m\n\u001b[1;32m      4\u001b[0m \u001b[0mprint\u001b[0m\u001b[0;34m(\u001b[0m\u001b[0;34m'Optimal Value = %.2f thousand'\u001b[0m \u001b[0;34m%\u001b[0m \u001b[0mmymodel\u001b[0m\u001b[0;34m.\u001b[0m\u001b[0mObjective\u001b[0m\u001b[0;34m(\u001b[0m\u001b[0;34m)\u001b[0m\u001b[0;34m.\u001b[0m\u001b[0mValue\u001b[0m\u001b[0;34m(\u001b[0m\u001b[0;34m)\u001b[0m\u001b[0;34m)\u001b[0m\u001b[0;34m\u001b[0m\u001b[0;34m\u001b[0m\u001b[0m\n\u001b[1;32m      5\u001b[0m \u001b[0;32mfor\u001b[0m \u001b[0mv\u001b[0m \u001b[0;32min\u001b[0m \u001b[0mmymodel\u001b[0m\u001b[0;34m.\u001b[0m\u001b[0mvariables\u001b[0m\u001b[0;34m(\u001b[0m\u001b[0;34m)\u001b[0m\u001b[0;34m:\u001b[0m\u001b[0;34m\u001b[0m\u001b[0;34m\u001b[0m\u001b[0m\n",
      "\u001b[0;31mNameError\u001b[0m: name 'mymodel' is not defined"
     ]
    }
   ],
   "source": [
    "# only print nonzero shipment variables\n",
    "print('Variable    LB   Value    UB   Reduced Cost')\n",
    "for v in mymodel.variables():\n",
    "    if v.solution_value() != 0:\n",
    "        print('%8s  %5.1f  %5.1f  %5.1f  %5.2f' % (v.name(),v.lb(),v.solution_value(),v.ub(),v.reduced_cost()))"
   ]
  },
  {
   "cell_type": "code",
   "execution_count": 14,
   "metadata": {},
   "outputs": [
    {
     "name": "stdout",
     "output_type": "stream",
     "text": [
      "Variable    LB   Value    UB   Reduced Cost\n",
      "Muncie.Louisville    0.0    0.0    inf   1.00\n",
      "Muncie.Cincinnati    0.0    1.0    inf   0.00\n",
      "Brazil.Louisville    0.0    6.0    inf   0.00\n",
      "Brazil.Cincinnati    0.0    0.0    inf   6.00\n",
      "Xenia.Louisville    0.0    0.0    inf   5.00\n",
      "Xenia.Cincinnati    0.0    5.0    inf   0.00\n",
      "Louisville.Macon    0.0    2.0    inf   0.00\n",
      "Louisville.Greenwood    0.0    4.0    inf   0.00\n",
      "Louisville.Concord    0.0    0.0    inf   7.00\n",
      "Louisville.Chatham    0.0    0.0    inf   9.00\n",
      "Cincinnati.Macon    0.0    0.0    inf  12.00\n",
      "Cincinnati.Greenwood    0.0    0.0    inf   0.00\n",
      "Cincinnati.Concord    0.0    3.0    inf   0.00\n",
      "Cincinnati.Chatham    0.0    3.0    inf   0.00\n"
     ]
    }
   ],
   "source": [
    "# display all variable information\n",
    "print('Variable    LB   Value    UB   Reduced Cost')\n",
    "for v in mymodel.variables():\n",
    "    print('%8s  %5.1f  %5.1f  %5.1f  %5.2f' % (v.name(),v.lb(),v.solution_value(),v.ub(),v.reduced_cost()))"
   ]
  },
  {
   "cell_type": "markdown",
   "metadata": {},
   "source": [
    "Problem 2"
   ]
  },
  {
   "cell_type": "code",
   "execution_count": 20,
   "metadata": {},
   "outputs": [],
   "source": [
    "agents = {\n",
    "    \"Martin Products\":(1 , [190,175,125,230]),\n",
    "    \"Schmidt Product\": (1,[150,235,155,220]),\n",
    "    \"Miller Container\": (1, [210,225,135,260]),\n",
    "    \"D&J Burns\": (1,[170,185,190,280]),\n",
    "    \"Larbes Furnishings\": (1,[220,190,140,240]),\n",
    "    \"Lawler Depot\": (1,[270,200,130,260])\n",
    "}"
   ]
  },
  {
   "cell_type": "code",
   "execution_count": 21,
   "metadata": {},
   "outputs": [],
   "source": [
    "tasks = {\"hub1\": 1, \"hub2\": 1, \"hub3\":1, \"hub4\": 1}"
   ]
  },
  {
   "cell_type": "code",
   "execution_count": 22,
   "metadata": {},
   "outputs": [],
   "source": [
    "#Create LP model object\n",
    "mymodel = glp.Solver('hubs',glp.Solver.GLOP_LINEAR_PROGRAMMING)\n",
    "inf = mymodel.infinity()\n",
    "mymodel.Objective().SetMinimization()"
   ]
  },
  {
   "cell_type": "code",
   "execution_count": 23,
   "metadata": {},
   "outputs": [],
   "source": [
    "# create all assignment variables and a dictionary of dictionaries to access them\n",
    "assign =  dict()\n",
    "for a in agents:\n",
    "    assign[a] =  dict()\n",
    "    (b,coeff_lst) =  agents[a]\n",
    "    for (t,c) in zip(tasks,coeff_lst):\n",
    "        assign[a][t] =  mymodel.NumVar(0, inf, a + \"-\" + t)\n",
    "        mymodel.Objective().SetCoefficient(assign[a][t],c)"
   ]
  },
  {
   "cell_type": "code",
   "execution_count": 24,
   "metadata": {},
   "outputs": [],
   "source": [
    "# create task constraints\n",
    "for t in tasks:\n",
    "    lb = ub = tasks[t]\n",
    "    \n",
    "    constr = mymodel.Constraint(lb,ub,t)\n",
    "    for a in agents:\n",
    "        constr.SetCoefficient(assign[a][t],1)"
   ]
  },
  {
   "cell_type": "code",
   "execution_count": 25,
   "metadata": {},
   "outputs": [],
   "source": [
    "# create agent constraints\n",
    "for a in agents:\n",
    "    (b,coeff_lst) = agents[a] \n",
    "    constr = mymodel.Constraint(-inf , b, a)\n",
    "    for t in tasks:\n",
    "        constr.SetCoefficient(assign[a][t], 1)"
   ]
  },
  {
   "cell_type": "code",
   "execution_count": 26,
   "metadata": {},
   "outputs": [
    {
     "name": "stdout",
     "output_type": "stream",
     "text": [
      "Solution Status = 0\n",
      "Optimal Value = 695.00\n",
      "Martin Products-hub1 = 0.00\n",
      "Martin Products-hub2 = 1.00\n",
      "Martin Products-hub3 = 0.00\n",
      "Martin Products-hub4 = 0.00\n",
      "Schmidt Product-hub1 = 1.00\n",
      "Schmidt Product-hub2 = 0.00\n",
      "Schmidt Product-hub3 = 0.00\n",
      "Schmidt Product-hub4 = 0.00\n",
      "Miller Container-hub1 = 0.00\n",
      "Miller Container-hub2 = 0.00\n",
      "Miller Container-hub3 = 0.00\n",
      "Miller Container-hub4 = 0.00\n",
      "D&J Burns-hub1 = 0.00\n",
      "D&J Burns-hub2 = 0.00\n",
      "D&J Burns-hub3 = 0.00\n",
      "D&J Burns-hub4 = 0.00\n",
      "Larbes Furnishings-hub1 = 0.00\n",
      "Larbes Furnishings-hub2 = 0.00\n",
      "Larbes Furnishings-hub3 = 0.00\n",
      "Larbes Furnishings-hub4 = 1.00\n",
      "Lawler Depot-hub1 = 0.00\n",
      "Lawler Depot-hub2 = 0.00\n",
      "Lawler Depot-hub3 = 1.00\n",
      "Lawler Depot-hub4 = 0.00\n"
     ]
    }
   ],
   "source": [
    "#solve model and display results\n",
    "status = mymodel.Solve()\n",
    "print('Solution Status =',status)\n",
    "print('Optimal Value = %.2f' % mymodel.Objective().Value())\n",
    "for v in mymodel.variables():\n",
    "    print('%s = %.2f' % (v.name(),v.solution_value()))"
   ]
  },
  {
   "cell_type": "code",
   "execution_count": 27,
   "metadata": {},
   "outputs": [
    {
     "name": "stdout",
     "output_type": "stream",
     "text": [
      "Variable    LB   Value    UB   Reduced Cost\n",
      "Martin Products-hub2    0.0    1.0    inf   0.00\n",
      "Schmidt Product-hub1    0.0    1.0    inf   0.00\n",
      "Larbes Furnishings-hub4    0.0    1.0    inf   0.00\n",
      "Lawler Depot-hub3    0.0    1.0    inf   0.00\n"
     ]
    }
   ],
   "source": [
    "# only print nonzero assignment variables\n",
    "print('Variable    LB   Value    UB   Reduced Cost')\n",
    "for v in mymodel.variables():\n",
    "    if v.solution_value() != 0:\n",
    "        print('%8s  %5.1f  %5.1f  %5.1f  %5.2f' % (v.name(),v.lb(),v.solution_value(),v.ub(),v.reduced_cost()))"
   ]
  },
  {
   "cell_type": "markdown",
   "metadata": {},
   "source": [
    "Problem 3"
   ]
  },
  {
   "cell_type": "code",
   "execution_count": 32,
   "metadata": {},
   "outputs": [],
   "source": [
    "#Create LP model object\n",
    "mymodel = glp.Solver('ShortestPath',glp.Solver.GLOP_LINEAR_PROGRAMMING)"
   ]
  },
  {
   "cell_type": "code",
   "execution_count": 33,
   "metadata": {},
   "outputs": [],
   "source": [
    "inf = mymodel.infinity()\n",
    "\n",
    "# node dictionary; value = -1 is origin, value = 1 is destination, value = 0 is intermediate node\n",
    "node = {1:-1,2:0,3:0,4:0,5:0,6:1}\n",
    "\n",
    "# edge dictionary; (origin,destination):distance/cost\n",
    "edge = {(1,2):40,\n",
    "        (1,3):36,\n",
    "        (2,3):6,\n",
    "        (2,4):12,\n",
    "        (2,6):25,\n",
    "        (3,2):6,\n",
    "        (3,5):15,\n",
    "        (4,2):12,\n",
    "        (4,5):8,\n",
    "        (4,6):11,\n",
    "        (5,3):15,\n",
    "        (5,4):8,\n",
    "        (5,6):23\n",
    "       }\n",
    "\n",
    "mymodel.Objective().SetMinimization()    # minimize total transportation cost"
   ]
  },
  {
   "cell_type": "code",
   "execution_count": 34,
   "metadata": {},
   "outputs": [],
   "source": [
    "# create a constraint dictionary containing a constraint for each node\n",
    "constr = dict()\n",
    "for n in  node:\n",
    "    b =  node[n]\n",
    "    constr[n] = mymodel.Constraint(b,b,(str(n)) )"
   ]
  },
  {
   "cell_type": "code",
   "execution_count": 35,
   "metadata": {},
   "outputs": [],
   "source": [
    "# create a variable dictionary containing a variable for each edge\n",
    "# add each variable to the objective and its corresponding constraints\n",
    "\n",
    "path = dict()\n",
    "for e in edge:\n",
    "    (o,d) = e\n",
    "    c = edge[e]\n",
    "    path[e] = mymodel.NumVar(0,inf, str(o) + '_' + str(d))\n",
    "    mymodel.Objective().SetCoefficient(path[e],c)\n",
    "    constr[o].SetCoefficient(path[e],-1)\n",
    "    constr[d].SetCoefficient(path[e],1)"
   ]
  },
  {
   "cell_type": "code",
   "execution_count": 36,
   "metadata": {},
   "outputs": [
    {
     "name": "stdout",
     "output_type": "stream",
     "text": [
      "Variables:\n",
      "1_2, 1_3, 2_3, 2_4, 2_6, 3_2, 3_5, 4_2, 4_5, 4_6, 5_3, 5_4, 5_6 \n",
      "\n",
      "minimize: 40.0*1_2 + 36.0*1_3 + 6.0*2_3 + 12.0*2_4 + 25.0*2_6 + 6.0*3_2 + 15.0*3_5 + 12.0*4_2 + 8.0*4_5 + 11.0*4_6 + 15.0*5_3 + 8.0*5_4 + 23.0*5_6 \n",
      "\n",
      "Subject To:\n",
      "1: - 1.0*1_2 - 1.0*1_3 = -1.0\n",
      "2: 1.0*1_2 - 1.0*2_3 - 1.0*2_4 - 1.0*2_6 + 1.0*3_2 + 1.0*4_2 = 0.0\n",
      "3: 1.0*1_3 + 1.0*2_3 - 1.0*3_2 - 1.0*3_5 + 1.0*5_3 = 0.0\n",
      "4: 1.0*2_4 - 1.0*4_2 - 1.0*4_5 - 1.0*4_6 + 1.0*5_4 = 0.0\n",
      "5: 1.0*3_5 + 1.0*4_5 - 1.0*5_3 - 1.0*5_4 - 1.0*5_6 = 0.0\n",
      "6: 1.0*2_6 + 1.0*4_6 + 1.0*5_6 = 1.0\n",
      "\n",
      "Bounds:\n",
      "1_2 >= 0.0\n",
      "1_3 >= 0.0\n",
      "2_3 >= 0.0\n",
      "2_4 >= 0.0\n",
      "2_6 >= 0.0\n",
      "3_2 >= 0.0\n",
      "3_5 >= 0.0\n",
      "4_2 >= 0.0\n",
      "4_5 >= 0.0\n",
      "4_6 >= 0.0\n",
      "5_3 >= 0.0\n",
      "5_4 >= 0.0\n",
      "5_6 >= 0.0\n"
     ]
    }
   ],
   "source": [
    "lpt.print_model(mymodel)"
   ]
  },
  {
   "cell_type": "code",
   "execution_count": 37,
   "metadata": {},
   "outputs": [
    {
     "name": "stdout",
     "output_type": "stream",
     "text": [
      "Solution Status = 0\n",
      "Optimal Value = 63.00\n",
      "1_2 = 1.00\n",
      "2_4 = 1.00\n",
      "4_6 = 1.00\n"
     ]
    }
   ],
   "source": [
    "#solve model and display results\n",
    "status = mymodel.Solve()\n",
    "print('Solution Status =',status)\n",
    "print('Optimal Value = %.2f' % mymodel.Objective().Value())\n",
    "for v in mymodel.variables():\n",
    "    if v.solution_value() != 0:\n",
    "        print('%s = %.2f' % (v.name(),v.solution_value()))"
   ]
  },
  {
   "cell_type": "code",
   "execution_count": 45,
   "metadata": {},
   "outputs": [],
   "source": [
    "#Create MILP model object\n",
    "mymodel = glp.Solver('cars', glp.Solver.CBC_MIXED_INTEGER_PROGRAMMING)"
   ]
  },
  {
   "cell_type": "code",
   "execution_count": 39,
   "metadata": {},
   "outputs": [],
   "source": [
    "inf = mymodel.infinity()\n",
    "\n",
    "         # name: supply capacity (thousand tons), fixed cost (thousand $), unit shipping cost ($) to each RDC\n",
    "source = {'Michigan':   (30,320 , [ 2, 6, 10]),   \n",
    "          'NY1':        (15,175 , [ 3, 4, 9]),   \n",
    "          'Ohio':       (30,300 , [ 5, 9, 7]),   \n",
    "          'Mil':        (25,0 , [5, 10, 8]),  \n",
    "          'California': (25,0 , [5, 10, 8]),  \n",
    "         }\n",
    "          \n",
    "        # name: demand quantity required (thousand tons)\n",
    "demand = {'Sct': 20, 'Atl': 10, 'Reno': 25,}    # Scranton Atlanta Reno\n",
    "\n",
    "mymodel.Objective().SetMinimization()    # minimize total plant and transportation cost"
   ]
  },
  {
   "cell_type": "code",
   "execution_count": 46,
   "metadata": {},
   "outputs": [],
   "source": [
    "inf = mymodel.infinity()\n",
    "\n",
    "            # name: (type 'c'=continuous or 'i'=integer, lower bound, upper bound, objective coefficient)\n",
    "variables = {'Michigan':   ('i',0 ,1 , 25),\n",
    "             'NY1':        ('i',0 ,1 , 35),\n",
    "             'NY2':        ('i',0 ,1 , 35),\n",
    "             'Ohio':       ('i',0 ,1 , 40),\n",
    "             'California': ('i',0 ,1 , 20),\n",
    "            }\n",
    "\n",
    "            # name: (lower bound, upper bound, coefficient list)\n",
    "constraints = {'EBlock': (900 ,inf , [500, 800 ,400 ,900, 200]),\n",
    "               'Trans':  (900 ,inf , [300, 400, 800, 600, 300]),\n",
    "              }\n",
    "\n",
    "mymodel.Objective().SetMinimization()"
   ]
  },
  {
   "cell_type": "code",
   "execution_count": 47,
   "metadata": {},
   "outputs": [],
   "source": [
    "for v in variables:\n",
    "    (t,lb,ub,c) = variables[v]\n",
    "    if t == 'c':\n",
    "        var = mymodel.NumVar(lb,ub,v)\n",
    "    elif t == 'i':\n",
    "        var = mymodel.IntVar(lb,ub,v)\n",
    "    else:\n",
    "        print('Invalid variable type =', t)\n",
    "    mymodel.Objective().SetCoefficient(var,c)"
   ]
  },
  {
   "cell_type": "code",
   "execution_count": 48,
   "metadata": {},
   "outputs": [],
   "source": [
    "for c in constraints:\n",
    "    (lb,ub,coeff_lst) = constraints[c]\n",
    "    constr = mymodel.Constraint(lb,ub,c)\n",
    "    for (v,coeff) in zip(mymodel.variables(),coeff_lst):\n",
    "        constr.SetCoefficient(v,coeff)"
   ]
  },
  {
   "cell_type": "code",
   "execution_count": 49,
   "metadata": {},
   "outputs": [
    {
     "name": "stdout",
     "output_type": "stream",
     "text": [
      "Solution Status = 0\n",
      "Optimal Value = 60.00\n",
      "Michigan = 1.00\n",
      "NY1 = 0.00\n",
      "NY2 = 1.00\n",
      "Ohio = 0.00\n",
      "California = 0.00\n"
     ]
    }
   ],
   "source": [
    "#solve model and display results\n",
    "status = mymodel.Solve()\n",
    "print('Solution Status =',status)\n",
    "print('Optimal Value = %.2f' % mymodel.Objective().Value())\n",
    "for v in mymodel.variables():\n",
    "    print('%s = %.2f' % (v.name(),v.solution_value()))"
   ]
  },
  {
   "cell_type": "code",
   "execution_count": null,
   "metadata": {},
   "outputs": [],
   "source": []
  }
 ],
 "metadata": {
  "kernelspec": {
   "display_name": "Python 3",
   "language": "python",
   "name": "python3"
  },
  "language_info": {
   "codemirror_mode": {
    "name": "ipython",
    "version": 3
   },
   "file_extension": ".py",
   "mimetype": "text/x-python",
   "name": "python",
   "nbconvert_exporter": "python",
   "pygments_lexer": "ipython3",
   "version": "3.8.5"
  }
 },
 "nbformat": 4,
 "nbformat_minor": 4
}
