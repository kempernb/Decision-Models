{
 "cells": [
  {
   "cell_type": "code",
   "execution_count": 1,
   "metadata": {},
   "outputs": [],
   "source": [
    "# Import needed libraries\n",
    "import matplotlib.pyplot as plt\n",
    "import statistics as st\n",
    "import random as rd\n",
    "import numpy as np\n",
    "import numpy.random as npr"
   ]
  },
  {
   "cell_type": "markdown",
   "metadata": {},
   "source": [
    "4"
   ]
  },
  {
   "cell_type": "code",
   "execution_count": 2,
   "metadata": {},
   "outputs": [],
   "source": [
    "quarters = 8\n",
    "min_share = -0.08\n",
    "max_share = 0.12\n",
    "\n",
    "cur_price = 80\n",
    "\n",
    "trials = 1000\n"
   ]
  },
  {
   "cell_type": "code",
   "execution_count": 3,
   "metadata": {},
   "outputs": [],
   "source": [
    "def share_price(quarters,trials):\n",
    "    sample = []\n",
    "    for i in range(trials):\n",
    "        price = cur_price\n",
    "        for q in range(quarters):\n",
    "            change = rd.uniform(min_share,max_share)\n",
    "            price = price + change * price\n",
    "        sample.append(price)\n",
    "    return(sample)\n"
   ]
  },
  {
   "cell_type": "code",
   "execution_count": 4,
   "metadata": {},
   "outputs": [],
   "source": [
    "sample = share_price(quarters,trials)"
   ]
  },
  {
   "cell_type": "code",
   "execution_count": 5,
   "metadata": {},
   "outputs": [
    {
     "data": {
      "text/plain": [
       "(array([ 20., 130., 243., 264., 183., 109.,  39.,   9.,   2.,   1.]),\n",
       " array([ 55.37738766,  65.89958305,  76.42177843,  86.94397382,\n",
       "         97.46616921, 107.9883646 , 118.51055999, 129.03275538,\n",
       "        139.55495077, 150.07714616, 160.59934155]),\n",
       " <BarContainer object of 10 artists>)"
      ]
     },
     "execution_count": 5,
     "metadata": {},
     "output_type": "execute_result"
    },
    {
     "data": {
      "image/png": "[encoded data removed]",
      "text/plain": [
       "<Figure size 432x288 with 1 Axes>"
      ]
     },
     "metadata": {
      "needs_background": "light"
     },
     "output_type": "display_data"
    }
   ],
   "source": [
    "# Look at distribution\n",
    "plt.hist(sample, edgecolor='k')"
   ]
  },
  {
   "cell_type": "code",
   "execution_count": 6,
   "metadata": {},
   "outputs": [
    {
     "name": "stdout",
     "output_type": "stream",
     "text": [
      "Max - 160.59934154749737\n",
      "Median - 91.09592357467531\n",
      "Mean - 92.16345446371373\n",
      "Min - 55.37738765612203\n"
     ]
    }
   ],
   "source": [
    "print(\"Max - {}\".format(max(sample)))\n",
    "print(\"Median - {}\".format(st.median(sample)))\n",
    "print(\"Mean - {}\".format(st.mean(sample)))\n",
    "print(\"Min - {}\".format(min(sample)))"
   ]
  },
  {
   "cell_type": "code",
   "execution_count": 7,
   "metadata": {},
   "outputs": [
    {
     "name": "stdout",
     "output_type": "stream",
     "text": [
      "The 90% confidence interval for the mean of the total price is ( 91.38,  92.95)\n"
     ]
    }
   ],
   "source": [
    "# Compute the 95% confidence interval\n",
    "sample_mean = st.mean(sample)\n",
    "sample_std = st.stdev(sample)\n",
    "moe = 1.645 * sample_std / len(sample) ** 0.5\n",
    "lcl = sample_mean - moe\n",
    "ucl = sample_mean + moe\n",
    "print('The 90%% confidence interval for the mean of the total price is (%6.2f, %6.2f)' % (lcl,ucl))"
   ]
  },
  {
   "cell_type": "code",
   "execution_count": 8,
   "metadata": {},
   "outputs": [
    {
     "name": "stdout",
     "output_type": "stream",
     "text": [
      "There is a 28.50% chance of selling more than $100.\n"
     ]
    }
   ],
   "source": [
    "# Probibility that the nonprofit will collect more than $000\n",
    "more_than = 100\n",
    "proportion = sum(1 for x in sample if x >= more_than) / len(sample)\n",
    "print('There is a %5.2f%% chance of selling more than $100.' % (100*proportion))"
   ]
  },
  {
   "cell_type": "code",
   "execution_count": 9,
   "metadata": {},
   "outputs": [
    {
     "name": "stdout",
     "output_type": "stream",
     "text": [
      "The 95% confidence interval for the probability of total sales more than $3800 is (0.2570, 0.3130).\n"
     ]
    }
   ],
   "source": [
    "# 95% confidence interval for your estimate of this probability\n",
    "moe = 1.96 * (proportion * (1 - proportion) / len(sample)) ** 0.5\n",
    "lcl = proportion - moe\n",
    "if lcl < 0.0: lcl = 0.0\n",
    "ucl = proportion + moe\n",
    "print('The 95%% confidence interval for the probability of total sales more than $3800 is (%6.4f, %6.4f).' % (lcl,ucl))"
   ]
  },
  {
   "cell_type": "markdown",
   "metadata": {},
   "source": [
    "5"
   ]
  },
  {
   "cell_type": "code",
   "execution_count": 10,
   "metadata": {},
   "outputs": [],
   "source": [
    "fixed_cost = 30000\n",
    "min_cost = 16\n",
    "max_cost = 24\n",
    "\n",
    "sell_price = 50\n",
    "\n",
    "mean_demand = 1200\n",
    "std_demand = 300\n",
    "trials = 10000"
   ]
  },
  {
   "cell_type": "code",
   "execution_count": 11,
   "metadata": {},
   "outputs": [],
   "source": [
    "def new_product(trials):\n",
    "    for i in range(trials):\n",
    "        demand = rd.normalvariate(mean_demand,std_demand)\n",
    "        \n",
    "        unit_cost = rd.uniform(min_cost,max_cost)\n",
    "        \n",
    "        unit_pofit = (50 - unit_cost) * demand\n",
    "        \n",
    "        total_profit = unit_pofit - fixed_cost\n",
    "        sample.append(total_profit)\n",
    "    return(sample)"
   ]
  },
  {
   "cell_type": "code",
   "execution_count": 12,
   "metadata": {},
   "outputs": [],
   "source": [
    "sample = new_product(trials)"
   ]
  },
  {
   "cell_type": "code",
   "execution_count": 13,
   "metadata": {},
   "outputs": [
    {
     "data": {
      "text/plain": [
       "(array([2.000e+00, 5.100e+01, 3.120e+02, 1.271e+03, 3.664e+03, 2.939e+03,\n",
       "        1.856e+03, 7.330e+02, 1.520e+02, 2.000e+01]),\n",
       " array([-32434.33907624, -25099.5281138 , -17764.71715136, -10429.90618892,\n",
       "         -3095.09522648,   4239.71573596,  11574.5266984 ,  18909.33766084,\n",
       "         26244.14862328,  33578.95958572,  40913.77054816]),\n",
       " <BarContainer object of 10 artists>)"
      ]
     },
     "execution_count": 13,
     "metadata": {},
     "output_type": "execute_result"
    },
    {
     "data": {
      "image/png": "[encoded data removed]",
      "text/plain": [
       "<Figure size 432x288 with 1 Axes>"
      ]
     },
     "metadata": {
      "needs_background": "light"
     },
     "output_type": "display_data"
    }
   ],
   "source": [
    "plt.hist(sample, edgecolor='k')"
   ]
  },
  {
   "cell_type": "code",
   "execution_count": 14,
   "metadata": {},
   "outputs": [
    {
     "name": "stdout",
     "output_type": "stream",
     "text": [
      "Max - 40913.77054816262\n",
      "Median - 4640.539624384543\n",
      "Mean - 5529.98412887214\n",
      "Min - -32434.339076243235\n"
     ]
    }
   ],
   "source": [
    "print(\"Max - {}\".format(max(sample)))\n",
    "print(\"Median - {}\".format(st.median(sample)))\n",
    "print(\"Mean - {}\".format(st.mean(sample)))\n",
    "print(\"Min - {}\".format(min(sample)))"
   ]
  },
  {
   "cell_type": "code",
   "execution_count": 15,
   "metadata": {},
   "outputs": [
    {
     "name": "stdout",
     "output_type": "stream",
     "text": [
      "There is a 23.71% chance of selling less than than $0.\n"
     ]
    }
   ],
   "source": [
    "#  probability of making a profit of at least $3,800 on a single night\n",
    "more_than = 0\n",
    "proportion = sum(1 for x in sample if x <= more_than) / len(sample)\n",
    "print('There is a %5.2f%% chance of selling less than than $0.' % (100*proportion))"
   ]
  },
  {
   "cell_type": "markdown",
   "metadata": {},
   "source": [
    "6"
   ]
  },
  {
   "cell_type": "code",
   "execution_count": 16,
   "metadata": {},
   "outputs": [],
   "source": [
    "resold_price = 160000\n",
    "\n",
    "min_bid = 100000\n",
    "max_bid = 150000\n",
    "\n",
    "trials = 10000"
   ]
  },
  {
   "cell_type": "code",
   "execution_count": 17,
   "metadata": {},
   "outputs": [],
   "source": [
    "def real_estate(trials):\n",
    "    sample = []\n",
    "    for i in range(trials):\n",
    "        firm1 = rd.uniform(min_bid,max_bid)\n",
    "        firm2 = rd.uniform(min_bid,max_bid)\n",
    "        \n",
    "        both_bid = max(firm1,firm2)\n",
    "        \n",
    "        sample.append(both_bid)\n",
    "    return(sample)"
   ]
  },
  {
   "cell_type": "code",
   "execution_count": 18,
   "metadata": {},
   "outputs": [],
   "source": [
    "sample = real_estate(trials)"
   ]
  },
  {
   "cell_type": "code",
   "execution_count": 19,
   "metadata": {},
   "outputs": [
    {
     "data": {
      "text/plain": [
       "(array([ 121.,  334.,  501.,  732.,  917., 1042., 1241., 1493., 1657.,\n",
       "        1962.]),\n",
       " array([100386.37817958, 105347.51147549, 110308.64477141, 115269.77806732,\n",
       "        120230.91136323, 125192.04465915, 130153.17795506, 135114.31125097,\n",
       "        140075.44454689, 145036.5778428 , 149997.71113871]),\n",
       " <BarContainer object of 10 artists>)"
      ]
     },
     "execution_count": 19,
     "metadata": {},
     "output_type": "execute_result"
    },
    {
     "data": {
      "image/png": "[encoded data removed]",
      "text/plain": [
       "<Figure size 432x288 with 1 Axes>"
      ]
     },
     "metadata": {
      "needs_background": "light"
     },
     "output_type": "display_data"
    }
   ],
   "source": [
    "plt.hist(sample, edgecolor='k')"
   ]
  },
  {
   "cell_type": "code",
   "execution_count": 20,
   "metadata": {},
   "outputs": [
    {
     "name": "stdout",
     "output_type": "stream",
     "text": [
      "There is a 63.89% chance of selling less than than $0.\n"
     ]
    }
   ],
   "source": [
    "#  probability of making a profit of at least $3,800 on a single night\n",
    "more_than = 130000\n",
    "proportion = sum(1 for x in sample if x >= more_than) / len(sample)\n",
    "print('There is a %5.2f%% chance of selling less than than $0.' % (100*proportion))"
   ]
  },
  {
   "cell_type": "code",
   "execution_count": 21,
   "metadata": {},
   "outputs": [
    {
     "name": "stdout",
     "output_type": "stream",
     "text": [
      "The 95% confidence interval for the probability of total sales more than $3800 is (0.6310, 0.6468).\n"
     ]
    }
   ],
   "source": [
    "# 95% confidence interval for your estimate of this probability\n",
    "moe = 1.6455 * (proportion * (1 - proportion) / len(sample)) ** 0.5\n",
    "lcl = proportion - moe\n",
    "if lcl < 0.0: lcl = 0.0\n",
    "ucl = proportion + moe\n",
    "print('The 95%% confidence interval for the probability of total sales more than $3800 is (%6.4f, %6.4f).' % (lcl,ucl))"
   ]
  },
  {
   "cell_type": "code",
   "execution_count": 22,
   "metadata": {},
   "outputs": [],
   "source": [
    "range_cost = range(min_bid,max_bid,1000)\n",
    "tot_proportion = []\n",
    "tot_prof = []\n",
    "\n",
    "for i in range_cost:\n",
    "    profit = resold_price - i\n",
    "    tot_prof.append(profit)\n",
    "    proportion = sum(1 for x in sample if x <= i) / len(sample)\n",
    "    tot_proportion.append(proportion)\n",
    "    \n",
    "\n",
    "    "
   ]
  },
  {
   "cell_type": "code",
   "execution_count": 30,
   "metadata": {},
   "outputs": [
    {
     "data": {
      "text/plain": [
       "[<matplotlib.lines.Line2D at 0x7fef656fd5b0>]"
      ]
     },
     "execution_count": 30,
     "metadata": {},
     "output_type": "execute_result"
    },
    {
     "data": {
      "image/png": "[encoded data removed]",
      "text/plain": [
       "<Figure size 432x288 with 1 Axes>"
      ]
     },
     "metadata": {
      "needs_background": "light"
     },
     "output_type": "display_data"
    }
   ],
   "source": [
    "plt.plot(tot_prof, tot_proportion)"
   ]
  },
  {
   "cell_type": "markdown",
   "metadata": {},
   "source": [
    "7"
   ]
  },
  {
   "cell_type": "code",
   "execution_count": 31,
   "metadata": {},
   "outputs": [],
   "source": [
    "reponsed_prob = 0.3\n",
    "attend_prob = 0.9\n",
    "not_respond_attend_prob = 0.5\n",
    "\n",
    "invited = 300\n",
    "trials = 10000"
   ]
  },
  {
   "cell_type": "code",
   "execution_count": 32,
   "metadata": {},
   "outputs": [],
   "source": [
    "def attend_wedding(trials):\n",
    "    sample = []\n",
    "    for trial in range(trials):\n",
    "        responded = npr.binomial(invited,reponsed_prob)\n",
    "        ignored = invited - responded\n",
    "        \n",
    "        respond_attend = npr.binomial(responded,attend_prob)\n",
    "        \n",
    "        ingored_attend = npr.binomial(ignored,not_respond_attend_prob)\n",
    "        \n",
    "        attend_tot = ingored_attend + respond_attend\n",
    "        \n",
    "        sample.append(attend_tot)\n",
    "    return(sample)"
   ]
  },
  {
   "cell_type": "code",
   "execution_count": 33,
   "metadata": {},
   "outputs": [],
   "source": [
    "sample = attend_wedding(trials)"
   ]
  },
  {
   "cell_type": "code",
   "execution_count": 34,
   "metadata": {},
   "outputs": [
    {
     "data": {
      "text/plain": [
       "(array([  20.,  116.,  552., 1500., 2547., 2729., 1704.,  645.,  169.,\n",
       "          18.]),\n",
       " array([155. , 161.1, 167.2, 173.3, 179.4, 185.5, 191.6, 197.7, 203.8,\n",
       "        209.9, 216. ]),\n",
       " <BarContainer object of 10 artists>)"
      ]
     },
     "execution_count": 34,
     "metadata": {},
     "output_type": "execute_result"
    },
    {
     "data": {
      "image/png": "[encoded data removed]",
      "text/plain": [
       "<Figure size 432x288 with 1 Axes>"
      ]
     },
     "metadata": {
      "needs_background": "light"
     },
     "output_type": "display_data"
    }
   ],
   "source": [
    "plt.hist(sample, edgecolor='k')"
   ]
  },
  {
   "cell_type": "code",
   "execution_count": 35,
   "metadata": {},
   "outputs": [
    {
     "name": "stdout",
     "output_type": "stream",
     "text": [
      "There is a 5.24 chance of more than than 200\n"
     ]
    }
   ],
   "source": [
    "#  probability of making a profit of at least $3,800 on a single night\n",
    "more_than = 200\n",
    "proportion = sum(1 for x in sample if x >= more_than) / len(sample)\n",
    "print('There is a {} chance of more than than {}'.format(proportion*100,more_than))"
   ]
  },
  {
   "cell_type": "code",
   "execution_count": 36,
   "metadata": {},
   "outputs": [
    {
     "name": "stdout",
     "output_type": "stream",
     "text": [
      "Max - 216\n",
      "Median - 186.0\n",
      "Mean - 185.9663\n",
      "Min - 155\n"
     ]
    }
   ],
   "source": [
    "print(\"Max - {}\".format(max(sample)))\n",
    "print(\"Median - {}\".format(st.median(sample)))\n",
    "print(\"Mean - {}\".format(st.mean(sample)))\n",
    "print(\"Min - {}\".format(min(sample)))"
   ]
  },
  {
   "cell_type": "code",
   "execution_count": null,
   "metadata": {},
   "outputs": [],
   "source": []
  }
 ],
 "metadata": {
  "kernelspec": {
   "display_name": "Python 3",
   "language": "python",
   "name": "python3"
  },
  "language_info": {
   "codemirror_mode": {
    "name": "ipython",
    "version": 3
   },
   "file_extension": ".py",
   "mimetype": "text/x-python",
   "name": "python",
   "nbconvert_exporter": "python",
   "pygments_lexer": "ipython3",
   "version": "3.8.5"
  }
 },
 "nbformat": 4,
 "nbformat_minor": 4
}
