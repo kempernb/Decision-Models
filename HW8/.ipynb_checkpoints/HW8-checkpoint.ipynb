{
 "cells": [
  {
   "cell_type": "code",
   "execution_count": 3,
   "metadata": {},
   "outputs": [],
   "source": [
    "# import Glop package\n",
    "from ortools.linear_solver import pywraplp as glp\n",
    "import lptools as lpt\n",
    "import matplotlib.pyplot as plt"
   ]
  },
  {
   "cell_type": "markdown",
   "metadata": {},
   "source": [
    "Problem 1"
   ]
  },
  {
   "cell_type": "code",
   "execution_count": 4,
   "metadata": {},
   "outputs": [],
   "source": [
    "#Create LP model object\n",
    "mymodel = glp.Solver('Machines',glp.Solver.GLOP_LINEAR_PROGRAMMING)"
   ]
  },
  {
   "cell_type": "code",
   "execution_count": 5,
   "metadata": {},
   "outputs": [
    {
     "data": {
      "text/plain": [
       "[2.0, 5, 2.0]"
      ]
     },
     "execution_count": 5,
     "metadata": {},
     "output_type": "execute_result"
    }
   ],
   "source": [
    "# Variables and constainsts\n",
    "Machine1_time = [.5, 2, .75]\n",
    "Machine2_time = [1, 1, .5]\n",
    "\n",
    "# Get the total labor hours for the two maines\n",
    "labor_hours = [2*a + b for a, b in zip(Machine1_time, Machine2_time)] # $/acre\n",
    "\n",
    "labor_hours"
   ]
  },
  {
   "cell_type": "code",
   "execution_count": 6,
   "metadata": {},
   "outputs": [],
   "source": [
    "inf = mymodel.infinity()\n",
    "\n",
    "variables = {'Product1': (0, inf, 30),    # (lower bound, upper bound, objective coefficient)\n",
    "             'Product2': (0, inf,  50),\n",
    "             'Product3': (0, inf,  20)}\n",
    "\n",
    "constraints = {'Machine1_time':  (-inf, 40, Machine1_time),    # (lower bound, upper bound, coefficient list)\n",
    "               'Machine2_time': (-inf, 40, Machine2_time),\n",
    "               'Labor_Hours' : (-inf,100,labor_hours),\n",
    "               'ProductA': (0,inf, [-.5, .5, .5]),\n",
    "               'ProductC': (-inf,0, [.2,.2,-.8])\n",
    "              }\n",
    "\n"
   ]
  },
  {
   "cell_type": "code",
   "execution_count": 7,
   "metadata": {},
   "outputs": [],
   "source": [
    "mymodel.Objective().SetMaximization()\n",
    "\n",
    "for v in variables:\n",
    "    (lb,ub,c) = variables[v]\n",
    "    var = mymodel.NumVar(lb, ub, v)\n",
    "    mymodel.Objective().SetCoefficient(var, c)"
   ]
  },
  {
   "cell_type": "code",
   "execution_count": 8,
   "metadata": {},
   "outputs": [
    {
     "name": "stdout",
     "output_type": "stream",
     "text": [
      "Variables:\n",
      "Product1, Product2, Product3 \n",
      "\n",
      "maximize: 30.0*Product1 + 50.0*Product2 + 20.0*Product3 \n",
      "\n",
      "Subject To:\n",
      "\n",
      "Bounds:\n",
      "Product1 >= 0.0\n",
      "Product2 >= 0.0\n",
      "Product3 >= 0.0\n"
     ]
    }
   ],
   "source": [
    "lpt.print_model(mymodel)"
   ]
  },
  {
   "cell_type": "code",
   "execution_count": 9,
   "metadata": {},
   "outputs": [],
   "source": [
    "# Create Constraints\n",
    "\n",
    "for c in constraints:\n",
    "    (lb,ub,coeff_lst) = constraints[c]\n",
    "    constr = mymodel.Constraint(lb,ub,c)\n",
    "    \n",
    "    for (v,coeff) in zip(mymodel.variables(),coeff_lst):\n",
    "        constr.SetCoefficient(v,coeff)"
   ]
  },
  {
   "cell_type": "code",
   "execution_count": 10,
   "metadata": {},
   "outputs": [
    {
     "name": "stdout",
     "output_type": "stream",
     "text": [
      "Variables:\n",
      "Product1, Product2, Product3 \n",
      "\n",
      "maximize: 30.0*Product1 + 50.0*Product2 + 20.0*Product3 \n",
      "\n",
      "Subject To:\n",
      "Machine1_time: 0.5*Product1 + 2.0*Product2 + 0.75*Product3 <= 40.0\n",
      "Machine2_time: 1.0*Product1 + 1.0*Product2 + 0.5*Product3 <= 40.0\n",
      "Labor_Hours: 2.0*Product1 + 5.0*Product2 + 2.0*Product3 <= 100.0\n",
      "ProductA: - 0.5*Product1 + 0.5*Product2 + 0.5*Product3 >= 0.0\n",
      "ProductC: 0.2*Product1 + 0.2*Product2 - 0.8*Product3 <= 0.0\n",
      "\n",
      "Bounds:\n",
      "Product1 >= 0.0\n",
      "Product2 >= 0.0\n",
      "Product3 >= 0.0\n"
     ]
    }
   ],
   "source": [
    "lpt.print_model(mymodel)"
   ]
  },
  {
   "cell_type": "code",
   "execution_count": 11,
   "metadata": {},
   "outputs": [
    {
     "name": "stdout",
     "output_type": "stream",
     "text": [
      "Solution Status = 0\n",
      "Optimal Value = 1250.00\n",
      "Product1 = 25.00\n",
      "Product2 = 0.00\n",
      "Product3 = 25.00\n"
     ]
    }
   ],
   "source": [
    "#solve model and display results\n",
    "status = mymodel.Solve()\n",
    "print('Solution Status =',status )\n",
    "print('Optimal Value = %.2f' %  mymodel.Objective().Value())\n",
    "for v in mymodel.variables():\n",
    "    print('%s = %.2f' % (v.name() , v.solution_value()))\n"
   ]
  },
  {
   "cell_type": "code",
   "execution_count": 12,
   "metadata": {},
   "outputs": [
    {
     "name": "stdout",
     "output_type": "stream",
     "text": [
      "Variable    LB   Value    UB   Reduced Cost\n",
      "Product1    0.0   25.0    inf   0.00\n",
      "Product2    0.0    0.0    inf  -7.50\n",
      "Product3    0.0   25.0    inf  -0.00\n"
     ]
    }
   ],
   "source": [
    "# display variable information\n",
    "print('Variable    LB   Value    UB   Reduced Cost')\n",
    "for v in mymodel.variables():\n",
    "    print('%8s  %5.1f  %5.1f  %5.1f  %5.2f' % (v.name() ,v.lb() ,v.solution_value() ,v.ub() ,v.reduced_cost()))"
   ]
  },
  {
   "cell_type": "code",
   "execution_count": 13,
   "metadata": {},
   "outputs": [
    {
     "name": "stdout",
     "output_type": "stream",
     "text": [
      "Constraint    LB    Value  UB     Dual\n",
      "Machine1_time   -inf   31.2   40.0  -0.00\n",
      "Machine2_time   -inf   37.5   40.0  -0.00\n",
      "Labor_Hours   -inf  100.0  100.0  12.50\n",
      "  ProductA    0.0    0.0    inf  -10.00\n",
      "  ProductC   -inf  -15.0    0.0  -0.00\n"
     ]
    }
   ],
   "source": [
    "#display constraint information\n",
    "print('Constraint    LB    Value  UB     Dual')\n",
    "for (c,lhs) in zip(mymodel.constraints(),mymodel.ComputeConstraintActivities()):\n",
    "    print('%10s  %5.1f  %5.1f  %5.1f  %5.2f' % (c.name() ,c.lb() ,lhs ,c.ub() ,c.dual_value() ))"
   ]
  },
  {
   "cell_type": "markdown",
   "metadata": {},
   "source": [
    "Answer to question A ^"
   ]
  },
  {
   "cell_type": "code",
   "execution_count": 14,
   "metadata": {},
   "outputs": [
    {
     "data": {
      "text/plain": [
       "[<matplotlib.lines.Line2D at 0x7fa7b8524760>]"
      ]
     },
     "execution_count": 14,
     "metadata": {},
     "output_type": "execute_result"
    },
    {
     "data": {
      "image/png": "[encoded data removed]",
      "text/plain": [
       "<Figure size 432x288 with 1 Axes>"
      ]
     },
     "metadata": {
      "needs_background": "light"
     },
     "output_type": "display_data"
    }
   ],
   "source": [
    "# parameter analysis for Cutting_Time\n",
    "param_lst =list(range(100,160))\n",
    "optval_lst = list()\n",
    "\n",
    "constr = mymodel.constraints()[2]\n",
    "for b in param_lst:\n",
    "    constr.SetUb(b)\n",
    "    mymodel.Solve()\n",
    "    # Get the objective value (profit) and subtract the cost of additional overtime from the base case\n",
    "    profit = mymodel.Objective().Value()\n",
    "    \n",
    "    optval_lst.append(profit)\n",
    "plt.plot(param_lst,optval_lst)"
   ]
  },
  {
   "cell_type": "markdown",
   "metadata": {},
   "source": [
    "B: From the plot, if laber hours is increased to 140, the profit will rise. However, 140 is not the optimal labor hours to increase to. This is around 120."
   ]
  },
  {
   "cell_type": "markdown",
   "metadata": {},
   "source": [
    "C: Labor capicity should be increased to 120 as shown in the plot above. The new optimal solution for this is shown below, this is higher than 100 hours."
   ]
  },
  {
   "cell_type": "code",
   "execution_count": 15,
   "metadata": {},
   "outputs": [
    {
     "data": {
      "text/plain": [
       "1439.9999999999998"
      ]
     },
     "execution_count": 15,
     "metadata": {},
     "output_type": "execute_result"
    }
   ],
   "source": [
    "optval_lst[param_lst.index(120)]"
   ]
  },
  {
   "cell_type": "markdown",
   "metadata": {},
   "source": [
    "Problem 2"
   ]
  },
  {
   "cell_type": "code",
   "execution_count": 83,
   "metadata": {},
   "outputs": [],
   "source": [
    "#Create LP model object\n",
    "mymodel.Clear()\n",
    "mymodel = glp.Solver('Liftmasters',glp.Solver.GLOP_LINEAR_PROGRAMMING)"
   ]
  },
  {
   "cell_type": "code",
   "execution_count": 84,
   "metadata": {},
   "outputs": [],
   "source": [
    "#frame support strap, 2 supports for each liftmaster\n",
    "manufacturing_cost = [38, 11.5, 6.5]\n",
    "purchase_cost = [51, 15, 7.5]\n",
    "\n",
    "cutting = [3.5,1.3,0.8,0,0,0]\n",
    "milling = [2.2,1.7,0,0,0,0]\n",
    "shaping = [3.1,2.6,1.7,0,0,0]\n",
    "\n",
    "capacity = [350, 420, 680,0,0,0] # min per hours\n",
    "# Change capacity to hours per unit\n",
    "capacity = [a * 60 for a in capacity] \n",
    "\n",
    "number_to_product = 5000\n",
    "number_to_product_support = number_to_product*2\n",
    "\n",
    "frames_produced = [1,0,0,1,0,0]\n",
    "support_produced = [0,1,0,0,1,0]\n",
    "strap_produced = [0,0,1,0,0,1]"
   ]
  },
  {
   "cell_type": "code",
   "execution_count": 85,
   "metadata": {},
   "outputs": [],
   "source": [
    "inf = mymodel.infinity()\n",
    "\n",
    "variables = {'Frame.manufactor': (0, inf, manufacturing_cost[0]),    # (lower bound, upper bound, objective coefficient)\n",
    "             'Support.manufactor': (0, inf,  manufacturing_cost[1]),\n",
    "             'Strap.manufactor': (0, inf,  manufacturing_cost[2]),\n",
    "             'Frame.Purchase': (0, inf,  purchase_cost[0]),\n",
    "             'Support.Purchase': (0, inf,  purchase_cost[1]),\n",
    "             'Strap.Purchase': (0, inf,  purchase_cost[2]),\n",
    "            \n",
    "            }\n",
    "\n",
    "constraints = {'cutting':  (-inf, capacity[0], cutting),    # (lower bound, upper bound, coefficient list)\n",
    "               'milling': (-inf, capacity[1], milling),\n",
    "               'shaping' : (-inf,capacity[2],shaping),\n",
    "               'produced.Frame' : (number_to_product,number_to_product,frames_produced),\n",
    "               'produced.Support' : (number_to_product_support,number_to_product_support,support_produced),\n",
    "               'produced.Strap' : (number_to_product,number_to_product,strap_produced),\n",
    "              }\n"
   ]
  },
  {
   "cell_type": "code",
   "execution_count": 86,
   "metadata": {},
   "outputs": [],
   "source": [
    "# Minimize the cost\n",
    "mymodel.Objective().SetMinimization()\n",
    "\n",
    "for v in variables:\n",
    "    (lb,ub,c) = variables[v]\n",
    "    var = mymodel.NumVar(lb, ub, v)\n",
    "    mymodel.Objective().SetCoefficient(var, c)"
   ]
  },
  {
   "cell_type": "code",
   "execution_count": 87,
   "metadata": {},
   "outputs": [
    {
     "name": "stdout",
     "output_type": "stream",
     "text": [
      "Variables:\n",
      "Frame.manufactor, Support.manufactor, Strap.manufactor, Frame.Purchase, Support.Purchase, Strap.Purchase \n",
      "\n",
      "minimize: 38.0*Frame.manufactor + 11.5*Support.manufactor + 6.5*Strap.manufactor + 51.0*Frame.Purchase + 15.0*Support.Purchase + 7.5*Strap.Purchase \n",
      "\n",
      "Subject To:\n",
      "\n",
      "Bounds:\n",
      "Frame.manufactor >= 0.0\n",
      "Support.manufactor >= 0.0\n",
      "Strap.manufactor >= 0.0\n",
      "Frame.Purchase >= 0.0\n",
      "Support.Purchase >= 0.0\n",
      "Strap.Purchase >= 0.0\n"
     ]
    }
   ],
   "source": [
    "lpt.print_model(mymodel)"
   ]
  },
  {
   "cell_type": "code",
   "execution_count": 88,
   "metadata": {},
   "outputs": [],
   "source": [
    "# Create Constraints\n",
    "\n",
    "for c in constraints:\n",
    "    (lb,ub,coeff_lst) = constraints[c]\n",
    "    constr = mymodel.Constraint(lb,ub,c)\n",
    "    \n",
    "    for (v,coeff) in zip(mymodel.variables(),coeff_lst):\n",
    "        constr.SetCoefficient(v,coeff)"
   ]
  },
  {
   "cell_type": "code",
   "execution_count": 89,
   "metadata": {},
   "outputs": [
    {
     "name": "stdout",
     "output_type": "stream",
     "text": [
      "Variables:\n",
      "Frame.manufactor, Support.manufactor, Strap.manufactor, Frame.Purchase, Support.Purchase, Strap.Purchase \n",
      "\n",
      "minimize: 38.0*Frame.manufactor + 11.5*Support.manufactor + 6.5*Strap.manufactor + 51.0*Frame.Purchase + 15.0*Support.Purchase + 7.5*Strap.Purchase \n",
      "\n",
      "Subject To:\n",
      "cutting: 3.5*Frame.manufactor + 1.3*Support.manufactor + 0.8*Strap.manufactor <= 21000.0\n",
      "milling: 2.2*Frame.manufactor + 1.7*Support.manufactor <= 25200.0\n",
      "shaping: 3.1*Frame.manufactor + 2.6*Support.manufactor + 1.7*Strap.manufactor <= 40800.0\n",
      "produced.Frame: 1.0*Frame.manufactor + 1.0*Frame.Purchase = 5000.0\n",
      "produced.Support: 1.0*Support.manufactor + 1.0*Support.Purchase = 10000.0\n",
      "produced.Strap: 1.0*Strap.manufactor + 1.0*Strap.Purchase = 5000.0\n",
      "\n",
      "Bounds:\n",
      "Frame.manufactor >= 0.0\n",
      "Support.manufactor >= 0.0\n",
      "Strap.manufactor >= 0.0\n",
      "Frame.Purchase >= 0.0\n",
      "Support.Purchase >= 0.0\n",
      "Strap.Purchase >= 0.0\n"
     ]
    }
   ],
   "source": [
    "lpt.print_model(mymodel)"
   ]
  },
  {
   "cell_type": "code",
   "execution_count": 90,
   "metadata": {},
   "outputs": [
    {
     "name": "stdout",
     "output_type": "stream",
     "text": [
      "Solution Status = 0\n",
      "Optimal Value = 368076.92\n",
      "Frame.manufactor = 5000.00\n",
      "Support.manufactor = 2692.31\n",
      "Strap.manufactor = 0.00\n",
      "Frame.Purchase = 0.00\n",
      "Support.Purchase = 7307.69\n",
      "Strap.Purchase = 5000.00\n"
     ]
    }
   ],
   "source": [
    "#solve model and display results\n",
    "status = mymodel.Solve()\n",
    "print('Solution Status =',status )\n",
    "print('Optimal Value = %.2f' %  mymodel.Objective().Value())\n",
    "for v in mymodel.variables():\n",
    "    print('%s = %.2f' % (v.name() , v.solution_value()))\n",
    "\n"
   ]
  },
  {
   "cell_type": "code",
   "execution_count": 91,
   "metadata": {},
   "outputs": [
    {
     "name": "stdout",
     "output_type": "stream",
     "text": [
      "Variable    LB   Value    UB   Reduced Cost\n",
      "Frame.manufactor    0.0  5000.0    inf   0.00\n",
      "Support.manufactor    0.0  2692.3    inf   0.00\n",
      "Strap.manufactor    0.0    0.0    inf   1.15\n",
      "Frame.Purchase    0.0    0.0    inf   3.58\n",
      "Support.Purchase    0.0  7307.7    inf   0.00\n",
      "Strap.Purchase    0.0  5000.0    inf   0.00\n"
     ]
    }
   ],
   "source": [
    "# display variable information\n",
    "print('Variable    LB   Value    UB   Reduced Cost')\n",
    "for v in mymodel.variables():\n",
    "    print('%8s  %5.1f  %5.1f  %5.1f  %5.2f' % (v.name() ,v.lb() ,v.solution_value() ,v.ub() ,v.reduced_cost()))"
   ]
  },
  {
   "cell_type": "markdown",
   "metadata": {},
   "source": [
    "Answer to A^"
   ]
  },
  {
   "cell_type": "code",
   "execution_count": 92,
   "metadata": {},
   "outputs": [
    {
     "name": "stdout",
     "output_type": "stream",
     "text": [
      "Constraint    LB    Value  UB     Dual\n",
      "   cutting   -inf  21000.0  21000.0  -2.69\n",
      "   milling   -inf  15576.9  25200.0   0.00\n",
      "   shaping   -inf  22500.0  40800.0   0.00\n",
      "produced.Frame  5000.0  5000.0  5000.0  47.42\n",
      "produced.Support  10000.0  10000.0  10000.0  15.00\n",
      "produced.Strap  5000.0  5000.0  5000.0   7.50\n"
     ]
    }
   ],
   "source": [
    "#display constraint information\n",
    "print('Constraint    LB    Value  UB     Dual')\n",
    "for (c,lhs) in zip(mymodel.constraints(),mymodel.ComputeConstraintActivities()):\n",
    "    print('%10s  %5.1f  %5.1f  %5.1f  %5.2f' % (c.name() ,c.lb() ,lhs ,c.ub() ,c.dual_value() ))"
   ]
  },
  {
   "cell_type": "markdown",
   "metadata": {},
   "source": [
    "B: From the analysis above, milling and shaping are not binding variables so no overtime whould be scheduled in these departments."
   ]
  },
  {
   "cell_type": "markdown",
   "metadata": {},
   "source": [
    "C: Yes I agree with the purchasing manager that the frame should only be purchased if the price is lower than $38. "
   ]
  }
 ],
 "metadata": {
  "kernelspec": {
   "display_name": "Python 3",
   "language": "python",
   "name": "python3"
  },
  "language_info": {
   "codemirror_mode": {
    "name": "ipython",
    "version": 3
   },
   "file_extension": ".py",
   "mimetype": "text/x-python",
   "name": "python",
   "nbconvert_exporter": "python",
   "pygments_lexer": "ipython3",
   "version": "3.8.5"
  }
 },
 "nbformat": 4,
 "nbformat_minor": 4
}
