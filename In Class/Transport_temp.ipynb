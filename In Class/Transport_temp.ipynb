{
 "cells": [
  {
   "cell_type": "markdown",
   "metadata": {},
   "source": [
    "## Transportation Problem"
   ]
  },
  {
   "cell_type": "code",
   "execution_count": 18,
   "metadata": {},
   "outputs": [],
   "source": [
    "# import Glop package\n",
    "from ortools.linear_solver import pywraplp as glp\n",
    "import lptools as lpt"
   ]
  },
  {
   "cell_type": "code",
   "execution_count": 19,
   "metadata": {},
   "outputs": [],
   "source": [
    "#Create LP model object\n",
    "mymodel = glp.Solver('Midwest Flour',glp.Solver.GLOP_LINEAR_PROGRAMMING)"
   ]
  },
  {
   "cell_type": "code",
   "execution_count": 20,
   "metadata": {},
   "outputs": [],
   "source": [
    "inf = mymodel.infinity()\n",
    "\n",
    "         # name: supply capacity, objective coefficient list\n",
    "sources = {'KC': (170 , [6,8,10 ]),    # Kansas City\n",
    "           'Om': (250 , [7,11,11 ]),    # Omaha\n",
    "           'DM': (200 , [4,5,12 ])}    # Des Moines\n",
    "\n",
    "        # name: demand quantity required\n",
    "demands = {'Chi': 200, 'StL': 100, 'Cin': 300}    # Chicago, St. Louis, Cincinnati\n",
    "\n",
    "mymodel.Objective().SetMinimization()"
   ]
  },
  {
   "cell_type": "code",
   "execution_count": 21,
   "metadata": {},
   "outputs": [],
   "source": [
    "# create all shipment variables and a dictionary of dictionaries to access them\n",
    "ship = dict()\n",
    "for s in sources:\n",
    "    ship[s] = dict()\n",
    "    (b,coeff_lst) = sources[s]\n",
    "    for (d,c) in zip(demands,coeff_lst):\n",
    "        ship[s][d] = mymodel.NumVar(0, inf, s + '_' + d)\n",
    "        mymodel.Objective().SetCoefficient(ship[s][d] ,c )"
   ]
  },
  {
   "cell_type": "code",
   "execution_count": 22,
   "metadata": {},
   "outputs": [
    {
     "name": "stdout",
     "output_type": "stream",
     "text": [
      "{'KC': {'Chi': KC_Chi, 'StL': KC_StL, 'Cin': KC_Cin}, 'Om': {'Chi': Om_Chi, 'StL': Om_StL, 'Cin': Om_Cin}, 'DM': {'Chi': DM_Chi, 'StL': DM_StL, 'Cin': DM_Cin}}\n"
     ]
    }
   ],
   "source": [
    "print(ship)"
   ]
  },
  {
   "cell_type": "code",
   "execution_count": 23,
   "metadata": {},
   "outputs": [],
   "source": [
    "# create demand constraints\n",
    "for d in demands:\n",
    "    lb = ub = demands[d]\n",
    "    constr = mymodel.Constraint(lb ,ub ,d )\n",
    "    for s in sources:\n",
    "        constr.SetCoefficient(ship[s][d] , 1)"
   ]
  },
  {
   "cell_type": "code",
   "execution_count": 24,
   "metadata": {},
   "outputs": [],
   "source": [
    "# create source/supply constraints\n",
    "for s in sources:\n",
    "    (b,coeff_lst) = sources[s]\n",
    "    constr = mymodel.Constraint(-inf ,b ,s )\n",
    "    for d in demands:\n",
    "        constr.SetCoefficient(ship[s][d] ,1 )"
   ]
  },
  {
   "cell_type": "code",
   "execution_count": 25,
   "metadata": {},
   "outputs": [
    {
     "name": "stdout",
     "output_type": "stream",
     "text": [
      "Variables:\n",
      "KC_Chi, KC_StL, KC_Cin, Om_Chi, Om_StL, Om_Cin, DM_Chi, DM_StL, DM_Cin \n",
      "\n",
      "minimize: 6.0*KC_Chi + 8.0*KC_StL + 10.0*KC_Cin + 7.0*Om_Chi + 11.0*Om_StL + 11.0*Om_Cin + 4.0*DM_Chi + 5.0*DM_StL + 12.0*DM_Cin \n",
      "\n",
      "Subject To:\n",
      "Chi: 1.0*KC_Chi + 1.0*Om_Chi + 1.0*DM_Chi = 200.0\n",
      "StL: 1.0*KC_StL + 1.0*Om_StL + 1.0*DM_StL = 100.0\n",
      "Cin: 1.0*KC_Cin + 1.0*Om_Cin + 1.0*DM_Cin = 300.0\n",
      "KC: 1.0*KC_Chi + 1.0*KC_StL + 1.0*KC_Cin <= 170.0\n",
      "Om: 1.0*Om_Chi + 1.0*Om_StL + 1.0*Om_Cin <= 250.0\n",
      "DM: 1.0*DM_Chi + 1.0*DM_StL + 1.0*DM_Cin <= 200.0\n",
      "\n",
      "Bounds:\n",
      "KC_Chi >= 0.0\n",
      "KC_StL >= 0.0\n",
      "KC_Cin >= 0.0\n",
      "Om_Chi >= 0.0\n",
      "Om_StL >= 0.0\n",
      "Om_Cin >= 0.0\n",
      "DM_Chi >= 0.0\n",
      "DM_StL >= 0.0\n",
      "DM_Cin >= 0.0\n"
     ]
    }
   ],
   "source": [
    "lpt.print_model(mymodel)"
   ]
  },
  {
   "cell_type": "code",
   "execution_count": 26,
   "metadata": {},
   "outputs": [
    {
     "name": "stdout",
     "output_type": "stream",
     "text": [
      "Solution Status = 0\n",
      "Optimal Value = 4730.00\n",
      "KC_Chi = 0.00\n",
      "KC_StL = 0.00\n",
      "KC_Cin = 170.00\n",
      "Om_Chi = 100.00\n",
      "Om_StL = 0.00\n",
      "Om_Cin = 130.00\n",
      "DM_Chi = 100.00\n",
      "DM_StL = 100.00\n",
      "DM_Cin = 0.00\n"
     ]
    }
   ],
   "source": [
    "#solve model and display results\n",
    "status = mymodel.Solve()\n",
    "print('Solution Status =',status)\n",
    "print('Optimal Value = %.2f' % mymodel.Objective().Value())\n",
    "for v in mymodel.variables():\n",
    "    print('%s = %.2f' % (v.name(),v.solution_value()))"
   ]
  },
  {
   "cell_type": "code",
   "execution_count": 27,
   "metadata": {},
   "outputs": [
    {
     "name": "stdout",
     "output_type": "stream",
     "text": [
      "Variable    LB   Value    UB   Reduced Cost\n",
      "  KC_Chi    0.0    0.0    inf   0.00\n",
      "  KC_StL    0.0    0.0    inf   1.00\n",
      "  KC_Cin    0.0  170.0    inf   0.00\n",
      "  Om_Chi    0.0  100.0    inf   0.00\n",
      "  Om_StL    0.0    0.0    inf   3.00\n",
      "  Om_Cin    0.0  130.0    inf   0.00\n",
      "  DM_Chi    0.0  100.0    inf   0.00\n",
      "  DM_StL    0.0  100.0    inf   0.00\n",
      "  DM_Cin    0.0    0.0    inf   4.00\n"
     ]
    }
   ],
   "source": [
    "# display all variable information\n",
    "print('Variable    LB   Value    UB   Reduced Cost')\n",
    "for v in mymodel.variables():\n",
    "    print('%8s  %5.1f  %5.1f  %5.1f  %5.2f' % (v.name(),v.lb(),v.solution_value(),v.ub(),v.reduced_cost()))"
   ]
  },
  {
   "cell_type": "code",
   "execution_count": 28,
   "metadata": {},
   "outputs": [],
   "source": [
    "# only print nonzero shipment variables\n",
    "# print('Variable    LB   Value    UB   Reduced Cost')\n",
    "# for v in mymodel.variables():\n",
    "#     if v.solution_value() != 0:\n",
    "#         print('%8s  %5.1f  %5.1f  %5.1f  %5.2f' % (v.name(),v.lb(),v.solution_value(),v.ub(),v.reduced_cost()))"
   ]
  },
  {
   "cell_type": "code",
   "execution_count": 29,
   "metadata": {},
   "outputs": [
    {
     "name": "stdout",
     "output_type": "stream",
     "text": [
      "Constraint    LB    Value  UB     Dual\n",
      "       Chi  200.0  200.0  200.0   7.00\n",
      "       StL  100.0  100.0  100.0   8.00\n",
      "       Cin  300.0  300.0  300.0  11.00\n",
      "        KC   -inf  170.0  170.0  -1.00\n",
      "        Om   -inf  230.0  250.0   0.00\n",
      "        DM   -inf  200.0  200.0  -3.00\n"
     ]
    }
   ],
   "source": [
    "#display constraint information\n",
    "print('Constraint    LB    Value  UB     Dual')\n",
    "for (c,lhs) in zip(mymodel.constraints(),mymodel.ComputeConstraintActivities()):\n",
    "    print('%10s  %5.1f  %5.1f  %5.1f  %5.2f' % (c.name(),c.lb(),lhs,c.ub(),c.dual_value()))"
   ]
  },
  {
   "cell_type": "code",
   "execution_count": null,
   "metadata": {},
   "outputs": [],
   "source": []
  }
 ],
 "metadata": {
  "kernelspec": {
   "display_name": "Python 3",
   "language": "python",
   "name": "python3"
  },
  "language_info": {
   "codemirror_mode": {
    "name": "ipython",
    "version": 3
   },
   "file_extension": ".py",
   "mimetype": "text/x-python",
   "name": "python",
   "nbconvert_exporter": "python",
   "pygments_lexer": "ipython3",
   "version": "3.8.5"
  }
 },
 "nbformat": 4,
 "nbformat_minor": 4
}
