{
 "cells": [
  {
   "cell_type": "markdown",
   "metadata": {},
   "source": [
    "# Fund Raising Simulation"
   ]
  },
  {
   "cell_type": "code",
   "execution_count": 3,
   "metadata": {},
   "outputs": [],
   "source": [
    "import random as rd\n",
    "import statistics as st\n",
    "import numpy.random as npr\n",
    "import matplotlib.pyplot as plt"
   ]
  },
  {
   "cell_type": "code",
   "execution_count": 9,
   "metadata": {},
   "outputs": [],
   "source": [
    "#input parameters\n",
    "donors = 20\n",
    "pr_answer = 0.40\n",
    "pr_donate = 0.50\n",
    "donation_mean = 200.00\n",
    "donation_std = 50.00"
   ]
  },
  {
   "cell_type": "code",
   "execution_count": 10,
   "metadata": {},
   "outputs": [],
   "source": [
    "# user defined simulation function\n",
    "# arguments: calls = number of phone calls, trials = number of simulation trials\n",
    "# returns: list of simulated total donation amounts\n",
    "\n",
    "def fundraise_sim(calls,trials):\n",
    "    sample = []\n",
    "    for i in range(trials):\n",
    "        number_answer = npr.binomial(calls,pr_answer)\n",
    "        number_donate = npr.binomial(number_answer,pr_donate)\n",
    "        tot_donations = 0\n",
    "        for d in range(number_donate):\n",
    "            donation = rd.normalvariate(donation_mean,donation_std)\n",
    "            tot_donations = tot_donations + donation\n",
    "        sample.append(tot_donations)\n",
    "    return(sample)\n"
   ]
  },
  {
   "cell_type": "code",
   "execution_count": 11,
   "metadata": {},
   "outputs": [
    {
     "name": "stdout",
     "output_type": "stream",
     "text": [
      "Mean = 814.54\n",
      "St.Dev. = 375.05\n"
     ]
    }
   ],
   "source": [
    "trials = 1000\n",
    "sample = fundraise_sim(donors,trials)\n",
    "print('Mean = %5.2f' % st.mean(sample))\n",
    "print('St.Dev. = %5.2f' % st.stdev(sample))"
   ]
  },
  {
   "cell_type": "code",
   "execution_count": 12,
   "metadata": {},
   "outputs": [
    {
     "data": {
      "text/plain": [
       "(array([ 41., 111., 184., 200., 197., 133.,  86.,  30.,  17.,   1.]),\n",
       " array([   0.        ,  208.91409904,  417.82819808,  626.74229712,\n",
       "         835.65639616, 1044.57049519, 1253.48459423, 1462.39869327,\n",
       "        1671.31279231, 1880.22689135, 2089.14099039]),\n",
       " <BarContainer object of 10 artists>)"
      ]
     },
     "execution_count": 12,
     "metadata": {},
     "output_type": "execute_result"
    },
    {
     "data": {
      "image/png": "[encoded data removed]",
      "text/plain": [
       "<Figure size 432x288 with 1 Axes>"
      ]
     },
     "metadata": {
      "needs_background": "light"
     },
     "output_type": "display_data"
    }
   ],
   "source": [
    "plt.hist(sample, edgecolor='k')"
   ]
  },
  {
   "cell_type": "code",
   "execution_count": 13,
   "metadata": {},
   "outputs": [
    {
     "name": "stdout",
     "output_type": "stream",
     "text": [
      "The 95% confidence interval for the mean of the total donations is (791.29, 837.78)\n"
     ]
    }
   ],
   "source": [
    "sample_mean = st.mean(sample)\n",
    "sample_std = st.stdev(sample)\n",
    "moe = 1.96 * sample_std / len(sample) ** 0.5\n",
    "lcl = sample_mean - moe\n",
    "ucl = sample_mean + moe\n",
    "print('The 95%% confidence interval for the mean of the total donations is (%6.2f, %6.2f)' % (lcl,ucl))"
   ]
  },
  {
   "cell_type": "code",
   "execution_count": 14,
   "metadata": {},
   "outputs": [
    {
     "name": "stdout",
     "output_type": "stream",
     "text": [
      "There is a 31.10% chance of raising at least $1,000.\n"
     ]
    }
   ],
   "source": [
    "proportion = sum(1 for x in sample if x >= 1000) / len(sample)\n",
    "print('There is a %5.2f%% chance of raising at least $1,000.' % (100*proportion))"
   ]
  },
  {
   "cell_type": "code",
   "execution_count": 15,
   "metadata": {},
   "outputs": [
    {
     "name": "stdout",
     "output_type": "stream",
     "text": [
      "The 90% confidence interval for the probability of raising at least $1,000 is (0.2869, 0.3351).\n"
     ]
    }
   ],
   "source": [
    "# 90% confidence interval for the proportion\n",
    "moe = 1.645 * (proportion * (1 - proportion) / len(sample)) ** 0.5\n",
    "lcl = proportion - moe\n",
    "if lcl < 0.0: lcl = 0.0\n",
    "ucl = proportion + moe\n",
    "print('The 90%% confidence interval for the probability of raising at least $1,000 is (%6.4f, %6.4f).' % (lcl,ucl))"
   ]
  },
  {
   "cell_type": "code",
   "execution_count": null,
   "metadata": {},
   "outputs": [],
   "source": []
  }
 ],
 "metadata": {
  "kernelspec": {
   "display_name": "Python 3",
   "language": "python",
   "name": "python3"
  },
  "language_info": {
   "codemirror_mode": {
    "name": "ipython",
    "version": 3
   },
   "file_extension": ".py",
   "mimetype": "text/x-python",
   "name": "python",
   "nbconvert_exporter": "python",
   "pygments_lexer": "ipython3",
   "version": "3.8.5"
  }
 },
 "nbformat": 4,
 "nbformat_minor": 2
}
