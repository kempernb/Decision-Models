{
 "cells": [
  {
   "cell_type": "markdown",
   "metadata": {},
   "source": [
    "## Sidneyville Manufacturing: Pythonic Version"
   ]
  },
  {
   "cell_type": "code",
   "execution_count": 2,
   "metadata": {},
   "outputs": [],
   "source": [
    "# import Glop package\n",
    "from ortools.linear_solver import pywraplp as glp\n",
    "import lptools as lpt"
   ]
  },
  {
   "cell_type": "code",
   "execution_count": 3,
   "metadata": {},
   "outputs": [],
   "source": [
    "#Create LP model object\n",
    "mymodel = glp.Solver('Suits',glp.Solver.GLOP_LINEAR_PROGRAMMING)"
   ]
  },
  {
   "cell_type": "code",
   "execution_count": 3,
   "metadata": {},
   "outputs": [],
   "source": [
    "inf = mymodel.infinity()\n",
    "\n",
    "variables = {'Roll_Top': (0, inf, 115),    # (lower bound, upper bound, objective coefficient)\n",
    "             'Regular':  (0, inf,  90)}\n",
    "\n",
    "constraints = {'Pine':  (-inf, 200, [10, 20]),    # (lower bound, upper bound, coefficient list)\n",
    "               'Cedar': (-inf, 128, [ 4, 16]),\n",
    "               'Maple': (-inf, 220, [15, 10])}"
   ]
  },
  {
   "cell_type": "code",
   "execution_count": 4,
   "metadata": {},
   "outputs": [],
   "source": [
    "# Create Variables and Objective\n",
    "\n",
    "mymodel.Objective().SetMaximization()\n",
    "\n",
    "for v in variables:\n",
    "#     print(v)\n",
    "#     print(variables[v])\n",
    "    (lb,ub,c) = variables[v]\n",
    "    var = mymodel.NumVar(lb, ub, v)\n",
    "    mymodel.Objective().SetCoefficient(var, c)\n",
    "    "
   ]
  },
  {
   "cell_type": "code",
   "execution_count": 5,
   "metadata": {},
   "outputs": [
    {
     "name": "stdout",
     "output_type": "stream",
     "text": [
      "Variables:\n",
      "Roll_Top, Regular \n",
      "\n",
      "maximize: 115.0*Roll_Top + 90.0*Regular \n",
      "\n",
      "Subject To:\n",
      "\n",
      "Bounds:\n",
      "Roll_Top >= 0.0\n",
      "Regular >= 0.0\n"
     ]
    }
   ],
   "source": [
    "lpt.print_model(mymodel)"
   ]
  },
  {
   "cell_type": "code",
   "execution_count": 6,
   "metadata": {},
   "outputs": [],
   "source": [
    "# Create Constraints\n",
    "\n",
    "for c in constraints:\n",
    "    (lb,ub,coeff_lst) = constraints[c]\n",
    "    constr = mymodel.Constraint(lb,ub,c)\n",
    "    \n",
    "    for (v,coeff) in zip(mymodel.variables(),coeff_lst):\n",
    "        constr.SetCoefficient(v,coeff)\n"
   ]
  },
  {
   "cell_type": "code",
   "execution_count": 7,
   "metadata": {},
   "outputs": [
    {
     "name": "stdout",
     "output_type": "stream",
     "text": [
      "Variables:\n",
      "Roll_Top, Regular \n",
      "\n",
      "maximize: 115.0*Roll_Top + 90.0*Regular \n",
      "\n",
      "Subject To:\n",
      "Pine: 10.0*Roll_Top + 20.0*Regular <= 200.0\n",
      "Cedar: 4.0*Roll_Top + 16.0*Regular <= 128.0\n",
      "Maple: 15.0*Roll_Top + 10.0*Regular <= 220.0\n",
      "\n",
      "Bounds:\n",
      "Roll_Top >= 0.0\n",
      "Regular >= 0.0\n"
     ]
    }
   ],
   "source": [
    "lpt.print_model(mymodel)"
   ]
  },
  {
   "cell_type": "code",
   "execution_count": 14,
   "metadata": {},
   "outputs": [
    {
     "name": "stdout",
     "output_type": "stream",
     "text": [
      "Solution Status = 0\n",
      "Optimal Value = 1740.00\n",
      "Roll_Top = 12.00\n",
      "Regular = 4.00\n"
     ]
    }
   ],
   "source": [
    "#solve model and display results\n",
    "status = mymodel.Solve()\n",
    "print('Solution Status =',status )\n",
    "print('Optimal Value = %.2f' %  mymodel.Objective().Value())\n",
    "for v in mymodel.variables():\n",
    "    print('%s = %.2f' % (v.name() , v.solution_value()))"
   ]
  },
  {
   "cell_type": "code",
   "execution_count": 17,
   "metadata": {},
   "outputs": [
    {
     "name": "stdout",
     "output_type": "stream",
     "text": [
      "Variable    LB   Value    UB   Reduced Cost\n",
      "Roll_Top    0.0   12.0    inf   0.00\n",
      " Regular    0.0    4.0    inf   0.00\n"
     ]
    }
   ],
   "source": [
    "# display variable information\n",
    "print('Variable    LB   Value    UB   Reduced Cost')\n",
    "for v in mymodel.variables():\n",
    "    print('%8s  %5.1f  %5.1f  %5.1f  %5.2f' % (v.name() ,v.lb() ,v.solution_value() ,v.ub() ,v.reduced_cost()))"
   ]
  },
  {
   "cell_type": "code",
   "execution_count": 23,
   "metadata": {},
   "outputs": [
    {
     "name": "stdout",
     "output_type": "stream",
     "text": [
      "Constraint    LB    Value  UB     Dual\n",
      "      Pine   -inf  200.0  200.0   1.00\n",
      "     Cedar   -inf  112.0  128.0  -0.00\n",
      "     Maple   -inf  220.0  220.0   7.00\n"
     ]
    }
   ],
   "source": [
    "#display constraint information\n",
    "print('Constraint    LB    Value  UB     Dual')\n",
    "for (c,lhs) in zip(mymodel.constraints(),mymodel.ComputeConstraintActivities()):\n",
    "    print('%10s  %5.1f  %5.1f  %5.1f  %5.2f' % (c.name() ,c.lb() ,lhs ,c.ub() ,c.dual_value() ))"
   ]
  },
  {
   "cell_type": "markdown",
   "metadata": {},
   "source": [
    "Analysis"
   ]
  },
  {
   "cell_type": "code",
   "execution_count": 24,
   "metadata": {},
   "outputs": [],
   "source": [
    "import matplotlib.pyplot as plt"
   ]
  },
  {
   "cell_type": "code",
   "execution_count": 25,
   "metadata": {},
   "outputs": [
    {
     "data": {
      "text/plain": [
       "[<matplotlib.lines.Line2D at 0x7fab9dc905e0>]"
      ]
     },
     "execution_count": 25,
     "metadata": {},
     "output_type": "execute_result"
    },
    {
     "data": {
      "image/png": "[encoded data removed]",
      "text/plain": [
       "<Figure size 432x288 with 1 Axes>"
      ]
     },
     "metadata": {
      "needs_background": "light"
     },
     "output_type": "display_data"
    }
   ],
   "source": [
    "# parameter analysis for pine\n",
    "param_lst =list(range(200,231))\n",
    "optval_lst = list()\n",
    "constr = mymodel.constraints()[0]\n",
    "for b in param_lst:\n",
    "    constr.SetUb(b)\n",
    "    mymodel.Solve()\n",
    "    optval_lst.append(mymodel.Objective().Value())\n",
    "plt.plot(param_lst,optval_lst)"
   ]
  },
  {
   "cell_type": "code",
   "execution_count": null,
   "metadata": {},
   "outputs": [],
   "source": []
  }
 ],
 "metadata": {
  "kernelspec": {
   "display_name": "Python 3",
   "language": "python",
   "name": "python3"
  },
  "language_info": {
   "codemirror_mode": {
    "name": "ipython",
    "version": 3
   },
   "file_extension": ".py",
   "mimetype": "text/x-python",
   "name": "python",
   "nbconvert_exporter": "python",
   "pygments_lexer": "ipython3",
   "version": "3.8.5"
  }
 },
 "nbformat": 4,
 "nbformat_minor": 4
}
