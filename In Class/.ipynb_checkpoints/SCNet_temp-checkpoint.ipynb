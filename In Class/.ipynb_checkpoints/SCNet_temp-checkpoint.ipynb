{
 "cells": [
  {
   "cell_type": "markdown",
   "metadata": {},
   "source": [
    "## Supply Chain Network Design: Martin-Beck Co."
   ]
  },
  {
   "cell_type": "code",
   "execution_count": 1,
   "metadata": {},
   "outputs": [],
   "source": [
    "# import Glop package\n",
    "from ortools.linear_solver import pywraplp as glp\n",
    "import lptools as lpt"
   ]
  },
  {
   "cell_type": "code",
   "execution_count": 2,
   "metadata": {},
   "outputs": [],
   "source": [
    "#Create MILP model object\n",
    "mymodel = glp.Solver('Martin-Beck', glp.Solver.CBC_MIXED_INTEGER_PROGRAMMING)"
   ]
  },
  {
   "cell_type": "code",
   "execution_count": null,
   "metadata": {},
   "outputs": [],
   "source": [
    "inf = mymodel.infinity()\n",
    "\n",
    "         # name: supply capacity (thousand tons), fixed cost (thousand $), unit shipping cost ($) to each RDC\n",
    "source = {'Det': (10,175 , [ 5, 2, 3]),    # Detroit\n",
    "          'Tol': (20,300 , [ 4, 3, 4]),    # Toledo\n",
    "          'Den': (30,375 , [ 9, 7, 5]),    # Denver\n",
    "          'KC':  (40,500 , [10, 4, 2]),    # Kansas City\n",
    "          'StL': (30,0 , [ 8, 4, 3])}    # Saint Louis\n",
    "\n",
    "        # name: demand quantity required (thousand tons)\n",
    "demand = {'Bos': , 'Atl': , 'Hou': }    # Boston, Atlanta, Houston\n",
    "\n",
    "mymodel.Objective().SetMinimization()    # minimize total plant and transportation cost"
   ]
  },
  {
   "cell_type": "code",
   "execution_count": null,
   "metadata": {},
   "outputs": [],
   "source": [
    "#print(source)"
   ]
  },
  {
   "cell_type": "code",
   "execution_count": null,
   "metadata": {},
   "outputs": [],
   "source": [
    "#for s in source:\n",
    "#    (b,f,coeff_lst) = source[s]\n",
    "#    print(s, 'b =', 'f=', f, 'coeff_lst =', coeff_lst)"
   ]
  },
  {
   "cell_type": "code",
   "execution_count": null,
   "metadata": {},
   "outputs": [],
   "source": [
    "# create binary Plant selection variables and a dictionary to access them\n",
    "select = \n",
    "for s in source:\n",
    "    select[ ] = \n",
    "    ( ) = source[s]\n",
    "    mymodel.Objective().SetCoefficient( , )"
   ]
  },
  {
   "cell_type": "code",
   "execution_count": null,
   "metadata": {},
   "outputs": [],
   "source": [
    "#print(select)"
   ]
  },
  {
   "cell_type": "code",
   "execution_count": null,
   "metadata": {},
   "outputs": [],
   "source": [
    "#print(demand)"
   ]
  },
  {
   "cell_type": "code",
   "execution_count": null,
   "metadata": {},
   "outputs": [],
   "source": [
    "#(b,f,coeff_lst) = source['Det']\n",
    "#print(demand)\n",
    "#print(coeff_lst)\n",
    "#print(list(zip(demand,coeff_lst)))"
   ]
  },
  {
   "cell_type": "code",
   "execution_count": null,
   "metadata": {},
   "outputs": [],
   "source": [
    "#for (d,c) in zip(demand,coeff_lst):\n",
    "#    print('d =', d, 'c =', c)"
   ]
  },
  {
   "cell_type": "code",
   "execution_count": null,
   "metadata": {},
   "outputs": [],
   "source": [
    "# create shipment variables from Plants to RDCs and a dictionary to access them\n",
    "ship = dict()\n",
    "for s in source:\n",
    "    ship[] = \n",
    "    (b, f, coeff_lst) = source[s]\n",
    "    for (d,c) in zip(demand,coeff_lst):\n",
    "        ship[ ][ ] = mymodel.NumVar( , , s + '.' + d)\n",
    "        mymodel.Objective().SetCoefficient( , )"
   ]
  },
  {
   "cell_type": "code",
   "execution_count": null,
   "metadata": {},
   "outputs": [],
   "source": [
    "#print(ship)"
   ]
  },
  {
   "cell_type": "code",
   "execution_count": null,
   "metadata": {},
   "outputs": [],
   "source": [
    "# create source/supply constraints\n",
    "for s in source:\n",
    "    (b, f, coeff_lst) = source[s]\n",
    "    constr = mymodel.Constraint( , , )\n",
    "    constr.SetCoefficient( , )\n",
    "    for d in demand:\n",
    "        constr.SetCoefficient( , )"
   ]
  },
  {
   "cell_type": "code",
   "execution_count": null,
   "metadata": {},
   "outputs": [],
   "source": [
    "# create demand constraints\n",
    "for d in demand:\n",
    "    lb = ub = demand[d]\n",
    "    constr = mymodel.Constraint( , , )\n",
    "    for s in source:\n",
    "        constr.SetCoefficient( , )"
   ]
  },
  {
   "cell_type": "code",
   "execution_count": null,
   "metadata": {},
   "outputs": [],
   "source": [
    "lpt.print_model(mymodel)"
   ]
  },
  {
   "cell_type": "code",
   "execution_count": null,
   "metadata": {},
   "outputs": [],
   "source": [
    "#solve model and display results\n",
    "status = mymodel.Solve()\n",
    "print('Solution Status =',status)\n",
    "print('Optimal Value = %.2f thousand' % mymodel.Objective().Value())\n",
    "for v in mymodel.variables():\n",
    "    if v.solution_value() != 0:\n",
    "        print('%7s = %5.2f' % (v.name(),v.solution_value()))"
   ]
  },
  {
   "cell_type": "code",
   "execution_count": null,
   "metadata": {},
   "outputs": [],
   "source": [
    "# display all variable information\n",
    "print('Variable    LB   Value    UB')\n",
    "for v in mymodel.variables():\n",
    "    print('%8s  %5.1f  %5.1f  %5.1f' % (v.name(),v.lb(),v.solution_value(),v.ub()))"
   ]
  },
  {
   "cell_type": "code",
   "execution_count": null,
   "metadata": {},
   "outputs": [],
   "source": [
    "#display constraint information\n",
    "print('Constraint    LB    Value  UB')\n",
    "for (c,lhs) in zip(mymodel.constraints(),mymodel.ComputeConstraintActivities()):\n",
    "    print('%10s  %5.1f  %5.1f  %5.1f' % (c.name(),c.lb(),lhs,c.ub()))"
   ]
  },
  {
   "cell_type": "markdown",
   "metadata": {},
   "source": [
    "### Optimization Parameter Analysis"
   ]
  },
  {
   "cell_type": "code",
   "execution_count": null,
   "metadata": {},
   "outputs": [],
   "source": [
    "import matplotlib.pyplot as plt"
   ]
  },
  {
   "cell_type": "code",
   "execution_count": null,
   "metadata": {},
   "outputs": [],
   "source": [
    "# optimization parameter analysis: St.Louis capacity (30 - 70)\n",
    "\n",
    "param_lst = list(range( , ))\n",
    "optval_lst = list()\n",
    "for b in param_lst:\n",
    "    mymodel.constraints()[4].SetCoefficient( , )    # constraint index 4 is St. Louis supply constraint\n",
    "    mymodel.Solve()\n",
    "    optval_lst.append(mymodel.Objective().Value())\n",
    "    \n",
    "mymodel.constraints()[4].SetCoefficient( , )\n",
    "\n",
    "plt.grid()\n",
    "plt.plot(param_lst,optval_lst)"
   ]
  },
  {
   "cell_type": "markdown",
   "metadata": {},
   "source": [
    "Step Changes  \n",
    "30 - KC, StL  \n",
    "40 - Det, Tol, StL  \n",
    "50 - Tol, StL  \n",
    "60 - Det, StL  \n",
    "70 - StL  "
   ]
  },
  {
   "cell_type": "markdown",
   "metadata": {},
   "source": [
    "### Logical Constraint"
   ]
  },
  {
   "cell_type": "code",
   "execution_count": null,
   "metadata": {},
   "outputs": [],
   "source": [
    "# at least one plant in Detroit or Toledo\n",
    "new_constr = mymodel.Constraint( , , 'Det_Tol')\n",
    "new_constr.SetCoefficient( , )\n",
    "new_constr.SetCoefficient( , )\n",
    "\n",
    "#solve model and display results\n",
    "status = mymodel.Solve()\n",
    "print('Solution Status =',status)\n",
    "print('Optimal Value = %.2f thousand' % mymodel.Objective().Value())\n",
    "for v in mymodel.variables():\n",
    "    if v.solution_value() != 0:\n",
    "        print('%7s = %5.2f' % (v.name(),v.solution_value()))\n",
    "            "
   ]
  },
  {
   "cell_type": "markdown",
   "metadata": {},
   "source": [
    "### Generating Alternate Solutions"
   ]
  },
  {
   "cell_type": "code",
   "execution_count": null,
   "metadata": {},
   "outputs": [],
   "source": [
    "# reset to original optimal solution\n",
    "\n",
    "# relax the previous logical constraint\n",
    "new_constr.SetBounds( , )\n",
    "\n",
    "#solve model and display results\n",
    "status = mymodel.Solve()\n",
    "print('Solution Status =',status)\n",
    "print('Optimal Value = %.2f thousand' % mymodel.Objective().Value())\n",
    "for v in mymodel.variables():\n",
    "    if v.solution_value() != 0:\n",
    "        print('%7s = %5.2f' % (v.name(),v.solution_value()))"
   ]
  },
  {
   "cell_type": "code",
   "execution_count": null,
   "metadata": {},
   "outputs": [],
   "source": [
    "# store coefficients and RHS for cut constraint\n",
    "\n",
    "a = dict()\n",
    "M = 0\n",
    "for s in source:\n",
    "    if select[s].solution_value() == 1:\n",
    "        a[s] =  \n",
    "        M =  \n",
    "    else:    # solution_value == 0\n",
    "        a[s] =  \n",
    "print('M =', M, ', a=', a)\n",
    "\n",
    "#add cut constraint\n",
    "cut_constr = mymodel.Constraint( , , 'Cut' + str([a[s] for s in a]))\n",
    "for s in source:\n",
    "    cut_constr.SetCoefficient( , )\n",
    "    \n",
    "#solve model and display results\n",
    "status = mymodel.Solve()\n",
    "print('Solution Status =',status)\n",
    "print('Optimal Value = %.2f thousand' % mymodel.Objective().Value())\n",
    "for v in mymodel.variables():\n",
    "    if v.solution_value() != 0:\n",
    "        print('%7s = %5.2f' % (v.name(),v.solution_value()))\n",
    "            \n",
    "# relax cut constraint\n",
    "# cut_constr.SetBounds(-mymodel.infinity(),mymodel.infinity())"
   ]
  }
 ],
 "metadata": {
  "kernelspec": {
   "display_name": "Python 3",
   "language": "python",
   "name": "python3"
  },
  "language_info": {
   "codemirror_mode": {
    "name": "ipython",
    "version": 3
   },
   "file_extension": ".py",
   "mimetype": "text/x-python",
   "name": "python",
   "nbconvert_exporter": "python",
   "pygments_lexer": "ipython3",
   "version": "3.8.5"
  }
 },
 "nbformat": 4,
 "nbformat_minor": 4
}
