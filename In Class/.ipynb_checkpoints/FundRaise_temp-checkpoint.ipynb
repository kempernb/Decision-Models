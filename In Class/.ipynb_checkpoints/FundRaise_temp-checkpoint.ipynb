{
 "cells": [
  {
   "cell_type": "markdown",
   "metadata": {},
   "source": [
    "# Fund Raising Simulation"
   ]
  },
  {
   "cell_type": "code",
   "execution_count": 3,
   "metadata": {},
   "outputs": [],
   "source": [
    "import random as rd\n",
    "import statistics as st\n",
    "import numpy.random as npr\n",
    "import matplotlib.pyplot as plt"
   ]
  },
  {
   "cell_type": "code",
   "execution_count": 4,
   "metadata": {},
   "outputs": [],
   "source": [
    "#input parameters\n",
    "donors = 20\n",
    "pr_answer = 0.40\n",
    "pr_donate = 0.50\n",
    "donation_mean = 200.00\n",
    "donation_std = 50.00"
   ]
  },
  {
   "cell_type": "code",
   "execution_count": 5,
   "metadata": {},
   "outputs": [],
   "source": [
    "# user defined simulation function\n",
    "# arguments: calls = number of phone calls, trials = number of simulation trials\n",
    "# returns: list of simulated total donation amounts\n",
    "\n",
    "def fundraise_sim(calls,trials):\n",
    "    sample = []\n",
    "    for i in range(trials):\n",
    "        number_answer = npr.binomial(calls,pr_answer)\n",
    "        number_donate = npr.binomial(number_answer,pr_donate)\n",
    "        tot_donations = 0\n",
    "        for d in range(number_donate):\n",
    "            donation = rd.normalvariate(donation_mean,donation_std)\n",
    "            tot_donations = tot_donations + donation\n",
    "        sample.append(tot_donations)\n",
    "    return(sample)\n"
   ]
  },
  {
   "cell_type": "code",
   "execution_count": 7,
   "metadata": {},
   "outputs": [
    {
     "ename": "AttributeError",
     "evalue": "module 'random' has no attribute 'normalvarite'",
     "output_type": "error",
     "traceback": [
      "\u001b[0;31m---------------------------------------------------------------------------\u001b[0m",
      "\u001b[0;31mAttributeError\u001b[0m                            Traceback (most recent call last)",
      "\u001b[0;32m<ipython-input-7-6f69a5503255>\u001b[0m in \u001b[0;36m<module>\u001b[0;34m\u001b[0m\n\u001b[1;32m      1\u001b[0m \u001b[0mtrials\u001b[0m \u001b[0;34m=\u001b[0m \u001b[0;36m1000\u001b[0m\u001b[0;34m\u001b[0m\u001b[0;34m\u001b[0m\u001b[0m\n\u001b[0;32m----> 2\u001b[0;31m \u001b[0msample\u001b[0m \u001b[0;34m=\u001b[0m \u001b[0mfundraise_sim\u001b[0m\u001b[0;34m(\u001b[0m\u001b[0mdonors\u001b[0m\u001b[0;34m,\u001b[0m\u001b[0mtrials\u001b[0m\u001b[0;34m)\u001b[0m\u001b[0;34m\u001b[0m\u001b[0;34m\u001b[0m\u001b[0m\n\u001b[0m\u001b[1;32m      3\u001b[0m \u001b[0mprint\u001b[0m\u001b[0;34m(\u001b[0m\u001b[0;34m'Mean = %5.2f'\u001b[0m \u001b[0;34m%\u001b[0m \u001b[0mst\u001b[0m\u001b[0;34m.\u001b[0m\u001b[0mmean\u001b[0m\u001b[0;34m(\u001b[0m\u001b[0msample\u001b[0m\u001b[0;34m)\u001b[0m\u001b[0;34m)\u001b[0m\u001b[0;34m\u001b[0m\u001b[0;34m\u001b[0m\u001b[0m\n\u001b[1;32m      4\u001b[0m \u001b[0mprint\u001b[0m\u001b[0;34m(\u001b[0m\u001b[0;34m'St.Dev. = %5.2f'\u001b[0m \u001b[0;34m%\u001b[0m \u001b[0mst\u001b[0m\u001b[0;34m.\u001b[0m\u001b[0mstdev\u001b[0m\u001b[0;34m(\u001b[0m\u001b[0msample\u001b[0m\u001b[0;34m)\u001b[0m\u001b[0;34m)\u001b[0m\u001b[0;34m\u001b[0m\u001b[0;34m\u001b[0m\u001b[0m\n",
      "\u001b[0;32m<ipython-input-5-c111ae58a1b5>\u001b[0m in \u001b[0;36mfundraise_sim\u001b[0;34m(calls, trials)\u001b[0m\n\u001b[1;32m     10\u001b[0m         \u001b[0mtot_donations\u001b[0m \u001b[0;34m=\u001b[0m \u001b[0;36m0\u001b[0m\u001b[0;34m\u001b[0m\u001b[0;34m\u001b[0m\u001b[0m\n\u001b[1;32m     11\u001b[0m         \u001b[0;32mfor\u001b[0m \u001b[0md\u001b[0m \u001b[0;32min\u001b[0m \u001b[0mrange\u001b[0m\u001b[0;34m(\u001b[0m\u001b[0mnumber_donate\u001b[0m\u001b[0;34m)\u001b[0m\u001b[0;34m:\u001b[0m\u001b[0;34m\u001b[0m\u001b[0;34m\u001b[0m\u001b[0m\n\u001b[0;32m---> 12\u001b[0;31m             \u001b[0mdonation\u001b[0m \u001b[0;34m=\u001b[0m \u001b[0mrd\u001b[0m\u001b[0;34m.\u001b[0m\u001b[0mnormalvarite\u001b[0m\u001b[0;34m(\u001b[0m\u001b[0mdonation_mean\u001b[0m\u001b[0;34m,\u001b[0m\u001b[0mdonation_std\u001b[0m\u001b[0;34m)\u001b[0m\u001b[0;34m\u001b[0m\u001b[0;34m\u001b[0m\u001b[0m\n\u001b[0m\u001b[1;32m     13\u001b[0m             \u001b[0mtot_donations\u001b[0m \u001b[0;34m=\u001b[0m \u001b[0mtot_donations\u001b[0m \u001b[0;34m+\u001b[0m \u001b[0mdonation\u001b[0m\u001b[0;34m\u001b[0m\u001b[0;34m\u001b[0m\u001b[0m\n\u001b[1;32m     14\u001b[0m         \u001b[0msample\u001b[0m\u001b[0;34m.\u001b[0m\u001b[0mappend\u001b[0m\u001b[0;34m(\u001b[0m\u001b[0mtot_donations\u001b[0m\u001b[0;34m)\u001b[0m\u001b[0;34m\u001b[0m\u001b[0;34m\u001b[0m\u001b[0m\n",
      "\u001b[0;31mAttributeError\u001b[0m: module 'random' has no attribute 'normalvarite'"
     ]
    }
   ],
   "source": [
    "trials = 1000\n",
    "sample = fundraise_sim(donors,trials)\n",
    "print('Mean = %5.2f' % st.mean(sample))\n",
    "print('St.Dev. = %5.2f' % st.stdev(sample))"
   ]
  },
  {
   "cell_type": "code",
   "execution_count": null,
   "metadata": {},
   "outputs": [],
   "source": [
    "plt.hist(sample, edgecolor='k')"
   ]
  },
  {
   "cell_type": "code",
   "execution_count": null,
   "metadata": {},
   "outputs": [],
   "source": [
    "sample_mean = st.mean(sample)\n",
    "sample_std = st.stdev(sample)\n",
    "moe = \n",
    "lcl = sample_mean - moe\n",
    "ucl = sample_mean + moe\n",
    "print('The 95%% confidence interval for the mean of the total donations is (%6.2f, %6.2f)' % (lcl,ucl))"
   ]
  },
  {
   "cell_type": "code",
   "execution_count": null,
   "metadata": {},
   "outputs": [],
   "source": [
    "proportion = \n",
    "print('There is a %5.2f%% chance of raising at least $1,000.' % (100*proportion))"
   ]
  },
  {
   "cell_type": "code",
   "execution_count": null,
   "metadata": {},
   "outputs": [],
   "source": [
    "# 90% confidence interval for the proportion\n",
    "moe = \n",
    "lcl = proportion - moe\n",
    "if lcl < 0.0: lcl = 0.0\n",
    "ucl = proportion + moe\n",
    "print('The 90%% confidence interval for the probability of raising at least $1,000 is (%6.4f, %6.4f).' % (lcl,ucl))"
   ]
  }
 ],
 "metadata": {
  "kernelspec": {
   "display_name": "Python 3",
   "language": "python",
   "name": "python3"
  },
  "language_info": {
   "codemirror_mode": {
    "name": "ipython",
    "version": 3
   },
   "file_extension": ".py",
   "mimetype": "text/x-python",
   "name": "python",
   "nbconvert_exporter": "python",
   "pygments_lexer": "ipython3",
   "version": "3.8.5"
  }
 },
 "nbformat": 4,
 "nbformat_minor": 2
}
