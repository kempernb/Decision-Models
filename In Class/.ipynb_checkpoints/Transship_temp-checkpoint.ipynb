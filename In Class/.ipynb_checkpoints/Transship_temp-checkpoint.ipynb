{
 "cells": [
  {
   "cell_type": "markdown",
   "metadata": {},
   "source": [
    "## Transshipment Problem: Zeron Industries"
   ]
  },
  {
   "cell_type": "code",
   "execution_count": 1,
   "metadata": {},
   "outputs": [],
   "source": [
    "# import Glop package\n",
    "from ortools.linear_solver import pywraplp as glp\n",
    "import lptools as lpt"
   ]
  },
  {
   "cell_type": "code",
   "execution_count": 2,
   "metadata": {},
   "outputs": [],
   "source": [
    "#Create LP model object\n",
    "mymodel = glp.Solver('Zeron',glp.Solver.GLOP_LINEAR_PROGRAMMING)"
   ]
  },
  {
   "cell_type": "code",
   "execution_count": null,
   "metadata": {},
   "outputs": [],
   "source": [
    "inf = mymodel.infinity()\n",
    "\n",
    "         # name: supply capacity, objective coefficient list\n",
    "source = {'A': ( , [ ]),    # Arnold capacity and shipping cost per unit to each DC\n",
    "          'S': ( , [ ])}    # Super Shelf capacity and shipping cost per unit to each DC\n",
    "\n",
    "transship = {'ZN': [ ],    # Zeron-North DC shipping cost per unit to each customer\n",
    "             'ZS': [ ]}    # Zeron-South DC shipping cost per unit to each customer\n",
    "\n",
    "        # name: demand quantity required\n",
    "demand = {'Z': , 'H': , 'R': }    # weekly customer demand for Zrox, Hewes, and RockRite\n",
    "\n",
    "mymodel.Objective() "
   ]
  },
  {
   "cell_type": "code",
   "execution_count": null,
   "metadata": {},
   "outputs": [],
   "source": [
    "# create inbound shipment variables from suppliers to dcs and a dictionary to access them\n",
    "ship = dict()\n",
    "for s in :\n",
    "    ship[s] = dict()\n",
    "    ( ) = source[s]\n",
    "    for (t,c) in zip(transship,coeff_lst):\n",
    "        ship[ ][ ] = mymodel.NumVar( )\n",
    "        mymodel.Objective().SetCoefficient( )"
   ]
  },
  {
   "cell_type": "code",
   "execution_count": null,
   "metadata": {},
   "outputs": [],
   "source": [
    "print(ship)"
   ]
  },
  {
   "cell_type": "code",
   "execution_count": null,
   "metadata": {},
   "outputs": [],
   "source": [
    "# create outbound shipment variables from DCs to Customers and a dictionary to access them\n",
    "for t in :\n",
    "    ship[t] = dict()\n",
    "    coeff_lst = \n",
    "    for (d,c) in zip( ):\n",
    "        ship[][] = mymodel.NumVar( )\n",
    "        mymodel.Objective().SetCoefficient( )"
   ]
  },
  {
   "cell_type": "code",
   "execution_count": null,
   "metadata": {},
   "outputs": [],
   "source": [
    "print(ship)"
   ]
  },
  {
   "cell_type": "code",
   "execution_count": null,
   "metadata": {},
   "outputs": [],
   "source": [
    "# create source/supply constraints\n",
    "for s in source:\n",
    "    (b,coeff_lst) = source[s]\n",
    "    constr = mymodel.Constraint( )\n",
    "    for t in transship:\n",
    "        constr.SetCoefficient( )"
   ]
  },
  {
   "cell_type": "code",
   "execution_count": null,
   "metadata": {},
   "outputs": [],
   "source": [
    "# create demand constraints\n",
    "for d in demand:\n",
    "    lb = ub = demand[d]\n",
    "    constr = mymodel.Constraint(lb,ub,d)\n",
    "    for t in transship:\n",
    "        constr.SetCoefficient( )"
   ]
  },
  {
   "cell_type": "code",
   "execution_count": null,
   "metadata": {},
   "outputs": [],
   "source": [
    "# create transshipment flow balance constraints\n",
    "for t in transship:\n",
    "    constr = mymodel.Constraint( )\n",
    "    for s in source:\n",
    "        constr.SetCoefficient( )\n",
    "    for d in demand:\n",
    "        constr.SetCoefficient( )"
   ]
  },
  {
   "cell_type": "code",
   "execution_count": null,
   "metadata": {},
   "outputs": [],
   "source": [
    "lpt.print_model(mymodel)"
   ]
  },
  {
   "cell_type": "code",
   "execution_count": null,
   "metadata": {},
   "outputs": [],
   "source": [
    "#solve model and display results\n",
    "status = mymodel.Solve()\n",
    "print('Solution Status =',status)\n",
    "print('Optimal Value = %.2f' % mymodel.Objective().Value())\n",
    "for v in mymodel.variables():\n",
    "    print('%s = %.2f' % (v.name(),v.solution_value()))"
   ]
  },
  {
   "cell_type": "code",
   "execution_count": null,
   "metadata": {},
   "outputs": [],
   "source": [
    "# display all variable information\n",
    "print('Variable    LB   Value    UB   Reduced Cost')\n",
    "for v in mymodel.variables():\n",
    "    print('%8s  %5.1f  %5.1f  %5.1f  %5.2f' % (v.name(),v.lb(),v.solution_value(),v.ub(),v.reduced_cost()))"
   ]
  },
  {
   "cell_type": "code",
   "execution_count": null,
   "metadata": {},
   "outputs": [],
   "source": [
    "# only print nonzero shipment variables\n",
    "# print('Variable    LB   Value    UB   Reduced Cost')\n",
    "# for v in mymodel.variables():\n",
    "#     if v.solution_value() != 0:\n",
    "#         print('%8s  %5.1f  %5.1f  %5.1f  %5.2f' % (v.name(),v.lb(),v.solution_value(),v.ub(),v.reduced_cost()))"
   ]
  },
  {
   "cell_type": "code",
   "execution_count": null,
   "metadata": {},
   "outputs": [],
   "source": [
    "#display constraint information\n",
    "print('Constraint    LB    Value  UB     Dual')\n",
    "for (c,lhs) in zip(mymodel.constraints(),mymodel.ComputeConstraintActivities()):\n",
    "    print('%10s  %5.1f  %5.1f  %5.1f  %5.2f' % (c.name(),c.lb(),lhs,c.ub(),c.dual_value()))"
   ]
  }
 ],
 "metadata": {
  "kernelspec": {
   "display_name": "Python 3",
   "language": "python",
   "name": "python3"
  },
  "language_info": {
   "codemirror_mode": {
    "name": "ipython",
    "version": 3
   },
   "file_extension": ".py",
   "mimetype": "text/x-python",
   "name": "python",
   "nbconvert_exporter": "python",
   "pygments_lexer": "ipython3",
   "version": "3.8.5"
  }
 },
 "nbformat": 4,
 "nbformat_minor": 4
}
