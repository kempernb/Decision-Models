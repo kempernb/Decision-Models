{
 "cells": [
  {
   "cell_type": "code",
   "execution_count": 10,
   "metadata": {},
   "outputs": [],
   "source": [
    "import matplotlib.pyplot as plt\n",
    "import statistics as st\n",
    "import random as rd\n",
    "import numpy as np"
   ]
  },
  {
   "cell_type": "code",
   "execution_count": 16,
   "metadata": {},
   "outputs": [],
   "source": [
    "# input parameters\n",
    "price = 18       # $ per case\n",
    "cost = 12       # $ per case\n",
    "salvage = 8       # $ per case\n",
    "min_dem = 300       # cases\n",
    "max_dem = 600       # cases\n",
    "production = 600       # cases"
   ]
  },
  {
   "cell_type": "code",
   "execution_count": 17,
   "metadata": {},
   "outputs": [],
   "source": [
    "trials = 1000\n",
    "sample = []\n",
    "for i in range(trials):\n",
    "    demand = rd.randint(min_dem,max_dem)\n",
    "    if demand < production:\n",
    "        qty_sold = demand\n",
    "    else:\n",
    "        qty_sold = production\n",
    "    qty_left = production - qty_sold\n",
    "    sales_revenue = price * qty_sold\n",
    "    salvage_revenue = salvage * qty_left\n",
    "    total_cost = cost * production\n",
    "    profit = sales_revenue + salvage_revenue - total_cost\n",
    "    sample.append(profit)"
   ]
  },
  {
   "cell_type": "code",
   "execution_count": 18,
   "metadata": {},
   "outputs": [
    {
     "data": {
      "text/plain": [
       "(array([ 83.,  87., 112.,  97., 112., 106.,  83., 101.,  98., 121.]),\n",
       " array([ 600.,  900., 1200., 1500., 1800., 2100., 2400., 2700., 3000.,\n",
       "        3300., 3600.]),\n",
       " <BarContainer object of 10 artists>)"
      ]
     },
     "execution_count": 18,
     "metadata": {},
     "output_type": "execute_result"
    },
    {
     "data": {
      "image/png": "[encoded data removed]",
      "text/plain": [
       "<Figure size 432x288 with 1 Axes>"
      ]
     },
     "metadata": {
      "needs_background": "light"
     },
     "output_type": "display_data"
    }
   ],
   "source": [
    "plt.hist(sample,edgecolor = \"k\")"
   ]
  },
  {
   "cell_type": "code",
   "execution_count": 29,
   "metadata": {},
   "outputs": [],
   "source": [
    "# Paramaters for proudction quantity\n",
    "\n",
    "trials = 1000\n",
    "production_lst = list(range(300,601))\n",
    "mean_profit_lst = []\n",
    "for production in production_lst:\n",
    "    sample = []\n",
    "    for i in range(trials):\n",
    "        demand = rd.randint(min_dem,max_dem)\n",
    "        if demand < production:\n",
    "            qty_sold = demand\n",
    "        else:\n",
    "            qty_sold = production\n",
    "        qty_left = production - qty_sold\n",
    "        sales_revenue = price * qty_sold\n",
    "        salvage_revenue = salvage * qty_left\n",
    "        total_cost = cost * production\n",
    "        profit = sales_revenue + salvage_revenue - total_cost\n",
    "        sample.append(profit)\n",
    "    mean_profit_lst.append(st.mean(sample))"
   ]
  },
  {
   "cell_type": "code",
   "execution_count": 30,
   "metadata": {},
   "outputs": [
    {
     "data": {
      "text/plain": [
       "[<matplotlib.lines.Line2D at 0x7fac052e09a0>]"
      ]
     },
     "execution_count": 30,
     "metadata": {},
     "output_type": "execute_result"
    },
    {
     "data": {
      "image/png": "[encoded data removed]",
      "text/plain": [
       "<Figure size 432x288 with 1 Axes>"
      ]
     },
     "metadata": {
      "needs_background": "light"
     },
     "output_type": "display_data"
    }
   ],
   "source": [
    "plt.plot(production_lst,mean_profit_lst)"
   ]
  },
  {
   "cell_type": "code",
   "execution_count": 2,
   "metadata": {},
   "outputs": [
    {
     "ename": "NameError",
     "evalue": "name 'mean_profit_lst' is not defined",
     "output_type": "error",
     "traceback": [
      "\u001b[0;31m---------------------------------------------------------------------------\u001b[0m",
      "\u001b[0;31mNameError\u001b[0m                                 Traceback (most recent call last)",
      "\u001b[0;32m<ipython-input-2-bf485f26044b>\u001b[0m in \u001b[0;36m<module>\u001b[0;34m\u001b[0m\n\u001b[0;32m----> 1\u001b[0;31m \u001b[0mmean_profit_lst\u001b[0m\u001b[0;34m.\u001b[0m\u001b[0mindex\u001b[0m\u001b[0;34m(\u001b[0m\u001b[0mmax\u001b[0m\u001b[0;34m(\u001b[0m\u001b[0mmean_profit_lst\u001b[0m\u001b[0;34m)\u001b[0m\u001b[0;34m)\u001b[0m\u001b[0;34m\u001b[0m\u001b[0;34m\u001b[0m\u001b[0m\n\u001b[0m",
      "\u001b[0;31mNameError\u001b[0m: name 'mean_profit_lst' is not defined"
     ]
    }
   ],
   "source": [
    "mean_profit_lst.index(max(mean_profit_lst))"
   ]
  },
  {
   "cell_type": "code",
   "execution_count": null,
   "metadata": {},
   "outputs": [],
   "source": []
  }
 ],
 "metadata": {
  "kernelspec": {
   "display_name": "Python 3",
   "language": "python",
   "name": "python3"
  },
  "language_info": {
   "codemirror_mode": {
    "name": "ipython",
    "version": 3
   },
   "file_extension": ".py",
   "mimetype": "text/x-python",
   "name": "python",
   "nbconvert_exporter": "python",
   "pygments_lexer": "ipython3",
   "version": "3.8.5"
  }
 },
 "nbformat": 4,
 "nbformat_minor": 4
}
