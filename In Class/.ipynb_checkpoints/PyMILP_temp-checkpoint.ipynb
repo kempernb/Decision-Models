{
 "cells": [
  {
   "cell_type": "markdown",
   "metadata": {},
   "source": [
    "## MILP Optimization Template"
   ]
  },
  {
   "cell_type": "code",
   "execution_count": 30,
   "metadata": {},
   "outputs": [],
   "source": [
    "# import Glop package\n",
    "from ortools.linear_solver import pywraplp as glp\n",
    "import lptools2 as lpt\n",
    "import matplotlib.pyplot as plt"
   ]
  },
  {
   "cell_type": "code",
   "execution_count": 21,
   "metadata": {},
   "outputs": [],
   "source": [
    "#Create LP model object\n",
    "mymodel = glp.Solver('Ice Cold', glp.Solver.CBC_MIXED_INTEGER_PROGRAMMING)"
   ]
  },
  {
   "cell_type": "code",
   "execution_count": 22,
   "metadata": {},
   "outputs": [],
   "source": [
    "inf = mymodel.infinity()\n",
    "\n",
    "            # name: (type 'c'=continuous or 'i'=integer, lower bound, upper bound, objective coefficient)\n",
    "variables = {'PE': ('i',0 ,1 , 90),\n",
    "             'WE': ('i',0 ,1 , 40),\n",
    "             'NM': ('i',0 ,1 , 10),\n",
    "             'NP': ('i',0 ,1 , 37),\n",
    "            }\n",
    "\n",
    "            # name: (lower bound, upper bound, coefficient list)\n",
    "constraints = {'Y1': (-inf ,40 , [15 ,10 ,10 ,15 ]),\n",
    "               'Y2': (-inf ,50 , [20 ,15 ,0 ,10 ]),\n",
    "               'Y3': (-inf ,40 , [20 ,20 ,0 ,10 ]),\n",
    "               'Y4': (-inf ,35 , [15 ,5 ,4 ,10 ]),\n",
    "              }\n",
    "\n",
    "mymodel.Objective().SetMaximization()"
   ]
  },
  {
   "cell_type": "code",
   "execution_count": 23,
   "metadata": {},
   "outputs": [],
   "source": [
    "for v in variables:\n",
    "    (t,lb,ub,c) = variables[v]\n",
    "    if t == 'c':\n",
    "        var = mymodel.NumVar(lb,ub,v)\n",
    "    elif t == 'i':\n",
    "        var = mymodel.IntVar(lb,ub,v)\n",
    "    else:\n",
    "        print('Invalid variable type =', t)\n",
    "    mymodel.Objective().SetCoefficient(var,c)"
   ]
  },
  {
   "cell_type": "code",
   "execution_count": 24,
   "metadata": {},
   "outputs": [],
   "source": [
    "for c in constraints:\n",
    "    (lb,ub,coeff_lst) = constraints[c]\n",
    "    constr = mymodel.Constraint(lb,ub,c)\n",
    "    for (v,coeff) in zip(mymodel.variables(),coeff_lst):\n",
    "        constr.SetCoefficient(v,coeff)"
   ]
  },
  {
   "cell_type": "code",
   "execution_count": 25,
   "metadata": {},
   "outputs": [
    {
     "name": "stdout",
     "output_type": "stream",
     "text": [
      "Variables:\n",
      "PE, WE, NM, NP \n",
      "\n",
      "maximize: 90.0*PE + 40.0*WE + 10.0*NM + 37.0*NP \n",
      "\n",
      "Subject To:\n",
      "Y1: 15.0*PE + 10.0*WE + 10.0*NM + 15.0*NP <= 40.0\n",
      "Y2: 20.0*PE + 15.0*WE + 10.0*NP <= 50.0\n",
      "Y3: 20.0*PE + 20.0*WE + 10.0*NP <= 40.0\n",
      "Y4: 15.0*PE + 5.0*WE + 4.0*NM + 10.0*NP <= 35.0\n",
      "\n",
      "Bounds:\n",
      "PE in [0, 1]\n",
      "WE in [0, 1]\n",
      "NM in [0, 1]\n",
      "NP in [0, 1]\n"
     ]
    }
   ],
   "source": [
    "lpt.print_model(mymodel)"
   ]
  },
  {
   "cell_type": "code",
   "execution_count": 26,
   "metadata": {},
   "outputs": [
    {
     "name": "stdout",
     "output_type": "stream",
     "text": [
      "Solution Status = 0\n",
      "Optimal Value = 140.00\n",
      "PE = 1.00\n",
      "WE = 1.00\n",
      "NM = 1.00\n",
      "NP = 0.00\n"
     ]
    }
   ],
   "source": [
    "#solve model and display results\n",
    "status = mymodel.Solve()\n",
    "print('Solution Status =',status)\n",
    "print('Optimal Value = %.2f' % mymodel.Objective().Value())\n",
    "for v in mymodel.variables():\n",
    "    print('%s = %.2f' % (v.name(),v.solution_value()))"
   ]
  },
  {
   "cell_type": "code",
   "execution_count": 27,
   "metadata": {},
   "outputs": [
    {
     "name": "stdout",
     "output_type": "stream",
     "text": [
      "Variable    LB   Value    UB\n",
      "      PE    0.0    1.0    1.0\n",
      "      WE    0.0    1.0    1.0\n",
      "      NM    0.0    1.0    1.0\n",
      "      NP    0.0    0.0    1.0\n"
     ]
    }
   ],
   "source": [
    "# display variable information\n",
    "print('Variable    LB   Value    UB')\n",
    "for v in mymodel.variables():\n",
    "    print('%8s  %5.1f  %5.1f  %5.1f' % (v.name(),v.lb(),v.solution_value(),v.ub()))"
   ]
  },
  {
   "cell_type": "code",
   "execution_count": 28,
   "metadata": {},
   "outputs": [
    {
     "name": "stdout",
     "output_type": "stream",
     "text": [
      "Constraint    LB    Value  UB\n",
      "        Y1   -inf   35.0   40.0\n",
      "        Y2   -inf   35.0   50.0\n",
      "        Y3   -inf   40.0   40.0\n",
      "        Y4   -inf   24.0   35.0\n"
     ]
    }
   ],
   "source": [
    "#display constraint information\n",
    "print('Constraint    LB    Value  UB')\n",
    "for (c,lhs) in zip(mymodel.constraints(),mymodel.ComputeConstraintActivities()):\n",
    "    print('%10s  %5.1f  %5.1f  %5.1f' % (c.name(),c.lb(),lhs,c.ub()))"
   ]
  },
  {
   "cell_type": "code",
   "execution_count": 31,
   "metadata": {},
   "outputs": [
    {
     "data": {
      "text/plain": [
       "[<matplotlib.lines.Line2D at 0x7f823d61c550>]"
      ]
     },
     "execution_count": 31,
     "metadata": {},
     "output_type": "execute_result"
    },
    {
     "data": {
      "image/png": "[encoded data removed]",
      "text/plain": [
       "<Figure size 432x288 with 1 Axes>"
      ]
     },
     "metadata": {
      "needs_background": "light"
     },
     "output_type": "display_data"
    }
   ],
   "source": [
    "# yr 3 budget analysis\n",
    "\n",
    "param_lst = list(range(40,61))\n",
    "optval_lst = list()\n",
    "\n",
    "for b in param_lst:\n",
    "    mymodel.constraints()[2].SetUb(b)\n",
    "    mymodel.Solve()\n",
    "    optval_lst.append(mymodel.Objective().Value())\n",
    "mymodel.constraints()[2].SetUb(40)\n",
    "\n",
    "plt.plot(param_lst,optval_lst)"
   ]
  },
  {
   "cell_type": "code",
   "execution_count": null,
   "metadata": {},
   "outputs": [],
   "source": []
  }
 ],
 "metadata": {
  "kernelspec": {
   "display_name": "Python 3",
   "language": "python",
   "name": "python3"
  },
  "language_info": {
   "codemirror_mode": {
    "name": "ipython",
    "version": 3
   },
   "file_extension": ".py",
   "mimetype": "text/x-python",
   "name": "python",
   "nbconvert_exporter": "python",
   "pygments_lexer": "ipython3",
   "version": "3.8.5"
  }
 },
 "nbformat": 4,
 "nbformat_minor": 4
}
