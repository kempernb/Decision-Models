{
 "cells": [
  {
   "cell_type": "code",
   "execution_count": 20,
   "metadata": {},
   "outputs": [],
   "source": [
    "import matplotlib.pyplot as plt\n",
    "import statistics as st\n",
    "import random as rd\n",
    "import numpy as np"
   ]
  },
  {
   "cell_type": "code",
   "execution_count": 21,
   "metadata": {},
   "outputs": [],
   "source": [
    "# Inputs\n",
    "annual_investment = 3000\n",
    "years = 30\n",
    "mean_return = 0.12\n",
    "stdev_return = 0.02"
   ]
  },
  {
   "cell_type": "code",
   "execution_count": 22,
   "metadata": {},
   "outputs": [],
   "source": [
    "# simulation\n",
    "trials = 1000\n",
    "sample = []\n",
    "for trial in range(trials):\n",
    "    asset_value = 0\n",
    "    for t in range(years):\n",
    "        actual_return = rd.normalvariate(mean_return,stdev_return)\n",
    "        asset_value = asset_value + actual_return * asset_value + annual_investment\n",
    "    sample.append(asset_value)"
   ]
  },
  {
   "cell_type": "code",
   "execution_count": 23,
   "metadata": {},
   "outputs": [
    {
     "data": {
      "text/plain": [
       "(array([ 10.,  45., 128., 213., 249., 182., 100.,  46.,  21.,   6.]),\n",
       " array([571645.21838116, 605572.93901893, 639500.6596567 , 673428.38029447,\n",
       "        707356.10093225, 741283.82157002, 775211.54220779, 809139.26284556,\n",
       "        843066.98348333, 876994.70412111, 910922.42475888]),\n",
       " <BarContainer object of 10 artists>)"
      ]
     },
     "execution_count": 23,
     "metadata": {},
     "output_type": "execute_result"
    },
    {
     "data": {
      "image/png": "[encoded data removed]",
      "text/plain": [
       "<Figure size 432x288 with 1 Axes>"
      ]
     },
     "metadata": {
      "needs_background": "light"
     },
     "output_type": "display_data"
    }
   ],
   "source": [
    "plt.hist(sample, edgecolor='k')"
   ]
  },
  {
   "cell_type": "code",
   "execution_count": 24,
   "metadata": {},
   "outputs": [
    {
     "name": "stdout",
     "output_type": "stream",
     "text": [
      "Max - 910922.4247588781\n",
      "Median - 723806.4436246841\n",
      "Mean - 724127.828403088\n",
      "Min - 571645.2183811582\n"
     ]
    }
   ],
   "source": [
    "print(\"Max - {}\".format(max(sample)))\n",
    "print(\"Median - {}\".format(st.median(sample)))\n",
    "print(\"Mean - {}\".format(st.mean(sample)))\n",
    "print(\"Min - {}\".format(min(sample)))"
   ]
  },
  {
   "cell_type": "markdown",
   "metadata": {},
   "source": [
    "Estimating Probability"
   ]
  },
  {
   "cell_type": "code",
   "execution_count": 25,
   "metadata": {},
   "outputs": [
    {
     "name": "stdout",
     "output_type": "stream",
     "text": [
      "0 0.0\n"
     ]
    }
   ],
   "source": [
    "count = 0\n",
    "for x in sample:\n",
    "    if x > 1000000: count += 1\n",
    "prob = count / len(sample)\n",
    "print(count,prob)"
   ]
  },
  {
   "cell_type": "code",
   "execution_count": 26,
   "metadata": {},
   "outputs": [],
   "source": [
    "proportion = sum(1 for x in sample if x > 1000000)"
   ]
  },
  {
   "cell_type": "code",
   "execution_count": 27,
   "metadata": {},
   "outputs": [
    {
     "data": {
      "text/plain": [
       "0"
      ]
     },
     "execution_count": 27,
     "metadata": {},
     "output_type": "execute_result"
    }
   ],
   "source": [
    "proportion"
   ]
  },
  {
   "cell_type": "markdown",
   "metadata": {},
   "source": [
    "Paramter Analysis"
   ]
  },
  {
   "cell_type": "code",
   "execution_count": 32,
   "metadata": {},
   "outputs": [
    {
     "name": "stdout",
     "output_type": "stream",
     "text": [
      "3000 720299.4416201275 0.0\n",
      "3100 723085.4030032424 0.0\n",
      "3200 720750.3225905363 0.0\n",
      "3300 726400.1356133117 0.0\n",
      "3400 724787.9420649671 0.0\n",
      "3500 723918.3084919471 0.0\n",
      "3600 723159.2618720195 0.0\n",
      "3700 725899.6489722998 0.0\n",
      "3800 724259.8934025083 0.0\n",
      "3900 725905.5848286602 0.0\n",
      "4000 721024.5620658691 0.0\n",
      "4100 726598.5388047809 0.0\n",
      "4200 723233.7981306332 0.0\n",
      "4300 722912.439841261 0.0\n",
      "4400 724926.9225921407 0.0\n",
      "4500 725247.9965191483 0.0\n",
      "4600 723718.1212692115 0.0\n",
      "4700 724519.0282466398 0.0\n",
      "4800 726694.6338751827 0.0\n",
      "4900 726042.3116646366 0.0\n",
      "5000 725915.6862304239 0.0\n"
     ]
    }
   ],
   "source": [
    "# Inputs\n",
    "annual_investment_lst = range(3000,5100,100)\n",
    "mean_lst = []\n",
    "proportion_lst = []\n",
    "for annual_invest in annual_investment_lst:\n",
    "    sample = []\n",
    "    for trial in range(trials):\n",
    "        asset_value = 0\n",
    "        for t in range(years):\n",
    "            actual_return = rd.normalvariate(mean_return,stdev_return)\n",
    "            asset_value = asset_value + actual_return * asset_value + annual_invest\n",
    "        sample.append(asset_value)\n",
    "    mean_lst.append(st.mean(sample))\n",
    "    proportion = sum(1 for x in sample if x > 1000000) / len(sample)\n",
    "    proportion_lst.append(proportion)\n",
    "    print(annual_invest,st.mean(sample),proportion)"
   ]
  },
  {
   "cell_type": "code",
   "execution_count": 30,
   "metadata": {},
   "outputs": [
    {
     "data": {
      "text/plain": [
       "[<matplotlib.lines.Line2D at 0x7fcf546ffd30>]"
      ]
     },
     "execution_count": 30,
     "metadata": {},
     "output_type": "execute_result"
    },
    {
     "data": {
      "image/png": "[encoded data removed]",
      "text/plain": [
       "<Figure size 432x288 with 1 Axes>"
      ]
     },
     "metadata": {
      "needs_background": "light"
     },
     "output_type": "display_data"
    }
   ],
   "source": [
    "plt.plot(annual_investment_lst,mean_lst)"
   ]
  },
  {
   "cell_type": "code",
   "execution_count": 31,
   "metadata": {},
   "outputs": [
    {
     "data": {
      "text/plain": [
       "[<matplotlib.lines.Line2D at 0x7fcf54776490>]"
      ]
     },
     "execution_count": 31,
     "metadata": {},
     "output_type": "execute_result"
    },
    {
     "data": {
      "image/png": "[encoded data removed]",
      "text/plain": [
       "<Figure size 432x288 with 1 Axes>"
      ]
     },
     "metadata": {
      "needs_background": "light"
     },
     "output_type": "display_data"
    }
   ],
   "source": [
    "plt.plot(annual_investment_lst,proportion_lst)"
   ]
  },
  {
   "cell_type": "code",
   "execution_count": null,
   "metadata": {},
   "outputs": [],
   "source": []
  }
 ],
 "metadata": {
  "kernelspec": {
   "display_name": "Python 3",
   "language": "python",
   "name": "python3"
  },
  "language_info": {
   "codemirror_mode": {
    "name": "ipython",
    "version": 3
   },
   "file_extension": ".py",
   "mimetype": "text/x-python",
   "name": "python",
   "nbconvert_exporter": "python",
   "pygments_lexer": "ipython3",
   "version": "3.8.5"
  }
 },
 "nbformat": 4,
 "nbformat_minor": 4
}
