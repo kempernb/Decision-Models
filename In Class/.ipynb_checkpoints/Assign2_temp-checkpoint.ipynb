{
 "cells": [
  {
   "cell_type": "markdown",
   "metadata": {},
   "source": [
    "## Contractor Assignment Problem - Customized LP Code"
   ]
  },
  {
   "cell_type": "code",
   "execution_count": null,
   "metadata": {},
   "outputs": [],
   "source": [
    "# import Glop package\n",
    "from ortools.linear_solver import pywraplp as glp\n",
    "import lptools as lpt"
   ]
  },
  {
   "cell_type": "code",
   "execution_count": null,
   "metadata": {},
   "outputs": [],
   "source": [
    "#Create LP model object\n",
    "mymodel = glp.Solver('Contractor Assignment',glp.Solver.GLOP_LINEAR_PROGRAMMING)"
   ]
  },
  {
   "cell_type": "code",
   "execution_count": null,
   "metadata": {},
   "outputs": [],
   "source": [
    "inf = mymodel.infinity()\n",
    "\n",
    "         # name: maximum tasks, objective coefficient list\n",
    "agents = {'W': ( , [ ]),    # Westside\n",
    "          'F': ( , [ ]),    # Federated\n",
    "          'G': ( , [ ]),    # Goliath\n",
    "          'U': ( , [ ])}    # Universal\n",
    "\n",
    "        # name: number of agents required\n",
    "tasks = {'A': , 'B': , 'C': }\n",
    "\n",
    "mymodel.Objective().SetMinimization()"
   ]
  },
  {
   "cell_type": "code",
   "execution_count": null,
   "metadata": {},
   "outputs": [],
   "source": [
    "# create all assignment variables and a dictionary of dictionaries to access them\n",
    "assign =  \n",
    "for a in agents:\n",
    "    assign[a] =  \n",
    "    (b,coeff_lst) =  \n",
    "    for (t,c) in zip(tasks,coeff_lst):\n",
    "        assign[a][t] =  \n",
    "        mymodel.Objective().SetCoefficient( )"
   ]
  },
  {
   "cell_type": "code",
   "execution_count": null,
   "metadata": {},
   "outputs": [],
   "source": [
    "print(assign)"
   ]
  },
  {
   "cell_type": "code",
   "execution_count": null,
   "metadata": {},
   "outputs": [],
   "source": [
    "# create task constraints\n",
    "for t in tasks:\n",
    "    lb =  \n",
    "    ub =  \n",
    "    constr = mymodel.Constraint( )\n",
    "    for a in agents:\n",
    "        constr.SetCoefficient( )"
   ]
  },
  {
   "cell_type": "code",
   "execution_count": null,
   "metadata": {},
   "outputs": [],
   "source": [
    "# create agent constraints\n",
    "for a in agents:\n",
    "    (b,coeff_lst) =  \n",
    "    constr = mymodel.Constraint( )\n",
    "    for t in tasks:\n",
    "        constr.SetCoefficient( )"
   ]
  },
  {
   "cell_type": "code",
   "execution_count": null,
   "metadata": {},
   "outputs": [],
   "source": [
    "lpt.print_model(mymodel)"
   ]
  },
  {
   "cell_type": "code",
   "execution_count": null,
   "metadata": {},
   "outputs": [],
   "source": [
    "#solve model and display results\n",
    "status = mymodel.Solve()\n",
    "print('Solution Status =',status)\n",
    "print('Optimal Value = %.2f' % mymodel.Objective().Value())\n",
    "for v in mymodel.variables():\n",
    "    print('%s = %.2f' % (v.name(),v.solution_value()))"
   ]
  },
  {
   "cell_type": "code",
   "execution_count": null,
   "metadata": {},
   "outputs": [],
   "source": [
    "# display all variable information\n",
    "print('Variable    LB   Value    UB   Reduced Cost')\n",
    "for v in mymodel.variables():\n",
    "    print('%8s  %5.1f  %5.1f  %5.1f  %5.2f' % (v.name(),v.lb(),v.solution_value(),v.ub(),v.reduced_cost()))"
   ]
  },
  {
   "cell_type": "code",
   "execution_count": null,
   "metadata": {},
   "outputs": [],
   "source": [
    "# only print nonzero assignment variables\n",
    "print('Variable    LB   Value    UB   Reduced Cost')\n",
    "for v in mymodel.variables():\n",
    "    if v.solution_value() != 0:\n",
    "        print('%8s  %5.1f  %5.1f  %5.1f  %5.2f' % (v.name(),v.lb(),v.solution_value(),v.ub(),v.reduced_cost()))"
   ]
  },
  {
   "cell_type": "code",
   "execution_count": null,
   "metadata": {},
   "outputs": [],
   "source": [
    "#display constraint information\n",
    "print('Constraint    LB    Value  UB     Dual')\n",
    "for (c,lhs) in zip(mymodel.constraints(),mymodel.ComputeConstraintActivities()):\n",
    "    print('%10s  %5.1f  %5.1f  %5.1f  %5.2f' % (c.name(),c.lb(),lhs,c.ub(),c.dual_value()))"
   ]
  }
 ],
 "metadata": {
  "kernelspec": {
   "display_name": "Python 3",
   "language": "python",
   "name": "python3"
  },
  "language_info": {
   "codemirror_mode": {
    "name": "ipython",
    "version": 3
   },
   "file_extension": ".py",
   "mimetype": "text/x-python",
   "name": "python",
   "nbconvert_exporter": "python",
   "pygments_lexer": "ipython3",
   "version": "3.8.5"
  }
 },
 "nbformat": 4,
 "nbformat_minor": 4
}
