{
 "cells": [
  {
   "cell_type": "code",
   "execution_count": 9,
   "metadata": {},
   "outputs": [],
   "source": [
    "import matplotlib.pyplot as plt\n",
    "import statistics as st\n",
    "import random as rd\n",
    "import numpy as np\n",
    "\n",
    "import numpy_financial as npf"
   ]
  },
  {
   "cell_type": "code",
   "execution_count": null,
   "metadata": {},
   "outputs": [],
   "source": []
  },
  {
   "cell_type": "code",
   "execution_count": 10,
   "metadata": {},
   "outputs": [],
   "source": [
    "a_lst = [3,25,4,5,4]\n",
    "new_list = [x**2 for x in a_lst if x%2 != 0] "
   ]
  },
  {
   "cell_type": "code",
   "execution_count": 11,
   "metadata": {},
   "outputs": [
    {
     "data": {
      "text/plain": [
       "[9, 625, 25]"
      ]
     },
     "execution_count": 11,
     "metadata": {},
     "output_type": "execute_result"
    }
   ],
   "source": [
    "new_list"
   ]
  },
  {
   "cell_type": "code",
   "execution_count": 12,
   "metadata": {},
   "outputs": [],
   "source": [
    "d = 25\n",
    "minsd = lambda x: x - d"
   ]
  },
  {
   "cell_type": "code",
   "execution_count": 22,
   "metadata": {},
   "outputs": [],
   "source": [
    "years = 10\n",
    "total_invest = 10000\n",
    "\n",
    "dist_rate = 0.1\n",
    "revenue_min = 60000\n",
    "revenue_max = 125000\n",
    "revenue_mode = 100000\n",
    "cost_perc_min = 0.55\n",
    "cost_perc_max = 0.75\n",
    "max_rate = [0.36, 0.4]\n",
    "tax_rates_weight = [0.4, 0.6]"
   ]
  },
  {
   "cell_type": "code",
   "execution_count": 25,
   "metadata": {},
   "outputs": [
    {
     "ename": "NameError",
     "evalue": "name 'cost' is not defined",
     "output_type": "error",
     "traceback": [
      "\u001b[0;31m---------------------------------------------------------------------------\u001b[0m",
      "\u001b[0;31mNameError\u001b[0m                                 Traceback (most recent call last)",
      "\u001b[0;32m<ipython-input-25-83d9ab9cb74e>\u001b[0m in \u001b[0;36m<module>\u001b[0;34m\u001b[0m\n\u001b[1;32m      8\u001b[0m         \u001b[0mrevenue\u001b[0m \u001b[0;34m=\u001b[0m \u001b[0mrd\u001b[0m\u001b[0;34m.\u001b[0m\u001b[0mtriangular\u001b[0m\u001b[0;34m(\u001b[0m\u001b[0mrevenue_min\u001b[0m\u001b[0;34m,\u001b[0m\u001b[0mrevenue_max\u001b[0m\u001b[0;34m,\u001b[0m\u001b[0mrevenue_mode\u001b[0m\u001b[0;34m)\u001b[0m\u001b[0;34m\u001b[0m\u001b[0;34m\u001b[0m\u001b[0m\n\u001b[1;32m      9\u001b[0m         \u001b[0mcost_perc\u001b[0m \u001b[0;34m=\u001b[0m \u001b[0mrd\u001b[0m\u001b[0;34m.\u001b[0m\u001b[0muniform\u001b[0m\u001b[0;34m(\u001b[0m\u001b[0mcost_perc_min\u001b[0m\u001b[0;34m,\u001b[0m\u001b[0mcost_perc_max\u001b[0m\u001b[0;34m)\u001b[0m\u001b[0;34m\u001b[0m\u001b[0;34m\u001b[0m\u001b[0m\n\u001b[0;32m---> 10\u001b[0;31m         \u001b[0mcost\u001b[0m \u001b[0;34m=\u001b[0m \u001b[0mrevenue\u001b[0m \u001b[0;34m-\u001b[0m \u001b[0mcost\u001b[0m\u001b[0;34m\u001b[0m\u001b[0;34m\u001b[0m\u001b[0m\n\u001b[0m\u001b[1;32m     11\u001b[0m         \u001b[0mprofit\u001b[0m \u001b[0;34m=\u001b[0m \u001b[0mrevenue\u001b[0m \u001b[0;34m-\u001b[0m \u001b[0minvest\u001b[0m\u001b[0;34m\u001b[0m\u001b[0;34m\u001b[0m\u001b[0m\n\u001b[1;32m     12\u001b[0m         \u001b[0mtax_income\u001b[0m \u001b[0;34m=\u001b[0m \u001b[0mprofit\u001b[0m \u001b[0;34m-\u001b[0m \u001b[0minvest\u001b[0m\u001b[0;34m\u001b[0m\u001b[0;34m\u001b[0m\u001b[0m\n",
      "\u001b[0;31mNameError\u001b[0m: name 'cost' is not defined"
     ]
    }
   ],
   "source": [
    "trails = 1000\n",
    "sampe_npv = []\n",
    "sample_minicashflow = []\n",
    "for i in range(trails):\n",
    "    cash_flow = list(range(years + 1))\n",
    "    for t in list(range(years+1)):\n",
    "        invest = total_invest / years\n",
    "        revenue = rd.triangular(revenue_min,revenue_max,revenue_mode)\n",
    "        cost_perc = rd.uniform(cost_perc_min,cost_perc_max)\n",
    "        cost = revenue - cost\n",
    "        profit = revenue - invest\n",
    "        tax_income = profit - invest\n",
    "        tax_rate = rd.choises(tax_rates,tax_rates_weight)[0]\n",
    "        tax = tax_rate * tax_income\n",
    "        cash_flow[t+1] = tax_income - tax\n",
    "        npv = npf.npv(disc_rate, cash_flow)\n",
    "    sample_npb.append(npv)\n",
    "    sample_minicashflow.append(min(cash_flow))"
   ]
  },
  {
   "cell_type": "code",
   "execution_count": null,
   "metadata": {},
   "outputs": [],
   "source": [
    "proprotion = sum(1 for x in sample_npv if x < 0)/ len(sample_npv)"
   ]
  },
  {
   "cell_type": "code",
   "execution_count": null,
   "metadata": {},
   "outputs": [],
   "source": [
    "sample_mean = st.mean(sample_npv)\n",
    "sample_std = st.stdev(sample_npv)"
   ]
  }
 ],
 "metadata": {
  "kernelspec": {
   "display_name": "Python 3",
   "language": "python",
   "name": "python3"
  },
  "language_info": {
   "codemirror_mode": {
    "name": "ipython",
    "version": 3
   },
   "file_extension": ".py",
   "mimetype": "text/x-python",
   "name": "python",
   "nbconvert_exporter": "python",
   "pygments_lexer": "ipython3",
   "version": "3.8.5"
  }
 },
 "nbformat": 4,
 "nbformat_minor": 4
}
