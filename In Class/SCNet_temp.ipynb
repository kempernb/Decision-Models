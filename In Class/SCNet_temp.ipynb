{
 "cells": [
  {
   "cell_type": "markdown",
   "metadata": {},
   "source": [
    "## Supply Chain Network Design: Martin-Beck Co."
   ]
  },
  {
   "cell_type": "code",
   "execution_count": 1,
   "metadata": {},
   "outputs": [],
   "source": [
    "# import Glop package\n",
    "from ortools.linear_solver import pywraplp as glp\n",
    "import lptools as lpt"
   ]
  },
  {
   "cell_type": "code",
   "execution_count": 2,
   "metadata": {},
   "outputs": [],
   "source": [
    "#Create MILP model object\n",
    "mymodel = glp.Solver('Martin-Beck', glp.Solver.CBC_MIXED_INTEGER_PROGRAMMING)"
   ]
  },
  {
   "cell_type": "code",
   "execution_count": 3,
   "metadata": {},
   "outputs": [],
   "source": [
    "inf = mymodel.infinity()\n",
    "\n",
    "         # name: supply capacity (thousand tons), fixed cost (thousand $), unit shipping cost ($) to each RDC\n",
    "source = {'Det': (10,175 , [ 5, 2, 3]),    # Detroit\n",
    "          'Tol': (20,300 , [ 4, 3, 4]),    # Toledo\n",
    "          'Den': (30,375 , [ 9, 7, 5]),    # Denver\n",
    "          'KC':  (40,500 , [10, 4, 2]),    # Kansas City\n",
    "          'StL': (30,0 , [ 8, 4, 3])}    # Saint Louis\n",
    "\n",
    "        # name: demand quantity required (thousand tons)\n",
    "demand = {'Bos': 30, 'Atl': 20, 'Hou': 20}    # Boston, Atlanta, Houston\n",
    "\n",
    "mymodel.Objective().SetMinimization()    # minimize total plant and transportation cost"
   ]
  },
  {
   "cell_type": "code",
   "execution_count": 4,
   "metadata": {},
   "outputs": [],
   "source": [
    "#print(source)"
   ]
  },
  {
   "cell_type": "code",
   "execution_count": 5,
   "metadata": {},
   "outputs": [],
   "source": [
    "#for s in source:\n",
    "#    (b,f,coeff_lst) = source[s]\n",
    "#    print(s, 'b =', 'f=', f, 'coeff_lst =', coeff_lst)"
   ]
  },
  {
   "cell_type": "code",
   "execution_count": 6,
   "metadata": {},
   "outputs": [],
   "source": [
    "# create binary Plant selection variables and a dictionary to access them\n",
    "select = dict()\n",
    "for s in source:\n",
    "    select[s] = mymodel.IntVar(0,1,s)\n",
    "    (b, f, coeff_lst ) = source[s]\n",
    "    mymodel.Objective().SetCoefficient(select[s], f)"
   ]
  },
  {
   "cell_type": "code",
   "execution_count": 7,
   "metadata": {},
   "outputs": [],
   "source": [
    "#print(select)"
   ]
  },
  {
   "cell_type": "code",
   "execution_count": 8,
   "metadata": {},
   "outputs": [
    {
     "name": "stdout",
     "output_type": "stream",
     "text": [
      "Variables:\n",
      "Det, Tol, Den, KC, StL \n",
      "\n",
      "minimize: 175.0*Det + 300.0*Tol + 375.0*Den + 500.0*KC \n",
      "\n",
      "Subject To:\n",
      "\n",
      "Bounds:\n",
      "0.0 <= Det <= 1.0\n",
      "0.0 <= Tol <= 1.0\n",
      "0.0 <= Den <= 1.0\n",
      "0.0 <= KC <= 1.0\n",
      "0.0 <= StL <= 1.0\n"
     ]
    }
   ],
   "source": [
    "lpt.print_model(mymodel)"
   ]
  },
  {
   "cell_type": "code",
   "execution_count": 9,
   "metadata": {},
   "outputs": [],
   "source": [
    "#print(demand)"
   ]
  },
  {
   "cell_type": "code",
   "execution_count": 10,
   "metadata": {},
   "outputs": [],
   "source": [
    "#(b,f,coeff_lst) = source['Det']\n",
    "#print(demand)\n",
    "#print(coeff_lst)\n",
    "#print(list(zip(demand,coeff_lst)))"
   ]
  },
  {
   "cell_type": "code",
   "execution_count": 11,
   "metadata": {},
   "outputs": [],
   "source": [
    "#for (d,c) in zip(demand,coeff_lst):\n",
    "#    print('d =', d, 'c =', c)"
   ]
  },
  {
   "cell_type": "code",
   "execution_count": 12,
   "metadata": {},
   "outputs": [],
   "source": [
    "# create shipment variables from Plants to RDCs and a dictionary to access them\n",
    "ship = dict()\n",
    "for s in source:\n",
    "    ship[s] = dict()\n",
    "    (b, f, coeff_lst) = source[s]\n",
    "    for (d,c) in zip(demand,coeff_lst):\n",
    "        ship[s][d] = mymodel.NumVar(0, inf, s + '.' + d)\n",
    "        mymodel.Objective().SetCoefficient(ship[s][d] ,c )"
   ]
  },
  {
   "cell_type": "code",
   "execution_count": 13,
   "metadata": {},
   "outputs": [
    {
     "name": "stdout",
     "output_type": "stream",
     "text": [
      "Variables:\n",
      "Det, Tol, Den, KC, StL, Det.Bos, Det.Atl, Det.Hou, Tol.Bos, Tol.Atl, Tol.Hou, Den.Bos, Den.Atl, Den.Hou, KC.Bos, KC.Atl, KC.Hou, StL.Bos, StL.Atl, StL.Hou \n",
      "\n",
      "minimize: 175.0*Det + 300.0*Tol + 375.0*Den + 500.0*KC + 5.0*Det.Bos + 2.0*Det.Atl + 3.0*Det.Hou + 4.0*Tol.Bos + 3.0*Tol.Atl + 4.0*Tol.Hou + 9.0*Den.Bos + 7.0*Den.Atl + 5.0*Den.Hou + 10.0*KC.Bos + 4.0*KC.Atl + 2.0*KC.Hou + 8.0*StL.Bos + 4.0*StL.Atl + 3.0*StL.Hou \n",
      "\n",
      "Subject To:\n",
      "\n",
      "Bounds:\n",
      "0.0 <= Det <= 1.0\n",
      "0.0 <= Tol <= 1.0\n",
      "0.0 <= Den <= 1.0\n",
      "0.0 <= KC <= 1.0\n",
      "0.0 <= StL <= 1.0\n",
      "Det.Bos >= 0.0\n",
      "Det.Atl >= 0.0\n",
      "Det.Hou >= 0.0\n",
      "Tol.Bos >= 0.0\n",
      "Tol.Atl >= 0.0\n",
      "Tol.Hou >= 0.0\n",
      "Den.Bos >= 0.0\n",
      "Den.Atl >= 0.0\n",
      "Den.Hou >= 0.0\n",
      "KC.Bos >= 0.0\n",
      "KC.Atl >= 0.0\n",
      "KC.Hou >= 0.0\n",
      "StL.Bos >= 0.0\n",
      "StL.Atl >= 0.0\n",
      "StL.Hou >= 0.0\n"
     ]
    }
   ],
   "source": [
    "lpt.print_model(mymodel)"
   ]
  },
  {
   "cell_type": "code",
   "execution_count": 14,
   "metadata": {},
   "outputs": [],
   "source": [
    "#print(ship)"
   ]
  },
  {
   "cell_type": "code",
   "execution_count": 15,
   "metadata": {},
   "outputs": [],
   "source": [
    "# create source/supply constraints\n",
    "for s in source:\n",
    "    (b, f, coeff_lst) = source[s]\n",
    "    constr = mymodel.Constraint(-inf ,0 ,s )\n",
    "    constr.SetCoefficient(select[s] , -b)\n",
    "    for d in demand:\n",
    "        constr.SetCoefficient(ship[s][d], 1)"
   ]
  },
  {
   "cell_type": "code",
   "execution_count": 16,
   "metadata": {},
   "outputs": [
    {
     "name": "stdout",
     "output_type": "stream",
     "text": [
      "Variables:\n",
      "Det, Tol, Den, KC, StL, Det.Bos, Det.Atl, Det.Hou, Tol.Bos, Tol.Atl, Tol.Hou, Den.Bos, Den.Atl, Den.Hou, KC.Bos, KC.Atl, KC.Hou, StL.Bos, StL.Atl, StL.Hou \n",
      "\n",
      "minimize: 175.0*Det + 300.0*Tol + 375.0*Den + 500.0*KC + 5.0*Det.Bos + 2.0*Det.Atl + 3.0*Det.Hou + 4.0*Tol.Bos + 3.0*Tol.Atl + 4.0*Tol.Hou + 9.0*Den.Bos + 7.0*Den.Atl + 5.0*Den.Hou + 10.0*KC.Bos + 4.0*KC.Atl + 2.0*KC.Hou + 8.0*StL.Bos + 4.0*StL.Atl + 3.0*StL.Hou \n",
      "\n",
      "Subject To:\n",
      "Det: - 10.0*Det + 1.0*Det.Bos + 1.0*Det.Atl + 1.0*Det.Hou <= 0.0\n",
      "Tol: - 20.0*Tol + 1.0*Tol.Bos + 1.0*Tol.Atl + 1.0*Tol.Hou <= 0.0\n",
      "Den: - 30.0*Den + 1.0*Den.Bos + 1.0*Den.Atl + 1.0*Den.Hou <= 0.0\n",
      "KC: - 40.0*KC + 1.0*KC.Bos + 1.0*KC.Atl + 1.0*KC.Hou <= 0.0\n",
      "StL: - 30.0*StL + 1.0*StL.Bos + 1.0*StL.Atl + 1.0*StL.Hou <= 0.0\n",
      "\n",
      "Bounds:\n",
      "0.0 <= Det <= 1.0\n",
      "0.0 <= Tol <= 1.0\n",
      "0.0 <= Den <= 1.0\n",
      "0.0 <= KC <= 1.0\n",
      "0.0 <= StL <= 1.0\n",
      "Det.Bos >= 0.0\n",
      "Det.Atl >= 0.0\n",
      "Det.Hou >= 0.0\n",
      "Tol.Bos >= 0.0\n",
      "Tol.Atl >= 0.0\n",
      "Tol.Hou >= 0.0\n",
      "Den.Bos >= 0.0\n",
      "Den.Atl >= 0.0\n",
      "Den.Hou >= 0.0\n",
      "KC.Bos >= 0.0\n",
      "KC.Atl >= 0.0\n",
      "KC.Hou >= 0.0\n",
      "StL.Bos >= 0.0\n",
      "StL.Atl >= 0.0\n",
      "StL.Hou >= 0.0\n"
     ]
    }
   ],
   "source": [
    "lpt.print_model(mymodel)"
   ]
  },
  {
   "cell_type": "code",
   "execution_count": 17,
   "metadata": {},
   "outputs": [],
   "source": [
    "# create demand constraints\n",
    "for d in demand:\n",
    "    lb = ub = demand[d]\n",
    "    constr = mymodel.Constraint(lb ,ub ,d )\n",
    "    for s in source:\n",
    "        constr.SetCoefficient(ship[s][d] , 1)"
   ]
  },
  {
   "cell_type": "code",
   "execution_count": 18,
   "metadata": {},
   "outputs": [
    {
     "name": "stdout",
     "output_type": "stream",
     "text": [
      "Variables:\n",
      "Det, Tol, Den, KC, StL, Det.Bos, Det.Atl, Det.Hou, Tol.Bos, Tol.Atl, Tol.Hou, Den.Bos, Den.Atl, Den.Hou, KC.Bos, KC.Atl, KC.Hou, StL.Bos, StL.Atl, StL.Hou \n",
      "\n",
      "minimize: 175.0*Det + 300.0*Tol + 375.0*Den + 500.0*KC + 5.0*Det.Bos + 2.0*Det.Atl + 3.0*Det.Hou + 4.0*Tol.Bos + 3.0*Tol.Atl + 4.0*Tol.Hou + 9.0*Den.Bos + 7.0*Den.Atl + 5.0*Den.Hou + 10.0*KC.Bos + 4.0*KC.Atl + 2.0*KC.Hou + 8.0*StL.Bos + 4.0*StL.Atl + 3.0*StL.Hou \n",
      "\n",
      "Subject To:\n",
      "Det: - 10.0*Det + 1.0*Det.Bos + 1.0*Det.Atl + 1.0*Det.Hou <= 0.0\n",
      "Tol: - 20.0*Tol + 1.0*Tol.Bos + 1.0*Tol.Atl + 1.0*Tol.Hou <= 0.0\n",
      "Den: - 30.0*Den + 1.0*Den.Bos + 1.0*Den.Atl + 1.0*Den.Hou <= 0.0\n",
      "KC: - 40.0*KC + 1.0*KC.Bos + 1.0*KC.Atl + 1.0*KC.Hou <= 0.0\n",
      "StL: - 30.0*StL + 1.0*StL.Bos + 1.0*StL.Atl + 1.0*StL.Hou <= 0.0\n",
      "Bos: 1.0*Det.Bos + 1.0*Tol.Bos + 1.0*Den.Bos + 1.0*KC.Bos + 1.0*StL.Bos = 30.0\n",
      "Atl: 1.0*Det.Atl + 1.0*Tol.Atl + 1.0*Den.Atl + 1.0*KC.Atl + 1.0*StL.Atl = 20.0\n",
      "Hou: 1.0*Det.Hou + 1.0*Tol.Hou + 1.0*Den.Hou + 1.0*KC.Hou + 1.0*StL.Hou = 20.0\n",
      "\n",
      "Bounds:\n",
      "0.0 <= Det <= 1.0\n",
      "0.0 <= Tol <= 1.0\n",
      "0.0 <= Den <= 1.0\n",
      "0.0 <= KC <= 1.0\n",
      "0.0 <= StL <= 1.0\n",
      "Det.Bos >= 0.0\n",
      "Det.Atl >= 0.0\n",
      "Det.Hou >= 0.0\n",
      "Tol.Bos >= 0.0\n",
      "Tol.Atl >= 0.0\n",
      "Tol.Hou >= 0.0\n",
      "Den.Bos >= 0.0\n",
      "Den.Atl >= 0.0\n",
      "Den.Hou >= 0.0\n",
      "KC.Bos >= 0.0\n",
      "KC.Atl >= 0.0\n",
      "KC.Hou >= 0.0\n",
      "StL.Bos >= 0.0\n",
      "StL.Atl >= 0.0\n",
      "StL.Hou >= 0.0\n"
     ]
    }
   ],
   "source": [
    "lpt.print_model(mymodel)"
   ]
  },
  {
   "cell_type": "code",
   "execution_count": 19,
   "metadata": {},
   "outputs": [
    {
     "name": "stdout",
     "output_type": "stream",
     "text": [
      "Solution Status = 0\n",
      "Optimal Value = 860.00 thousand\n",
      "     KC =  1.00\n",
      "    StL =  1.00\n",
      " KC.Atl = 20.00\n",
      " KC.Hou = 20.00\n",
      "StL.Bos = 30.00\n"
     ]
    }
   ],
   "source": [
    "#solve model and display results\n",
    "status = mymodel.Solve()\n",
    "print('Solution Status =',status)\n",
    "print('Optimal Value = %.2f thousand' % mymodel.Objective().Value())\n",
    "for v in mymodel.variables():\n",
    "    if v.solution_value() != 0:\n",
    "        print('%7s = %5.2f' % (v.name(),v.solution_value()))"
   ]
  },
  {
   "cell_type": "code",
   "execution_count": 20,
   "metadata": {},
   "outputs": [
    {
     "name": "stdout",
     "output_type": "stream",
     "text": [
      "Variable    LB   Value    UB\n",
      "     Det    0.0    0.0    1.0\n",
      "     Tol    0.0    0.0    1.0\n",
      "     Den    0.0    0.0    1.0\n",
      "      KC    0.0    1.0    1.0\n",
      "     StL    0.0    1.0    1.0\n",
      " Det.Bos    0.0    0.0    inf\n",
      " Det.Atl    0.0    0.0    inf\n",
      " Det.Hou    0.0    0.0    inf\n",
      " Tol.Bos    0.0    0.0    inf\n",
      " Tol.Atl    0.0    0.0    inf\n",
      " Tol.Hou    0.0    0.0    inf\n",
      " Den.Bos    0.0    0.0    inf\n",
      " Den.Atl    0.0    0.0    inf\n",
      " Den.Hou    0.0    0.0    inf\n",
      "  KC.Bos    0.0    0.0    inf\n",
      "  KC.Atl    0.0   20.0    inf\n",
      "  KC.Hou    0.0   20.0    inf\n",
      " StL.Bos    0.0   30.0    inf\n",
      " StL.Atl    0.0    0.0    inf\n",
      " StL.Hou    0.0    0.0    inf\n"
     ]
    }
   ],
   "source": [
    "# display all variable information\n",
    "print('Variable    LB   Value    UB')\n",
    "for v in mymodel.variables():\n",
    "    print('%8s  %5.1f  %5.1f  %5.1f' % (v.name(),v.lb(),v.solution_value(),v.ub()))"
   ]
  },
  {
   "cell_type": "code",
   "execution_count": 21,
   "metadata": {},
   "outputs": [
    {
     "name": "stdout",
     "output_type": "stream",
     "text": [
      "Constraint    LB    Value  UB\n",
      "       Det   -inf    0.0    0.0\n",
      "       Tol   -inf    0.0    0.0\n",
      "       Den   -inf    0.0    0.0\n",
      "        KC   -inf    0.0    0.0\n",
      "       StL   -inf    0.0    0.0\n",
      "       Bos   30.0   30.0   30.0\n",
      "       Atl   20.0   20.0   20.0\n",
      "       Hou   20.0   20.0   20.0\n"
     ]
    }
   ],
   "source": [
    "#display constraint information\n",
    "print('Constraint    LB    Value  UB')\n",
    "for (c,lhs) in zip(mymodel.constraints(),mymodel.ComputeConstraintActivities()):\n",
    "    print('%10s  %5.1f  %5.1f  %5.1f' % (c.name(),c.lb(),lhs,c.ub()))"
   ]
  },
  {
   "cell_type": "markdown",
   "metadata": {},
   "source": [
    "### Optimization Parameter Analysis"
   ]
  },
  {
   "cell_type": "code",
   "execution_count": 22,
   "metadata": {},
   "outputs": [],
   "source": [
    "import matplotlib.pyplot as plt"
   ]
  },
  {
   "cell_type": "code",
   "execution_count": 23,
   "metadata": {},
   "outputs": [
    {
     "data": {
      "text/plain": [
       "[<matplotlib.lines.Line2D at 0x7fbdd7c94130>]"
      ]
     },
     "execution_count": 23,
     "metadata": {},
     "output_type": "execute_result"
    },
    {
     "data": {
      "image/png": "[encoded data removed]",
      "text/plain": [
       "<Figure size 432x288 with 1 Axes>"
      ]
     },
     "metadata": {
      "needs_background": "light"
     },
     "output_type": "display_data"
    }
   ],
   "source": [
    "# optimization parameter analysis: St.Louis capacity (30 - 70)\n",
    "\n",
    "param_lst = list(range(1 , 80))\n",
    "optval_lst = list()\n",
    "for b in param_lst:\n",
    "    mymodel.constraints()[4].SetCoefficient(select['StL'] , -b)    # constraint index 4 is St. Louis supply constraint\n",
    "    mymodel.Solve()\n",
    "    optval_lst.append(mymodel.Objective().Value())\n",
    "    \n",
    "mymodel.constraints()[4].SetCoefficient(select['StL'] , 30)\n",
    "\n",
    "plt.grid()\n",
    "plt.plot(param_lst,optval_lst)"
   ]
  },
  {
   "cell_type": "markdown",
   "metadata": {},
   "source": [
    "Step Changes  \n",
    "30 - KC, StL  \n",
    "40 - Det, Tol, StL  \n",
    "50 - Tol, StL  \n",
    "60 - Det, StL  \n",
    "70 - StL  "
   ]
  },
  {
   "cell_type": "markdown",
   "metadata": {},
   "source": [
    "### Logical Constraint"
   ]
  },
  {
   "cell_type": "code",
   "execution_count": null,
   "metadata": {},
   "outputs": [],
   "source": [
    "# at least one plant in Detroit or Toledo\n",
    "new_constr = mymodel.Constraint( , , 'Det_Tol')\n",
    "new_constr.SetCoefficient( , )\n",
    "new_constr.SetCoefficient( , )\n",
    "\n",
    "#solve model and display results\n",
    "status = mymodel.Solve()\n",
    "print('Solution Status =',status)\n",
    "print('Optimal Value = %.2f thousand' % mymodel.Objective().Value())\n",
    "for v in mymodel.variables():\n",
    "    if v.solution_value() != 0:\n",
    "        print('%7s = %5.2f' % (v.name(),v.solution_value()))\n",
    "            "
   ]
  },
  {
   "cell_type": "markdown",
   "metadata": {},
   "source": [
    "### Generating Alternate Solutions"
   ]
  },
  {
   "cell_type": "code",
   "execution_count": 24,
   "metadata": {},
   "outputs": [
    {
     "name": "stdout",
     "output_type": "stream",
     "text": [
      "Solution Status = 0\n",
      "Optimal Value = 1225.00 thousand\n",
      "    Det =  1.00\n",
      "    Tol =  1.00\n",
      "     KC =  1.00\n",
      "Det.Bos = 10.00\n",
      "Tol.Bos = 20.00\n",
      " KC.Atl = 20.00\n",
      " KC.Hou = 20.00\n"
     ]
    }
   ],
   "source": [
    "# reset to original optimal solution\n",
    "\n",
    "# relax the previous logical constraint\n",
    "# new_constr.SetBounds( , )\n",
    "\n",
    "#solve model and display results\n",
    "status = mymodel.Solve()\n",
    "print('Solution Status =',status)\n",
    "print('Optimal Value = %.2f thousand' % mymodel.Objective().Value())\n",
    "for v in mymodel.variables():\n",
    "    if v.solution_value() != 0:\n",
    "        print('%7s = %5.2f' % (v.name(),v.solution_value()))"
   ]
  },
  {
   "cell_type": "code",
   "execution_count": 25,
   "metadata": {},
   "outputs": [
    {
     "name": "stdout",
     "output_type": "stream",
     "text": [
      "M = 3 , a= {'Det': 1, 'Tol': 1, 'Den': -1, 'KC': 1, 'StL': -1}\n",
      "Solution Status = 0\n",
      "Optimal Value = 1265.00 thousand\n",
      "    Den =  1.00\n",
      "     KC =  1.00\n",
      "Den.Bos = 30.00\n",
      " KC.Atl = 20.00\n",
      " KC.Hou = 20.00\n"
     ]
    }
   ],
   "source": [
    "# store coefficients and RHS for cut constraint\n",
    "\n",
    "a = dict()\n",
    "M = 0\n",
    "for s in source:\n",
    "    if select[s].solution_value() == 1:\n",
    "        a[s] =  1\n",
    "        M = M + 1\n",
    "    else:    # solution_value == 0\n",
    "        a[s] =  -1\n",
    "print('M =', M, ', a=', a)\n",
    "\n",
    "#add cut constraint\n",
    "cut_constr = mymodel.Constraint(-inf ,M - 1 , 'Cut' + str([a[s] for s in a]))\n",
    "for s in source:\n",
    "    cut_constr.SetCoefficient(select[s] , a[s])\n",
    "    \n",
    "#solve model and display results\n",
    "status = mymodel.Solve()\n",
    "print('Solution Status =',status)\n",
    "print('Optimal Value = %.2f thousand' % mymodel.Objective().Value())\n",
    "for v in mymodel.variables():\n",
    "    if v.solution_value() != 0:\n",
    "        print('%7s = %5.2f' % (v.name(),v.solution_value()))\n",
    "            \n",
    "# relax cut constraint\n",
    "# cut_constr.SetBounds(-mymodel.infinity(),mymodel.infinity())"
   ]
  },
  {
   "cell_type": "code",
   "execution_count": null,
   "metadata": {},
   "outputs": [],
   "source": []
  }
 ],
 "metadata": {
  "kernelspec": {
   "display_name": "Python 3",
   "language": "python",
   "name": "python3"
  },
  "language_info": {
   "codemirror_mode": {
    "name": "ipython",
    "version": 3
   },
   "file_extension": ".py",
   "mimetype": "text/x-python",
   "name": "python",
   "nbconvert_exporter": "python",
   "pygments_lexer": "ipython3",
   "version": "3.8.5"
  }
 },
 "nbformat": 4,
 "nbformat_minor": 4
}
