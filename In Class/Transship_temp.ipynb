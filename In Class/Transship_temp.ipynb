{
 "cells": [
  {
   "cell_type": "markdown",
   "metadata": {},
   "source": [
    "## Transshipment Problem: Zeron Industries"
   ]
  },
  {
   "cell_type": "code",
   "execution_count": 25,
   "metadata": {},
   "outputs": [],
   "source": [
    "# import Glop package\n",
    "from ortools.linear_solver import pywraplp as glp\n",
    "import lptools as lpt"
   ]
  },
  {
   "cell_type": "code",
   "execution_count": 26,
   "metadata": {},
   "outputs": [],
   "source": [
    "#Create LP model object\n",
    "mymodel = glp.Solver('Zeron',glp.Solver.GLOP_LINEAR_PROGRAMMING)"
   ]
  },
  {
   "cell_type": "code",
   "execution_count": 27,
   "metadata": {},
   "outputs": [],
   "source": [
    "inf = mymodel.infinity()\n",
    "\n",
    "         # name: supply capacity, objective coefficient list\n",
    "source = {'A': (75 , [5,8 ]),    # Arnold capacity and shipping cost per unit to each DC\n",
    "          'S': (75 , [7,4 ])}    # Super Shelf capacity and shipping cost per unit to each DC\n",
    "\n",
    "transship = {'ZN': [1,5,8 ],    # Zeron-North DC shipping cost per unit to each customer\n",
    "             'ZS': [3,4,4 ]}    # Zeron-South DC shipping cost per unit to each customer\n",
    "\n",
    "        # name: demand quantity required\n",
    "demand = {'Z': 50, 'H': 60, 'R': 40}    # weekly customer demand for Zrox, Hewes, and RockRite\n",
    "\n",
    "mymodel.Objective().SetMinimization()"
   ]
  },
  {
   "cell_type": "code",
   "execution_count": 28,
   "metadata": {},
   "outputs": [],
   "source": [
    "# create inbound shipment variables from suppliers to dcs and a dictionary to access them\n",
    "ship = dict()\n",
    "for s in source:\n",
    "    ship[s] = dict()\n",
    "    (b,coeff_lst) = source[s]\n",
    "    for (t,c) in zip(transship,coeff_lst):\n",
    "        ship[s][t] = mymodel.NumVar(0,inf, s + \".\" + t)\n",
    "        mymodel.Objective().SetCoefficient(ship[s][t], c)"
   ]
  },
  {
   "cell_type": "code",
   "execution_count": 29,
   "metadata": {},
   "outputs": [
    {
     "name": "stdout",
     "output_type": "stream",
     "text": [
      "{'A': {'ZN': A.ZN, 'ZS': A.ZS}, 'S': {'ZN': S.ZN, 'ZS': S.ZS}}\n"
     ]
    }
   ],
   "source": [
    "print(ship)"
   ]
  },
  {
   "cell_type": "code",
   "execution_count": 30,
   "metadata": {},
   "outputs": [],
   "source": [
    "# create outbound shipment variables from DCs to Customers and a dictionary to access them\n",
    "for t in transship:\n",
    "    ship[t] = dict()\n",
    "    coeff_lst = transship[t]\n",
    "    for (d,c) in zip(demand,coeff_lst):\n",
    "        ship[t][d] = mymodel.NumVar(0,inf, t + \".\" + d )\n",
    "        mymodel.Objective().SetCoefficient(ship[t][d], c)"
   ]
  },
  {
   "cell_type": "code",
   "execution_count": 31,
   "metadata": {},
   "outputs": [
    {
     "name": "stdout",
     "output_type": "stream",
     "text": [
      "{'A': {'ZN': A.ZN, 'ZS': A.ZS}, 'S': {'ZN': S.ZN, 'ZS': S.ZS}, 'ZN': {'Z': ZN.Z, 'H': ZN.H, 'R': ZN.R}, 'ZS': {'Z': ZS.Z, 'H': ZS.H, 'R': ZS.R}}\n"
     ]
    }
   ],
   "source": [
    "print(ship)"
   ]
  },
  {
   "cell_type": "code",
   "execution_count": 32,
   "metadata": {},
   "outputs": [],
   "source": [
    "# create source/supply constraints\n",
    "for s in source:\n",
    "    (b,coeff_lst) = source[s]\n",
    "    constr = mymodel.Constraint(-inf,b,s )\n",
    "    for t in transship:\n",
    "        constr.SetCoefficient(ship[s][t], 1)"
   ]
  },
  {
   "cell_type": "code",
   "execution_count": 33,
   "metadata": {},
   "outputs": [
    {
     "name": "stdout",
     "output_type": "stream",
     "text": [
      "Variables:\n",
      "A.ZN, A.ZS, S.ZN, S.ZS, ZN.Z, ZN.H, ZN.R, ZS.Z, ZS.H, ZS.R \n",
      "\n",
      "minimize: 5.0*A.ZN + 8.0*A.ZS + 7.0*S.ZN + 4.0*S.ZS + 1.0*ZN.Z + 5.0*ZN.H + 8.0*ZN.R + 3.0*ZS.Z + 4.0*ZS.H + 4.0*ZS.R \n",
      "\n",
      "Subject To:\n",
      "A: 1.0*A.ZN + 1.0*A.ZS <= 75.0\n",
      "S: 1.0*S.ZN + 1.0*S.ZS <= 75.0\n",
      "\n",
      "Bounds:\n",
      "A.ZN >= 0.0\n",
      "A.ZS >= 0.0\n",
      "S.ZN >= 0.0\n",
      "S.ZS >= 0.0\n",
      "ZN.Z >= 0.0\n",
      "ZN.H >= 0.0\n",
      "ZN.R >= 0.0\n",
      "ZS.Z >= 0.0\n",
      "ZS.H >= 0.0\n",
      "ZS.R >= 0.0\n"
     ]
    }
   ],
   "source": [
    "lpt.print_model(mymodel)"
   ]
  },
  {
   "cell_type": "code",
   "execution_count": 34,
   "metadata": {},
   "outputs": [],
   "source": [
    "# create demand constraints\n",
    "for d in demand:\n",
    "    lb = ub = demand[d]\n",
    "    constr = mymodel.Constraint(lb,ub,d)\n",
    "    for t in transship:\n",
    "        constr.SetCoefficient(ship[t][d], 1)"
   ]
  },
  {
   "cell_type": "code",
   "execution_count": 35,
   "metadata": {},
   "outputs": [
    {
     "name": "stdout",
     "output_type": "stream",
     "text": [
      "Variables:\n",
      "A.ZN, A.ZS, S.ZN, S.ZS, ZN.Z, ZN.H, ZN.R, ZS.Z, ZS.H, ZS.R \n",
      "\n",
      "minimize: 5.0*A.ZN + 8.0*A.ZS + 7.0*S.ZN + 4.0*S.ZS + 1.0*ZN.Z + 5.0*ZN.H + 8.0*ZN.R + 3.0*ZS.Z + 4.0*ZS.H + 4.0*ZS.R \n",
      "\n",
      "Subject To:\n",
      "A: 1.0*A.ZN + 1.0*A.ZS <= 75.0\n",
      "S: 1.0*S.ZN + 1.0*S.ZS <= 75.0\n",
      "Z: 1.0*ZN.Z + 1.0*ZS.Z = 50.0\n",
      "H: 1.0*ZN.H + 1.0*ZS.H = 60.0\n",
      "R: 1.0*ZN.R + 1.0*ZS.R = 40.0\n",
      "\n",
      "Bounds:\n",
      "A.ZN >= 0.0\n",
      "A.ZS >= 0.0\n",
      "S.ZN >= 0.0\n",
      "S.ZS >= 0.0\n",
      "ZN.Z >= 0.0\n",
      "ZN.H >= 0.0\n",
      "ZN.R >= 0.0\n",
      "ZS.Z >= 0.0\n",
      "ZS.H >= 0.0\n",
      "ZS.R >= 0.0\n"
     ]
    }
   ],
   "source": [
    "lpt.print_model(mymodel)"
   ]
  },
  {
   "cell_type": "code",
   "execution_count": 36,
   "metadata": {},
   "outputs": [],
   "source": [
    "# create transshipment flow balance constraints\n",
    "for t in transship:\n",
    "    constr = mymodel.Constraint(0,0,t )\n",
    "    for s in source:\n",
    "        constr.SetCoefficient(ship[s][t], 1)\n",
    "    for d in demand:\n",
    "        constr.SetCoefficient(ship[t][d], -1)"
   ]
  },
  {
   "cell_type": "code",
   "execution_count": 37,
   "metadata": {},
   "outputs": [
    {
     "name": "stdout",
     "output_type": "stream",
     "text": [
      "Variables:\n",
      "A.ZN, A.ZS, S.ZN, S.ZS, ZN.Z, ZN.H, ZN.R, ZS.Z, ZS.H, ZS.R \n",
      "\n",
      "minimize: 5.0*A.ZN + 8.0*A.ZS + 7.0*S.ZN + 4.0*S.ZS + 1.0*ZN.Z + 5.0*ZN.H + 8.0*ZN.R + 3.0*ZS.Z + 4.0*ZS.H + 4.0*ZS.R \n",
      "\n",
      "Subject To:\n",
      "A: 1.0*A.ZN + 1.0*A.ZS <= 75.0\n",
      "S: 1.0*S.ZN + 1.0*S.ZS <= 75.0\n",
      "Z: 1.0*ZN.Z + 1.0*ZS.Z = 50.0\n",
      "H: 1.0*ZN.H + 1.0*ZS.H = 60.0\n",
      "R: 1.0*ZN.R + 1.0*ZS.R = 40.0\n",
      "ZN: 1.0*A.ZN + 1.0*S.ZN - 1.0*ZN.Z - 1.0*ZN.H - 1.0*ZN.R = 0.0\n",
      "ZS: 1.0*A.ZS + 1.0*S.ZS - 1.0*ZS.Z - 1.0*ZS.H - 1.0*ZS.R = 0.0\n",
      "\n",
      "Bounds:\n",
      "A.ZN >= 0.0\n",
      "A.ZS >= 0.0\n",
      "S.ZN >= 0.0\n",
      "S.ZS >= 0.0\n",
      "ZN.Z >= 0.0\n",
      "ZN.H >= 0.0\n",
      "ZN.R >= 0.0\n",
      "ZS.Z >= 0.0\n",
      "ZS.H >= 0.0\n",
      "ZS.R >= 0.0\n"
     ]
    }
   ],
   "source": [
    "lpt.print_model(mymodel)"
   ]
  },
  {
   "cell_type": "code",
   "execution_count": 38,
   "metadata": {},
   "outputs": [
    {
     "name": "stdout",
     "output_type": "stream",
     "text": [
      "Solution Status = 0\n",
      "Optimal Value = 1150.00\n",
      "A.ZN = 75.00\n",
      "A.ZS = 0.00\n",
      "S.ZN = 0.00\n",
      "S.ZS = 75.00\n",
      "ZN.Z = 50.00\n",
      "ZN.H = 25.00\n",
      "ZN.R = 0.00\n",
      "ZS.Z = 0.00\n",
      "ZS.H = 35.00\n",
      "ZS.R = 40.00\n"
     ]
    }
   ],
   "source": [
    "#solve model and display results\n",
    "status = mymodel.Solve()\n",
    "print('Solution Status =',status)\n",
    "print('Optimal Value = %.2f' % mymodel.Objective().Value())\n",
    "for v in mymodel.variables():\n",
    "    print('%s = %.2f' % (v.name(),v.solution_value()))"
   ]
  },
  {
   "cell_type": "code",
   "execution_count": 39,
   "metadata": {},
   "outputs": [
    {
     "name": "stdout",
     "output_type": "stream",
     "text": [
      "Variable    LB   Value    UB   Reduced Cost\n",
      "    A.ZN    0.0   75.0    inf   0.00\n",
      "    A.ZS    0.0    0.0    inf   2.00\n",
      "    S.ZN    0.0    0.0    inf   4.00\n",
      "    S.ZS    0.0   75.0    inf   0.00\n",
      "    ZN.Z    0.0   50.0    inf   0.00\n",
      "    ZN.H    0.0   25.0    inf   0.00\n",
      "    ZN.R    0.0    0.0    inf   3.00\n",
      "    ZS.Z    0.0    0.0    inf   3.00\n",
      "    ZS.H    0.0   35.0    inf   0.00\n",
      "    ZS.R    0.0   40.0    inf   0.00\n"
     ]
    }
   ],
   "source": [
    "# display all variable information\n",
    "print('Variable    LB   Value    UB   Reduced Cost')\n",
    "for v in mymodel.variables():\n",
    "    print('%8s  %5.1f  %5.1f  %5.1f  %5.2f' % (v.name(),v.lb(),v.solution_value(),v.ub(),v.reduced_cost()))"
   ]
  },
  {
   "cell_type": "code",
   "execution_count": 40,
   "metadata": {},
   "outputs": [],
   "source": [
    "# only print nonzero shipment variables\n",
    "# print('Variable    LB   Value    UB   Reduced Cost')\n",
    "# for v in mymodel.variables():\n",
    "#     if v.solution_value() != 0:\n",
    "#         print('%8s  %5.1f  %5.1f  %5.1f  %5.2f' % (v.name(),v.lb(),v.solution_value(),v.ub(),v.reduced_cost()))"
   ]
  },
  {
   "cell_type": "code",
   "execution_count": 41,
   "metadata": {},
   "outputs": [
    {
     "name": "stdout",
     "output_type": "stream",
     "text": [
      "Constraint    LB    Value  UB     Dual\n",
      "         A   -inf   75.0   75.0   0.00\n",
      "         S   -inf   75.0   75.0  -2.00\n",
      "         Z   50.0   50.0   50.0   6.00\n",
      "         H   60.0   60.0   60.0  10.00\n",
      "         R   40.0   40.0   40.0  10.00\n",
      "        ZN    0.0    0.0    0.0   5.00\n",
      "        ZS    0.0    0.0    0.0   6.00\n"
     ]
    }
   ],
   "source": [
    "#display constraint information\n",
    "print('Constraint    LB    Value  UB     Dual')\n",
    "for (c,lhs) in zip(mymodel.constraints(),mymodel.ComputeConstraintActivities()):\n",
    "    print('%10s  %5.1f  %5.1f  %5.1f  %5.2f' % (c.name(),c.lb(),lhs,c.ub(),c.dual_value()))"
   ]
  },
  {
   "cell_type": "code",
   "execution_count": null,
   "metadata": {},
   "outputs": [],
   "source": []
  }
 ],
 "metadata": {
  "kernelspec": {
   "display_name": "Python 3",
   "language": "python",
   "name": "python3"
  },
  "language_info": {
   "codemirror_mode": {
    "name": "ipython",
    "version": 3
   },
   "file_extension": ".py",
   "mimetype": "text/x-python",
   "name": "python",
   "nbconvert_exporter": "python",
   "pygments_lexer": "ipython3",
   "version": "3.8.5"
  }
 },
 "nbformat": 4,
 "nbformat_minor": 4
}
