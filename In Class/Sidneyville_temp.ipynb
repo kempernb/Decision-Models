{
 "cells": [
  {
   "cell_type": "markdown",
   "metadata": {},
   "source": [
    "__Simple Python Optimization Example:__  _Sidneyville Manufacturing_"
   ]
  },
  {
   "cell_type": "code",
   "execution_count": 2,
   "metadata": {
    "scrolled": false
   },
   "outputs": [],
   "source": [
    "# need to install ortools package only once on your computer and once for every Google Colab session\n",
    "# !pip install ortools\n",
    "# !pip install --upgrade ortools\n",
    "\n",
    "# import Glop LP solver package and lptools module\n",
    "from ortools.linear_solver import pywraplp as glp\n",
    "import lptools as lpt\n"
   ]
  },
  {
   "cell_type": "code",
   "execution_count": 6,
   "metadata": {},
   "outputs": [
    {
     "name": "stdout",
     "output_type": "stream",
     "text": [
      "[]\n"
     ]
    }
   ],
   "source": [
    "# initialize LP model object\n",
    "mymodal = glp.Solver('Sidneyville',glp.Solver.GLOP_LINEAR_PROGRAMMING)\n",
    "\n",
    "inf = mymodal.infinity()\n",
    "\n",
    "print(mymodal.variables())"
   ]
  },
  {
   "cell_type": "code",
   "execution_count": null,
   "metadata": {},
   "outputs": [],
   "source": [
    "# define decision variables\n",
    "Roll_Top = mymodal.\n",
    "Regular = \n",
    "\n"
   ]
  },
  {
   "cell_type": "code",
   "execution_count": null,
   "metadata": {},
   "outputs": [],
   "source": [
    "# define objective function\n",
    "Profit = \n",
    "\n",
    "\n",
    "lpt.print_model(mymodel)"
   ]
  },
  {
   "cell_type": "code",
   "execution_count": null,
   "metadata": {},
   "outputs": [],
   "source": [
    "# define wood constraints\n",
    "# Pine\n",
    "Pine = mymodel.Constraint(-inf)\n",
    "\n",
    "lpt.print_model(mymodel)"
   ]
  },
  {
   "cell_type": "code",
   "execution_count": null,
   "metadata": {},
   "outputs": [],
   "source": [
    "# Cedar\n",
    "Cedar = \n"
   ]
  },
  {
   "cell_type": "code",
   "execution_count": null,
   "metadata": {},
   "outputs": [],
   "source": [
    "# Maple\n",
    "Maple = \n",
    "\n",
    "lpt.print_model(mymodel)"
   ]
  },
  {
   "cell_type": "code",
   "execution_count": null,
   "metadata": {},
   "outputs": [],
   "source": [
    "# Solve the model and print optimal solution\n",
    "\n",
    "print('Status = %d' %  )\n",
    "\n",
    "print('Total Profit = %.2f' %  )\n",
    "\n",
    "print('Roll_Tops = %.2f' %  )\n",
    "print('Regulars = %.2f' %  )\n",
    "\n",
    "# marginal value (dual value) of the resources\n",
    "print('Pine Dual Value = %.2f' %  )\n",
    "print('Cedar Dual Value = %.2f' %  )\n",
    "print('Maple Dual Value = %.2f' %  )"
   ]
  }
 ],
 "metadata": {
  "kernelspec": {
   "display_name": "Python 3",
   "language": "python",
   "name": "python3"
  },
  "language_info": {
   "codemirror_mode": {
    "name": "ipython",
    "version": 3
   },
   "file_extension": ".py",
   "mimetype": "text/x-python",
   "name": "python",
   "nbconvert_exporter": "python",
   "pygments_lexer": "ipython3",
   "version": "3.8.5"
  }
 },
 "nbformat": 4,
 "nbformat_minor": 2
}
