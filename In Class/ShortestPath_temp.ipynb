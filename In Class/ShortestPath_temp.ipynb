{
 "cells": [
  {
   "cell_type": "markdown",
   "metadata": {},
   "source": [
    "## Shortest Path Problem: Susan Winslow"
   ]
  },
  {
   "cell_type": "code",
   "execution_count": null,
   "metadata": {},
   "outputs": [],
   "source": [
    "# import Glop package\n",
    "from ortools.linear_solver import pywraplp as glp\n",
    "import lptools as lpt"
   ]
  },
  {
   "cell_type": "code",
   "execution_count": null,
   "metadata": {},
   "outputs": [],
   "source": [
    "#Create LP model object\n",
    "mymodel = glp.Solver('ShortestPath',glp.Solver.GLOP_LINEAR_PROGRAMMING)"
   ]
  },
  {
   "cell_type": "code",
   "execution_count": null,
   "metadata": {},
   "outputs": [],
   "source": [
    "inf = mymodel.infinity()\n",
    "\n",
    "# node dictionary; value = -1 is origin, value = 1 is destination, value = 0 is intermediate node\n",
    "node = {1:-1,2:0,3:0,5:0,6:1 }\n",
    "\n",
    "# edge dictionary; (origin,destination):distance/cost\n",
    "edge = {(1,2):80,\n",
    "        (1,5):130,\n",
    "        (1,3):40,\n",
    "        (1,6):180,\n",
    "        (1,4):80,\n",
    "        (2,5):60,\n",
    "        (5,2):60,\n",
    "        (3,5):90,\n",
    "        (5,3):90,\n",
    "        (3,4):30,\n",
    "        (4,3):30,\n",
    "        (4,5):50,\n",
    "        (5,4):50,\n",
    "        (3,6):120,\n",
    "        (2,6):100,\n",
    "        (5,6):30,\n",
    "        (4,6):90}\n",
    "\n",
    "mymodel.Objective().SetMinimization()    # minimize total transportation cost"
   ]
  },
  {
   "cell_type": "code",
   "execution_count": null,
   "metadata": {},
   "outputs": [],
   "source": [
    "# create a constraint dictionary containing a constraint for each node\n",
    "constr = dict()\n",
    "for n in  :\n",
    "    b =  \n",
    "    constr[] = mymodel.Constraint( )"
   ]
  },
  {
   "cell_type": "code",
   "execution_count": null,
   "metadata": {},
   "outputs": [],
   "source": [
    "# create a variable dictionary containing a variable for each edge\n",
    "# add each variable to the objective and its corresponding constraints\n",
    "\n",
    "path = dict()\n",
    "for e in  :\n",
    "    ( ) = e\n",
    "    c = \n",
    "    path[e] = mymodel.NumVar( )\n",
    "    mymodel.Objective().SetCoefficient( )\n",
    "    constr[].SetCoefficient( )\n",
    "    constr[].SetCoefficient( )"
   ]
  },
  {
   "cell_type": "code",
   "execution_count": null,
   "metadata": {},
   "outputs": [],
   "source": [
    "lpt.print_model(mymodel)"
   ]
  },
  {
   "cell_type": "code",
   "execution_count": null,
   "metadata": {},
   "outputs": [],
   "source": [
    "#solve model and display results\n",
    "status = mymodel.Solve()\n",
    "print('Solution Status =',status)\n",
    "print('Optimal Value = %.2f' % mymodel.Objective().Value())\n",
    "for v in mymodel.variables():\n",
    "    if v.solution_value() != 0:\n",
    "        print('%s = %.2f' % (v.name(),v.solution_value()))"
   ]
  },
  {
   "cell_type": "code",
   "execution_count": null,
   "metadata": {},
   "outputs": [],
   "source": [
    "# display all variable information\n",
    "print('Variable    LB   Value    UB   Reduced Cost')\n",
    "for v in mymodel.variables():\n",
    "    print('%8s  %5.1f  %5.1f  %5.1f  %5.2f' % (v.name(),v.lb(),v.solution_value(),v.ub(),v.reduced_cost()))"
   ]
  },
  {
   "cell_type": "code",
   "execution_count": null,
   "metadata": {},
   "outputs": [],
   "source": [
    "#display constraint information\n",
    "print('Constraint    LB    Value  UB     Dual')\n",
    "for (c,lhs) in zip(mymodel.constraints(),mymodel.ComputeConstraintActivities()):\n",
    "    print('%10s  %5.1f  %5.1f  %5.1f  %5.2f' % (c.name(),c.lb(),lhs,c.ub(),c.dual_value()))"
   ]
  }
 ],
 "metadata": {
  "kernelspec": {
   "display_name": "Python 3",
   "language": "python",
   "name": "python3"
  },
  "language_info": {
   "codemirror_mode": {
    "name": "ipython",
    "version": 3
   },
   "file_extension": ".py",
   "mimetype": "text/x-python",
   "name": "python",
   "nbconvert_exporter": "python",
   "pygments_lexer": "ipython3",
   "version": "3.8.5"
  }
 },
 "nbformat": 4,
 "nbformat_minor": 4
}
