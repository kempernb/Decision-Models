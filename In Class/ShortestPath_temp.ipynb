{
 "cells": [
  {
   "cell_type": "markdown",
   "metadata": {},
   "source": [
    "## Shortest Path Problem: Susan Winslow"
   ]
  },
  {
   "cell_type": "code",
   "execution_count": 23,
   "metadata": {},
   "outputs": [],
   "source": [
    "# import Glop package\n",
    "from ortools.linear_solver import pywraplp as glp\n",
    "import lptools as lpt"
   ]
  },
  {
   "cell_type": "code",
   "execution_count": 24,
   "metadata": {},
   "outputs": [],
   "source": [
    "#Create LP model object\n",
    "mymodel = glp.Solver('ShortestPath',glp.Solver.GLOP_LINEAR_PROGRAMMING)"
   ]
  },
  {
   "cell_type": "code",
   "execution_count": 18,
   "metadata": {},
   "outputs": [],
   "source": [
    "inf = mymodel.infinity()\n",
    "\n",
    "# node dictionary; value = -1 is origin, value = 1 is destination, value = 0 is intermediate node\n",
    "node = {1:-1,2:0,3:0,4:0,5:0,6:1 }\n",
    "\n",
    "# edge dictionary; (origin,destination):distance/cost\n",
    "edge = {(1,2):80,\n",
    "        (1,5):130,\n",
    "        (1,3):40,\n",
    "        (1,6):180,\n",
    "        (1,4):80,\n",
    "        (2,5):60,\n",
    "        (5,2):60,\n",
    "        (3,5):90,\n",
    "        (5,3):90,\n",
    "        (3,4):30,\n",
    "        (4,3):30,\n",
    "        (4,5):50,\n",
    "        (5,4):50,\n",
    "        (3,6):120,\n",
    "        (2,6):100,\n",
    "        (5,6):30,\n",
    "        (4,6):90}\n",
    "\n",
    "mymodel.Objective().SetMinimization()    # minimize total transportation cost"
   ]
  },
  {
   "cell_type": "code",
   "execution_count": 19,
   "metadata": {},
   "outputs": [],
   "source": [
    "# create a constraint dictionary containing a constraint for each node\n",
    "constr = dict()\n",
    "for n in  node:\n",
    "    b =  node[n]\n",
    "    constr[n] = mymodel.Constraint(b,b,(str(n)) )"
   ]
  },
  {
   "cell_type": "code",
   "execution_count": 20,
   "metadata": {},
   "outputs": [],
   "source": [
    "# create a variable dictionary containing a variable for each edge\n",
    "# add each variable to the objective and its corresponding constraints\n",
    "\n",
    "path = dict()\n",
    "for e in edge:\n",
    "    (o,d) = e\n",
    "    c = edge[e]\n",
    "    path[e] = mymodel.NumVar(0,inf, str(o) + '_' + str(d))\n",
    "    mymodel.Objective().SetCoefficient(path[e],c)\n",
    "    constr[o].SetCoefficient(path[e],-1)\n",
    "    constr[d].SetCoefficient(path[e],1)"
   ]
  },
  {
   "cell_type": "code",
   "execution_count": 21,
   "metadata": {},
   "outputs": [
    {
     "name": "stdout",
     "output_type": "stream",
     "text": [
      "Variables:\n",
      "1_2, 1_5, 1_3, 1_6, 1_4, 2_5, 5_2, 3_5, 5_3, 3_4, 4_3, 4_5, 5_4, 3_6, 2_6, 5_6, 4_6 \n",
      "\n",
      "minimize: 80.0*1_2 + 130.0*1_5 + 40.0*1_3 + 180.0*1_6 + 80.0*1_4 + 60.0*2_5 + 60.0*5_2 + 90.0*3_5 + 90.0*5_3 + 30.0*3_4 + 30.0*4_3 + 50.0*4_5 + 50.0*5_4 + 120.0*3_6 + 100.0*2_6 + 30.0*5_6 + 90.0*4_6 \n",
      "\n",
      "Subject To:\n",
      "1: - 1.0*1_2 - 1.0*1_5 - 1.0*1_3 - 1.0*1_6 - 1.0*1_4 = -1.0\n",
      "2: 1.0*1_2 - 1.0*2_5 + 1.0*5_2 - 1.0*2_6 = 0.0\n",
      "3: 1.0*1_3 - 1.0*3_5 + 1.0*5_3 - 1.0*3_4 + 1.0*4_3 - 1.0*3_6 = 0.0\n",
      "4: 1.0*1_4 + 1.0*3_4 - 1.0*4_3 - 1.0*4_5 + 1.0*5_4 - 1.0*4_6 = 0.0\n",
      "5: 1.0*1_5 + 1.0*2_5 - 1.0*5_2 + 1.0*3_5 - 1.0*5_3 + 1.0*4_5 - 1.0*5_4 - 1.0*5_6 = 0.0\n",
      "6: 1.0*1_6 + 1.0*3_6 + 1.0*2_6 + 1.0*5_6 + 1.0*4_6 = 1.0\n",
      "\n",
      "Bounds:\n",
      "1_2 >= 0.0\n",
      "1_5 >= 0.0\n",
      "1_3 >= 0.0\n",
      "1_6 >= 0.0\n",
      "1_4 >= 0.0\n",
      "2_5 >= 0.0\n",
      "5_2 >= 0.0\n",
      "3_5 >= 0.0\n",
      "5_3 >= 0.0\n",
      "3_4 >= 0.0\n",
      "4_3 >= 0.0\n",
      "4_5 >= 0.0\n",
      "5_4 >= 0.0\n",
      "3_6 >= 0.0\n",
      "2_6 >= 0.0\n",
      "5_6 >= 0.0\n",
      "4_6 >= 0.0\n"
     ]
    }
   ],
   "source": [
    "lpt.print_model(mymodel)"
   ]
  },
  {
   "cell_type": "code",
   "execution_count": 22,
   "metadata": {},
   "outputs": [
    {
     "name": "stdout",
     "output_type": "stream",
     "text": [
      "Solution Status = 0\n",
      "Optimal Value = 150.00\n",
      "1_3 = 1.00\n",
      "3_4 = 1.00\n",
      "4_5 = 1.00\n",
      "5_6 = 1.00\n"
     ]
    }
   ],
   "source": [
    "#solve model and display results\n",
    "status = mymodel.Solve()\n",
    "print('Solution Status =',status)\n",
    "print('Optimal Value = %.2f' % mymodel.Objective().Value())\n",
    "for v in mymodel.variables():\n",
    "    if v.solution_value() != 0:\n",
    "        print('%s = %.2f' % (v.name(),v.solution_value()))"
   ]
  },
  {
   "cell_type": "code",
   "execution_count": null,
   "metadata": {},
   "outputs": [],
   "source": [
    "# display all variable information\n",
    "print('Variable    LB   Value    UB   Reduced Cost')\n",
    "for v in mymodel.variables():\n",
    "    print('%8s  %5.1f  %5.1f  %5.1f  %5.2f' % (v.name(),v.lb(),v.solution_value(),v.ub(),v.reduced_cost()))"
   ]
  },
  {
   "cell_type": "code",
   "execution_count": null,
   "metadata": {},
   "outputs": [],
   "source": [
    "#display constraint information\n",
    "print('Constraint    LB    Value  UB     Dual')\n",
    "for (c,lhs) in zip(mymodel.constraints(),mymodel.ComputeConstraintActivities()):\n",
    "    print('%10s  %5.1f  %5.1f  %5.1f  %5.2f' % (c.name(),c.lb(),lhs,c.ub(),c.dual_value()))"
   ]
  }
 ],
 "metadata": {
  "kernelspec": {
   "display_name": "Python 3",
   "language": "python",
   "name": "python3"
  },
  "language_info": {
   "codemirror_mode": {
    "name": "ipython",
    "version": 3
   },
   "file_extension": ".py",
   "mimetype": "text/x-python",
   "name": "python",
   "nbconvert_exporter": "python",
   "pygments_lexer": "ipython3",
   "version": "3.8.5"
  }
 },
 "nbformat": 4,
 "nbformat_minor": 4
}
