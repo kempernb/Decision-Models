{
 "cells": [
  {
   "cell_type": "markdown",
   "metadata": {},
   "source": [
    "# Customer Value Simulation"
   ]
  },
  {
   "cell_type": "code",
   "execution_count": 1,
   "metadata": {},
   "outputs": [],
   "source": [
    "import random as rd\n",
    "import statistics as st\n",
    "import numpy.random as npr\n",
    "import matplotlib.pyplot as plt"
   ]
  },
  {
   "cell_type": "code",
   "execution_count": 2,
   "metadata": {},
   "outputs": [],
   "source": [
    "#input parameters\n",
    "p_cancel = 0.20\n",
    "profit_mean = 500.00\n",
    "profit_std = 100.00"
   ]
  },
  {
   "cell_type": "code",
   "execution_count": 7,
   "metadata": {},
   "outputs": [],
   "source": [
    "# user defined simulation function\n",
    "# arguments: calls = number of phone calls, trials = number of simulation trials\n",
    "# returns: list of simulated total donation amounts\n",
    "\n",
    "def customervalue_sim(pr_cancel,trials):\n",
    "    sample = []\n",
    "    for i in range(trials):\n",
    "        years = npr.geometric(p_cancel)\n",
    "        tot_value = 0\n",
    "        for year in range(years):\n",
    "            tot_value = tot_value + rd.normalvariate(profit_mean,profit_std)\n",
    "        sample.append(tot_value)\n",
    "    return(sample)"
   ]
  },
  {
   "cell_type": "code",
   "execution_count": 8,
   "metadata": {},
   "outputs": [
    {
     "name": "stdout",
     "output_type": "stream",
     "text": [
      "Mean = 2443.03\n",
      "St.Dev. = 2227.52\n"
     ]
    },
    {
     "data": {
      "text/plain": [
       "(array([544., 252., 114.,  49.,  23.,   6.,   7.,   2.,   0.,   3.]),\n",
       " array([  230.37363839,  1971.19853536,  3712.02343233,  5452.8483293 ,\n",
       "         7193.67322627,  8934.49812324, 10675.32302021, 12416.14791718,\n",
       "        14156.97281415, 15897.79771112, 17638.62260809]),\n",
       " <BarContainer object of 10 artists>)"
      ]
     },
     "execution_count": 8,
     "metadata": {},
     "output_type": "execute_result"
    },
    {
     "data": {
      "image/png": "[encoded data removed]",
      "text/plain": [
       "<Figure size 432x288 with 1 Axes>"
      ]
     },
     "metadata": {
      "needs_background": "light"
     },
     "output_type": "display_data"
    }
   ],
   "source": [
    "trials = 1000\n",
    "sample = customervalue_sim(p_cancel,trials)\n",
    "print('Mean = %5.2f' % st.mean(sample))\n",
    "print('St.Dev. = %5.2f' % st.stdev(sample))\n",
    "plt.hist(sample, edgecolor='k')"
   ]
  },
  {
   "cell_type": "code",
   "execution_count": 12,
   "metadata": {},
   "outputs": [
    {
     "name": "stdout",
     "output_type": "stream",
     "text": [
      "There is a 41.90% chance the value of a customer is less than $1,500.\n"
     ]
    }
   ],
   "source": [
    "proportion = sum(1 for x in sample if x < 1500) / len(sample)\n",
    "print('There is a %5.2f%% chance the value of a customer is less than $1,500.' % (100*proportion))"
   ]
  },
  {
   "cell_type": "code",
   "execution_count": 13,
   "metadata": {},
   "outputs": [
    {
     "name": "stdout",
     "output_type": "stream",
     "text": [
      "The 90% confidence interval for the probability of a customer value less than $1,500 is (0.3933, 0.4447).\n"
     ]
    }
   ],
   "source": [
    "# 90% confidence interval for the proportion\n",
    "moe = 1.645 * (proportion * (1 - proportion) / len(sample)) ** 0.5\n",
    "lcl = proportion - moe\n",
    "if lcl < 0.0: lcl = 0.0\n",
    "ucl = proportion + moe\n",
    "print('The 90%% confidence interval for the probability of a customer value less than $1,500 is (%6.4f, %6.4f).' % (lcl,ucl))"
   ]
  },
  {
   "cell_type": "code",
   "execution_count": null,
   "metadata": {},
   "outputs": [],
   "source": [
    "sample_mean = st.mean(sample)\n",
    "sample_std = st.stdev(sample)\n",
    "moe = 1.645 * sample_std / len(sample) ** 0.5\n",
    "lcl = sample_mean - moe\n",
    "ucl = sample_mean + moe\n",
    "print('The 90%% confidence interval for the mean value of a customer is (%6.2f, %6.2f).' % (lcl,ucl))"
   ]
  },
  {
   "cell_type": "code",
   "execution_count": 23,
   "metadata": {},
   "outputs": [],
   "source": [
    "# How does the mean customer value vary as the cancellation probability varies from 0.1 to 0.9\n",
    "\n",
    "trials = 1000\n",
    "p_cancel_lst = [p/100 for p in range(10,95,5)]\n",
    "mean_value_lst = []\n",
    "for p in p_cancel_lst:\n",
    "    sample = customervalue_sim(p,trials)\n",
    "    mean_value_lst.append(st.mean(sample))"
   ]
  },
  {
   "cell_type": "code",
   "execution_count": 21,
   "metadata": {},
   "outputs": [
    {
     "data": {
      "text/plain": [
       "[<matplotlib.lines.Line2D at 0x7fc9a17f41c0>]"
      ]
     },
     "execution_count": 21,
     "metadata": {},
     "output_type": "execute_result"
    },
    {
     "data": {
      "image/png": "[encoded data removed]",
      "text/plain": [
       "<Figure size 432x288 with 1 Axes>"
      ]
     },
     "metadata": {
      "needs_background": "light"
     },
     "output_type": "display_data"
    }
   ],
   "source": [
    "plt.plot(p_cancel_lst,mean_value_lst)"
   ]
  },
  {
   "cell_type": "code",
   "execution_count": null,
   "metadata": {},
   "outputs": [],
   "source": []
  }
 ],
 "metadata": {
  "kernelspec": {
   "display_name": "Python 3",
   "language": "python",
   "name": "python3"
  },
  "language_info": {
   "codemirror_mode": {
    "name": "ipython",
    "version": 3
   },
   "file_extension": ".py",
   "mimetype": "text/x-python",
   "name": "python",
   "nbconvert_exporter": "python",
   "pygments_lexer": "ipython3",
   "version": "3.8.5"
  }
 },
 "nbformat": 4,
 "nbformat_minor": 2
}
