{
 "cells": [
  {
   "cell_type": "markdown",
   "metadata": {},
   "source": [
    "## Contractor Assignment Problem - General LP Code"
   ]
  },
  {
   "cell_type": "code",
   "execution_count": 1,
   "metadata": {},
   "outputs": [],
   "source": [
    "# import Glop package\n",
    "from ortools.linear_solver import pywraplp as glp\n",
    "import lptools as lpt"
   ]
  },
  {
   "cell_type": "code",
   "execution_count": 2,
   "metadata": {},
   "outputs": [],
   "source": [
    "#Create LP model object\n",
    "mymodel = glp.Solver('Contractor Assignment',glp.Solver.GLOP_LINEAR_PROGRAMMING)"
   ]
  },
  {
   "cell_type": "code",
   "execution_count": 3,
   "metadata": {},
   "outputs": [],
   "source": [
    "inf = mymodel.infinity()\n",
    "\n",
    "                    # (lower bound, upper bound, objective coefficient)\n",
    "variables = {'WA': (0, inf, 50),    # assign Westside to project A\n",
    "             'WB': (0, inf, 36),    # assign Westside to project B\n",
    "             'WC': (0, inf, 16),    # assign Westside to project C\n",
    "             'FA': (0, inf, 28),    # Federated\n",
    "             'FB': (0, inf, 30),\n",
    "             'FC': (0, inf, 18),\n",
    "             'GA': (0, inf, 35),    # Goliath\n",
    "             'GB': (0, inf, 32),\n",
    "             'GC': (0, inf, 20),\n",
    "             'UA': (0, inf, 25),    # Universal\n",
    "             'UB': (0, inf, 25),\n",
    "             'UC': (0, inf, 14)}\n",
    "\n",
    "                  # (lower bound, upper bound, coefficient list)\n",
    "constraints = {'A': (1 ,1 , [1,0,0,1,0,0,1,0,0,1,0,0]),    # exactly one contractor assigned to project A\n",
    "               'B': (1 ,1  , [0,1,0,0,1,0,0,1,0,0,1,0]),    # exactly one contractor assigned to project B\n",
    "               'C': (1 ,1  , [0,0,1,0,0,1,0,0,1,0,0,1]),    # exactly one contractor assigned to project C\n",
    "               'Westside':  (-inf ,1 , [1,1,1,0,0,0,0,0,0,0,0,0 ]),    # Westside assigned to at most one project\n",
    "               'Federated': (-inf ,1 , [0,0,0,1,1,1,0,0,0,0,0,0 ]),    # Federated assigned to at most one project\n",
    "               'Goliath':   (-inf ,1 , [0,0,0,0,0,0,1,1,1,0,0,0 ]),    # Goliath assigned to at most one project\n",
    "               'Universal': (-inf ,1 , [0,0,0,0,0,0,0,0,0,1,1,1 ])}    # Universal assigned to at most one project\n",
    "\n",
    "mymodel.Objective().SetMinimization()"
   ]
  },
  {
   "cell_type": "code",
   "execution_count": 4,
   "metadata": {},
   "outputs": [],
   "source": [
    "for v in variables:\n",
    "    (lb,ub,c) = variables[v]\n",
    "    var = mymodel.NumVar(lb,ub,v)\n",
    "    mymodel.Objective().SetCoefficient(var,c)"
   ]
  },
  {
   "cell_type": "code",
   "execution_count": 5,
   "metadata": {},
   "outputs": [],
   "source": [
    "for c in constraints:\n",
    "    (lb,ub,coeff_lst) = constraints[c]\n",
    "    constr = mymodel.Constraint(lb,ub,c)\n",
    "    for (v,coeff) in zip(mymodel.variables(),coeff_lst):\n",
    "        constr.SetCoefficient(v,coeff)"
   ]
  },
  {
   "cell_type": "code",
   "execution_count": 6,
   "metadata": {},
   "outputs": [
    {
     "name": "stdout",
     "output_type": "stream",
     "text": [
      "Variables:\n",
      "WA, WB, WC, FA, FB, FC, GA, GB, GC, UA, UB, UC \n",
      "\n",
      "minimize: 50.0*WA + 36.0*WB + 16.0*WC + 28.0*FA + 30.0*FB + 18.0*FC + 35.0*GA + 32.0*GB + 20.0*GC + 25.0*UA + 25.0*UB + 14.0*UC \n",
      "\n",
      "Subject To:\n",
      "A: 1.0*WA + 1.0*FA + 1.0*GA + 1.0*UA = 1.0\n",
      "B: 1.0*WB + 1.0*FB + 1.0*GB + 1.0*UB = 1.0\n",
      "C: 1.0*WC + 1.0*FC + 1.0*GC + 1.0*UC = 1.0\n",
      "Westside: 1.0*WA + 1.0*WB + 1.0*WC <= 1.0\n",
      "Federated: 1.0*FA + 1.0*FB + 1.0*FC <= 1.0\n",
      "Goliath: 1.0*GA + 1.0*GB + 1.0*GC <= 1.0\n",
      "Universal: 1.0*UA + 1.0*UB + 1.0*UC <= 1.0\n",
      "\n",
      "Bounds:\n",
      "WA >= 0.0\n",
      "WB >= 0.0\n",
      "WC >= 0.0\n",
      "FA >= 0.0\n",
      "FB >= 0.0\n",
      "FC >= 0.0\n",
      "GA >= 0.0\n",
      "GB >= 0.0\n",
      "GC >= 0.0\n",
      "UA >= 0.0\n",
      "UB >= 0.0\n",
      "UC >= 0.0\n"
     ]
    }
   ],
   "source": [
    "lpt.print_model(mymodel)"
   ]
  },
  {
   "cell_type": "code",
   "execution_count": 7,
   "metadata": {},
   "outputs": [
    {
     "name": "stdout",
     "output_type": "stream",
     "text": [
      "Solution Status = 0\n",
      "Optimal Value = 69.00\n",
      "WA = 0.00\n",
      "WB = 0.00\n",
      "WC = 1.00\n",
      "FA = 1.00\n",
      "FB = 0.00\n",
      "FC = 0.00\n",
      "GA = 0.00\n",
      "GB = 0.00\n",
      "GC = 0.00\n",
      "UA = 0.00\n",
      "UB = 1.00\n",
      "UC = 0.00\n"
     ]
    }
   ],
   "source": [
    "#solve model and display results\n",
    "status = mymodel.Solve()\n",
    "print('Solution Status =',status)\n",
    "print('Optimal Value = %.2f' % mymodel.Objective().Value())\n",
    "for v in mymodel.variables():\n",
    "    print('%s = %.2f' % (v.name(),v.solution_value()))"
   ]
  },
  {
   "cell_type": "code",
   "execution_count": 8,
   "metadata": {},
   "outputs": [
    {
     "name": "stdout",
     "output_type": "stream",
     "text": [
      "Variable    LB   Value    UB   Reduced Cost\n",
      "      WA    0.0    0.0    inf  23.00\n",
      "      WB    0.0    0.0    inf   9.00\n",
      "      WC    0.0    1.0    inf   0.00\n",
      "      FA    0.0    1.0    inf   0.00\n",
      "      FB    0.0    0.0    inf   2.00\n",
      "      FC    0.0    0.0    inf   1.00\n",
      "      GA    0.0    0.0    inf   7.00\n",
      "      GB    0.0    0.0    inf   4.00\n",
      "      GC    0.0    0.0    inf   3.00\n",
      "      UA    0.0    0.0    inf   0.00\n",
      "      UB    0.0    1.0    inf   0.00\n",
      "      UC    0.0    0.0    inf  -0.00\n"
     ]
    }
   ],
   "source": [
    "# display all variable information\n",
    "print('Variable    LB   Value    UB   Reduced Cost')\n",
    "for v in mymodel.variables():\n",
    "    print('%8s  %5.1f  %5.1f  %5.1f  %5.2f' % (v.name(),v.lb(),v.solution_value(),v.ub(),v.reduced_cost()))"
   ]
  },
  {
   "cell_type": "code",
   "execution_count": 12,
   "metadata": {},
   "outputs": [
    {
     "name": "stdout",
     "output_type": "stream",
     "text": [
      "Variable    LB   Value    UB   Reduced Cost\n",
      "      WC    0.0    1.0    inf   0.00\n",
      "      FA    0.0    1.0    inf   0.00\n",
      "      UB    0.0    1.0    inf   0.00\n"
     ]
    }
   ],
   "source": [
    "# only print nonzero assignment variables\n",
    "print('Variable    LB   Value    UB   Reduced Cost')\n",
    "for v in mymodel.variables():\n",
    "    if v.solution_value() != 0:\n",
    "        print('%8s  %5.1f  %5.1f  %5.1f  %5.2f' % (v.name(),v.lb(),v.solution_value(),v.ub(),v.reduced_cost()))"
   ]
  },
  {
   "cell_type": "code",
   "execution_count": 10,
   "metadata": {},
   "outputs": [
    {
     "name": "stdout",
     "output_type": "stream",
     "text": [
      "Constraint    LB    Value  UB     Dual\n",
      "         A    1.0    1.0    1.0  28.00\n",
      "         B    1.0    1.0    1.0  28.00\n",
      "         C    1.0    1.0    1.0  17.00\n",
      "  Westside   -inf    1.0    1.0  -1.00\n",
      " Federated   -inf    1.0    1.0   0.00\n",
      "   Goliath   -inf    0.0    1.0   0.00\n",
      " Universal   -inf    1.0    1.0  -3.00\n"
     ]
    }
   ],
   "source": [
    "#display constraint information\n",
    "print('Constraint    LB    Value  UB     Dual')\n",
    "for (c,lhs) in zip(mymodel.constraints(),mymodel.ComputeConstraintActivities()):\n",
    "    print('%10s  %5.1f  %5.1f  %5.1f  %5.2f' % (c.name(),c.lb(),lhs,c.ub(),c.dual_value()))"
   ]
  },
  {
   "cell_type": "code",
   "execution_count": null,
   "metadata": {},
   "outputs": [],
   "source": []
  }
 ],
 "metadata": {
  "kernelspec": {
   "display_name": "Python 3",
   "language": "python",
   "name": "python3"
  },
  "language_info": {
   "codemirror_mode": {
    "name": "ipython",
    "version": 3
   },
   "file_extension": ".py",
   "mimetype": "text/x-python",
   "name": "python",
   "nbconvert_exporter": "python",
   "pygments_lexer": "ipython3",
   "version": "3.8.5"
  }
 },
 "nbformat": 4,
 "nbformat_minor": 4
}
