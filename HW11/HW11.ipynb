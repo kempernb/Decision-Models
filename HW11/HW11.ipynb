{
 "cells": [
  {
   "cell_type": "code",
   "execution_count": 1,
   "metadata": {},
   "outputs": [],
   "source": [
    "# import Glop package\n",
    "from ortools.linear_solver import pywraplp as glp\n",
    "import lptools as lpt\n",
    "import matplotlib.pyplot as plt"
   ]
  },
  {
   "cell_type": "markdown",
   "metadata": {},
   "source": [
    "Problem 1"
   ]
  },
  {
   "cell_type": "code",
   "execution_count": 2,
   "metadata": {},
   "outputs": [],
   "source": [
    "#Create LP model object\n",
    "mymodel = glp.Solver('Spencer', glp.Solver.CBC_MIXED_INTEGER_PROGRAMMING)"
   ]
  },
  {
   "cell_type": "code",
   "execution_count": 10,
   "metadata": {},
   "outputs": [],
   "source": [
    "inf = mymodel.infinity()\n",
    "\n",
    "            # name: (type 'c'=continuous or 'i'=integer, lower bound, upper bound, objective coefficient)\n",
    "variables = {'LWE': ('i',0 ,1 , 4),\n",
    "             'EWE': ('i',0 ,1 , 6),\n",
    "             'TMNP': ('i',0 ,1 , 10.5),\n",
    "             'AC': ('i',0 ,1 , 4),\n",
    "             'BR': ('i',0 ,1 , 8),\n",
    "             'PNE': ('i',0 ,1 , 3),\n",
    "            }\n",
    "\n",
    "            # name: (lower bound, upper bound, coefficient list)\n",
    "constraints = {'Y1': (-inf ,10.5 , [3 ,3.5 ,6 ,2, 5, 1 ]),\n",
    "               'Y2': (-inf ,7 , [1 ,3.5 ,4 ,1.5,1, .5 ]),\n",
    "               'Y3': (-inf ,8.75 , [4 ,3.5 ,5 ,1.8,4,.9 ]),\n",
    "              }\n",
    "\n",
    "mymodel.Objective().SetMaximization()"
   ]
  },
  {
   "cell_type": "code",
   "execution_count": 11,
   "metadata": {},
   "outputs": [],
   "source": [
    "for v in variables:\n",
    "    (t,lb,ub,c) = variables[v]\n",
    "    if t == 'c':\n",
    "        var = mymodel.NumVar(lb,ub,v)\n",
    "    elif t == 'i':\n",
    "        var = mymodel.IntVar(lb,ub,v)\n",
    "    else:\n",
    "        print('Invalid variable type =', t)\n",
    "    mymodel.Objective().SetCoefficient(var,c)"
   ]
  },
  {
   "cell_type": "code",
   "execution_count": 12,
   "metadata": {},
   "outputs": [],
   "source": [
    "for c in constraints:\n",
    "    (lb,ub,coeff_lst) = constraints[c]\n",
    "    constr = mymodel.Constraint(lb,ub,c)\n",
    "    for (v,coeff) in zip(mymodel.variables(),coeff_lst):\n",
    "        constr.SetCoefficient(v,coeff)"
   ]
  },
  {
   "cell_type": "code",
   "execution_count": 13,
   "metadata": {},
   "outputs": [
    {
     "name": "stdout",
     "output_type": "stream",
     "text": [
      "Variables:\n",
      "LWE, EWE, TMNP, AC, BR, PNE \n",
      "\n",
      "maximize: 4.0*LWE + 6.0*EWE + 10.5*TMNP + 4.0*AC + 8.0*BR + 3.0*PNE \n",
      "\n",
      "Subject To:\n",
      "Y1: 3.0*LWE + 3.5*EWE + 6.0*TMNP + 2.0*AC + 5.0*BR + 1.0*PNE <= 10.5\n",
      "Y2: 1.0*LWE + 3.5*EWE + 4.0*TMNP + 1.5*AC + 1.0*BR + 0.5*PNE <= 7.0\n",
      "Y3: 4.0*LWE + 3.5*EWE + 5.0*TMNP + 1.8*AC + 4.0*BR + 0.9*PNE <= 8.75\n",
      "\n",
      "Bounds:\n",
      "LWE in [0, 1]\n",
      "EWE in [0, 1]\n",
      "TMNP in [0, 1]\n",
      "AC in [0, 1]\n",
      "BR in [0, 1]\n",
      "PNE in [0, 1]\n"
     ]
    }
   ],
   "source": [
    "lpt.print_model(mymodel)"
   ]
  },
  {
   "cell_type": "code",
   "execution_count": 14,
   "metadata": {},
   "outputs": [
    {
     "name": "stdout",
     "output_type": "stream",
     "text": [
      "Solution Status = 0\n",
      "Optimal Value = 17.50\n",
      "LWE = 0.00\n",
      "EWE = 0.00\n",
      "TMNP = 1.00\n",
      "AC = 1.00\n",
      "BR = 0.00\n",
      "PNE = 1.00\n"
     ]
    }
   ],
   "source": [
    "#solve model and display results\n",
    "status = mymodel.Solve()\n",
    "print('Solution Status =',status)\n",
    "print('Optimal Value = %.2f' % mymodel.Objective().Value())\n",
    "for v in mymodel.variables():\n",
    "    print('%s = %.2f' % (v.name(),v.solution_value()))"
   ]
  },
  {
   "cell_type": "code",
   "execution_count": 15,
   "metadata": {},
   "outputs": [
    {
     "name": "stdout",
     "output_type": "stream",
     "text": [
      "Variable    LB   Value    UB\n",
      "     LWE    0.0    0.0    1.0\n",
      "     EWE    0.0    0.0    1.0\n",
      "    TMNP    0.0    1.0    1.0\n",
      "      AC    0.0    1.0    1.0\n",
      "      BR    0.0    0.0    1.0\n",
      "     PNE    0.0    1.0    1.0\n"
     ]
    }
   ],
   "source": [
    "# display variable information\n",
    "print('Variable    LB   Value    UB')\n",
    "for v in mymodel.variables():\n",
    "    print('%8s  %5.1f  %5.1f  %5.1f' % (v.name(),v.lb(),v.solution_value(),v.ub()))"
   ]
  },
  {
   "cell_type": "code",
   "execution_count": 16,
   "metadata": {},
   "outputs": [
    {
     "name": "stdout",
     "output_type": "stream",
     "text": [
      "Constraint    LB    Value  UB\n",
      "        Y1   -inf    9.0   10.5\n",
      "        Y2   -inf    6.0    7.0\n",
      "        Y3   -inf    7.7    8.8\n"
     ]
    }
   ],
   "source": [
    "#display constraint information\n",
    "print('Constraint    LB    Value  UB')\n",
    "for (c,lhs) in zip(mymodel.constraints(),mymodel.ComputeConstraintActivities()):\n",
    "    print('%10s  %5.1f  %5.1f  %5.1f' % (c.name(),c.lb(),lhs,c.ub()))"
   ]
  },
  {
   "cell_type": "markdown",
   "metadata": {},
   "source": [
    "Part C"
   ]
  },
  {
   "cell_type": "code",
   "execution_count": 17,
   "metadata": {},
   "outputs": [
    {
     "name": "stdout",
     "output_type": "stream",
     "text": [
      "Variables:\n",
      "LWE, EWE, TMNP, AC, BR, PNE \n",
      "\n",
      "maximize: 4.0*LWE + 6.0*EWE + 10.5*TMNP + 4.0*AC + 8.0*BR + 3.0*PNE \n",
      "\n",
      "Subject To:\n",
      "Y1: 3.0*LWE + 3.5*EWE + 6.0*TMNP + 2.0*AC + 5.0*BR + 1.0*PNE <= 10.5\n",
      "Y2: 1.0*LWE + 3.5*EWE + 4.0*TMNP + 1.5*AC + 1.0*BR + 0.5*PNE <= 7.0\n",
      "Y3: 4.0*LWE + 3.5*EWE + 5.0*TMNP + 1.8*AC + 4.0*BR + 0.9*PNE <= 8.75\n",
      "AtMostTM&AC: 1.0*TMNP + 1.0*AC <= 1.0\n",
      "\n",
      "Bounds:\n",
      "LWE in [0, 1]\n",
      "EWE in [0, 1]\n",
      "TMNP in [0, 1]\n",
      "AC in [0, 1]\n",
      "BR in [0, 1]\n",
      "PNE in [0, 1]\n"
     ]
    }
   ],
   "source": [
    "# cannot choose both the Test Market and the Advertising Campaign optionst\n",
    "\n",
    "new_constr = mymodel.Constraint(-inf, 1, 'AtMostTM&AC')\n",
    "new_constr.SetCoefficient(mymodel.variables()[2],1)\n",
    "new_constr.SetCoefficient(mymodel.variables()[3],1)\n",
    "lpt.print_model(mymodel)"
   ]
  },
  {
   "cell_type": "code",
   "execution_count": 18,
   "metadata": {},
   "outputs": [
    {
     "name": "stdout",
     "output_type": "stream",
     "text": [
      "17.0\n",
      "LWE 0.0\n",
      "EWE 1.0\n",
      "TMNP 0.0\n",
      "AC 0.0\n",
      "BR 1.0\n",
      "PNE 1.0\n"
     ]
    }
   ],
   "source": [
    "mymodel.Solve()\n",
    "print(mymodel.Objective().Value())\n",
    "for v in mymodel.variables():\n",
    "    print(v.name(), v.solution_value())"
   ]
  },
  {
   "cell_type": "markdown",
   "metadata": {},
   "source": [
    "Problem 2"
   ]
  },
  {
   "cell_type": "code",
   "execution_count": 9,
   "metadata": {},
   "outputs": [],
   "source": [
    "#Create MILP model object\n",
    "mymodel = glp.Solver('Scott', glp.Solver.CBC_MIXED_INTEGER_PROGRAMMING)"
   ]
  },
  {
   "cell_type": "code",
   "execution_count": 10,
   "metadata": {},
   "outputs": [],
   "source": [
    "inf = mymodel.infinity()\n",
    "\n",
    "         # name: supply capacity (thousand tons), fixed cost (thousand $), unit shipping cost ($) to each RDC\n",
    "source = {'Cle': (30,320 , [ 2, 6, 10]),    # Cleveland\n",
    "          'Nash': (15,175 , [ 3, 4, 9]),    # Nashville\n",
    "          'StL': (30,300 , [ 5, 9, 7]),    # St. Louis\n",
    "          'Mil':  (25,0 , [5, 10, 8]),    # Milwaukee\n",
    "         }\n",
    "          \n",
    "        # name: demand quantity required (thousand tons)\n",
    "demand = {'Sct': 20, 'Atl': 10, 'Reno': 25,}    # Scranton Atlanta Reno\n",
    "\n",
    "mymodel.Objective().SetMinimization()    # minimize total plant and transportation cost"
   ]
  },
  {
   "cell_type": "code",
   "execution_count": 11,
   "metadata": {},
   "outputs": [
    {
     "name": "stdout",
     "output_type": "stream",
     "text": [
      "{'Cle': Cle, 'Nash': Nash, 'StL': StL, 'Mil': Mil}\n",
      "Variables:\n",
      "Cle, Nash, StL, Mil \n",
      "\n",
      "minimize: 320.0*Cle + 175.0*Nash + 300.0*StL \n",
      "\n",
      "Subject To:\n",
      "\n",
      "Bounds:\n",
      "Cle in [0, 1]\n",
      "Nash in [0, 1]\n",
      "StL in [0, 1]\n",
      "Mil in [0, 1]\n"
     ]
    }
   ],
   "source": [
    "# create binary Plant selection variables and a dictionary to access them\n",
    "select = dict()\n",
    "for s in source:\n",
    "    select[s] = mymodel.IntVar(0,1,s)\n",
    "    (b, f, coeff_lst ) = source[s]\n",
    "    mymodel.Objective().SetCoefficient(select[s], f)\n",
    "print(select)\n",
    "lpt.print_model(mymodel)"
   ]
  },
  {
   "cell_type": "code",
   "execution_count": 6,
   "metadata": {},
   "outputs": [
    {
     "name": "stdout",
     "output_type": "stream",
     "text": [
      "{'Cle': {'Sct': Cle.Sct, 'Atl': Cle.Atl, 'Reno': Cle.Reno}, 'Nash': {'Sct': Nash.Sct, 'Atl': Nash.Atl, 'Reno': Nash.Reno}, 'StL': {'Sct': StL.Sct, 'Atl': StL.Atl, 'Reno': StL.Reno}, 'Mil': {'Sct': Mil.Sct, 'Atl': Mil.Atl, 'Reno': Mil.Reno}}\n"
     ]
    }
   ],
   "source": [
    "# create shipment variables from Plants to RDCs and a dictionary to access them\n",
    "ship = dict()\n",
    "for s in source:\n",
    "    ship[s] = dict()\n",
    "    (b, f, coeff_lst) = source[s]\n",
    "    for (d,c) in zip(demand,coeff_lst):\n",
    "        ship[s][d] = mymodel.NumVar(0, inf, s + '.' + d)\n",
    "        mymodel.Objective().SetCoefficient(ship[s][d] ,c )\n",
    "print(ship)"
   ]
  },
  {
   "cell_type": "code",
   "execution_count": 7,
   "metadata": {},
   "outputs": [
    {
     "name": "stdout",
     "output_type": "stream",
     "text": [
      "{'Cle': (30, 320, [2, 6, 10]), 'Nash': (15, 175, [3, 4, 9]), 'StL': (30, 300, [5, 9, 7]), 'Mil': (25, 0, [5, 10, 8])}\n"
     ]
    }
   ],
   "source": [
    "# create source/supply constraints\n",
    "for s in source:\n",
    "    (b, f, coeff_lst) = source[s]\n",
    "    constr = mymodel.Constraint(-inf ,0 ,s )\n",
    "    constr.SetCoefficient(select[s] , -b)\n",
    "    for d in demand:\n",
    "        constr.SetCoefficient(ship[s][d], 1)\n",
    "print(source)"
   ]
  },
  {
   "cell_type": "code",
   "execution_count": 8,
   "metadata": {},
   "outputs": [
    {
     "name": "stdout",
     "output_type": "stream",
     "text": [
      "{'Sct': 20, 'Atl': 10, 'Reno': 25}\n"
     ]
    }
   ],
   "source": [
    "# create demand constraints\n",
    "for d in demand:\n",
    "    lb = ub = demand[d]\n",
    "    constr = mymodel.Constraint(lb ,ub ,d )\n",
    "    for s in source:\n",
    "        constr.SetCoefficient(ship[s][d] , 1)\n",
    "print(demand)"
   ]
  },
  {
   "cell_type": "code",
   "execution_count": 25,
   "metadata": {},
   "outputs": [
    {
     "name": "stdout",
     "output_type": "stream",
     "text": [
      "Variables:\n",
      "Cle, Nash, StL, Mil, Cle.Sct, Cle.Atl, Cle.Reno, Nash.Sct, Nash.Atl, Nash.Reno, StL.Sct, StL.Atl, StL.Reno, Mil.Sct, Mil.Atl, Mil.Reno \n",
      "\n",
      "minimize: 320.0*Cle + 175.0*Nash + 300.0*StL + 2.0*Cle.Sct + 6.0*Cle.Atl + 10.0*Cle.Reno + 3.0*Nash.Sct + 4.0*Nash.Atl + 9.0*Nash.Reno + 5.0*StL.Sct + 9.0*StL.Atl + 7.0*StL.Reno + 5.0*Mil.Sct + 10.0*Mil.Atl + 8.0*Mil.Reno \n",
      "\n",
      "Subject To:\n",
      "Cle: - 30.0*Cle + 1.0*Cle.Sct + 1.0*Cle.Atl + 1.0*Cle.Reno <= 0.0\n",
      "Nash: - 15.0*Nash + 1.0*Nash.Sct + 1.0*Nash.Atl + 1.0*Nash.Reno <= 0.0\n",
      "StL: - 30.0*StL + 1.0*StL.Sct + 1.0*StL.Atl + 1.0*StL.Reno <= 0.0\n",
      "Mil: - 25.0*Mil + 1.0*Mil.Sct + 1.0*Mil.Atl + 1.0*Mil.Reno <= 0.0\n",
      "Sct: 1.0*Cle.Sct + 1.0*Nash.Sct + 1.0*StL.Sct + 1.0*Mil.Sct = 20.0\n",
      "Atl: 1.0*Cle.Atl + 1.0*Nash.Atl + 1.0*StL.Atl + 1.0*Mil.Atl = 10.0\n",
      "Reno: 1.0*Cle.Reno + 1.0*Nash.Reno + 1.0*StL.Reno + 1.0*Mil.Reno = 25.0\n",
      "\n",
      "Bounds:\n",
      "Cle in [0, 1]\n",
      "Nash in [0, 1]\n",
      "StL in [0, 1]\n",
      "Mil in [0, 1]\n",
      "Cle.Sct >= 0.0\n",
      "Cle.Atl >= 0.0\n",
      "Cle.Reno >= 0.0\n",
      "Nash.Sct >= 0.0\n",
      "Nash.Atl >= 0.0\n",
      "Nash.Reno >= 0.0\n",
      "StL.Sct >= 0.0\n",
      "StL.Atl >= 0.0\n",
      "StL.Reno >= 0.0\n",
      "Mil.Sct >= 0.0\n",
      "Mil.Atl >= 0.0\n",
      "Mil.Reno >= 0.0\n"
     ]
    }
   ],
   "source": [
    "lpt.print_model(mymodel)"
   ]
  },
  {
   "cell_type": "code",
   "execution_count": 26,
   "metadata": {},
   "outputs": [
    {
     "name": "stdout",
     "output_type": "stream",
     "text": [
      "Solution Status = 0\n",
      "Optimal Value = 620.00 thousand\n",
      "    Cle =  1.00\n",
      "    Mil =  1.00\n",
      "Cle.Sct = 20.00\n",
      "Cle.Atl = 10.00\n",
      "Mil.Reno = 25.00\n"
     ]
    }
   ],
   "source": [
    "#solve model and display results\n",
    "status = mymodel.Solve()\n",
    "print('Solution Status =',status)\n",
    "print('Optimal Value = %.2f thousand' % mymodel.Objective().Value())\n",
    "for v in mymodel.variables():\n",
    "    if v.solution_value() != 0:\n",
    "        print('%7s = %5.2f' % (v.name(),v.solution_value()))"
   ]
  },
  {
   "cell_type": "code",
   "execution_count": 27,
   "metadata": {},
   "outputs": [],
   "source": [
    "import matplotlib.pyplot as plt"
   ]
  },
  {
   "cell_type": "code",
   "execution_count": 28,
   "metadata": {},
   "outputs": [
    {
     "data": {
      "text/plain": [
       "[<matplotlib.lines.Line2D at 0x7fe6f1626310>]"
      ]
     },
     "execution_count": 28,
     "metadata": {},
     "output_type": "execute_result"
    },
    {
     "data": {
      "image/png": "[encoded data removed]",
      "text/plain": [
       "<Figure size 432x288 with 1 Axes>"
      ]
     },
     "metadata": {
      "needs_background": "light"
     },
     "output_type": "display_data"
    }
   ],
   "source": [
    "# increasing the capacity of the Milwaukee factory\n",
    "\n",
    "param_lst = list(range(25,65))\n",
    "optval_lst = list()\n",
    "\n",
    "for b in param_lst:\n",
    "    mymodel.constraints()[3].SetUb(b)\n",
    "    mymodel.Solve()\n",
    "    optval_lst.append(mymodel.Objective().Value())\n",
    "mymodel.constraints()[2].SetUb(25)\n",
    "\n",
    "plt.plot(param_lst,optval_lst)"
   ]
  },
  {
   "cell_type": "markdown",
   "metadata": {},
   "source": [
    "Sharp drop in cost if capacity of Mil is increased to 30k"
   ]
  },
  {
   "cell_type": "code",
   "execution_count": null,
   "metadata": {},
   "outputs": [],
   "source": []
  }
 ],
 "metadata": {
  "kernelspec": {
   "display_name": "Python 3",
   "language": "python",
   "name": "python3"
  },
  "language_info": {
   "codemirror_mode": {
    "name": "ipython",
    "version": 3
   },
   "file_extension": ".py",
   "mimetype": "text/x-python",
   "name": "python",
   "nbconvert_exporter": "python",
   "pygments_lexer": "ipython3",
   "version": "3.8.5"
  }
 },
 "nbformat": 4,
 "nbformat_minor": 4
}
