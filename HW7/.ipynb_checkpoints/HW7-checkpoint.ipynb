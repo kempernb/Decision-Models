{
 "cells": [
  {
   "cell_type": "markdown",
   "metadata": {},
   "source": [
    "# Problem 1"
   ]
  },
  {
   "cell_type": "code",
   "execution_count": 1,
   "metadata": {},
   "outputs": [],
   "source": [
    "# import Glop package\n",
    "from ortools.linear_solver import pywraplp as glp\n",
    "import lptools as lpt\n",
    "import matplotlib.pyplot as plt"
   ]
  },
  {
   "cell_type": "markdown",
   "metadata": {},
   "source": [
    "Problem A"
   ]
  },
  {
   "cell_type": "code",
   "execution_count": 2,
   "metadata": {},
   "outputs": [],
   "source": [
    "#Create LP model object\n",
    "mymodel = glp.Solver('MilfordSuits',glp.Solver.GLOP_LINEAR_PROGRAMMING)"
   ]
  },
  {
   "cell_type": "code",
   "execution_count": 3,
   "metadata": {},
   "outputs": [],
   "source": [
    "inf = mymodel.infinity()\n",
    "\n",
    "variables = {'Economy': (0, inf, 63),    # (lower bound, upper bound, objective coefficient)\n",
    "             'Standard': (0, inf,  95),\n",
    "             'Deluxe': (0, inf,  135)}\n",
    "\n",
    "constraints = {'fan':  (-inf, 200, [1.2, 0.8]),    # (lower bound, upper bound, coefficient list)\n",
    "               'coils': (-inf, 180, [ 0.7, 0.6]),\n",
    "               'laber': (-inf, 1200, [6, 4])}"
   ]
  },
  {
   "cell_type": "code",
   "execution_count": 4,
   "metadata": {},
   "outputs": [],
   "source": [
    "mymodel.Objective().SetMaximization()\n",
    "\n",
    "for v in variables:\n",
    "    (lb,ub,c) = variables[v]\n",
    "    var = mymodel.NumVar(lb, ub, v)\n",
    "    mymodel.Objective().SetCoefficient(var, c)"
   ]
  },
  {
   "cell_type": "code",
   "execution_count": 5,
   "metadata": {},
   "outputs": [
    {
     "name": "stdout",
     "output_type": "stream",
     "text": [
      "Variables:\n",
      "Suit, Sport \n",
      "\n",
      "maximize: 190.0*Suit + 150.0*Sport \n",
      "\n",
      "Subject To:\n",
      "\n",
      "Bounds:\n",
      "Suit >= 100.0\n",
      "Sport >= 75.0\n"
     ]
    }
   ],
   "source": [
    "lpt.print_model(mymodel)"
   ]
  },
  {
   "cell_type": "code",
   "execution_count": 6,
   "metadata": {},
   "outputs": [],
   "source": [
    "# Create Constraints\n",
    "\n",
    "for c in constraints:\n",
    "    (lb,ub,coeff_lst) = constraints[c]\n",
    "    constr = mymodel.Constraint(lb,ub,c)\n",
    "    \n",
    "    for (v,coeff) in zip(mymodel.variables(),coeff_lst):\n",
    "        constr.SetCoefficient(v,coeff)"
   ]
  },
  {
   "cell_type": "code",
   "execution_count": 7,
   "metadata": {},
   "outputs": [
    {
     "name": "stdout",
     "output_type": "stream",
     "text": [
      "Variables:\n",
      "Suit, Sport \n",
      "\n",
      "maximize: 190.0*Suit + 150.0*Sport \n",
      "\n",
      "Subject To:\n",
      "Cutting_Time: 1.2*Suit + 0.8*Sport <= 200.0\n",
      "Sewing_Time: 0.7*Suit + 0.6*Sport <= 180.0\n",
      "Fabric: 6.0*Suit + 4.0*Sport <= 1200.0\n",
      "\n",
      "Bounds:\n",
      "Suit >= 100.0\n",
      "Sport >= 75.0\n"
     ]
    }
   ],
   "source": [
    "lpt.print_model(mymodel)"
   ]
  },
  {
   "cell_type": "code",
   "execution_count": 8,
   "metadata": {},
   "outputs": [
    {
     "name": "stdout",
     "output_type": "stream",
     "text": [
      "Solution Status = 0\n",
      "Optimal Value = 34000.00\n",
      "Suit = 100.00\n",
      "Sport = 100.00\n"
     ]
    }
   ],
   "source": [
    "#solve model and display results\n",
    "status = mymodel.Solve()\n",
    "print('Solution Status =',status )\n",
    "print('Optimal Value = %.2f' %  mymodel.Objective().Value())\n",
    "for v in mymodel.variables():\n",
    "    print('%s = %.2f' % (v.name() , v.solution_value()))\n",
    "optimal_value = 34000.00"
   ]
  },
  {
   "cell_type": "code",
   "execution_count": 9,
   "metadata": {},
   "outputs": [
    {
     "name": "stdout",
     "output_type": "stream",
     "text": [
      "Variable    LB   Value    UB   Reduced Cost\n",
      "    Suit  100.0  100.0    inf  -35.00\n",
      "   Sport   75.0  100.0    inf   0.00\n"
     ]
    }
   ],
   "source": [
    "# display variable information\n",
    "print('Variable    LB   Value    UB   Reduced Cost')\n",
    "for v in mymodel.variables():\n",
    "    print('%8s  %5.1f  %5.1f  %5.1f  %5.2f' % (v.name() ,v.lb() ,v.solution_value() ,v.ub() ,v.reduced_cost()))"
   ]
  },
  {
   "cell_type": "markdown",
   "metadata": {},
   "source": [
    "Answer to question A ^"
   ]
  },
  {
   "cell_type": "code",
   "execution_count": 10,
   "metadata": {},
   "outputs": [
    {
     "name": "stdout",
     "output_type": "stream",
     "text": [
      "Constraint    LB    Value  UB     Dual\n",
      "Cutting_Time   -inf  200.0  200.0  187.50\n",
      "Sewing_Time   -inf  130.0  180.0  -0.00\n",
      "    Fabric   -inf  1000.0  1200.0   0.00\n"
     ]
    }
   ],
   "source": [
    "#display constraint information\n",
    "print('Constraint    LB    Value  UB     Dual')\n",
    "for (c,lhs) in zip(mymodel.constraints(),mymodel.ComputeConstraintActivities()):\n",
    "    print('%10s  %5.1f  %5.1f  %5.1f  %5.2f' % (c.name() ,c.lb() ,lhs ,c.ub() ,c.dual_value() ))"
   ]
  },
  {
   "cell_type": "code",
   "execution_count": 11,
   "metadata": {},
   "outputs": [
    {
     "data": {
      "text/plain": [
       "[<matplotlib.lines.Line2D at 0x7ff630bfa2e0>]"
      ]
     },
     "execution_count": 11,
     "metadata": {},
     "output_type": "execute_result"
    },
    {
     "data": {
      "image/png": "[encoded data removed]",
      "text/plain": [
       "<Figure size 432x288 with 1 Axes>"
      ]
     },
     "metadata": {
      "needs_background": "light"
     },
     "output_type": "display_data"
    }
   ],
   "source": [
    "# parameter analysis for Cutting_Time\n",
    "param_lst =list(range(200,300))\n",
    "optval_lst = list()\n",
    "overtime_cost = 15\n",
    "max_cutting_time = 200\n",
    "\n",
    "constr = mymodel.constraints()[0]\n",
    "for b in param_lst:\n",
    "    constr.SetUb(b)\n",
    "    mymodel.Solve()\n",
    "    # Get the objective value (profit) and subtract the cost of additional overtime from the base case\n",
    "    profit = mymodel.Objective().Value() - (b - max_cutting_time) * overtime_cost\n",
    "    \n",
    "    optval_lst.append(profit)\n",
    "plt.plot(param_lst,optval_lst)"
   ]
  },
  {
   "cell_type": "code",
   "execution_count": 12,
   "metadata": {},
   "outputs": [
    {
     "name": "stdout",
     "output_type": "stream",
     "text": [
      "The amount of overtime scheduled should be 40 hours\n",
      "The net benefit of this overtime is an additional profit of $6900.0\n"
     ]
    }
   ],
   "source": [
    "overtime_scheduled = param_lst[optval_lst.index(max(optval_lst))] - max_cutting_time\n",
    "net_benifit = max(optval_lst) - optimal_value\n",
    "\n",
    "print(\"The amount of overtime scheduled should be {} hours\".format(overtime_scheduled))\n",
    "print(\"The net benefit of this overtime is an additional profit of ${}\".format(net_benifit))"
   ]
  },
  {
   "cell_type": "markdown",
   "metadata": {},
   "source": [
    "Problem C"
   ]
  },
  {
   "cell_type": "code",
   "execution_count": 13,
   "metadata": {},
   "outputs": [
    {
     "data": {
      "text/plain": [
       "[<matplotlib.lines.Line2D at 0x7ff630d003d0>]"
      ]
     },
     "execution_count": 13,
     "metadata": {},
     "output_type": "execute_result"
    },
    {
     "data": {
      "image/png": "[encoded data removed]",
      "text/plain": [
       "<Figure size 432x288 with 1 Axes>"
      ]
     },
     "metadata": {
      "needs_background": "light"
     },
     "output_type": "display_data"
    }
   ],
   "source": [
    "# parameter analysis for Sewing_Time\n",
    "param_lst =list(range(180,300))\n",
    "optval_lst = list()\n",
    "overtime_cost = 10\n",
    "max_sewing_time = 180\n",
    "\n",
    "constr = mymodel.constraints()[1]\n",
    "for b in param_lst:\n",
    "    constr.SetUb(b)\n",
    "    mymodel.Solve()\n",
    "    # Get the objective value (profit) and subtract the cost of additional overtime from the base case\n",
    "    profit = mymodel.Objective().Value() - (b - max_sewing_time) * overtime_cost\n",
    "    \n",
    "    optval_lst.append(profit)\n",
    "plt.plot(param_lst,optval_lst)"
   ]
  },
  {
   "cell_type": "markdown",
   "metadata": {},
   "source": [
    "Based on the analysis of sewing time, there should be NO overtime scheduled for this opertation. This makes sense as from the constraint analysis above, the sewing time is not a binding variable"
   ]
  },
  {
   "cell_type": "markdown",
   "metadata": {},
   "source": [
    "Question D"
   ]
  },
  {
   "cell_type": "code",
   "execution_count": 11,
   "metadata": {},
   "outputs": [
    {
     "name": "stdout",
     "output_type": "stream",
     "text": [
      "Variables:\n",
      "Suit, Sport \n",
      "\n",
      "maximize: 220.0*Suit + 150.0*Sport \n",
      "\n",
      "Subject To:\n",
      "Cutting_Time: 1.2*Suit + 0.8*Sport <= 200.0\n",
      "Sewing_Time: 0.7*Suit + 0.6*Sport <= 180.0\n",
      "Fabric: 6.0*Suit + 4.0*Sport <= 1200.0\n",
      "\n",
      "Bounds:\n",
      "Suit >= 100.0\n",
      "Sport >= 75.0\n"
     ]
    }
   ],
   "source": [
    "#Create LP model object\n",
    "mymodel2 = glp.Solver('MilfordSuits2',glp.Solver.GLOP_LINEAR_PROGRAMMING)\n",
    "\n",
    "inf = mymodel.infinity()\n",
    "\n",
    "# Update suits to a price of 220\n",
    "variables = {'Suit': (100, inf, 220),    # (lower bound, upper bound, objective coefficient)\n",
    "             'Sport': (75, inf,  150)}\n",
    "\n",
    "constraints = {'Cutting_Time':  (-inf, 200, [1.2, 0.8]),    # (lower bound, upper bound, coefficient list)\n",
    "               'Sewing_Time': (-inf, 180, [ 0.7, 0.6]),\n",
    "               'Fabric': (-inf, 1200, [6, 4])}\n",
    "\n",
    "mymodel2.Objective().SetMaximization()\n",
    "\n",
    "for v in variables:\n",
    "    (lb,ub,c) = variables[v]\n",
    "    var = mymodel2.NumVar(lb, ub, v)\n",
    "    mymodel2.Objective().SetCoefficient(var, c)\n",
    "\n",
    "# Create Constraints\n",
    "\n",
    "for c in constraints:\n",
    "    (lb,ub,coeff_lst) = constraints[c]\n",
    "    constr = mymodel2.Constraint(lb,ub,c)\n",
    "    \n",
    "    for (v,coeff) in zip(mymodel2.variables(),coeff_lst):\n",
    "        constr.SetCoefficient(v,coeff)\n",
    "        \n",
    "lpt.print_model(mymodel2)"
   ]
  },
  {
   "cell_type": "code",
   "execution_count": 12,
   "metadata": {},
   "outputs": [
    {
     "name": "stdout",
     "output_type": "stream",
     "text": [
      "Solution Status = 0\n",
      "Optimal Value = 37000.00\n",
      "Suit = 100.00\n",
      "Sport = 100.00\n"
     ]
    }
   ],
   "source": [
    "#solve model and display results\n",
    "status = mymodel2.Solve()\n",
    "print('Solution Status =',status )\n",
    "print('Optimal Value = %.2f' %  mymodel2.Objective().Value())\n",
    "for v in mymodel2.variables():\n",
    "    print('%s = %.2f' % (v.name() , v.solution_value()))\n",
    "optimal_value2 = 37000"
   ]
  },
  {
   "cell_type": "code",
   "execution_count": 16,
   "metadata": {},
   "outputs": [
    {
     "name": "stdout",
     "output_type": "stream",
     "text": [
      "By increasing the suit price to 220, the optimal value of the model increases by 3000.0, how this will affect demand for the product is a another questions\n"
     ]
    }
   ],
   "source": [
    "print(\"By increasing the suit price to 220, the profit of the model increases by ${}, how this will affect demand for the product is a another question\".format(optimal_value2 - optimal_value))"
   ]
  },
  {
   "cell_type": "markdown",
   "metadata": {},
   "source": [
    "# Problem 2"
   ]
  },
  {
   "cell_type": "code",
   "execution_count": 17,
   "metadata": {},
   "outputs": [],
   "source": [
    "#Create LP model object\n",
    "mymodel3 = glp.Solver('TaylorFarms',glp.Solver.GLOP_LINEAR_PROGRAMMING)"
   ]
  },
  {
   "cell_type": "markdown",
   "metadata": {},
   "source": [
    "The goal is to find the optimal acres to be planted per product. First, we must find the profit per acres for each produt."
   ]
  },
  {
   "cell_type": "code",
   "execution_count": 18,
   "metadata": {},
   "outputs": [
    {
     "name": "stdout",
     "output_type": "stream",
     "text": [
      "[340, 375.0, 420, 285.0]\n",
      "[190, 240.0, 280, 135.0]\n"
     ]
    }
   ],
   "source": [
    "production = [2, 2.5, 3, 1.5] # tons/acre\n",
    "sales_price = [170, 150, 140, 190] # $/ton\n",
    "planting_cost = [150, 135, 140, 150] # $/acre\n",
    "\n",
    "acre_sales = [a * b for a, b in zip(sales_price, production)] # $/acre\n",
    "print(acre_sales)\n",
    "\n",
    "acre_profit = [a - b for a, b in zip(acre_sales, planting_cost)] # $/acre\n",
    "\n",
    "print(acre_profit)"
   ]
  },
  {
   "cell_type": "markdown",
   "metadata": {},
   "source": [
    "The bounds of the problem are given in tons produced. This must be converted to acres by using the production.\n",
    "\n",
    "The coeficiants in the constraints are each one as each crop in the model contributes only 1 acre."
   ]
  },
  {
   "cell_type": "code",
   "execution_count": 19,
   "metadata": {},
   "outputs": [],
   "source": [
    "inf = mymodel.infinity()\n",
    "\n",
    "# bounds in acres used and objective is in $/acre\n",
    "variables = {'Wheat': (600 / production[0], inf, acre_profit[0]),    # (lower bound, upper bound, objective coefficient)\n",
    "             'Corn': (0, 1000 / production[1],  acre_profit[1]),\n",
    "             'Soybeans': (0, 1200 / production[2],  acre_profit[2]),\n",
    "             'Barley': (0, inf,  acre_profit[3])\n",
    "            }\n",
    "\n",
    "constraints = {'Land_Available':  (-inf, 1000, [1, 1, 1, 1])}"
   ]
  },
  {
   "cell_type": "code",
   "execution_count": 20,
   "metadata": {},
   "outputs": [],
   "source": [
    "mymodel3.Objective().SetMaximization()\n",
    "\n",
    "for v in variables:\n",
    "    (lb,ub,c) = variables[v]\n",
    "    var = mymodel3.NumVar(lb, ub, v)\n",
    "    mymodel3.Objective().SetCoefficient(var, c)"
   ]
  },
  {
   "cell_type": "code",
   "execution_count": 21,
   "metadata": {},
   "outputs": [
    {
     "name": "stdout",
     "output_type": "stream",
     "text": [
      "Variables:\n",
      "Wheat, Corn, Soybeans, Barley \n",
      "\n",
      "maximize: 190.0*Wheat + 240.0*Corn + 280.0*Soybeans + 135.0*Barley \n",
      "\n",
      "Subject To:\n",
      "\n",
      "Bounds:\n",
      "Wheat >= 300.0\n",
      "0.0 <= Corn <= 400.0\n",
      "0.0 <= Soybeans <= 400.0\n",
      "Barley >= 0.0\n"
     ]
    }
   ],
   "source": [
    "lpt.print_model(mymodel3)"
   ]
  },
  {
   "cell_type": "code",
   "execution_count": 22,
   "metadata": {},
   "outputs": [
    {
     "name": "stdout",
     "output_type": "stream",
     "text": [
      "Variables:\n",
      "Wheat, Corn, Soybeans, Barley \n",
      "\n",
      "maximize: 190.0*Wheat + 240.0*Corn + 280.0*Soybeans + 135.0*Barley \n",
      "\n",
      "Subject To:\n",
      "Land_Available: 1.0*Wheat + 1.0*Corn + 1.0*Soybeans + 1.0*Barley <= 1000.0\n",
      "\n",
      "Bounds:\n",
      "Wheat >= 300.0\n",
      "0.0 <= Corn <= 400.0\n",
      "0.0 <= Soybeans <= 400.0\n",
      "Barley >= 0.0\n"
     ]
    }
   ],
   "source": [
    "# Create Constraints\n",
    "\n",
    "for c in constraints:\n",
    "    (lb,ub,coeff_lst) = constraints[c]\n",
    "    constr = mymodel3.Constraint(lb,ub,c)\n",
    "    \n",
    "    for (v,coeff) in zip(mymodel3.variables(),coeff_lst):\n",
    "        constr.SetCoefficient(v,coeff)\n",
    "        \n",
    "lpt.print_model(mymodel3)"
   ]
  },
  {
   "cell_type": "code",
   "execution_count": 23,
   "metadata": {},
   "outputs": [
    {
     "name": "stdout",
     "output_type": "stream",
     "text": [
      "Solution Status = 0\n",
      "Optimal Value = 241000.00\n",
      "Wheat = 300.00\n",
      "Corn = 300.00\n",
      "Soybeans = 400.00\n",
      "Barley = 0.00\n"
     ]
    }
   ],
   "source": [
    "# solve model and display results\n",
    "status = mymodel3.Solve()\n",
    "print('Solution Status =',status )\n",
    "print('Optimal Value = %.2f' %  mymodel3.Objective().Value())\n",
    "for v in mymodel3.variables():\n",
    "    print('%s = %.2f' % (v.name() , v.solution_value()))\n"
   ]
  },
  {
   "cell_type": "markdown",
   "metadata": {},
   "source": [
    "Question A: From the model, the wheat and soybeans are both binding variables, Taylor farms should produce the minimum amount of corn and the maximum amount of soybeans. The model also states that no Barley should be produced, this makes sense as this has the lowest profit per acre."
   ]
  },
  {
   "cell_type": "code",
   "execution_count": 26,
   "metadata": {},
   "outputs": [
    {
     "data": {
      "text/plain": [
       "[<matplotlib.lines.Line2D at 0x7fca07c79c70>]"
      ]
     },
     "execution_count": 26,
     "metadata": {},
     "output_type": "execute_result"
    },
    {
     "data": {
      "image/png": "[encoded data removed]",
      "text/plain": [
       "<Figure size 432x288 with 1 Axes>"
      ]
     },
     "metadata": {
      "needs_background": "light"
     },
     "output_type": "display_data"
    }
   ],
   "source": [
    "# parameter analysis for Land_Available\n",
    "param_lst =list(range(1000,1300))\n",
    "optval_lst = list()\n",
    "land_cost = 100\n",
    "max_land = 1000\n",
    "\n",
    "constr = mymodel3.constraints()[0]\n",
    "for b in param_lst:\n",
    "    constr.SetUb(b)\n",
    "    mymodel3.Solve()\n",
    "    # Get the objective value (profit) and subtract the cost of additional overtime from the base case\n",
    "    profit = mymodel3.Objective().Value() - (b - max_land) * land_cost\n",
    "    \n",
    "    optval_lst.append(profit)\n",
    "plt.plot(param_lst,optval_lst)"
   ]
  },
  {
   "cell_type": "markdown",
   "metadata": {},
   "source": [
    "Question C: This plot shows that TF should definitly consider leasing some additional land. None of the variables in the model above have a profit/acre less than 100$/acre so profits will continue to rise not matter how much land they lease."
   ]
  },
  {
   "cell_type": "markdown",
   "metadata": {},
   "source": [
    "TF should definitly consider renegiotiating the limits for crop production. From the model above, TF should try to renegiotiate to maximum limit possible for soybean production. Soybeans have the highest profit/acre and is a binding variable in the model. TF should also negotiate  for producing a lower amount of wheat as corn has a higher profit/acre and more can be planted if this is lowered."
   ]
  }
 ],
 "metadata": {
  "kernelspec": {
   "display_name": "Python 3",
   "language": "python",
   "name": "python3"
  },
  "language_info": {
   "codemirror_mode": {
    "name": "ipython",
    "version": 3
   },
   "file_extension": ".py",
   "mimetype": "text/x-python",
   "name": "python",
   "nbconvert_exporter": "python",
   "pygments_lexer": "ipython3",
   "version": "3.8.5"
  }
 },
 "nbformat": 4,
 "nbformat_minor": 4
}
