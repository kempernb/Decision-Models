{
 "cells": [
  {
   "cell_type": "markdown",
   "metadata": {},
   "source": [
    "# Problem 1 "
   ]
  },
  {
   "cell_type": "code",
   "execution_count": 1,
   "metadata": {},
   "outputs": [],
   "source": [
    "# Import needed libraries\n",
    "import matplotlib.pyplot as plt\n",
    "import statistics as st\n",
    "import random as rd\n",
    "import numpy as np\n",
    "import numpy.random as npr"
   ]
  },
  {
   "cell_type": "code",
   "execution_count": 2,
   "metadata": {},
   "outputs": [],
   "source": [
    "# Values for simulation\n",
    "homes = 100 # Homes in a neighborhood\n",
    "athome_rate = 0.8 # Probability someone is home\n",
    "purchase_rate = 0.3 # Probability someone will purchase\n",
    "\n",
    "sales_mean = 25 # mean sales amount\n",
    "sales_std = 5 # standard deviation sales amount\n",
    "\n",
    "# Number of trials\n",
    "trials = 1000"
   ]
  },
  {
   "cell_type": "code",
   "execution_count": 5,
   "metadata": {},
   "outputs": [],
   "source": [
    "# Simulation Function for door-to-door marketing campaign\n",
    "\n",
    "# Inputs are the number of homes in a neighborhood and \n",
    "# the number of simulation trials\n",
    "\n",
    "# Returns the array of projected total sales \n",
    "\n",
    "def door_to_door_sim(homes,trials):\n",
    "    # Intialize empty list\n",
    "    sample = []\n",
    "    # Loop over trails\n",
    "    for i in range(trials):\n",
    "        \n",
    "        # Number of people that are home in neighborhood\n",
    "        number_answer = npr.binomial(homes,athome_rate)\n",
    "        \n",
    "        # Number of people who are home and will make a purchase\n",
    "        number_buy = npr.binomial(number_answer,purchase_rate)\n",
    "        \n",
    "        # Start out with 0 in sales and loop over the number of people who are home and will make a purchase\n",
    "        tot_sales = 0\n",
    "        for j in range(number_buy):\n",
    "            \n",
    "            # sales amount is normally distributed\n",
    "            sale = rd.normalvariate(sales_mean,sales_std)\n",
    "            \n",
    "            # Add to total sales\n",
    "            tot_sales = tot_sales + sale\n",
    "        sample.append(tot_sales)\n",
    "    return(sample)\n",
    "        "
   ]
  },
  {
   "cell_type": "code",
   "execution_count": 6,
   "metadata": {},
   "outputs": [],
   "source": [
    "# Run the function\n",
    "sample = door_to_door_sim(homes,trials)"
   ]
  },
  {
   "cell_type": "code",
   "execution_count": 7,
   "metadata": {},
   "outputs": [
    {
     "data": {
      "text/plain": [
       "(array([ 14., 102., 233., 301., 233.,  94.,  22.,   0.,   0.,   1.]),\n",
       " array([ 299.72721844,  385.75121334,  471.77520823,  557.79920312,\n",
       "         643.82319802,  729.84719291,  815.8711878 ,  901.8951827 ,\n",
       "         987.91917759, 1073.94317248, 1159.96716738]),\n",
       " <BarContainer object of 10 artists>)"
      ]
     },
     "execution_count": 7,
     "metadata": {},
     "output_type": "execute_result"
    },
    {
     "data": {
      "image/png": "[encoded data removed]",
      "text/plain": [
       "<Figure size 432x288 with 1 Axes>"
      ]
     },
     "metadata": {
      "needs_background": "light"
     },
     "output_type": "display_data"
    }
   ],
   "source": [
    "# Look at distribution\n",
    "plt.hist(sample, edgecolor='k')"
   ]
  },
  {
   "cell_type": "code",
   "execution_count": 8,
   "metadata": {},
   "outputs": [
    {
     "name": "stdout",
     "output_type": "stream",
     "text": [
      "The expected revenue is = 601.31\n"
     ]
    }
   ],
   "source": [
    "print('The expected revenue is = %5.2f' % st.mean(sample))"
   ]
  },
  {
   "cell_type": "code",
   "execution_count": 9,
   "metadata": {},
   "outputs": [
    {
     "name": "stdout",
     "output_type": "stream",
     "text": [
      "The 95% confidence interval for the mean of the total sales is (594.73, 607.90)\n"
     ]
    }
   ],
   "source": [
    "# Compute the 95% confidence interval\n",
    "sample_mean = st.mean(sample)\n",
    "sample_std = st.stdev(sample)\n",
    "moe = 1.96 * sample_std / len(sample) ** 0.5\n",
    "lcl = sample_mean - moe\n",
    "ucl = sample_mean + moe\n",
    "print('The 95%% confidence interval for the mean of the total sales is (%6.2f, %6.2f)' % (lcl,ucl))"
   ]
  },
  {
   "cell_type": "code",
   "execution_count": 10,
   "metadata": {},
   "outputs": [
    {
     "name": "stdout",
     "output_type": "stream",
     "text": [
      "There is a  2.90% chance of selling more than $800.\n"
     ]
    }
   ],
   "source": [
    "# Probibility that the nonprofit will collect more than $800\n",
    "more_than = 800\n",
    "proportion = sum(1 for x in sample if x >= more_than) / len(sample)\n",
    "print('There is a %5.2f%% chance of selling more than $800.' % (100*proportion))"
   ]
  },
  {
   "cell_type": "code",
   "execution_count": 11,
   "metadata": {},
   "outputs": [
    {
     "name": "stdout",
     "output_type": "stream",
     "text": [
      "The 90% confidence interval for the probability of total sales more than $800 is (0.0203, 0.0377).\n"
     ]
    }
   ],
   "source": [
    "# 90% confidence interval for the proportion\n",
    "moe = 1.645 * (proportion * (1 - proportion) / len(sample)) ** 0.5\n",
    "lcl = proportion - moe\n",
    "if lcl < 0.0: lcl = 0.0\n",
    "ucl = proportion + moe\n",
    "print('The 90%% confidence interval for the probability of total sales more than $800 is (%6.4f, %6.4f).' % (lcl,ucl))"
   ]
  },
  {
   "cell_type": "markdown",
   "metadata": {},
   "source": [
    "# Problem 2"
   ]
  },
  {
   "cell_type": "code",
   "execution_count": 14,
   "metadata": {},
   "outputs": [],
   "source": [
    "# Values for simulation\n",
    "rooms = 50 # Number of hotel rooms\n",
    "cost_per_night = 105 # Cost per night\n",
    "clean_cost = 45 # Cost to clean room\n",
    "chance_no_show = .1 # Probability customer no-show\n",
    "overbook_cost = 150 # Cost to hotel if overbooked\n",
    "reservation_limit = 56 # Max number of bookings\n",
    "\n",
    "# Trials for simulation\n",
    "trials = 10000"
   ]
  },
  {
   "cell_type": "code",
   "execution_count": 15,
   "metadata": {},
   "outputs": [],
   "source": [
    "# Simulation Function for hotel bookings when the hotel is at it's max booking (reservation_limit)\n",
    "\n",
    "# Inputs are the max number of max number of bookings and \n",
    "# the number of simulation trials\n",
    "\n",
    "# Returns the array of projected total sales \n",
    "\n",
    "def hotel_sim(trials,reservation_limit):\n",
    "    # Empty list\n",
    "    sample = []\n",
    "    \n",
    "    # Loop over trials\n",
    "    for i in range(trials):\n",
    "        \n",
    "        # Number of no shows at hotel\n",
    "        number_no_show = npr.binomial(reservation_limit,chance_no_show)\n",
    "\n",
    "        # Number who actually show up\n",
    "        number_customers = reservation_limit - number_no_show\n",
    "\n",
    "        # Check if rooms are overbooked\n",
    "        if number_customers > rooms:\n",
    "            # If overbooked, hotel is full\n",
    "            number_overbook = number_customers - rooms\n",
    "            rooms_taken = rooms\n",
    "        else:\n",
    "            # If not overbooked, hotel can support all guests\n",
    "            number_overbook = 0\n",
    "            rooms_taken = number_customers\n",
    "            \n",
    "        # Profit of current model \n",
    "        profit = rooms_taken * (cost_per_night - clean_cost) + number_no_show * cost_per_night - number_overbook * overbook_cost\n",
    "        sample.append(profit)\n",
    "    return(sample)\n",
    "    "
   ]
  },
  {
   "cell_type": "code",
   "execution_count": 16,
   "metadata": {},
   "outputs": [],
   "source": [
    "# Run simulation\n",
    "sample = hotel_sim(trials,reservation_limit)"
   ]
  },
  {
   "cell_type": "code",
   "execution_count": 18,
   "metadata": {},
   "outputs": [
    {
     "data": {
      "text/plain": [
       "(array([  32.,  190.,  509.,  997.,    0., 1513., 1815., 3003., 1859.,\n",
       "          82.]),\n",
       " array([2100., 2298., 2496., 2694., 2892., 3090., 3288., 3486., 3684.,\n",
       "        3882., 4080.]),\n",
       " <BarContainer object of 10 artists>)"
      ]
     },
     "execution_count": 18,
     "metadata": {},
     "output_type": "execute_result"
    },
    {
     "data": {
      "image/png": "[encoded data removed]",
      "text/plain": [
       "<Figure size 432x288 with 1 Axes>"
      ]
     },
     "metadata": {
      "needs_background": "light"
     },
     "output_type": "display_data"
    }
   ],
   "source": [
    "# Look at distribution\n",
    "plt.hist(sample, edgecolor='k')"
   ]
  },
  {
   "cell_type": "code",
   "execution_count": 19,
   "metadata": {},
   "outputs": [
    {
     "name": "stdout",
     "output_type": "stream",
     "text": [
      "The expected profit is = 3381.31\n"
     ]
    }
   ],
   "source": [
    "# Mean total profit\n",
    "print('The expected profit is = %5.2f' % st.mean(sample))"
   ]
  },
  {
   "cell_type": "code",
   "execution_count": 20,
   "metadata": {},
   "outputs": [
    {
     "name": "stdout",
     "output_type": "stream",
     "text": [
      "The 90% confidence interval for the mean of the total profit is (3375.08, 3387.54)\n"
     ]
    }
   ],
   "source": [
    "# 90% confidence interval of mean profit\n",
    "sample_mean = st.mean(sample)\n",
    "sample_std = st.stdev(sample)\n",
    "moe = 1.645 * sample_std / len(sample) ** 0.5\n",
    "lcl = sample_mean - moe\n",
    "ucl = sample_mean + moe\n",
    "print('The 90%% confidence interval for the mean of the total profit is (%6.2f, %6.2f)' % (lcl,ucl))"
   ]
  },
  {
   "cell_type": "code",
   "execution_count": 21,
   "metadata": {},
   "outputs": [
    {
     "name": "stdout",
     "output_type": "stream",
     "text": [
      "There is a  5.14% chance of selling more than $3800.\n"
     ]
    }
   ],
   "source": [
    "#  probability of making a profit of at least $3,800 on a single night\n",
    "more_than = 3800\n",
    "proportion = sum(1 for x in sample if x >= more_than) / len(sample)\n",
    "print('There is a %5.2f%% chance of selling more than $3800.' % (100*proportion))"
   ]
  },
  {
   "cell_type": "code",
   "execution_count": 29,
   "metadata": {},
   "outputs": [
    {
     "name": "stdout",
     "output_type": "stream",
     "text": [
      "The 95% confidence interval for the probability of total sales more than $3800 is (0.0471, 0.0557).\n"
     ]
    }
   ],
   "source": [
    "# 95% confidence interval for your estimate of this probability\n",
    "moe = 1.96 * (proportion * (1 - proportion) / len(sample)) ** 0.5\n",
    "lcl = proportion - moe\n",
    "if lcl < 0.0: lcl = 0.0\n",
    "ucl = proportion + moe\n",
    "print('The 95%% confidence interval for the probability of total sales more than $3800 is (%6.4f, %6.4f).' % (lcl,ucl))"
   ]
  },
  {
   "cell_type": "code",
   "execution_count": 23,
   "metadata": {},
   "outputs": [],
   "source": [
    "# Finding the optimal overbooking level\n",
    "min_overbook = 50\n",
    "max_overbook = 65\n",
    "\n",
    "range_overbook = range(min_overbook,max_overbook + 1)"
   ]
  },
  {
   "cell_type": "code",
   "execution_count": 24,
   "metadata": {},
   "outputs": [],
   "source": [
    "profit = []\n",
    "for j in range_overbook:\n",
    "    sample = hotel_sim(trials,j)\n",
    "    profit.append(st.mean(sample))\n",
    "    "
   ]
  },
  {
   "cell_type": "code",
   "execution_count": 25,
   "metadata": {},
   "outputs": [
    {
     "data": {
      "text/plain": [
       "[<matplotlib.lines.Line2D at 0x7fc415f3cf10>]"
      ]
     },
     "execution_count": 25,
     "metadata": {},
     "output_type": "execute_result"
    },
    {
     "data": {
      "image/png": "[encoded data removed]",
      "text/plain": [
       "<Figure size 432x288 with 1 Axes>"
      ]
     },
     "metadata": {
      "needs_background": "light"
     },
     "output_type": "display_data"
    }
   ],
   "source": [
    "plt.plot(range_overbook,profit)"
   ]
  },
  {
   "cell_type": "code",
   "execution_count": 26,
   "metadata": {},
   "outputs": [],
   "source": [
    "overbook = range_overbook[profit.index(max(profit))]"
   ]
  },
  {
   "cell_type": "code",
   "execution_count": 27,
   "metadata": {},
   "outputs": [
    {
     "name": "stdout",
     "output_type": "stream",
     "text": [
      "The optimal overbooking level is 54\n"
     ]
    }
   ],
   "source": [
    "print(\"The optimal overbooking level is {}\".format(overbook))"
   ]
  },
  {
   "cell_type": "code",
   "execution_count": null,
   "metadata": {},
   "outputs": [],
   "source": []
  }
 ],
 "metadata": {
  "kernelspec": {
   "display_name": "Python 3",
   "language": "python",
   "name": "python3"
  },
  "language_info": {
   "codemirror_mode": {
    "name": "ipython",
    "version": 3
   },
   "file_extension": ".py",
   "mimetype": "text/x-python",
   "name": "python",
   "nbconvert_exporter": "python",
   "pygments_lexer": "ipython3",
   "version": "3.8.5"
  }
 },
 "nbformat": 4,
 "nbformat_minor": 4
}
