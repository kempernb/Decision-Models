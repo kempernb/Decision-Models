{
 "cells": [
  {
   "cell_type": "markdown",
   "metadata": {},
   "source": [
    "# Homework 3 - Nicholas Kemper"
   ]
  },
  {
   "cell_type": "markdown",
   "metadata": {},
   "source": [
    "## Problem 1"
   ]
  },
  {
   "cell_type": "code",
   "execution_count": 1,
   "metadata": {},
   "outputs": [],
   "source": [
    "# Import needed libraries\n",
    "import matplotlib.pyplot as plt\n",
    "import statistics as st\n",
    "import random as rd\n",
    "import numpy as np"
   ]
  },
  {
   "cell_type": "code",
   "execution_count": 2,
   "metadata": {},
   "outputs": [],
   "source": [
    "cost = 50 #$/shirt\n",
    "price = 75 #$/shirt\n",
    "leftover_prc = 15  #$/shirt\n",
    "leftover_amt = 5 #shirts\n",
    "\n",
    "order_amt = 55 # shirts\n",
    "order_hist = 50 # shirts"
   ]
  },
  {
   "cell_type": "code",
   "execution_count": 3,
   "metadata": {},
   "outputs": [],
   "source": [
    "trials = 10000\n",
    "sample = [] #empty list\n",
    "\n",
    "for trial in range(trials):\n",
    "    # Demand according to a poisson distribution\n",
    "    demand = np.random.poisson(order_hist)\n",
    "    # Check if demand is greater than the order amount\n",
    "    # if it is greater, lucy can only sell what she bought\n",
    "    if demand >= order_amt:\n",
    "        orders = order_amt\n",
    "        leftover = 0\n",
    "    # If demand is less, Lucy can only sell what the demand is and\n",
    "    # will have leftovers\n",
    "    else:\n",
    "        orders = demand\n",
    "        leftover = orders - demand\n",
    "    \n",
    "    # Check if Lucy has greater than 5 leftover shirts\n",
    "    # she can only sell up to 5 leftover shirts\n",
    "    if leftover > leftover_amt:\n",
    "        off_sales = leftover_amt\n",
    "    else:\n",
    "        off_sales = leftover\n",
    "    # Final revenue calculation\n",
    "    revenue = orders * price + off_sales * leftover_prc - cost * order_amt\n",
    "    sample.append(revenue)\n",
    "\n",
    "# Generate Propability Lucy will not make a profit\n",
    "proportion = sum(1 for x in sample if x < 0) / len(sample)\n"
   ]
  },
  {
   "cell_type": "code",
   "execution_count": 4,
   "metadata": {},
   "outputs": [
    {
     "data": {
      "text/plain": [
       "(array([2.000e+00, 4.000e+00, 2.400e+01, 1.250e+02, 3.080e+02, 6.370e+02,\n",
       "        1.619e+03, 1.580e+03, 1.638e+03, 4.063e+03]),\n",
       " array([-1100. ,  -852.5,  -605. ,  -357.5,  -110. ,   137.5,   385. ,\n",
       "          632.5,   880. ,  1127.5,  1375. ]),\n",
       " <BarContainer object of 10 artists>)"
      ]
     },
     "execution_count": 4,
     "metadata": {},
     "output_type": "execute_result"
    },
    {
     "data": {
      "image/png": "[encoded data removed]",
      "text/plain": [
       "<Figure size 432x288 with 1 Axes>"
      ]
     },
     "metadata": {
      "needs_background": "light"
     },
     "output_type": "display_data"
    }
   ],
   "source": [
    "plt.hist(sample, edgecolor='k')"
   ]
  },
  {
   "cell_type": "markdown",
   "metadata": {},
   "source": [
    "This histogram shows that the majority of the time, Lucy will sell out of shirts according to the poisson distribution. Since Lucy cannot order anymore shirts, the possible profit will max out. That is why there is a sharp peak in the histogram, this is Lucy's max profit with an order of 55 shirts."
   ]
  },
  {
   "cell_type": "code",
   "execution_count": 5,
   "metadata": {},
   "outputs": [
    {
     "name": "stdout",
     "output_type": "stream",
     "text": [
      "Max - 1375\n",
      "Median - 1000.0\n",
      "Mean - 922.57\n",
      "Min - -1100\n"
     ]
    }
   ],
   "source": [
    "print(\"Max - {}\".format(max(sample)))\n",
    "print(\"Median - {}\".format(st.median(sample)))\n",
    "print(\"Mean - {}\".format(st.mean(sample)))\n",
    "print(\"Min - {}\".format(min(sample)))"
   ]
  },
  {
   "cell_type": "code",
   "execution_count": 6,
   "metadata": {},
   "outputs": [
    {
     "name": "stdout",
     "output_type": "stream",
     "text": [
      "Propability Lucy will not make a profit - 0.0223\n"
     ]
    }
   ],
   "source": [
    "print(\"Propability Lucy will not make a profit - {}\".format(proportion))"
   ]
  },
  {
   "cell_type": "code",
   "execution_count": 7,
   "metadata": {},
   "outputs": [],
   "source": [
    "# Maximizing Profit, create a range of order quantites \n",
    "# from 30 to 80\n",
    "order_amts = range(30,81)\n",
    "mean_profit = []"
   ]
  },
  {
   "cell_type": "code",
   "execution_count": 8,
   "metadata": {},
   "outputs": [],
   "source": [
    "# Loop over the different order quantites\n",
    "for order_amt in order_amts:\n",
    "    sample = [] #empty list\n",
    "\n",
    "    for trial in range(trials):\n",
    "        # Demand according to a poisson distribution\n",
    "        demand = np.random.poisson(order_hist)\n",
    "        # Check if demand is greater than the order amount\n",
    "        # if it is greater, lucy can only sell what she bought\n",
    "        if demand >= order_amt:\n",
    "            orders = order_amt\n",
    "            leftover = 0\n",
    "        # If demand is less, Lucy can only sell what the demand is and\n",
    "        # will have leftovers\n",
    "        else:\n",
    "            orders = demand\n",
    "            leftover = orders - demand\n",
    "\n",
    "        # Check if Lucy has greater than 5 leftover shirts\n",
    "        # she can only sell up to 5 leftover shirts\n",
    "        if leftover > leftover_amt:\n",
    "            off_sales = leftover_amt\n",
    "        else:\n",
    "            off_sales = leftover\n",
    "        # Final revenue calculation\n",
    "        revenue = orders * price + off_sales * leftover_prc - cost * order_amt\n",
    "        sample.append(revenue)\n",
    "\n",
    "    # Take the mean profit from each order quantity\n",
    "    prof_mean = st.mean(sample)\n",
    "    mean_profit.append(prof_mean)\n",
    "    "
   ]
  },
  {
   "cell_type": "code",
   "execution_count": 9,
   "metadata": {},
   "outputs": [
    {
     "data": {
      "text/plain": [
       "[<matplotlib.lines.Line2D at 0x7fb96f3f7be0>]"
      ]
     },
     "execution_count": 9,
     "metadata": {},
     "output_type": "execute_result"
    },
    {
     "data": {
      "image/png": "[encoded data removed]",
      "text/plain": [
       "<Figure size 432x288 with 1 Axes>"
      ]
     },
     "metadata": {
      "needs_background": "light"
     },
     "output_type": "display_data"
    }
   ],
   "source": [
    "plt.plot(order_amts, mean_profit)"
   ]
  },
  {
   "cell_type": "code",
   "execution_count": 10,
   "metadata": {},
   "outputs": [],
   "source": [
    "production = order_amts[mean_profit.index(max(mean_profit))]"
   ]
  },
  {
   "cell_type": "code",
   "execution_count": 11,
   "metadata": {},
   "outputs": [
    {
     "name": "stdout",
     "output_type": "stream",
     "text": [
      "The optimal order is 47\n"
     ]
    }
   ],
   "source": [
    "print(\"The optimal order is {}\".format(production))"
   ]
  },
  {
   "cell_type": "markdown",
   "metadata": {},
   "source": [
    "## Problem 2"
   ]
  },
  {
   "cell_type": "code",
   "execution_count": 12,
   "metadata": {},
   "outputs": [],
   "source": [
    "# Setup\n",
    "# Sales price ($)\n",
    "min_sales = 18.95\n",
    "max_sales = 26.95\n",
    "mean_sales = 24.95\n",
    "\n",
    "# Cost to make ($/phone)\n",
    "cost_min = 12.00\n",
    "cost_max = 15.00\n",
    "\n",
    "# Fixed cost ($)\n",
    "fixed_cost_mean = 30000\n",
    "fixed_cost_sd = 5000\n",
    "\n",
    "# Random demand (phones)\n",
    "rd_demand_mean = 10\n",
    "rd_demand_sd = 0"
   ]
  },
  {
   "cell_type": "code",
   "execution_count": 13,
   "metadata": {},
   "outputs": [],
   "source": [
    "trials = 10000\n",
    "sample = []\n",
    "\n",
    "for trail in range(trials):\n",
    "    # Get the sales price, follows a triangle distribution\n",
    "    sales_price = rd.triangular(min_sales,max_sales,mean_sales)\n",
    "    \n",
    "    # Get the random demand, normal distrubution\n",
    "    rd_demand =  rd.normalvariate(rd_demand_mean,rd_demand_sd)\n",
    "        \n",
    "    # Unit cost, follows a uniform distribution\n",
    "    unit_cost = rd.uniform(cost_min,cost_max)\n",
    "    \n",
    "    # Get the cost price, follows a normal distribution\n",
    "    fixed_price = rd.normalvariate(fixed_cost_mean,fixed_cost_sd)\n",
    "    \n",
    "    # Get the quantity sold according to the equation (phones)\n",
    "    quantity_sold = 10000 - sales_price * 250 + rd_demand\n",
    "    \n",
    "    # Get the final revenue of the cell phones\n",
    "    revenue = quantity_sold * (sales_price - unit_cost) - fixed_price\n",
    "    \n",
    "    # Add to the list\n",
    "    sample.append(revenue)\n",
    "    \n",
    "# Generate Propability of incurring a loss\n",
    "proportion = sum(1 for x in sample if x < 0) / len(sample)\n"
   ]
  },
  {
   "cell_type": "code",
   "execution_count": 14,
   "metadata": {},
   "outputs": [
    {
     "data": {
      "text/plain": [
       "(array([  15.,   90.,  362., 1082., 2152., 2806., 2206., 1017.,  238.,\n",
       "          32.]),\n",
       " array([-16149.91487771, -11176.75482889,  -6203.59478008,  -1230.43473127,\n",
       "          3742.72531754,   8715.88536635,  13689.04541517,  18662.20546398,\n",
       "         23635.36551279,  28608.5255616 ,  33581.68561042]),\n",
       " <BarContainer object of 10 artists>)"
      ]
     },
     "execution_count": 14,
     "metadata": {},
     "output_type": "execute_result"
    },
    {
     "data": {
      "image/png": "[encoded data removed]",
      "text/plain": [
       "<Figure size 432x288 with 1 Axes>"
      ]
     },
     "metadata": {
      "needs_background": "light"
     },
     "output_type": "display_data"
    }
   ],
   "source": [
    "plt.hist(sample, edgecolor='k')"
   ]
  },
  {
   "cell_type": "code",
   "execution_count": 15,
   "metadata": {},
   "outputs": [
    {
     "name": "stdout",
     "output_type": "stream",
     "text": [
      "Max - 33581.685610415196\n",
      "Median - 10980.93474424403\n",
      "Mean - 10820.73175298308\n",
      "Min - -16149.91487770544\n"
     ]
    }
   ],
   "source": [
    "print(\"Max - {}\".format(max(sample)))\n",
    "print(\"Median - {}\".format(st.median(sample)))\n",
    "print(\"Mean - {}\".format(st.mean(sample)))\n",
    "print(\"Min - {}\".format(min(sample)))"
   ]
  },
  {
   "cell_type": "markdown",
   "metadata": {},
   "source": [
    "The resulting histogram is normally distributed, with the most likely profit being around $10,500. The histogram's tail does extend below 0, indicating there is a chance to inncur a loss."
   ]
  },
  {
   "cell_type": "code",
   "execution_count": 21,
   "metadata": {},
   "outputs": [
    {
     "name": "stdout",
     "output_type": "stream",
     "text": [
      "Propability of occuring a loss - 0.0632\n"
     ]
    }
   ],
   "source": [
    "print(\"Propability of occuring a loss - {}\".format(proportion))"
   ]
  }
 ],
 "metadata": {
  "kernelspec": {
   "display_name": "Python 3",
   "language": "python",
   "name": "python3"
  },
  "language_info": {
   "codemirror_mode": {
    "name": "ipython",
    "version": 3
   },
   "file_extension": ".py",
   "mimetype": "text/x-python",
   "name": "python",
   "nbconvert_exporter": "python",
   "pygments_lexer": "ipython3",
   "version": "3.8.5"
  }
 },
 "nbformat": 4,
 "nbformat_minor": 4
}
