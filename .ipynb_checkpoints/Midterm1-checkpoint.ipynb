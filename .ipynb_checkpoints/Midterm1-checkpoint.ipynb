{
 "cells": [
  {
   "cell_type": "code",
   "execution_count": 15,
   "metadata": {},
   "outputs": [],
   "source": [
    "# Import needed libraries\n",
    "import matplotlib.pyplot as plt\n",
    "import statistics as st\n",
    "import random as rd\n",
    "import numpy as np\n",
    "import numpy.random as npr"
   ]
  },
  {
   "cell_type": "code",
   "execution_count": 7,
   "metadata": {},
   "outputs": [],
   "source": [
    "active_policy = 400\n",
    "\n",
    "file_clain_prob = 0.04\n",
    "vehicle_totaled_prob = 0.3 # Recieves full payout if totaled\n",
    "\n",
    "min_payout = 3000\n",
    "max_payout = 35000\n",
    "mean_payout = 15000\n",
    "\n",
    "not_totaled_payout_mean = 2000\n",
    "not_totaled_payout_std = 400\n",
    "\n",
    "trials = 10000"
   ]
  },
  {
   "cell_type": "code",
   "execution_count": 16,
   "metadata": {},
   "outputs": [],
   "source": [
    "def total_claims(trials):\n",
    "    sample = []\n",
    "    for trial in range(trials):\n",
    "\n",
    "        # Number of ppl who file claim\n",
    "        number_file_claim = npr.binomial(active_policy,file_clain_prob)\n",
    "        \n",
    "        # Number of claims with a totaled car\n",
    "        totaled_car = npr.binomial(number_file_claim,vehicle_totaled_prob)\n",
    "\n",
    "        # Number of claims not with a total car\n",
    "        not_totaled_car = number_file_claim - totaled_car\n",
    "        \n",
    "        # add total claim amounts\n",
    "        total_claims = 0\n",
    "        \n",
    "        # Loop over number of totaled car claims\n",
    "        for i in range(totaled_car):\n",
    "            totaled_claim_amount = rd.triangular(min_payout,max_payout,mean_payout)\n",
    "            total_claims = total_claims + totaled_claim_amount\n",
    "            \n",
    "        # loop over number of claims w/o a totaled car\n",
    "        for i in range(not_totaled_car):\n",
    "            not_totaled_claim_amount = rd.normalvariate(not_totaled_payout_mean,not_totaled_payout_std)\n",
    "            total_claims = total_claims + not_totaled_claim_amount\n",
    "        \n",
    "        sample.append(total_claims)\n",
    "    return(sample)"
   ]
  },
  {
   "cell_type": "code",
   "execution_count": 17,
   "metadata": {},
   "outputs": [],
   "source": [
    "sample = total_claims(trials)"
   ]
  },
  {
   "cell_type": "code",
   "execution_count": 18,
   "metadata": {},
   "outputs": [
    {
     "data": {
      "text/plain": [
       "(array([ 258., 1416., 2712., 2687., 1715.,  832.,  276.,   81.,   19.,\n",
       "           4.]),\n",
       " array([  8505.06445058,  38216.37451475,  67927.68457893,  97638.9946431 ,\n",
       "        127350.30470727, 157061.61477145, 186772.92483562, 216484.23489979,\n",
       "        246195.54496397, 275906.85502814, 305618.16509231]),\n",
       " <BarContainer object of 10 artists>)"
      ]
     },
     "execution_count": 18,
     "metadata": {},
     "output_type": "execute_result"
    },
    {
     "data": {
      "image/png": "[encoded data removed]",
      "text/plain": [
       "<Figure size 432x288 with 1 Axes>"
      ]
     },
     "metadata": {
      "needs_background": "light"
     },
     "output_type": "display_data"
    }
   ],
   "source": [
    "plt.hist(sample, edgecolor='k')"
   ]
  },
  {
   "cell_type": "code",
   "execution_count": 19,
   "metadata": {},
   "outputs": [
    {
     "name": "stdout",
     "output_type": "stream",
     "text": [
      "Max - 305618.1650923137\n",
      "Median - 103991.82550074768\n",
      "Mean - 107505.42704669495\n",
      "Min - 8505.064450580363\n"
     ]
    }
   ],
   "source": [
    "print(\"Max - {}\".format(max(sample)))\n",
    "print(\"Median - {}\".format(st.median(sample)))\n",
    "print(\"Mean - {}\".format(st.mean(sample)))\n",
    "print(\"Min - {}\".format(min(sample)))"
   ]
  },
  {
   "cell_type": "code",
   "execution_count": 20,
   "metadata": {},
   "outputs": [
    {
     "name": "stdout",
     "output_type": "stream",
     "text": [
      "The 90% confidence interval for the mean total claims is (106701.71, 108309.15)\n"
     ]
    }
   ],
   "source": [
    "# Compute the 95% confidence interval\n",
    "sample_mean = st.mean(sample)\n",
    "sample_std = st.stdev(sample)\n",
    "moe = 1.96 * sample_std / len(sample) ** 0.5\n",
    "lcl = sample_mean - moe\n",
    "ucl = sample_mean + moe\n",
    "print('The 90%% confidence interval for the mean total claims is (%6.2f, %6.2f)' % (lcl,ucl))"
   ]
  },
  {
   "cell_type": "code",
   "execution_count": 21,
   "metadata": {},
   "outputs": [
    {
     "name": "stdout",
     "output_type": "stream",
     "text": [
      "There is a 10.86 chance of more than than 160000\n"
     ]
    }
   ],
   "source": [
    "#  probability of making a profit of at least $3,800 on a single night\n",
    "more_than = 160000\n",
    "proportion = sum(1 for x in sample if x >= more_than) / len(sample)\n",
    "print('There is a {} chance of more than than {}'.format(proportion*100,more_than))"
   ]
  },
  {
   "cell_type": "code",
   "execution_count": 22,
   "metadata": {},
   "outputs": [
    {
     "name": "stdout",
     "output_type": "stream",
     "text": [
      "The 90% confidence interval for the probability of annual claims cost exceeds $160,000 is (0.1035, 0.1137).\n"
     ]
    }
   ],
   "source": [
    "moe = 1.6455 * (proportion * (1 - proportion) / len(sample)) ** 0.5\n",
    "lcl = proportion - moe\n",
    "if lcl < 0.0: lcl = 0.0\n",
    "ucl = proportion + moe\n",
    "print('The 90%% confidence interval for the probability of annual claims cost exceeds $160,000 is (%6.4f, %6.4f).' % (lcl,ucl))"
   ]
  },
  {
   "cell_type": "code",
   "execution_count": 24,
   "metadata": {},
   "outputs": [],
   "source": [
    "min_cash = 160000\n",
    "max_cash = 300000\n",
    "\n",
    "cash_range = list(range(min_cash,max_cash,1000))\n",
    "cash_sample = []\n",
    "for cash in cash_range:\n",
    "    proportion = sum(1 for x in sample if x <= cash) / len(sample)\n",
    "    cash_sample.append(proportion)\n"
   ]
  },
  {
   "cell_type": "code",
   "execution_count": 26,
   "metadata": {},
   "outputs": [
    {
     "data": {
      "text/plain": [
       "[<matplotlib.lines.Line2D at 0x7fb589706a00>]"
      ]
     },
     "execution_count": 26,
     "metadata": {},
     "output_type": "execute_result"
    },
    {
     "data": {
      "image/png": "[encoded data removed]",
      "text/plain": [
       "<Figure size 432x288 with 1 Axes>"
      ]
     },
     "metadata": {
      "needs_background": "light"
     },
     "output_type": "display_data"
    }
   ],
   "source": [
    "plt.plot(cash_range,cash_sample)"
   ]
  },
  {
   "cell_type": "markdown",
   "metadata": {},
   "source": [
    "They should keep about $180,000 on them for a 95% probability of being able to pay its total annual claims cost from those assets"
   ]
  },
  {
   "cell_type": "code",
   "execution_count": null,
   "metadata": {},
   "outputs": [],
   "source": []
  }
 ],
 "metadata": {
  "kernelspec": {
   "display_name": "Python 3",
   "language": "python",
   "name": "python3"
  },
  "language_info": {
   "codemirror_mode": {
    "name": "ipython",
    "version": 3
   },
   "file_extension": ".py",
   "mimetype": "text/x-python",
   "name": "python",
   "nbconvert_exporter": "python",
   "pygments_lexer": "ipython3",
   "version": "3.8.5"
  }
 },
 "nbformat": 4,
 "nbformat_minor": 4
}
