{
 "cells": [
  {
   "cell_type": "code",
   "execution_count": 1,
   "metadata": {},
   "outputs": [],
   "source": [
    "# import Glop package\n",
    "from ortools.linear_solver import pywraplp as glp\n",
    "import lptools as lpt\n",
    "import matplotlib.pyplot as plt"
   ]
  },
  {
   "cell_type": "code",
   "execution_count": 2,
   "metadata": {},
   "outputs": [],
   "source": [
    "#Create LP model object\n",
    "mymodel = glp.Solver('CMC',glp.Solver.GLOP_LINEAR_PROGRAMMING)"
   ]
  },
  {
   "cell_type": "code",
   "execution_count": 3,
   "metadata": {},
   "outputs": [
    {
     "data": {
      "text/plain": [
       "[450, 425]"
      ]
     },
     "execution_count": 3,
     "metadata": {},
     "output_type": "execute_result"
    }
   ],
   "source": [
    "sellprice = [700, 600]\n",
    "cost = [250, 175]\n",
    "\n",
    "netprofit = [a - b for a, b in zip(sellprice, cost)] # $/ton\n",
    "netprofit"
   ]
  },
  {
   "cell_type": "code",
   "execution_count": 24,
   "metadata": {},
   "outputs": [],
   "source": [
    "mymodel.Clear()\n",
    "inf = mymodel.infinity()\n",
    "\n",
    "variables = {# Amount of prime steel scrap used in prime\n",
    "            'primePRIME': (0, inf, netprofit[0]),\n",
    "             # Amount of prime base scrap used in prime\n",
    "            'primeBASE' : (0, inf, 700 - 175),\n",
    "             # Amount of prime base scrap used in base\n",
    "            'base': (0, inf,  netprofit[1]),\n",
    "            }\n",
    "\n",
    "# Limit to the amount of prime scrap available\n",
    "constraints = {'primeScrap':  (-inf, 1000, [1, 0, 1]),\n",
    "               # # Limit to the amount of base scrap available\n",
    "               'baseScrap': (-inf, 6000, [0, 1, 1]),\n",
    "                # proportion of prime scarp used in prime steel\n",
    "               'proportaionPRIME': (0, inf, [.75, -.25, 0]),\n",
    "               # Minimum amount of prime scrap needed\n",
    "               'amountPrime': (500,inf, [1,1,0]),\n",
    "                # Minimum amount of base scrap needed\n",
    "               'amountBase' : (100, inf, [0,0,1])\n",
    "              }\n",
    "\n",
    "# Im not sure why the model wont run when 1500 is set the amout of base needde"
   ]
  },
  {
   "cell_type": "code",
   "execution_count": 25,
   "metadata": {},
   "outputs": [],
   "source": [
    "mymodel.Objective().SetMaximization()\n",
    "\n",
    "for v in variables:\n",
    "    (lb,ub,c) = variables[v]\n",
    "    var = mymodel.NumVar(lb, ub, v)\n",
    "    mymodel.Objective().SetCoefficient(var, c)"
   ]
  },
  {
   "cell_type": "code",
   "execution_count": 26,
   "metadata": {},
   "outputs": [
    {
     "name": "stdout",
     "output_type": "stream",
     "text": [
      "Variables:\n",
      "primePRIME, primeBASE, base \n",
      "\n",
      "maximize: 450.0*primePRIME + 525.0*primeBASE + 425.0*base \n",
      "\n",
      "Subject To:\n",
      "\n",
      "Bounds:\n",
      "primePRIME >= 0.0\n",
      "primeBASE >= 0.0\n",
      "base >= 0.0\n"
     ]
    }
   ],
   "source": [
    "lpt.print_model(mymodel)"
   ]
  },
  {
   "cell_type": "code",
   "execution_count": 27,
   "metadata": {},
   "outputs": [],
   "source": [
    "# Create Constraints\n",
    "\n",
    "for c in constraints:\n",
    "    (lb,ub,coeff_lst) = constraints[c]\n",
    "    constr = mymodel.Constraint(lb,ub,c)\n",
    "    \n",
    "    for (v,coeff) in zip(mymodel.variables(),coeff_lst):\n",
    "        constr.SetCoefficient(v,coeff)"
   ]
  },
  {
   "cell_type": "code",
   "execution_count": 28,
   "metadata": {},
   "outputs": [
    {
     "name": "stdout",
     "output_type": "stream",
     "text": [
      "Variables:\n",
      "primePRIME, primeBASE, base \n",
      "\n",
      "maximize: 450.0*primePRIME + 525.0*primeBASE + 425.0*base \n",
      "\n",
      "Subject To:\n",
      "primeScrap: 1.0*primePRIME + 1.0*base <= 1000.0\n",
      "baseScrap: 1.0*primeBASE + 1.0*base <= 6000.0\n",
      "proportaionPRIME: 0.75*primePRIME - 0.25*primeBASE >= 0.0\n",
      "amountPrime: 1.0*primePRIME + 1.0*primeBASE >= 500.0\n",
      "amountBase: 1.0*base >= 100.0\n",
      "\n",
      "Bounds:\n",
      "primePRIME >= 0.0\n",
      "primeBASE >= 0.0\n",
      "base >= 0.0\n"
     ]
    }
   ],
   "source": [
    "lpt.print_model(mymodel)"
   ]
  },
  {
   "cell_type": "code",
   "execution_count": 29,
   "metadata": {},
   "outputs": [
    {
     "name": "stdout",
     "output_type": "stream",
     "text": [
      "Solution Status = 0\n",
      "Optimal Value = 1865000.00\n",
      "primePRIME = 900.00\n",
      "primeBASE = 2700.00\n",
      "base = 100.00\n"
     ]
    }
   ],
   "source": [
    "# solve model and display results\n",
    "status = mymodel.Solve()\n",
    "print('Solution Status =',status )\n",
    "print('Optimal Value = %.2f' %  mymodel.Objective().Value())\n",
    "for v in mymodel.variables():\n",
    "    print('%s = %.2f' % (v.name() , v.solution_value()))"
   ]
  },
  {
   "cell_type": "markdown",
   "metadata": {},
   "source": [
    "^ Answer to A"
   ]
  },
  {
   "cell_type": "code",
   "execution_count": 10,
   "metadata": {},
   "outputs": [
    {
     "name": "stdout",
     "output_type": "stream",
     "text": [
      "Constraint    LB    Value  UB     Dual\n",
      "primeScrap   -inf  1000.0  1000.0  2025.00\n",
      " baseScrap   -inf  2000.0  6000.0   0.00\n",
      "proportaionPRIME    0.0    0.0    inf  -2100.00\n",
      "amountPrime  500.0  2000.0    inf   0.00\n",
      "amountBase  500.0  500.0    inf  -1600.00\n"
     ]
    }
   ],
   "source": [
    "#display constraint information\n",
    "print('Constraint    LB    Value  UB     Dual')\n",
    "for (c,lhs) in zip(mymodel.constraints(),mymodel.ComputeConstraintActivities()):\n",
    "    print('%10s  %5.1f  %5.1f  %5.1f  %5.2f' % (c.name() ,c.lb() ,lhs ,c.ub() ,c.dual_value() ))"
   ]
  },
  {
   "cell_type": "code",
   "execution_count": 11,
   "metadata": {},
   "outputs": [
    {
     "name": "stdout",
     "output_type": "stream",
     "text": [
      "0 0.0\n",
      "100 0.0\n",
      "200 0.0\n",
      "300 0.0\n",
      "400 0.0\n",
      "500 437500.0\n",
      "600 490000.0\n",
      "700 542500.0\n",
      "800 595000.0\n",
      "900 647500.0\n",
      "1000 700000.0\n",
      "1100 752500.0\n",
      "1200 805000.0\n",
      "1300 857500.0\n",
      "1400 910000.0\n",
      "1500 962500.0\n",
      "1600 1015000.0\n",
      "1700 1067500.0\n",
      "1800 1120000.0\n",
      "1900 1172500.0\n",
      "2000 1225000.0\n",
      "2100 1225000.0\n",
      "2200 1225000.0\n",
      "2300 1225000.0\n",
      "2400 1225000.0\n",
      "2500 1225000.0\n",
      "2600 1225000.0\n",
      "2700 1225000.0\n",
      "2800 1225000.0\n",
      "2900 1225000.0\n",
      "3000 1225000.0\n",
      "3100 1225000.0\n",
      "3200 1225000.0\n",
      "3300 1225000.0\n",
      "3400 1225000.0\n",
      "3500 1225000.0\n",
      "3600 1225000.0\n",
      "3700 1225000.0\n",
      "3800 1225000.0\n",
      "3900 1225000.0\n",
      "4000 1225000.0\n",
      "4100 1225000.0\n",
      "4200 1225000.0\n",
      "4300 1225000.0\n",
      "4400 1225000.0\n",
      "4500 1225000.0\n",
      "4600 1225000.0\n",
      "4700 1225000.0\n",
      "4800 1225000.0\n",
      "4900 1225000.0\n",
      "5000 1225000.0\n",
      "5100 1225000.0\n",
      "5200 1225000.0\n",
      "5300 1225000.0\n",
      "5400 1225000.0\n",
      "5500 1225000.0\n",
      "5600 1225000.0\n",
      "5700 1225000.0\n",
      "5800 1225000.0\n",
      "5900 1225000.0\n"
     ]
    },
    {
     "data": {
      "text/plain": [
       "[<matplotlib.lines.Line2D at 0x7ffb95bfa790>]"
      ]
     },
     "execution_count": 11,
     "metadata": {},
     "output_type": "execute_result"
    },
    {
     "data": {
      "image/png": "[encoded data removed]",
      "text/plain": [
       "<Figure size 432x288 with 1 Axes>"
      ]
     },
     "metadata": {
      "needs_background": "light"
     },
     "output_type": "display_data"
    }
   ],
   "source": [
    "# parameter analysis for baseScrap\n",
    "param_lst =list(range(0,6000,100))\n",
    "optval_lst = list()\n",
    "\n",
    "constr = mymodel.constraints()[1]\n",
    "for b in param_lst:\n",
    "    constr.SetUb(b)\n",
    "    mymodel.Solve()\n",
    "    # Get the objective value (profit) and subtract the cost of additional overtime from the base case\n",
    "    profit = mymodel.Objective().Value()\n",
    "    print(b,profit)\n",
    "    optval_lst.append(profit)\n",
    "plt.plot(param_lst,optval_lst)"
   ]
  },
  {
   "cell_type": "markdown",
   "metadata": {},
   "source": [
    "The optimal value is 0 up to 1500 as there is a requirement for the company to sell 1500 tons of the standerd steel. Once this hits, the optimal value shoots way up. Once you hit BLANK, there is a cap on the amount of base scrap that can be used."
   ]
  },
  {
   "cell_type": "markdown",
   "metadata": {},
   "source": [
    "No they should not sell at this price. At a price of that low, they cannot make an appripriot profit off the premium steel"
   ]
  },
  {
   "cell_type": "code",
   "execution_count": null,
   "metadata": {},
   "outputs": [],
   "source": []
  }
 ],
 "metadata": {
  "kernelspec": {
   "display_name": "Python 3",
   "language": "python",
   "name": "python3"
  },
  "language_info": {
   "codemirror_mode": {
    "name": "ipython",
    "version": 3
   },
   "file_extension": ".py",
   "mimetype": "text/x-python",
   "name": "python",
   "nbconvert_exporter": "python",
   "pygments_lexer": "ipython3",
   "version": "3.8.5"
  }
 },
 "nbformat": 4,
 "nbformat_minor": 4
}
