{
 "cells": [
  {
   "cell_type": "markdown",
   "metadata": {},
   "source": [
    "Problem 1"
   ]
  },
  {
   "cell_type": "code",
   "execution_count": 1,
   "metadata": {},
   "outputs": [],
   "source": [
    "# import Glop package\n",
    "from ortools.linear_solver import pywraplp as glp\n",
    "import lptools as lpt"
   ]
  },
  {
   "cell_type": "code",
   "execution_count": 2,
   "metadata": {},
   "outputs": [],
   "source": [
    "#Create LP model object\n",
    "mymodel = glp.Solver('Sports',glp.Solver.GLOP_LINEAR_PROGRAMMING)"
   ]
  },
  {
   "cell_type": "code",
   "execution_count": 3,
   "metadata": {},
   "outputs": [],
   "source": [
    "inf = mymodel.infinity()\n",
    "\n",
    "         # name: supply capacity, objective coefficient list\n",
    "source = {'Detroit': (350 , [25,25,35,40 ]),    #\n",
    "          'LA': (350 ,      [35,45,35,42.5 ]),\n",
    "          'Austin': (700,   [40,40,42.5,32.5])\n",
    "         }  \n",
    "\n",
    "        # name: supply capacity, objective coefficient list\n",
    "transship = {'Iowa':    (500, [30,27.5,30]),   #shipping cost per unit to each customer\n",
    "             'Maryland':(500, [20,32.5,40]),\n",
    "             'Idaho':   (500, [35,40,32.5]),\n",
    "             'Arkansas':(500, [27.5,25,42.5])\n",
    "            }   \n",
    "\n",
    "        # name: demand quantity required\n",
    "demand = {'JS': 200, 'SnS': 500, 'SD': 650}    # weekly customer demand for Just Sports, Sports N Stuff, and Sports Dude\n",
    "\n",
    "mymodel.Objective().SetMinimization()"
   ]
  },
  {
   "cell_type": "code",
   "execution_count": 4,
   "metadata": {},
   "outputs": [],
   "source": [
    "# create inbound shipment variables from suppliers to dcs and a dictionary to access them\n",
    "ship = dict()\n",
    "for s in source:\n",
    "    ship[s] = dict()\n",
    "    (b,coeff_lst) = source[s]\n",
    "    for (t,c) in zip(transship,coeff_lst):\n",
    "        ship[s][t] = mymodel.NumVar(0,inf, s + \".\" + t) \n",
    "        mymodel.Objective().SetCoefficient(ship[s][t], c)"
   ]
  },
  {
   "cell_type": "code",
   "execution_count": 5,
   "metadata": {},
   "outputs": [
    {
     "name": "stdout",
     "output_type": "stream",
     "text": [
      "{'Detroit': {'Iowa': Detroit.Iowa, 'Maryland': Detroit.Maryland, 'Idaho': Detroit.Idaho, 'Arkansas': Detroit.Arkansas}, 'LA': {'Iowa': LA.Iowa, 'Maryland': LA.Maryland, 'Idaho': LA.Idaho, 'Arkansas': LA.Arkansas}, 'Austin': {'Iowa': Austin.Iowa, 'Maryland': Austin.Maryland, 'Idaho': Austin.Idaho, 'Arkansas': Austin.Arkansas}}\n"
     ]
    }
   ],
   "source": [
    "print(ship)"
   ]
  },
  {
   "cell_type": "code",
   "execution_count": 6,
   "metadata": {},
   "outputs": [],
   "source": [
    "# create outbound shipment variables from DCs to Customers and a dictionary to access them\n",
    "for t in transship:\n",
    "    ship[t] = dict()\n",
    "    (b,coeff_lst) = transship[t]\n",
    "    for (d,c) in zip(demand,coeff_lst):\n",
    "        ship[t][d] = mymodel.NumVar(0,inf, t + \".\" + d )\n",
    "        mymodel.Objective().SetCoefficient(ship[t][d], c)"
   ]
  },
  {
   "cell_type": "code",
   "execution_count": 7,
   "metadata": {},
   "outputs": [
    {
     "name": "stdout",
     "output_type": "stream",
     "text": [
      "{'Detroit': {'Iowa': Detroit.Iowa, 'Maryland': Detroit.Maryland, 'Idaho': Detroit.Idaho, 'Arkansas': Detroit.Arkansas}, 'LA': {'Iowa': LA.Iowa, 'Maryland': LA.Maryland, 'Idaho': LA.Idaho, 'Arkansas': LA.Arkansas}, 'Austin': {'Iowa': Austin.Iowa, 'Maryland': Austin.Maryland, 'Idaho': Austin.Idaho, 'Arkansas': Austin.Arkansas}, 'Iowa': {'JS': Iowa.JS, 'SnS': Iowa.SnS, 'SD': Iowa.SD}, 'Maryland': {'JS': Maryland.JS, 'SnS': Maryland.SnS, 'SD': Maryland.SD}, 'Idaho': {'JS': Idaho.JS, 'SnS': Idaho.SnS, 'SD': Idaho.SD}, 'Arkansas': {'JS': Arkansas.JS, 'SnS': Arkansas.SnS, 'SD': Arkansas.SD}}\n"
     ]
    }
   ],
   "source": [
    "print(ship)"
   ]
  },
  {
   "cell_type": "code",
   "execution_count": 8,
   "metadata": {},
   "outputs": [],
   "source": [
    "# create source/supply constraints\n",
    "for s in source:\n",
    "    (b,coeff_lst) = source[s]\n",
    "    constr = mymodel.Constraint(-inf,b,s )\n",
    "    for t in transship:\n",
    "        constr.SetCoefficient(ship[s][t], 1)\n",
    "        \n",
    "# create DC\n",
    "for t in transship:\n",
    "    (b,coeff_lst) = transship[t]\n",
    "    constr = mymodel.Constraint(-inf,b,t )\n",
    "    for s in source:\n",
    "        constr.SetCoefficient(ship[s][t], 1)"
   ]
  },
  {
   "cell_type": "code",
   "execution_count": 9,
   "metadata": {},
   "outputs": [
    {
     "name": "stdout",
     "output_type": "stream",
     "text": [
      "Variables:\n",
      "Detroit.Iowa, Detroit.Maryland, Detroit.Idaho, Detroit.Arkansas, LA.Iowa, LA.Maryland, LA.Idaho, LA.Arkansas, Austin.Iowa, Austin.Maryland, Austin.Idaho, Austin.Arkansas, Iowa.JS, Iowa.SnS, Iowa.SD, Maryland.JS, Maryland.SnS, Maryland.SD, Idaho.JS, Idaho.SnS, Idaho.SD, Arkansas.JS, Arkansas.SnS, Arkansas.SD \n",
      "\n",
      "minimize: 25.0*Detroit.Iowa + 25.0*Detroit.Maryland + 35.0*Detroit.Idaho + 40.0*Detroit.Arkansas + 35.0*LA.Iowa + 45.0*LA.Maryland + 35.0*LA.Idaho + 42.5*LA.Arkansas + 40.0*Austin.Iowa + 40.0*Austin.Maryland + 42.5*Austin.Idaho + 32.5*Austin.Arkansas + 30.0*Iowa.JS + 27.5*Iowa.SnS + 30.0*Iowa.SD + 20.0*Maryland.JS + 32.5*Maryland.SnS + 40.0*Maryland.SD + 35.0*Idaho.JS + 40.0*Idaho.SnS + 32.5*Idaho.SD + 27.5*Arkansas.JS + 25.0*Arkansas.SnS + 42.5*Arkansas.SD \n",
      "\n",
      "Subject To:\n",
      "Detroit: 1.0*Detroit.Iowa + 1.0*Detroit.Maryland + 1.0*Detroit.Idaho + 1.0*Detroit.Arkansas <= 350.0\n",
      "LA: 1.0*LA.Iowa + 1.0*LA.Maryland + 1.0*LA.Idaho + 1.0*LA.Arkansas <= 350.0\n",
      "Austin: 1.0*Austin.Iowa + 1.0*Austin.Maryland + 1.0*Austin.Idaho + 1.0*Austin.Arkansas <= 700.0\n",
      "Iowa: 1.0*Detroit.Iowa + 1.0*LA.Iowa + 1.0*Austin.Iowa <= 500.0\n",
      "Maryland: 1.0*Detroit.Maryland + 1.0*LA.Maryland + 1.0*Austin.Maryland <= 500.0\n",
      "Idaho: 1.0*Detroit.Idaho + 1.0*LA.Idaho + 1.0*Austin.Idaho <= 500.0\n",
      "Arkansas: 1.0*Detroit.Arkansas + 1.0*LA.Arkansas + 1.0*Austin.Arkansas <= 500.0\n",
      "\n",
      "Bounds:\n",
      "Detroit.Iowa >= 0.0\n",
      "Detroit.Maryland >= 0.0\n",
      "Detroit.Idaho >= 0.0\n",
      "Detroit.Arkansas >= 0.0\n",
      "LA.Iowa >= 0.0\n",
      "LA.Maryland >= 0.0\n",
      "LA.Idaho >= 0.0\n",
      "LA.Arkansas >= 0.0\n",
      "Austin.Iowa >= 0.0\n",
      "Austin.Maryland >= 0.0\n",
      "Austin.Idaho >= 0.0\n",
      "Austin.Arkansas >= 0.0\n",
      "Iowa.JS >= 0.0\n",
      "Iowa.SnS >= 0.0\n",
      "Iowa.SD >= 0.0\n",
      "Maryland.JS >= 0.0\n",
      "Maryland.SnS >= 0.0\n",
      "Maryland.SD >= 0.0\n",
      "Idaho.JS >= 0.0\n",
      "Idaho.SnS >= 0.0\n",
      "Idaho.SD >= 0.0\n",
      "Arkansas.JS >= 0.0\n",
      "Arkansas.SnS >= 0.0\n",
      "Arkansas.SD >= 0.0\n"
     ]
    }
   ],
   "source": [
    "lpt.print_model(mymodel)"
   ]
  },
  {
   "cell_type": "code",
   "execution_count": 10,
   "metadata": {},
   "outputs": [],
   "source": [
    "# create demand constraints\n",
    "for d in demand:\n",
    "    lb = ub = demand[d]\n",
    "    constr = mymodel.Constraint(lb,ub,d)\n",
    "    for t in transship:\n",
    "        constr.SetCoefficient(ship[t][d], 1)"
   ]
  },
  {
   "cell_type": "code",
   "execution_count": 11,
   "metadata": {},
   "outputs": [
    {
     "name": "stdout",
     "output_type": "stream",
     "text": [
      "Variables:\n",
      "Detroit.Iowa, Detroit.Maryland, Detroit.Idaho, Detroit.Arkansas, LA.Iowa, LA.Maryland, LA.Idaho, LA.Arkansas, Austin.Iowa, Austin.Maryland, Austin.Idaho, Austin.Arkansas, Iowa.JS, Iowa.SnS, Iowa.SD, Maryland.JS, Maryland.SnS, Maryland.SD, Idaho.JS, Idaho.SnS, Idaho.SD, Arkansas.JS, Arkansas.SnS, Arkansas.SD \n",
      "\n",
      "minimize: 25.0*Detroit.Iowa + 25.0*Detroit.Maryland + 35.0*Detroit.Idaho + 40.0*Detroit.Arkansas + 35.0*LA.Iowa + 45.0*LA.Maryland + 35.0*LA.Idaho + 42.5*LA.Arkansas + 40.0*Austin.Iowa + 40.0*Austin.Maryland + 42.5*Austin.Idaho + 32.5*Austin.Arkansas + 30.0*Iowa.JS + 27.5*Iowa.SnS + 30.0*Iowa.SD + 20.0*Maryland.JS + 32.5*Maryland.SnS + 40.0*Maryland.SD + 35.0*Idaho.JS + 40.0*Idaho.SnS + 32.5*Idaho.SD + 27.5*Arkansas.JS + 25.0*Arkansas.SnS + 42.5*Arkansas.SD \n",
      "\n",
      "Subject To:\n",
      "Detroit: 1.0*Detroit.Iowa + 1.0*Detroit.Maryland + 1.0*Detroit.Idaho + 1.0*Detroit.Arkansas <= 350.0\n",
      "LA: 1.0*LA.Iowa + 1.0*LA.Maryland + 1.0*LA.Idaho + 1.0*LA.Arkansas <= 350.0\n",
      "Austin: 1.0*Austin.Iowa + 1.0*Austin.Maryland + 1.0*Austin.Idaho + 1.0*Austin.Arkansas <= 700.0\n",
      "Iowa: 1.0*Detroit.Iowa + 1.0*LA.Iowa + 1.0*Austin.Iowa <= 500.0\n",
      "Maryland: 1.0*Detroit.Maryland + 1.0*LA.Maryland + 1.0*Austin.Maryland <= 500.0\n",
      "Idaho: 1.0*Detroit.Idaho + 1.0*LA.Idaho + 1.0*Austin.Idaho <= 500.0\n",
      "Arkansas: 1.0*Detroit.Arkansas + 1.0*LA.Arkansas + 1.0*Austin.Arkansas <= 500.0\n",
      "JS: 1.0*Iowa.JS + 1.0*Maryland.JS + 1.0*Idaho.JS + 1.0*Arkansas.JS = 200.0\n",
      "SnS: 1.0*Iowa.SnS + 1.0*Maryland.SnS + 1.0*Idaho.SnS + 1.0*Arkansas.SnS = 500.0\n",
      "SD: 1.0*Iowa.SD + 1.0*Maryland.SD + 1.0*Idaho.SD + 1.0*Arkansas.SD = 650.0\n",
      "\n",
      "Bounds:\n",
      "Detroit.Iowa >= 0.0\n",
      "Detroit.Maryland >= 0.0\n",
      "Detroit.Idaho >= 0.0\n",
      "Detroit.Arkansas >= 0.0\n",
      "LA.Iowa >= 0.0\n",
      "LA.Maryland >= 0.0\n",
      "LA.Idaho >= 0.0\n",
      "LA.Arkansas >= 0.0\n",
      "Austin.Iowa >= 0.0\n",
      "Austin.Maryland >= 0.0\n",
      "Austin.Idaho >= 0.0\n",
      "Austin.Arkansas >= 0.0\n",
      "Iowa.JS >= 0.0\n",
      "Iowa.SnS >= 0.0\n",
      "Iowa.SD >= 0.0\n",
      "Maryland.JS >= 0.0\n",
      "Maryland.SnS >= 0.0\n",
      "Maryland.SD >= 0.0\n",
      "Idaho.JS >= 0.0\n",
      "Idaho.SnS >= 0.0\n",
      "Idaho.SD >= 0.0\n",
      "Arkansas.JS >= 0.0\n",
      "Arkansas.SnS >= 0.0\n",
      "Arkansas.SD >= 0.0\n"
     ]
    }
   ],
   "source": [
    "lpt.print_model(mymodel)"
   ]
  },
  {
   "cell_type": "code",
   "execution_count": 12,
   "metadata": {},
   "outputs": [],
   "source": [
    "# create transshipment flow balance constraints\n",
    "for t in transship:\n",
    "    constr = mymodel.Constraint(0,0,t )\n",
    "    for s in source:\n",
    "        constr.SetCoefficient(ship[s][t], 1)\n",
    "    for d in demand:\n",
    "        constr.SetCoefficient(ship[t][d], -1)"
   ]
  },
  {
   "cell_type": "code",
   "execution_count": 13,
   "metadata": {},
   "outputs": [
    {
     "name": "stdout",
     "output_type": "stream",
     "text": [
      "Variables:\n",
      "Detroit.Iowa, Detroit.Maryland, Detroit.Idaho, Detroit.Arkansas, LA.Iowa, LA.Maryland, LA.Idaho, LA.Arkansas, Austin.Iowa, Austin.Maryland, Austin.Idaho, Austin.Arkansas, Iowa.JS, Iowa.SnS, Iowa.SD, Maryland.JS, Maryland.SnS, Maryland.SD, Idaho.JS, Idaho.SnS, Idaho.SD, Arkansas.JS, Arkansas.SnS, Arkansas.SD \n",
      "\n",
      "minimize: 25.0*Detroit.Iowa + 25.0*Detroit.Maryland + 35.0*Detroit.Idaho + 40.0*Detroit.Arkansas + 35.0*LA.Iowa + 45.0*LA.Maryland + 35.0*LA.Idaho + 42.5*LA.Arkansas + 40.0*Austin.Iowa + 40.0*Austin.Maryland + 42.5*Austin.Idaho + 32.5*Austin.Arkansas + 30.0*Iowa.JS + 27.5*Iowa.SnS + 30.0*Iowa.SD + 20.0*Maryland.JS + 32.5*Maryland.SnS + 40.0*Maryland.SD + 35.0*Idaho.JS + 40.0*Idaho.SnS + 32.5*Idaho.SD + 27.5*Arkansas.JS + 25.0*Arkansas.SnS + 42.5*Arkansas.SD \n",
      "\n",
      "Subject To:\n",
      "Detroit: 1.0*Detroit.Iowa + 1.0*Detroit.Maryland + 1.0*Detroit.Idaho + 1.0*Detroit.Arkansas <= 350.0\n",
      "LA: 1.0*LA.Iowa + 1.0*LA.Maryland + 1.0*LA.Idaho + 1.0*LA.Arkansas <= 350.0\n",
      "Austin: 1.0*Austin.Iowa + 1.0*Austin.Maryland + 1.0*Austin.Idaho + 1.0*Austin.Arkansas <= 700.0\n",
      "Iowa: 1.0*Detroit.Iowa + 1.0*LA.Iowa + 1.0*Austin.Iowa <= 500.0\n",
      "Maryland: 1.0*Detroit.Maryland + 1.0*LA.Maryland + 1.0*Austin.Maryland <= 500.0\n",
      "Idaho: 1.0*Detroit.Idaho + 1.0*LA.Idaho + 1.0*Austin.Idaho <= 500.0\n",
      "Arkansas: 1.0*Detroit.Arkansas + 1.0*LA.Arkansas + 1.0*Austin.Arkansas <= 500.0\n",
      "JS: 1.0*Iowa.JS + 1.0*Maryland.JS + 1.0*Idaho.JS + 1.0*Arkansas.JS = 200.0\n",
      "SnS: 1.0*Iowa.SnS + 1.0*Maryland.SnS + 1.0*Idaho.SnS + 1.0*Arkansas.SnS = 500.0\n",
      "SD: 1.0*Iowa.SD + 1.0*Maryland.SD + 1.0*Idaho.SD + 1.0*Arkansas.SD = 650.0\n",
      "Iowa: 1.0*Detroit.Iowa + 1.0*LA.Iowa + 1.0*Austin.Iowa - 1.0*Iowa.JS - 1.0*Iowa.SnS - 1.0*Iowa.SD = 0.0\n",
      "Maryland: 1.0*Detroit.Maryland + 1.0*LA.Maryland + 1.0*Austin.Maryland - 1.0*Maryland.JS - 1.0*Maryland.SnS - 1.0*Maryland.SD = 0.0\n",
      "Idaho: 1.0*Detroit.Idaho + 1.0*LA.Idaho + 1.0*Austin.Idaho - 1.0*Idaho.JS - 1.0*Idaho.SnS - 1.0*Idaho.SD = 0.0\n",
      "Arkansas: 1.0*Detroit.Arkansas + 1.0*LA.Arkansas + 1.0*Austin.Arkansas - 1.0*Arkansas.JS - 1.0*Arkansas.SnS - 1.0*Arkansas.SD = 0.0\n",
      "\n",
      "Bounds:\n",
      "Detroit.Iowa >= 0.0\n",
      "Detroit.Maryland >= 0.0\n",
      "Detroit.Idaho >= 0.0\n",
      "Detroit.Arkansas >= 0.0\n",
      "LA.Iowa >= 0.0\n",
      "LA.Maryland >= 0.0\n",
      "LA.Idaho >= 0.0\n",
      "LA.Arkansas >= 0.0\n",
      "Austin.Iowa >= 0.0\n",
      "Austin.Maryland >= 0.0\n",
      "Austin.Idaho >= 0.0\n",
      "Austin.Arkansas >= 0.0\n",
      "Iowa.JS >= 0.0\n",
      "Iowa.SnS >= 0.0\n",
      "Iowa.SD >= 0.0\n",
      "Maryland.JS >= 0.0\n",
      "Maryland.SnS >= 0.0\n",
      "Maryland.SD >= 0.0\n",
      "Idaho.JS >= 0.0\n",
      "Idaho.SnS >= 0.0\n",
      "Idaho.SD >= 0.0\n",
      "Arkansas.JS >= 0.0\n",
      "Arkansas.SnS >= 0.0\n",
      "Arkansas.SD >= 0.0\n"
     ]
    }
   ],
   "source": [
    "lpt.print_model(mymodel)"
   ]
  },
  {
   "cell_type": "code",
   "execution_count": 14,
   "metadata": {},
   "outputs": [
    {
     "name": "stdout",
     "output_type": "stream",
     "text": [
      "Solution Status = 0\n",
      "Optimal Value = 79625.00\n",
      "Detroit.Iowa = 150.00\n",
      "Detroit.Maryland = 200.00\n",
      "Detroit.Idaho = 0.00\n",
      "Detroit.Arkansas = 0.00\n",
      "LA.Iowa = 200.00\n",
      "LA.Maryland = 0.00\n",
      "LA.Idaho = 150.00\n",
      "LA.Arkansas = 0.00\n",
      "Austin.Iowa = 150.00\n",
      "Austin.Maryland = 0.00\n",
      "Austin.Idaho = 0.00\n",
      "Austin.Arkansas = 500.00\n",
      "Iowa.JS = 0.00\n",
      "Iowa.SnS = 0.00\n",
      "Iowa.SD = 500.00\n",
      "Maryland.JS = 200.00\n",
      "Maryland.SnS = 0.00\n",
      "Maryland.SD = 0.00\n",
      "Idaho.JS = 0.00\n",
      "Idaho.SnS = 0.00\n",
      "Idaho.SD = 150.00\n",
      "Arkansas.JS = 0.00\n",
      "Arkansas.SnS = 500.00\n",
      "Arkansas.SD = 0.00\n"
     ]
    }
   ],
   "source": [
    "#solve model and display results\n",
    "status = mymodel.Solve()\n",
    "print('Solution Status =',status)\n",
    "print('Optimal Value = %.2f' % mymodel.Objective().Value())\n",
    "\n",
    "optimal_value1 = mymodel.Objective().Value()\n",
    "for v in mymodel.variables():\n",
    "    print('%s = %.2f' % (v.name(),v.solution_value()))"
   ]
  },
  {
   "cell_type": "code",
   "execution_count": 15,
   "metadata": {},
   "outputs": [
    {
     "name": "stdout",
     "output_type": "stream",
     "text": [
      "Variable    LB   Value    UB   Reduced Cost\n",
      "Detroit.Iowa    0.0  150.0    inf   0.00\n",
      "Detroit.Maryland    0.0  200.0    inf   0.00\n",
      "Detroit.Idaho    0.0    0.0    inf  10.00\n",
      "Detroit.Arkansas    0.0    0.0    inf  22.50\n",
      " LA.Iowa    0.0  200.0    inf   0.00\n",
      "LA.Maryland    0.0    0.0    inf  10.00\n",
      "LA.Idaho    0.0  150.0    inf   0.00\n",
      "LA.Arkansas    0.0    0.0    inf  15.00\n",
      "Austin.Iowa    0.0  150.0    inf   0.00\n",
      "Austin.Maryland    0.0    0.0    inf   0.00\n",
      "Austin.Idaho    0.0    0.0    inf   2.50\n",
      "Austin.Arkansas    0.0  500.0    inf   0.00\n",
      " Iowa.JS    0.0    0.0    inf  12.50\n",
      "Iowa.SnS    0.0    0.0    inf  12.50\n",
      " Iowa.SD    0.0  500.0    inf   0.00\n",
      "Maryland.JS    0.0  200.0    inf   0.00\n",
      "Maryland.SnS    0.0    0.0    inf  15.00\n",
      "Maryland.SD    0.0    0.0    inf   7.50\n",
      "Idaho.JS    0.0    0.0    inf  15.00\n",
      "Idaho.SnS    0.0    0.0    inf  22.50\n",
      "Idaho.SD    0.0  150.0    inf   0.00\n",
      "Arkansas.JS    0.0    0.0    inf   0.00\n",
      "Arkansas.SnS    0.0  500.0    inf   0.00\n",
      "Arkansas.SD    0.0    0.0    inf   2.50\n"
     ]
    }
   ],
   "source": [
    "# display all variable information\n",
    "print('Variable    LB   Value    UB   Reduced Cost')\n",
    "for v in mymodel.variables():\n",
    "    print('%8s  %5.1f  %5.1f  %5.1f  %5.2f' % (v.name(),v.lb(),v.solution_value(),v.ub(),v.reduced_cost()))"
   ]
  },
  {
   "cell_type": "code",
   "execution_count": 16,
   "metadata": {},
   "outputs": [
    {
     "name": "stdout",
     "output_type": "stream",
     "text": [
      "Variable    LB   Value    UB   Reduced Cost\n",
      "Detroit.Iowa    0.0  150.0    inf   0.00\n",
      "Detroit.Maryland    0.0  200.0    inf   0.00\n",
      " LA.Iowa    0.0  200.0    inf   0.00\n",
      "LA.Idaho    0.0  150.0    inf   0.00\n",
      "Austin.Iowa    0.0  150.0    inf   0.00\n",
      "Austin.Arkansas    0.0  500.0    inf   0.00\n",
      " Iowa.SD    0.0  500.0    inf   0.00\n",
      "Maryland.JS    0.0  200.0    inf   0.00\n",
      "Idaho.SD    0.0  150.0    inf   0.00\n",
      "Arkansas.SnS    0.0  500.0    inf   0.00\n"
     ]
    }
   ],
   "source": [
    "# only print nonzero shipment variables\n",
    "print('Variable    LB   Value    UB   Reduced Cost')\n",
    "for v in mymodel.variables():\n",
    "    if v.solution_value() != 0:\n",
    "        print('%8s  %5.1f  %5.1f  %5.1f  %5.2f' % (v.name(),v.lb(),v.solution_value(),v.ub(),v.reduced_cost()))"
   ]
  },
  {
   "cell_type": "code",
   "execution_count": 17,
   "metadata": {},
   "outputs": [
    {
     "name": "stdout",
     "output_type": "stream",
     "text": [
      "Constraint    LB    Value  UB     Dual\n",
      "   Detroit   -inf  350.0  350.0  -15.00\n",
      "        LA   -inf  350.0  350.0  -5.00\n",
      "    Austin   -inf  650.0  700.0   0.00\n",
      "      Iowa   -inf  500.0  500.0  -2.50\n",
      "  Maryland   -inf  200.0  500.0   0.00\n",
      "     Idaho   -inf  150.0  500.0   0.00\n",
      "  Arkansas   -inf  500.0  500.0   0.00\n",
      "        JS  200.0  200.0  200.0  60.00\n",
      "       SnS  500.0  500.0  500.0  57.50\n",
      "        SD  650.0  650.0  650.0  72.50\n",
      "      Iowa    0.0    0.0    0.0  42.50\n",
      "  Maryland    0.0    0.0    0.0  40.00\n",
      "     Idaho    0.0    0.0    0.0  40.00\n",
      "  Arkansas    0.0    0.0    0.0  32.50\n"
     ]
    }
   ],
   "source": [
    "#display constraint information\n",
    "print('Constraint    LB    Value  UB     Dual')\n",
    "for (c,lhs) in zip(mymodel.constraints(),mymodel.ComputeConstraintActivities()):\n",
    "    print('%10s  %5.1f  %5.1f  %5.1f  %5.2f' % (c.name(),c.lb(),lhs,c.ub(),c.dual_value()))"
   ]
  },
  {
   "cell_type": "markdown",
   "metadata": {},
   "source": [
    "Part 2, increase iowa capacity to 800 per week"
   ]
  },
  {
   "cell_type": "code",
   "execution_count": 18,
   "metadata": {},
   "outputs": [
    {
     "name": "stdout",
     "output_type": "stream",
     "text": [
      "Variables:\n",
      "Detroit.Iowa, Detroit.Maryland, Detroit.Idaho, Detroit.Arkansas, LA.Iowa, LA.Maryland, LA.Idaho, LA.Arkansas, Austin.Iowa, Austin.Maryland, Austin.Idaho, Austin.Arkansas, Iowa.JS, Iowa.SnS, Iowa.SD, Maryland.JS, Maryland.SnS, Maryland.SD, Idaho.JS, Idaho.SnS, Idaho.SD, Arkansas.JS, Arkansas.SnS, Arkansas.SD \n",
      "\n",
      "minimize: 25.0*Detroit.Iowa + 25.0*Detroit.Maryland + 35.0*Detroit.Idaho + 40.0*Detroit.Arkansas + 35.0*LA.Iowa + 45.0*LA.Maryland + 35.0*LA.Idaho + 42.5*LA.Arkansas + 40.0*Austin.Iowa + 40.0*Austin.Maryland + 42.5*Austin.Idaho + 32.5*Austin.Arkansas + 30.0*Iowa.JS + 27.5*Iowa.SnS + 30.0*Iowa.SD + 20.0*Maryland.JS + 32.5*Maryland.SnS + 40.0*Maryland.SD + 35.0*Idaho.JS + 40.0*Idaho.SnS + 32.5*Idaho.SD + 27.5*Arkansas.JS + 25.0*Arkansas.SnS + 42.5*Arkansas.SD \n",
      "\n",
      "Subject To:\n",
      "Detroit: 1.0*Detroit.Iowa + 1.0*Detroit.Maryland + 1.0*Detroit.Idaho + 1.0*Detroit.Arkansas <= 350.0\n",
      "LA: 1.0*LA.Iowa + 1.0*LA.Maryland + 1.0*LA.Idaho + 1.0*LA.Arkansas <= 350.0\n",
      "Austin: 1.0*Austin.Iowa + 1.0*Austin.Maryland + 1.0*Austin.Idaho + 1.0*Austin.Arkansas <= 700.0\n",
      "Iowa: 1.0*Detroit.Iowa + 1.0*LA.Iowa + 1.0*Austin.Iowa <= 500.0\n",
      "Maryland: 1.0*Detroit.Maryland + 1.0*LA.Maryland + 1.0*Austin.Maryland <= 500.0\n",
      "Idaho: 1.0*Detroit.Idaho + 1.0*LA.Idaho + 1.0*Austin.Idaho <= 500.0\n",
      "Arkansas: 1.0*Detroit.Arkansas + 1.0*LA.Arkansas + 1.0*Austin.Arkansas <= 500.0\n",
      "JS: 1.0*Iowa.JS + 1.0*Maryland.JS + 1.0*Idaho.JS + 1.0*Arkansas.JS = 200.0\n",
      "SnS: 1.0*Iowa.SnS + 1.0*Maryland.SnS + 1.0*Idaho.SnS + 1.0*Arkansas.SnS = 500.0\n",
      "SD: 1.0*Iowa.SD + 1.0*Maryland.SD + 1.0*Idaho.SD + 1.0*Arkansas.SD = 650.0\n",
      "Iowa: 1.0*Detroit.Iowa + 1.0*LA.Iowa + 1.0*Austin.Iowa - 1.0*Iowa.JS - 1.0*Iowa.SnS - 1.0*Iowa.SD = 0.0\n",
      "Maryland: 1.0*Detroit.Maryland + 1.0*LA.Maryland + 1.0*Austin.Maryland - 1.0*Maryland.JS - 1.0*Maryland.SnS - 1.0*Maryland.SD = 0.0\n",
      "Idaho: 1.0*Detroit.Idaho + 1.0*LA.Idaho + 1.0*Austin.Idaho - 1.0*Idaho.JS - 1.0*Idaho.SnS - 1.0*Idaho.SD = 0.0\n",
      "Arkansas: 1.0*Detroit.Arkansas + 1.0*LA.Arkansas + 1.0*Austin.Arkansas - 1.0*Arkansas.JS - 1.0*Arkansas.SnS - 1.0*Arkansas.SD = 0.0\n",
      "\n",
      "Bounds:\n",
      "Detroit.Iowa >= 0.0\n",
      "Detroit.Maryland >= 0.0\n",
      "Detroit.Idaho >= 0.0\n",
      "Detroit.Arkansas >= 0.0\n",
      "LA.Iowa >= 0.0\n",
      "LA.Maryland >= 0.0\n",
      "LA.Idaho >= 0.0\n",
      "LA.Arkansas >= 0.0\n",
      "Austin.Iowa >= 0.0\n",
      "Austin.Maryland >= 0.0\n",
      "Austin.Idaho >= 0.0\n",
      "Austin.Arkansas >= 0.0\n",
      "Iowa.JS >= 0.0\n",
      "Iowa.SnS >= 0.0\n",
      "Iowa.SD >= 0.0\n",
      "Maryland.JS >= 0.0\n",
      "Maryland.SnS >= 0.0\n",
      "Maryland.SD >= 0.0\n",
      "Idaho.JS >= 0.0\n",
      "Idaho.SnS >= 0.0\n",
      "Idaho.SD >= 0.0\n",
      "Arkansas.JS >= 0.0\n",
      "Arkansas.SnS >= 0.0\n",
      "Arkansas.SD >= 0.0\n"
     ]
    }
   ],
   "source": [
    "lpt.print_model(mymodel)"
   ]
  },
  {
   "cell_type": "code",
   "execution_count": 19,
   "metadata": {},
   "outputs": [
    {
     "name": "stdout",
     "output_type": "stream",
     "text": [
      "Variables:\n",
      "Detroit.Iowa, Detroit.Maryland, Detroit.Idaho, Detroit.Arkansas, LA.Iowa, LA.Maryland, LA.Idaho, LA.Arkansas, Austin.Iowa, Austin.Maryland, Austin.Idaho, Austin.Arkansas, Iowa.JS, Iowa.SnS, Iowa.SD, Maryland.JS, Maryland.SnS, Maryland.SD, Idaho.JS, Idaho.SnS, Idaho.SD, Arkansas.JS, Arkansas.SnS, Arkansas.SD \n",
      "\n",
      "minimize: 25.0*Detroit.Iowa + 25.0*Detroit.Maryland + 35.0*Detroit.Idaho + 40.0*Detroit.Arkansas + 35.0*LA.Iowa + 45.0*LA.Maryland + 35.0*LA.Idaho + 42.5*LA.Arkansas + 40.0*Austin.Iowa + 40.0*Austin.Maryland + 42.5*Austin.Idaho + 32.5*Austin.Arkansas + 30.0*Iowa.JS + 27.5*Iowa.SnS + 30.0*Iowa.SD + 20.0*Maryland.JS + 32.5*Maryland.SnS + 40.0*Maryland.SD + 35.0*Idaho.JS + 40.0*Idaho.SnS + 32.5*Idaho.SD + 27.5*Arkansas.JS + 25.0*Arkansas.SnS + 42.5*Arkansas.SD \n",
      "\n",
      "Subject To:\n",
      "Detroit: 1.0*Detroit.Iowa + 1.0*Detroit.Maryland + 1.0*Detroit.Idaho + 1.0*Detroit.Arkansas <= 350.0\n",
      "LA: 1.0*LA.Iowa + 1.0*LA.Maryland + 1.0*LA.Idaho + 1.0*LA.Arkansas <= 350.0\n",
      "Austin: 1.0*Austin.Iowa + 1.0*Austin.Maryland + 1.0*Austin.Idaho + 1.0*Austin.Arkansas <= 700.0\n",
      "Iowa: 1.0*Detroit.Iowa + 1.0*LA.Iowa + 1.0*Austin.Iowa <= 800.0\n",
      "Maryland: 1.0*Detroit.Maryland + 1.0*LA.Maryland + 1.0*Austin.Maryland <= 500.0\n",
      "Idaho: 1.0*Detroit.Idaho + 1.0*LA.Idaho + 1.0*Austin.Idaho <= 500.0\n",
      "Arkansas: 1.0*Detroit.Arkansas + 1.0*LA.Arkansas + 1.0*Austin.Arkansas <= 500.0\n",
      "JS: 1.0*Iowa.JS + 1.0*Maryland.JS + 1.0*Idaho.JS + 1.0*Arkansas.JS = 200.0\n",
      "SnS: 1.0*Iowa.SnS + 1.0*Maryland.SnS + 1.0*Idaho.SnS + 1.0*Arkansas.SnS = 500.0\n",
      "SD: 1.0*Iowa.SD + 1.0*Maryland.SD + 1.0*Idaho.SD + 1.0*Arkansas.SD = 650.0\n",
      "Iowa: 1.0*Detroit.Iowa + 1.0*LA.Iowa + 1.0*Austin.Iowa - 1.0*Iowa.JS - 1.0*Iowa.SnS - 1.0*Iowa.SD = 0.0\n",
      "Maryland: 1.0*Detroit.Maryland + 1.0*LA.Maryland + 1.0*Austin.Maryland - 1.0*Maryland.JS - 1.0*Maryland.SnS - 1.0*Maryland.SD = 0.0\n",
      "Idaho: 1.0*Detroit.Idaho + 1.0*LA.Idaho + 1.0*Austin.Idaho - 1.0*Idaho.JS - 1.0*Idaho.SnS - 1.0*Idaho.SD = 0.0\n",
      "Arkansas: 1.0*Detroit.Arkansas + 1.0*LA.Arkansas + 1.0*Austin.Arkansas - 1.0*Arkansas.JS - 1.0*Arkansas.SnS - 1.0*Arkansas.SD = 0.0\n",
      "\n",
      "Bounds:\n",
      "Detroit.Iowa >= 0.0\n",
      "Detroit.Maryland >= 0.0\n",
      "Detroit.Idaho >= 0.0\n",
      "Detroit.Arkansas >= 0.0\n",
      "LA.Iowa >= 0.0\n",
      "LA.Maryland >= 0.0\n",
      "LA.Idaho >= 0.0\n",
      "LA.Arkansas >= 0.0\n",
      "Austin.Iowa >= 0.0\n",
      "Austin.Maryland >= 0.0\n",
      "Austin.Idaho >= 0.0\n",
      "Austin.Arkansas >= 0.0\n",
      "Iowa.JS >= 0.0\n",
      "Iowa.SnS >= 0.0\n",
      "Iowa.SD >= 0.0\n",
      "Maryland.JS >= 0.0\n",
      "Maryland.SnS >= 0.0\n",
      "Maryland.SD >= 0.0\n",
      "Idaho.JS >= 0.0\n",
      "Idaho.SnS >= 0.0\n",
      "Idaho.SD >= 0.0\n",
      "Arkansas.JS >= 0.0\n",
      "Arkansas.SnS >= 0.0\n",
      "Arkansas.SD >= 0.0\n"
     ]
    }
   ],
   "source": [
    "constr = mymodel.constraints()[3]\n",
    "constr.SetUb(800)\n",
    "lpt.print_model(mymodel)"
   ]
  },
  {
   "cell_type": "code",
   "execution_count": 20,
   "metadata": {},
   "outputs": [
    {
     "name": "stdout",
     "output_type": "stream",
     "text": [
      "Solution Status = 0\n",
      "Optimal Value = 79250.00\n",
      "Detroit.Iowa = 150.00\n",
      "Detroit.Maryland = 200.00\n",
      "Detroit.Idaho = 0.00\n",
      "Detroit.Arkansas = 0.00\n",
      "LA.Iowa = 350.00\n",
      "LA.Maryland = 0.00\n",
      "LA.Idaho = 0.00\n",
      "LA.Arkansas = 0.00\n",
      "Austin.Iowa = 150.00\n",
      "Austin.Maryland = 0.00\n",
      "Austin.Idaho = 0.00\n",
      "Austin.Arkansas = 500.00\n",
      "Iowa.JS = 0.00\n",
      "Iowa.SnS = 0.00\n",
      "Iowa.SD = 650.00\n",
      "Maryland.JS = 200.00\n",
      "Maryland.SnS = 0.00\n",
      "Maryland.SD = 0.00\n",
      "Idaho.JS = 0.00\n",
      "Idaho.SnS = 0.00\n",
      "Idaho.SD = 0.00\n",
      "Arkansas.JS = 0.00\n",
      "Arkansas.SnS = 500.00\n",
      "Arkansas.SD = 0.00\n"
     ]
    }
   ],
   "source": [
    "#solve model and display results\n",
    "status = mymodel.Solve()\n",
    "print('Solution Status =',status)\n",
    "print('Optimal Value = %.2f' % mymodel.Objective().Value())\n",
    "\n",
    "optimal_value2 = mymodel.Objective().Value()\n",
    "for v in mymodel.variables():\n",
    "    print('%s = %.2f' % (v.name(),v.solution_value()))"
   ]
  },
  {
   "cell_type": "code",
   "execution_count": 21,
   "metadata": {},
   "outputs": [
    {
     "data": {
      "text/plain": [
       "375.0"
      ]
     },
     "execution_count": 21,
     "metadata": {},
     "output_type": "execute_result"
    }
   ],
   "source": [
    "optimal_value1 - optimal_value2"
   ]
  },
  {
   "cell_type": "code",
   "execution_count": 22,
   "metadata": {},
   "outputs": [
    {
     "data": {
      "text/plain": [
       "18750"
      ]
     },
     "execution_count": 22,
     "metadata": {},
     "output_type": "execute_result"
    }
   ],
   "source": [
    "375 * 50"
   ]
  },
  {
   "cell_type": "markdown",
   "metadata": {},
   "source": [
    "No, they should not increase the iowa DC to accomidate 800 skateboards per week. Per the model, the expected savings per year would only be 18750, less than the 40k investment."
   ]
  },
  {
   "cell_type": "code",
   "execution_count": 23,
   "metadata": {},
   "outputs": [],
   "source": [
    "#Create LP model object\n",
    "mymodel = glp.Solver('ShortestPath',glp.Solver.GLOP_LINEAR_PROGRAMMING)"
   ]
  },
  {
   "cell_type": "code",
   "execution_count": 25,
   "metadata": {},
   "outputs": [],
   "source": [
    "inf = mymodel.infinity()\n",
    "\n",
    "# node dictionary; value = -1 is origin, value = 1 is destination, value = 0 is intermediate node\n",
    "node = {1:-1,2:0,3:0,4:0,5:0,6:0,7:1 }\n",
    "\n",
    "# edge dictionary; (origin,destination):distance/cost\n",
    "edge = {(1,2):7,\n",
    "        (1,3):9,\n",
    "        (1,4):18,\n",
    "        (2,3):3,\n",
    "        (2,5):5,\n",
    "        (3,2):3,\n",
    "        (3,5):4,\n",
    "        (4,6):3,\n",
    "        (5,2):5,\n",
    "        (5,3):4,\n",
    "        (5,7):6,\n",
    "        (5,6):2,\n",
    "        (6,5):2,\n",
    "        (6,7):3\n",
    "       }\n",
    "\n",
    "mymodel.Objective().SetMinimization()    # minimize total transportation cost"
   ]
  },
  {
   "cell_type": "code",
   "execution_count": 26,
   "metadata": {},
   "outputs": [],
   "source": [
    "# create a constraint dictionary containing a constraint for each node\n",
    "constr = dict()\n",
    "for n in  node:\n",
    "    b =  node[n]\n",
    "    constr[n] = mymodel.Constraint(b,b,(str(n)) )"
   ]
  },
  {
   "cell_type": "code",
   "execution_count": 27,
   "metadata": {},
   "outputs": [],
   "source": [
    "# create a variable dictionary containing a variable for each edge\n",
    "# add each variable to the objective and its corresponding constraints\n",
    "\n",
    "path = dict()\n",
    "for e in edge:\n",
    "    (o,d) = e\n",
    "    c = edge[e]\n",
    "    path[e] = mymodel.NumVar(0,inf, str(o) + '_' + str(d))\n",
    "    mymodel.Objective().SetCoefficient(path[e],c)\n",
    "    constr[o].SetCoefficient(path[e],-1)\n",
    "    constr[d].SetCoefficient(path[e],1)"
   ]
  },
  {
   "cell_type": "code",
   "execution_count": 28,
   "metadata": {},
   "outputs": [
    {
     "name": "stdout",
     "output_type": "stream",
     "text": [
      "Variables:\n",
      "1_2, 1_3, 1_4, 2_3, 2_5, 3_2, 3_5, 4_6, 5_2, 5_3, 5_7, 5_6, 6_5, 6_7 \n",
      "\n",
      "minimize: 7.0*1_2 + 9.0*1_3 + 18.0*1_4 + 3.0*2_3 + 5.0*2_5 + 3.0*3_2 + 4.0*3_5 + 3.0*4_6 + 5.0*5_2 + 4.0*5_3 + 6.0*5_7 + 2.0*5_6 + 2.0*6_5 + 3.0*6_7 \n",
      "\n",
      "Subject To:\n",
      "1: - 1.0*1_2 - 1.0*1_3 - 1.0*1_4 = -1.0\n",
      "2: 1.0*1_2 - 1.0*2_3 - 1.0*2_5 + 1.0*3_2 + 1.0*5_2 = 0.0\n",
      "3: 1.0*1_3 + 1.0*2_3 - 1.0*3_2 - 1.0*3_5 + 1.0*5_3 = 0.0\n",
      "4: 1.0*1_4 - 1.0*4_6 = 0.0\n",
      "5: 1.0*2_5 + 1.0*3_5 - 1.0*5_2 - 1.0*5_3 - 1.0*5_7 - 1.0*5_6 + 1.0*6_5 = 0.0\n",
      "6: 1.0*4_6 + 1.0*5_6 - 1.0*6_5 - 1.0*6_7 = 0.0\n",
      "7: 1.0*5_7 + 1.0*6_7 = 1.0\n",
      "\n",
      "Bounds:\n",
      "1_2 >= 0.0\n",
      "1_3 >= 0.0\n",
      "1_4 >= 0.0\n",
      "2_3 >= 0.0\n",
      "2_5 >= 0.0\n",
      "3_2 >= 0.0\n",
      "3_5 >= 0.0\n",
      "4_6 >= 0.0\n",
      "5_2 >= 0.0\n",
      "5_3 >= 0.0\n",
      "5_7 >= 0.0\n",
      "5_6 >= 0.0\n",
      "6_5 >= 0.0\n",
      "6_7 >= 0.0\n"
     ]
    }
   ],
   "source": [
    "lpt.print_model(mymodel)"
   ]
  },
  {
   "cell_type": "code",
   "execution_count": 29,
   "metadata": {},
   "outputs": [
    {
     "name": "stdout",
     "output_type": "stream",
     "text": [
      "Solution Status = 0\n",
      "Optimal Value = 17.00\n",
      "1_2 = 1.00\n",
      "2_5 = 1.00\n",
      "5_6 = 1.00\n",
      "6_7 = 1.00\n"
     ]
    }
   ],
   "source": [
    "#solve model and display results\n",
    "status = mymodel.Solve()\n",
    "print('Solution Status =',status)\n",
    "print('Optimal Value = %.2f' % mymodel.Objective().Value())\n",
    "for v in mymodel.variables():\n",
    "    if v.solution_value() != 0:\n",
    "        print('%s = %.2f' % (v.name(),v.solution_value()))"
   ]
  },
  {
   "cell_type": "code",
   "execution_count": 30,
   "metadata": {},
   "outputs": [
    {
     "name": "stdout",
     "output_type": "stream",
     "text": [
      "Variable    LB   Value    UB   Reduced Cost\n",
      "     1_2    0.0    1.0    inf   0.00\n",
      "     1_3    0.0    0.0    inf   0.00\n",
      "     1_4    0.0    0.0    inf   0.00\n",
      "     2_3    0.0    0.0    inf   1.00\n",
      "     2_5    0.0    1.0    inf   0.00\n",
      "     3_2    0.0    0.0    inf   5.00\n",
      "     3_5    0.0    0.0    inf   1.00\n",
      "     4_6    0.0    0.0    inf   7.00\n",
      "     5_2    0.0    0.0    inf  10.00\n",
      "     5_3    0.0    0.0    inf   7.00\n",
      "     5_7    0.0    0.0    inf   1.00\n",
      "     5_6    0.0    1.0    inf   0.00\n",
      "     6_5    0.0    0.0    inf   4.00\n",
      "     6_7    0.0    1.0    inf   0.00\n"
     ]
    }
   ],
   "source": [
    "# display all variable information\n",
    "print('Variable    LB   Value    UB   Reduced Cost')\n",
    "for v in mymodel.variables():\n",
    "    print('%8s  %5.1f  %5.1f  %5.1f  %5.2f' % (v.name(),v.lb(),v.solution_value(),v.ub(),v.reduced_cost()))"
   ]
  },
  {
   "cell_type": "code",
   "execution_count": 31,
   "metadata": {},
   "outputs": [
    {
     "name": "stdout",
     "output_type": "stream",
     "text": [
      "Constraint    LB    Value  UB     Dual\n",
      "         1   -1.0   -1.0   -1.0  -12.00\n",
      "         2    0.0    0.0    0.0  -5.00\n",
      "         3    0.0    0.0    0.0  -3.00\n",
      "         4    0.0    0.0    0.0   6.00\n",
      "         5    0.0    0.0    0.0   0.00\n",
      "         6    0.0    0.0    0.0   2.00\n",
      "         7    1.0    1.0    1.0   5.00\n"
     ]
    }
   ],
   "source": [
    "#display constraint information\n",
    "print('Constraint    LB    Value  UB     Dual')\n",
    "for (c,lhs) in zip(mymodel.constraints(),mymodel.ComputeConstraintActivities()):\n",
    "    print('%10s  %5.1f  %5.1f  %5.1f  %5.2f' % (c.name(),c.lb(),lhs,c.ub(),c.dual_value()))"
   ]
  },
  {
   "cell_type": "markdown",
   "metadata": {},
   "source": [
    "Optimal path will be 1->2->5->6->7"
   ]
  },
  {
   "cell_type": "code",
   "execution_count": null,
   "metadata": {},
   "outputs": [],
   "source": []
  }
 ],
 "metadata": {
  "kernelspec": {
   "display_name": "Python 3",
   "language": "python",
   "name": "python3"
  },
  "language_info": {
   "codemirror_mode": {
    "name": "ipython",
    "version": 3
   },
   "file_extension": ".py",
   "mimetype": "text/x-python",
   "name": "python",
   "nbconvert_exporter": "python",
   "pygments_lexer": "ipython3",
   "version": "3.8.5"
  }
 },
 "nbformat": 4,
 "nbformat_minor": 4
}
