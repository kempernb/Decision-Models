{
 "cells": [
  {
   "cell_type": "code",
   "execution_count": 1,
   "metadata": {},
   "outputs": [],
   "source": [
    "# import Glop package\n",
    "from ortools.linear_solver import pywraplp as glp\n",
    "import lptools as lpt\n",
    "import matplotlib.pyplot as plt"
   ]
  },
  {
   "cell_type": "code",
   "execution_count": 3,
   "metadata": {},
   "outputs": [],
   "source": [
    "#Create LP model object\n",
    "mymodel = glp.Solver('Practice',glp.Solver.GLOP_LINEAR_PROGRAMMING)"
   ]
  },
  {
   "cell_type": "code",
   "execution_count": 4,
   "metadata": {},
   "outputs": [],
   "source": [
    "inf = mymodel.infinity()\n",
    "\n",
    "variables = {'Economy': (0, inf, 63),    # (lower bound, upper bound, objective coefficient)\n",
    "             'Standard': (0, inf,  95),\n",
    "             'Deluxe': (0, inf,  135)}\n",
    "\n",
    "constraints = {'fan':  (-inf, 200, [1, 1, 1]),    # (lower bound, upper bound, coefficient list)\n",
    "               'coils': (-inf, 320, [1, 2, 4]),\n",
    "               'laber': (-inf, 2400, [8, 12, 14])}"
   ]
  },
  {
   "cell_type": "code",
   "execution_count": 5,
   "metadata": {},
   "outputs": [],
   "source": [
    "mymodel.Objective().SetMaximization()\n",
    "\n",
    "for v in variables:\n",
    "    (lb,ub,c) = variables[v]\n",
    "    var = mymodel.NumVar(lb, ub, v)\n",
    "    mymodel.Objective().SetCoefficient(var, c)"
   ]
  },
  {
   "cell_type": "code",
   "execution_count": 6,
   "metadata": {},
   "outputs": [
    {
     "name": "stdout",
     "output_type": "stream",
     "text": [
      "Variables:\n",
      "Economy, Standard, Deluxe \n",
      "\n",
      "maximize: 63.0*Economy + 95.0*Standard + 135.0*Deluxe \n",
      "\n",
      "Subject To:\n",
      "\n",
      "Bounds:\n",
      "Economy >= 0.0\n",
      "Standard >= 0.0\n",
      "Deluxe >= 0.0\n"
     ]
    }
   ],
   "source": [
    "lpt.print_model(mymodel)"
   ]
  },
  {
   "cell_type": "code",
   "execution_count": 7,
   "metadata": {},
   "outputs": [],
   "source": [
    "# Create Constraints\n",
    "\n",
    "for c in constraints:\n",
    "    (lb,ub,coeff_lst) = constraints[c]\n",
    "    constr = mymodel.Constraint(lb,ub,c)\n",
    "    \n",
    "    for (v,coeff) in zip(mymodel.variables(),coeff_lst):\n",
    "        constr.SetCoefficient(v,coeff)"
   ]
  },
  {
   "cell_type": "code",
   "execution_count": 8,
   "metadata": {},
   "outputs": [
    {
     "name": "stdout",
     "output_type": "stream",
     "text": [
      "Variables:\n",
      "Economy, Standard, Deluxe \n",
      "\n",
      "maximize: 63.0*Economy + 95.0*Standard + 135.0*Deluxe \n",
      "\n",
      "Subject To:\n",
      "fan: 1.0*Economy + 1.0*Standard + 1.0*Deluxe <= 200.0\n",
      "coils: 1.0*Economy + 2.0*Standard + 4.0*Deluxe <= 320.0\n",
      "laber: 8.0*Economy + 12.0*Standard + 14.0*Deluxe <= 2400.0\n",
      "\n",
      "Bounds:\n",
      "Economy >= 0.0\n",
      "Standard >= 0.0\n",
      "Deluxe >= 0.0\n"
     ]
    }
   ],
   "source": [
    "lpt.print_model(mymodel)"
   ]
  },
  {
   "cell_type": "code",
   "execution_count": 9,
   "metadata": {},
   "outputs": [
    {
     "name": "stdout",
     "output_type": "stream",
     "text": [
      "Solution Status = 0\n",
      "Optimal Value = 16440.00\n",
      "Economy = 80.00\n",
      "Standard = 120.00\n",
      "Deluxe = 0.00\n"
     ]
    }
   ],
   "source": [
    "#solve model and display results\n",
    "status = mymodel.Solve()\n",
    "print('Solution Status =',status )\n",
    "print('Optimal Value = %.2f' %  mymodel.Objective().Value())\n",
    "for v in mymodel.variables():\n",
    "    print('%s = %.2f' % (v.name() , v.solution_value()))"
   ]
  },
  {
   "cell_type": "code",
   "execution_count": 10,
   "metadata": {},
   "outputs": [],
   "source": [
    "#Create LP model object\n",
    "mymodel = glp.Solver('Oil',glp.Solver.GLOP_LINEAR_PROGRAMMING)"
   ]
  },
  {
   "cell_type": "code",
   "execution_count": 12,
   "metadata": {},
   "outputs": [],
   "source": [
    "inf = mymodel.infinity()\n",
    "\n",
    "variables = {'Texas': (0, inf, 63),    # (lower bound, upper bound, objective coefficient)\n",
    "             'Oklahoma': (0, inf,  95),\n",
    "             'California': (0, inf,  135)}\n",
    "\n",
    "constraints = {'fan':  (-inf, 200, [1, 1, 1]),    # (lower bound, upper bound, coefficient list)\n",
    "               'coils': (-inf, 320, [1, 2, 4]),\n",
    "               'laber': (-inf, 2400, [8, 12, 14])}"
   ]
  },
  {
   "cell_type": "code",
   "execution_count": null,
   "metadata": {},
   "outputs": [],
   "source": []
  }
 ],
 "metadata": {
  "kernelspec": {
   "display_name": "Python 3",
   "language": "python",
   "name": "python3"
  },
  "language_info": {
   "codemirror_mode": {
    "name": "ipython",
    "version": 3
   },
   "file_extension": ".py",
   "mimetype": "text/x-python",
   "name": "python",
   "nbconvert_exporter": "python",
   "pygments_lexer": "ipython3",
   "version": "3.8.5"
  }
 },
 "nbformat": 4,
 "nbformat_minor": 4
}
