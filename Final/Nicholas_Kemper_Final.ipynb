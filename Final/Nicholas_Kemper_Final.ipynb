{
 "cells": [
  {
   "cell_type": "code",
   "execution_count": 1,
   "metadata": {},
   "outputs": [],
   "source": [
    "# import Glop package\n",
    "from ortools.linear_solver import pywraplp as glp\n",
    "import lptools as lpt"
   ]
  },
  {
   "cell_type": "markdown",
   "metadata": {},
   "source": [
    "Problem 2"
   ]
  },
  {
   "cell_type": "code",
   "execution_count": 2,
   "metadata": {},
   "outputs": [],
   "source": [
    "#Create MILP model object\n",
    "mymodel = glp.Solver('FTBC', glp.Solver.CBC_MIXED_INTEGER_PROGRAMMING)"
   ]
  },
  {
   "cell_type": "code",
   "execution_count": 3,
   "metadata": {},
   "outputs": [],
   "source": [
    "inf = mymodel.infinity()\n",
    "\n",
    "         # name: supply capacity (thousand tons), fixed cost (thousand $), unit shipping cost ($) to each RDC\n",
    "source = {'Canton': (5000,10000 , [ 2.34, 1.28, 0.6, 1.6]), \n",
    "          'Dayton': (5000,12000 , [ 0.54, 0.71, 2.13, 1.5]), \n",
    "          'Lima':   (5000,10000 , [ 1.29, 0.92, 1.73, 0.79]),    \n",
    "         }\n",
    "          \n",
    "        # name: demand quantity required (thousand tons)\n",
    "demand = {'Cincinnati': 2100, 'Columbus': 2000, 'Cleveland': 2000,'Toledo': 600}    # Scranton Atlanta Reno\n",
    "\n",
    "mymodel.Objective().SetMinimization()    # minimize total plant and transportation cost"
   ]
  },
  {
   "cell_type": "code",
   "execution_count": 4,
   "metadata": {},
   "outputs": [
    {
     "name": "stdout",
     "output_type": "stream",
     "text": [
      "{'Canton': Canton, 'Dayton': Dayton, 'Lima': Lima}\n",
      "Variables:\n",
      "Canton, Dayton, Lima \n",
      "\n",
      "minimize: 10000.0*Canton + 12000.0*Dayton + 10000.0*Lima \n",
      "\n",
      "Subject To:\n",
      "\n",
      "Bounds:\n",
      "Canton in [0, 1]\n",
      "Dayton in [0, 1]\n",
      "Lima in [0, 1]\n"
     ]
    }
   ],
   "source": [
    "# create binary Plant selection variables and a dictionary to access them\n",
    "select = dict()\n",
    "for s in source:\n",
    "    select[s] = mymodel.IntVar(0,1,s)\n",
    "    (b, f, coeff_lst ) = source[s]\n",
    "    mymodel.Objective().SetCoefficient(select[s], f)\n",
    "print(select)\n",
    "lpt.print_model(mymodel)"
   ]
  },
  {
   "cell_type": "code",
   "execution_count": 5,
   "metadata": {},
   "outputs": [
    {
     "name": "stdout",
     "output_type": "stream",
     "text": [
      "{'Canton': {'Cincinnati': Canton.Cincinnati, 'Columbus': Canton.Columbus, 'Cleveland': Canton.Cleveland, 'Toledo': Canton.Toledo}, 'Dayton': {'Cincinnati': Dayton.Cincinnati, 'Columbus': Dayton.Columbus, 'Cleveland': Dayton.Cleveland, 'Toledo': Dayton.Toledo}, 'Lima': {'Cincinnati': Lima.Cincinnati, 'Columbus': Lima.Columbus, 'Cleveland': Lima.Cleveland, 'Toledo': Lima.Toledo}}\n"
     ]
    }
   ],
   "source": [
    "# create shipment variables from Plants to RDCs and a dictionary to access them\n",
    "ship = dict()\n",
    "for s in source:\n",
    "    ship[s] = dict()\n",
    "    (b, f, coeff_lst) = source[s]\n",
    "    for (d,c) in zip(demand,coeff_lst):\n",
    "        ship[s][d] = mymodel.NumVar(0, inf, s + '.' + d)\n",
    "        mymodel.Objective().SetCoefficient(ship[s][d] ,c )\n",
    "print(ship)"
   ]
  },
  {
   "cell_type": "code",
   "execution_count": 6,
   "metadata": {},
   "outputs": [
    {
     "name": "stdout",
     "output_type": "stream",
     "text": [
      "{'Canton': (5000, 10000, [2.34, 1.28, 0.6, 1.6]), 'Dayton': (5000, 12000, [0.54, 0.71, 2.13, 1.5]), 'Lima': (5000, 10000, [1.29, 0.92, 1.73, 0.79])}\n"
     ]
    }
   ],
   "source": [
    "# create source/supply constraints\n",
    "for s in source:\n",
    "    (b, f, coeff_lst) = source[s]\n",
    "    constr = mymodel.Constraint(-inf ,0 ,s )\n",
    "    constr.SetCoefficient(select[s] , -b)\n",
    "    for d in demand:\n",
    "        constr.SetCoefficient(ship[s][d], 1)\n",
    "print(source)"
   ]
  },
  {
   "cell_type": "code",
   "execution_count": 7,
   "metadata": {},
   "outputs": [
    {
     "name": "stdout",
     "output_type": "stream",
     "text": [
      "{'Cincinnati': 2100, 'Columbus': 2000, 'Cleveland': 2000, 'Toledo': 600}\n"
     ]
    }
   ],
   "source": [
    "# create demand constraints\n",
    "for d in demand:\n",
    "    lb = ub = demand[d]\n",
    "    constr = mymodel.Constraint(lb ,ub ,d )\n",
    "    for s in source:\n",
    "        constr.SetCoefficient(ship[s][d] , 1)\n",
    "print(demand)"
   ]
  },
  {
   "cell_type": "code",
   "execution_count": 8,
   "metadata": {},
   "outputs": [
    {
     "name": "stdout",
     "output_type": "stream",
     "text": [
      "Variables:\n",
      "Canton, Dayton, Lima, Canton.Cincinnati, Canton.Columbus, Canton.Cleveland, Canton.Toledo, Dayton.Cincinnati, Dayton.Columbus, Dayton.Cleveland, Dayton.Toledo, Lima.Cincinnati, Lima.Columbus, Lima.Cleveland, Lima.Toledo \n",
      "\n",
      "minimize: 10000.0*Canton + 12000.0*Dayton + 10000.0*Lima + 2.34*Canton.Cincinnati + 1.28*Canton.Columbus + 0.6*Canton.Cleveland + 1.6*Canton.Toledo + 0.54*Dayton.Cincinnati + 0.71*Dayton.Columbus + 2.13*Dayton.Cleveland + 1.5*Dayton.Toledo + 1.29*Lima.Cincinnati + 0.92*Lima.Columbus + 1.73*Lima.Cleveland + 0.79*Lima.Toledo \n",
      "\n",
      "Subject To:\n",
      "Canton: - 5000.0*Canton + 1.0*Canton.Cincinnati + 1.0*Canton.Columbus + 1.0*Canton.Cleveland + 1.0*Canton.Toledo <= 0.0\n",
      "Dayton: - 5000.0*Dayton + 1.0*Dayton.Cincinnati + 1.0*Dayton.Columbus + 1.0*Dayton.Cleveland + 1.0*Dayton.Toledo <= 0.0\n",
      "Lima: - 5000.0*Lima + 1.0*Lima.Cincinnati + 1.0*Lima.Columbus + 1.0*Lima.Cleveland + 1.0*Lima.Toledo <= 0.0\n",
      "Cincinnati: 1.0*Canton.Cincinnati + 1.0*Dayton.Cincinnati + 1.0*Lima.Cincinnati = 2100.0\n",
      "Columbus: 1.0*Canton.Columbus + 1.0*Dayton.Columbus + 1.0*Lima.Columbus = 2000.0\n",
      "Cleveland: 1.0*Canton.Cleveland + 1.0*Dayton.Cleveland + 1.0*Lima.Cleveland = 2000.0\n",
      "Toledo: 1.0*Canton.Toledo + 1.0*Dayton.Toledo + 1.0*Lima.Toledo = 600.0\n",
      "\n",
      "Bounds:\n",
      "Canton in [0, 1]\n",
      "Dayton in [0, 1]\n",
      "Lima in [0, 1]\n",
      "Canton.Cincinnati >= 0.0\n",
      "Canton.Columbus >= 0.0\n",
      "Canton.Cleveland >= 0.0\n",
      "Canton.Toledo >= 0.0\n",
      "Dayton.Cincinnati >= 0.0\n",
      "Dayton.Columbus >= 0.0\n",
      "Dayton.Cleveland >= 0.0\n",
      "Dayton.Toledo >= 0.0\n",
      "Lima.Cincinnati >= 0.0\n",
      "Lima.Columbus >= 0.0\n",
      "Lima.Cleveland >= 0.0\n",
      "Lima.Toledo >= 0.0\n"
     ]
    }
   ],
   "source": [
    "lpt.print_model(mymodel)"
   ]
  },
  {
   "cell_type": "code",
   "execution_count": 9,
   "metadata": {},
   "outputs": [
    {
     "name": "stdout",
     "output_type": "stream",
     "text": [
      "Solution Status = 0\n",
      "Optimal Value = 26223.00 thousand\n",
      " Canton =  1.00\n",
      "   Lima =  1.00\n",
      "Canton.Cleveland = 2000.00\n",
      "Lima.Cincinnati = 2100.00\n",
      "Lima.Columbus = 2000.00\n",
      "Lima.Toledo = 600.00\n"
     ]
    }
   ],
   "source": [
    "#solve model and display results\n",
    "status = mymodel.Solve()\n",
    "print('Solution Status =',status)\n",
    "print('Optimal Value = %.2f thousand' % mymodel.Objective().Value())\n",
    "for v in mymodel.variables():\n",
    "    if v.solution_value() != 0:\n",
    "        print('%7s = %5.2f' % (v.name(),v.solution_value()))"
   ]
  },
  {
   "cell_type": "code",
   "execution_count": 10,
   "metadata": {},
   "outputs": [],
   "source": [
    "intial_cost = 26223.00"
   ]
  },
  {
   "cell_type": "markdown",
   "metadata": {},
   "source": [
    "Second Best solution"
   ]
  },
  {
   "cell_type": "code",
   "execution_count": 11,
   "metadata": {},
   "outputs": [
    {
     "name": "stdout",
     "output_type": "stream",
     "text": [
      "M = 2 , a= {'Canton': 1, 'Dayton': -1, 'Lima': 1}\n",
      "Solution Status = 0\n",
      "Optimal Value = 26654.00 thousand\n",
      " Canton =  1.00\n",
      " Dayton =  1.00\n",
      "Canton.Cleveland = 2000.00\n",
      "Dayton.Cincinnati = 2100.00\n",
      "Dayton.Columbus = 2000.00\n",
      "Dayton.Toledo = 600.00\n"
     ]
    }
   ],
   "source": [
    "# store coefficients and RHS for cut constraint\n",
    "\n",
    "a = dict()\n",
    "M = 0\n",
    "for s in source:\n",
    "    if select[s].solution_value() == 1:\n",
    "        a[s] =  1\n",
    "        M = M + 1\n",
    "    else:    # solution_value == 0\n",
    "        a[s] =  -1\n",
    "print('M =', M, ', a=', a)\n",
    "\n",
    "#add cut constraint\n",
    "cut_constr = mymodel.Constraint(-inf ,M - 1 , 'Cut' + str([a[s] for s in a]))\n",
    "for s in source:\n",
    "    cut_constr.SetCoefficient(select[s] , a[s])\n",
    "    \n",
    "#solve model and display results\n",
    "status = mymodel.Solve()\n",
    "print('Solution Status =',status)\n",
    "print('Optimal Value = %.2f thousand' % mymodel.Objective().Value())\n",
    "for v in mymodel.variables():\n",
    "    if v.solution_value() != 0:\n",
    "        print('%7s = %5.2f' % (v.name(),v.solution_value()))\n",
    "            \n",
    "# relax cut constraint\n",
    "# cut_constr.SetBounds(-mymodel.infinity(),mymodel.infinity())"
   ]
  },
  {
   "cell_type": "code",
   "execution_count": 12,
   "metadata": {},
   "outputs": [],
   "source": [
    "second_best = 26654.00\n",
    "cost_difference = second_best - intial_cost"
   ]
  },
  {
   "cell_type": "code",
   "execution_count": 13,
   "metadata": {},
   "outputs": [
    {
     "name": "stdout",
     "output_type": "stream",
     "text": [
      "The difference in cost for this alternate solution is: 431.0\n"
     ]
    }
   ],
   "source": [
    "print(\"The difference in cost for this alternate solution is: {}\".format(cost_difference))"
   ]
  },
  {
   "cell_type": "code",
   "execution_count": null,
   "metadata": {},
   "outputs": [],
   "source": []
  }
 ],
 "metadata": {
  "kernelspec": {
   "display_name": "Python 3",
   "language": "python",
   "name": "python3"
  },
  "language_info": {
   "codemirror_mode": {
    "name": "ipython",
    "version": 3
   },
   "file_extension": ".py",
   "mimetype": "text/x-python",
   "name": "python",
   "nbconvert_exporter": "python",
   "pygments_lexer": "ipython3",
   "version": "3.8.5"
  }
 },
 "nbformat": 4,
 "nbformat_minor": 4
}
