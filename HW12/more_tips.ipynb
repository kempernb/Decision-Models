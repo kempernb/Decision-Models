{
 "cells": [
  {
   "cell_type": "markdown",
   "metadata": {},
   "source": [
    "## More Python Coding Tips for the CRS Case"
   ]
  },
  {
   "cell_type": "markdown",
   "metadata": {},
   "source": [
    "### Tuple Assignment"
   ]
  },
  {
   "cell_type": "markdown",
   "metadata": {},
   "source": [
    "First of all, let's open the _CRS_data.xlsx_ Excel workbook and the 'Forecasted Demand' worksheet within the workbook."
   ]
  },
  {
   "cell_type": "code",
   "execution_count": null,
   "metadata": {},
   "outputs": [],
   "source": [
    "import openpyxl as opx\n",
    "wb = opx.load_workbook('CRS_data.xlsx')\n",
    "ws = wb['Forecasted Demand'] "
   ]
  },
  {
   "cell_type": "markdown",
   "metadata": {},
   "source": [
    "Recall the _.values_ generator iteratively returns a tuple for each row in the worksheet. The following line of code creates a list containing the first 10 rows of the 'Forecasted Demand' worksheet."
   ]
  },
  {
   "cell_type": "code",
   "execution_count": null,
   "metadata": {},
   "outputs": [],
   "source": [
    "list(ws.values)[0:10]    # first 10 rows of values from the ws worksheet"
   ]
  },
  {
   "cell_type": "markdown",
   "metadata": {},
   "source": [
    "Each of these tuples contains two values: customer zone and demand. When working with tuples it is often helpful to store the values from a tuple in other variables. You can do this efficiently using a tuple assignment statement. If _row_ is a tuple containing the values (10, 33081), then the tuple assignment statement _(zone, dmd) = row_ simultaneously stores the value 10 in the variable _zone_ and the value 33081 in the variable _dmd_."
   ]
  },
  {
   "cell_type": "code",
   "execution_count": null,
   "metadata": {},
   "outputs": [],
   "source": [
    "row = (10, 33081)\n",
    "(zone,dmd) = row    # tuple assignment stores both values\n",
    "\n",
    "print('row =', row)\n",
    "print('zone =', zone)\n",
    "print('dmd =', dmd)"
   ]
  },
  {
   "cell_type": "markdown",
   "metadata": {},
   "source": [
    "### Indexing and Slicing Tuples"
   ]
  },
  {
   "cell_type": "markdown",
   "metadata": {},
   "source": [
    "Tuples can also be indexed and sliced like a list. This feature is particularly helpful when working with a long tuple of information. Let's see how we can use this feature to manipulate the data in the 'Outbound Freight Cost' worksheet. The following lines of code store the rows of values from the worksheet in a list of tuples named _data_lst_ and then stores the tuple containing the second row of the worksheet in the variable _row_. You can see that this tuple is quite long containing 506 elements."
   ]
  },
  {
   "cell_type": "code",
   "execution_count": null,
   "metadata": {},
   "outputs": [],
   "source": [
    "ws = wb['Outbound Freight Cost']\n",
    "row = list(ws.values)[1]    # select the second row of values in the ws worksheet\n",
    "print(row[0:100])           # print first 100 elements of the row"
   ]
  },
  {
   "cell_type": "markdown",
   "metadata": {},
   "source": [
    "Fortunately, we can use indexing and slicing to manipulate this long tuple of information. The expression _row[0]_ will return the first element of the tuple which is the name of the distribution center. The expression _row[1:]_ uses the slicing syntax to return all the other elements of the tuple. If we create a dictionary called _out_cost_, we can create an item in that dictionary using _row[0]_ as the key and _row[1:]_ as the value to store all the outbound costs associated with this distribution center. You can embed this approach within a for-loop to store the entire table of outbound costs in the dictionary."
   ]
  },
  {
   "cell_type": "code",
   "execution_count": null,
   "metadata": {},
   "outputs": [],
   "source": [
    "print('DC =', row[0])                 # print first value in the row tuple\n",
    "print('First 10 Costs =', row[1:11])  # print the next 10 values in the row tuple\n",
    "print('\\n')                           # print blank line (newline)\n",
    "\n",
    "out_cost = dict()\n",
    "out_cost[row[0]] = row[1:]            # create item in the dictionary out_cost with key = row[0] and value = row[1:]\n",
    "\n",
    "print(out_cost['Atlanta'])            # print tuple of all outbound freight costs from the Atlanta DC"
   ]
  },
  {
   "cell_type": "markdown",
   "metadata": {},
   "source": [
    "### Using the _zip( )_ Function to Create a Dictionary"
   ]
  },
  {
   "cell_type": "markdown",
   "metadata": {},
   "source": [
    "We'll now look at how to use the _zip()_ function to create a dictionary of dictionaries to store an entire table of data that can be used to retrieve a single value. First, let's create a simple dictionary containing all the customer zones and their demand forecasts."
   ]
  },
  {
   "cell_type": "code",
   "execution_count": null,
   "metadata": {},
   "outputs": [],
   "source": [
    "# store customer zones and their demand forecast values in the demand dictionary\n",
    "ws = wb['Forecasted Demand']\n",
    "demand = dict()\n",
    "for row in ws.values:\n",
    "    (zone, dmd) = row\n",
    "    demand[zone] = dmd\n",
    "del demand['Customer Zone']"
   ]
  },
  {
   "cell_type": "markdown",
   "metadata": {},
   "source": [
    "Now, let's take a look at the data in the 'Transit Time' worksheet. Just like the 'Outbound Freight Cost' worksheet, there are 506 values in each row of this worksheet. Let's look at the row of values for the Atlanta DC location."
   ]
  },
  {
   "cell_type": "code",
   "execution_count": null,
   "metadata": {},
   "outputs": [],
   "source": [
    "ws = wb['Transit Time']     # select the 'Transit Time' worksheet\n",
    "row = list(ws.values)[1]    # select the second row of values in the ws worksheet\n",
    "print(row[0:100])           # print first 100 elements of the row"
   ]
  },
  {
   "cell_type": "markdown",
   "metadata": {},
   "source": [
    "We could use the same approach as we did for the 'Outbound Freight Cost' worksheet, but this time let's store this information in a dictionary of dictionaries to make it easier to access the transit time value for each DC-Zone combination. The _zip()_ function can be used to combine the customer zone keys from the _demand_ dictionary with the transit time values from the _row_ tuple into a list of tuples. Finally, we can use the _dict()_ function to convert the zone-time tuple list into a dictionary."
   ]
  },
  {
   "cell_type": "code",
   "execution_count": null,
   "metadata": {},
   "outputs": [],
   "source": [
    "print('DC =', row[0])                    # first value in the row is the DC location\n",
    "\n",
    "lst = list(zip(demand, row[1:10]))       # create a list of tuples containing each customer zone and transit time value\n",
    "print('Zone-Time Tuple List =', lst)\n",
    "\n",
    "zt_dict = dict(lst)                      # convert the tuple list into a dictionary\n",
    "print('Zone-Time Dictionary =', zt_dict)"
   ]
  },
  {
   "cell_type": "markdown",
   "metadata": {},
   "source": [
    "Combining these techniques we can now create a dictionary of dictionaries which allows us to easily access any specific value in the transit time table. Of course, you will need to add a for-loop to read and store the entire table of transit time data."
   ]
  },
  {
   "cell_type": "code",
   "execution_count": null,
   "metadata": {},
   "outputs": [],
   "source": [
    "#import transit times\n",
    "ws = wb['Transit Time']\n",
    "transit_time = dict()                               # create transit_time dictionary\n",
    "row = list(ws.values)[1]                            # select second row of the ws worksheet\n",
    "transit_time[row[0]] = dict(zip(demand,row[1:]))    # create a dictionary item using key = row[0] and value = dict(zip())\n",
    "\n",
    "print(transit_time['Atlanta'][18], 'days')          # access transit time value for a specific DC and Zone"
   ]
  }
 ],
 "metadata": {
  "kernelspec": {
   "display_name": "Python 3",
   "language": "python",
   "name": "python3"
  },
  "language_info": {
   "codemirror_mode": {
    "name": "ipython",
    "version": 3
   },
   "file_extension": ".py",
   "mimetype": "text/x-python",
   "name": "python",
   "nbconvert_exporter": "python",
   "pygments_lexer": "ipython3",
   "version": "3.8.5"
  }
 },
 "nbformat": 4,
 "nbformat_minor": 4
}
