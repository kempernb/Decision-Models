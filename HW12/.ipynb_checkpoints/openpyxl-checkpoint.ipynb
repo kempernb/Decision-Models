{
 "cells": [
  {
   "cell_type": "markdown",
   "metadata": {},
   "source": [
    "## Using _openpyxl_ to Read from an Excel File"
   ]
  },
  {
   "cell_type": "markdown",
   "metadata": {},
   "source": [
    "The _openpyxl_ package provides functionality for reading and writing Excel files in Python. There are other packages that provide similar functionality, but _openpyxl_ is conveniently included in the Anaconda Python distribution. First of all, let's import the _openpyxl_ package and use the shorter label _opx_ as an alias for the full package name. "
   ]
  },
  {
   "cell_type": "code",
   "execution_count": 1,
   "metadata": {},
   "outputs": [],
   "source": [
    "import openpyxl as opx"
   ]
  },
  {
   "cell_type": "markdown",
   "metadata": {},
   "source": [
    "Next, let's open our Excel data file, _CRS_data.xlsx_, by using the _load_workbook()_ function. This function returns a workbook object which we'll assign to the variable name _wb_."
   ]
  },
  {
   "cell_type": "code",
   "execution_count": 2,
   "metadata": {},
   "outputs": [],
   "source": [
    "wb = opx.load_workbook('CRS_data.xlsx')"
   ]
  },
  {
   "cell_type": "code",
   "execution_count": 3,
   "metadata": {},
   "outputs": [
    {
     "data": {
      "text/plain": [
       "openpyxl.workbook.workbook.Workbook"
      ]
     },
     "execution_count": 3,
     "metadata": {},
     "output_type": "execute_result"
    }
   ],
   "source": [
    "type(wb)"
   ]
  },
  {
   "cell_type": "code",
   "execution_count": 4,
   "metadata": {},
   "outputs": [],
   "source": [
    "#help(wb)"
   ]
  },
  {
   "cell_type": "markdown",
   "metadata": {},
   "source": [
    "If you run the _help(wb)_ command, you will see there are a number of attributes and methods associated with a workbook object. We will only need to use a couple of them to read information from the workbook. The first attribute we'll use is _.sheetnames_ which stores a list of all the worksheet names in the workbook. There are six worksheets in the _CRS_data.xlsx_ workbook."
   ]
  },
  {
   "cell_type": "code",
   "execution_count": 5,
   "metadata": {},
   "outputs": [
    {
     "data": {
      "text/plain": [
       "['Forecasted Demand',\n",
       " 'Annual Plant Capacity',\n",
       " 'Inbound Freight Costs',\n",
       " 'Handling Charges',\n",
       " 'Outbound Freight Cost',\n",
       " 'Transit Time']"
      ]
     },
     "execution_count": 5,
     "metadata": {},
     "output_type": "execute_result"
    }
   ],
   "source": [
    "wb.sheetnames"
   ]
  },
  {
   "cell_type": "markdown",
   "metadata": {},
   "source": [
    "We can use these sheet names like keys in a dictionary to select a specific worksheet object within the workbook. Let's use that syntax to select the 'Forecasted Demand' worksheet object in the _wb_ workbook and assign that worksheet object to the variable _ws_."
   ]
  },
  {
   "cell_type": "code",
   "execution_count": 6,
   "metadata": {},
   "outputs": [],
   "source": [
    "ws = wb['Forecasted Demand']"
   ]
  },
  {
   "cell_type": "code",
   "execution_count": 7,
   "metadata": {},
   "outputs": [
    {
     "data": {
      "text/plain": [
       "openpyxl.worksheet.worksheet.Worksheet"
      ]
     },
     "execution_count": 7,
     "metadata": {},
     "output_type": "execute_result"
    }
   ],
   "source": [
    "type(ws)"
   ]
  },
  {
   "cell_type": "code",
   "execution_count": 8,
   "metadata": {},
   "outputs": [],
   "source": [
    "#help(ws)"
   ]
  },
  {
   "cell_type": "markdown",
   "metadata": {},
   "source": [
    "Again, there are many attributes and methods associated with a worksheet object, but we'll only need to use the _.values_ attribute to retrieve the values stored in the cells of the worksheet object _ws_. The _.values_ attribute is actually a generator that returns a tuple for each row of values in the worksheet. We need to embed the _.values_ generator within another expression in order to retrieve those tuples. Let's create a list containing all rows of values in the spreadsheet and then display the first 10 tuples of rows."
   ]
  },
  {
   "cell_type": "code",
   "execution_count": 9,
   "metadata": {},
   "outputs": [
    {
     "data": {
      "text/plain": [
       "[('Customer Zone', 'Demand'),\n",
       " (10, 33081),\n",
       " (12, 18595),\n",
       " (14, 12046),\n",
       " (18, 65862),\n",
       " (19, 22170),\n",
       " (21, 139581),\n",
       " (22, 25917),\n",
       " (24, 17900),\n",
       " (27, 10691)]"
      ]
     },
     "execution_count": 9,
     "metadata": {},
     "output_type": "execute_result"
    }
   ],
   "source": [
    "lst = list(ws.values)\n",
    "lst[0:10]"
   ]
  },
  {
   "cell_type": "markdown",
   "metadata": {},
   "source": [
    "Finally, we'll use a for loop to iterate over every row in the worksheet and use a tuple assignment statement to store each row of information in a dictionary using the customer zone numbers as the key values. We'll also want to delete the dictionary item containing the column headings from the dictionary."
   ]
  },
  {
   "cell_type": "code",
   "execution_count": 10,
   "metadata": {},
   "outputs": [],
   "source": [
    "ws = wb['Forecasted Demand']\n",
    "demand = dict()\n",
    "for row in ws.values:\n",
    "    (zone, dmd) = row\n",
    "    demand[zone] = dmd\n",
    "del demand['Customer Zone']"
   ]
  },
  {
   "cell_type": "markdown",
   "metadata": {},
   "source": [
    "We can now use the _demand_ dictionary to retrieve the forecasted demand value for any customer zone using the zone number as the dictionary key. For example, the forecasted demand for zone 19 is 22,170."
   ]
  },
  {
   "cell_type": "code",
   "execution_count": 11,
   "metadata": {},
   "outputs": [
    {
     "data": {
      "text/plain": [
       "22170"
      ]
     },
     "execution_count": 11,
     "metadata": {},
     "output_type": "execute_result"
    }
   ],
   "source": [
    "demand[19]"
   ]
  },
  {
   "cell_type": "markdown",
   "metadata": {},
   "source": [
    "You now have all the tools you need to retrieve the data from _CRS_data.xlsx_ to build a supply chain network optimization model for the Clifton Running Shoes case."
   ]
  }
 ],
 "metadata": {
  "kernelspec": {
   "display_name": "Python 3",
   "language": "python",
   "name": "python3"
  },
  "language_info": {
   "codemirror_mode": {
    "name": "ipython",
    "version": 3
   },
   "file_extension": ".py",
   "mimetype": "text/x-python",
   "name": "python",
   "nbconvert_exporter": "python",
   "pygments_lexer": "ipython3",
   "version": "3.8.5"
  }
 },
 "nbformat": 4,
 "nbformat_minor": 4
}
