{
 "cells": [
  {
   "cell_type": "code",
   "execution_count": 19,
   "metadata": {},
   "outputs": [],
   "source": [
    "# import Glop package\n",
    "from ortools.linear_solver import pywraplp as glp\n",
    "import lptools as lpt"
   ]
  },
  {
   "cell_type": "code",
   "execution_count": 13,
   "metadata": {},
   "outputs": [],
   "source": [
    "# each row (sublist) corresponds to a single student\n",
    "# each element in a row (sublist) indicates the student's preference for a project\n",
    "\n",
    "preference = [[2,5,3,2,4,4,5],\n",
    "              [1,5,1,2,2,4,5],\n",
    "              [2,5,4,4,5,5,3],\n",
    "              [2,5,3,1,5,4,4],\n",
    "              [2,4,3,1,5,5,5],\n",
    "              [5,5,2,2,2,3,5],\n",
    "              [2,5,2,3,4,5,5],\n",
    "              [2,5,3,1,3,5,4],\n",
    "              [1,5,2,3,4,5,1],\n",
    "              [3,5,4,2,3,5,5],\n",
    "              [2,5,2,2,2,2,5],\n",
    "              [1,5,1,2,2,5,4],\n",
    "              [1,4,1,2,1,4,5],\n",
    "              [1,5,1,2,2,5,4],\n",
    "              [1,5,1,1,4,5,4],\n",
    "              [2,5,3,2,4,5,3],\n",
    "              [1,5,1,2,4,3,4],\n",
    "              [3,4,2,1,3,5,4],\n",
    "              [5,4,3,5,5,4,5],\n",
    "              [5,5,1,4,5,5,1],\n",
    "              [2,5,1,1,4,5,4],\n",
    "              [1,4,4,5,2,2,3],\n",
    "              [4,5,1,1,5,5,5],\n",
    "              [1,4,1,3,5,2,3],\n",
    "              [1,3,1,2,2,4,5],\n",
    "              [2,5,4,4,5,5,3],\n",
    "              [2,4,3,2,3,5,4],\n",
    "              [3,5,3,1,4,5,5]]"
   ]
  },
  {
   "cell_type": "markdown",
   "metadata": {},
   "source": [
    "## Student Project Data"
   ]
  },
  {
   "cell_type": "code",
   "execution_count": 14,
   "metadata": {},
   "outputs": [
    {
     "name": "stdout",
     "output_type": "stream",
     "text": [
      "{'0': (1, [2, 5, 3, 2, 4, 4, 5]), '1': (1, [1, 5, 1, 2, 2, 4, 5]), '2': (1, [2, 5, 4, 4, 5, 5, 3]), '3': (1, [2, 5, 3, 1, 5, 4, 4]), '4': (1, [2, 4, 3, 1, 5, 5, 5]), '5': (1, [5, 5, 2, 2, 2, 3, 5]), '6': (1, [2, 5, 2, 3, 4, 5, 5]), '7': (1, [2, 5, 3, 1, 3, 5, 4]), '8': (1, [1, 5, 2, 3, 4, 5, 1]), '9': (1, [3, 5, 4, 2, 3, 5, 5]), '10': (1, [2, 5, 2, 2, 2, 2, 5]), '11': (1, [1, 5, 1, 2, 2, 5, 4]), '12': (1, [1, 4, 1, 2, 1, 4, 5]), '13': (1, [1, 5, 1, 2, 2, 5, 4]), '14': (1, [1, 5, 1, 1, 4, 5, 4]), '15': (1, [2, 5, 3, 2, 4, 5, 3]), '16': (1, [1, 5, 1, 2, 4, 3, 4]), '17': (1, [3, 4, 2, 1, 3, 5, 4]), '18': (1, [5, 4, 3, 5, 5, 4, 5]), '19': (1, [5, 5, 1, 4, 5, 5, 1]), '20': (1, [2, 5, 1, 1, 4, 5, 4]), '21': (1, [1, 4, 4, 5, 2, 2, 3]), '22': (1, [4, 5, 1, 1, 5, 5, 5]), '23': (1, [1, 4, 1, 3, 5, 2, 3]), '24': (1, [1, 3, 1, 2, 2, 4, 5]), '25': (1, [2, 5, 4, 4, 5, 5, 3]), '26': (1, [2, 4, 3, 2, 3, 5, 4]), '27': (1, [3, 5, 3, 1, 4, 5, 5])}\n"
     ]
    }
   ],
   "source": [
    "agents = {}\n",
    "\n",
    "for i in range(len(preference)):\n",
    "    student_preference = preference[i]\n",
    "    dict_index = str(i)\n",
    "    agents[dict_index] = (1, student_preference)\n",
    "\n",
    "print(agents)"
   ]
  },
  {
   "cell_type": "code",
   "execution_count": 15,
   "metadata": {},
   "outputs": [
    {
     "name": "stdout",
     "output_type": "stream",
     "text": [
      "{'0': 4, '1': 4, '2': 4, '3': 4, '4': 4, '5': 4, '6': 4}\n"
     ]
    }
   ],
   "source": [
    "tasks = {}\n",
    "\n",
    "for i in range(7):\n",
    "    dict_index = str(i)\n",
    "    tasks[dict_index] = 4\n",
    "\n",
    "print(tasks)"
   ]
  },
  {
   "cell_type": "code",
   "execution_count": 20,
   "metadata": {},
   "outputs": [],
   "source": [
    "#Create LP model object\n",
    "mymodel = glp.Solver('Students',glp.Solver.GLOP_LINEAR_PROGRAMMING)\n",
    "inf = mymodel.infinity()"
   ]
  },
  {
   "cell_type": "code",
   "execution_count": 22,
   "metadata": {},
   "outputs": [
    {
     "ename": "NameError",
     "evalue": "name 'inf' is not defined",
     "output_type": "error",
     "traceback": [
      "\u001b[0;31m---------------------------------------------------------------------------\u001b[0m",
      "\u001b[0;31mNameError\u001b[0m                                 Traceback (most recent call last)",
      "\u001b[0;32m<ipython-input-22-4b91141e4896>\u001b[0m in \u001b[0;36m<module>\u001b[0;34m\u001b[0m\n\u001b[1;32m      5\u001b[0m     \u001b[0;34m(\u001b[0m\u001b[0mb\u001b[0m\u001b[0;34m,\u001b[0m\u001b[0mcoeff_lst\u001b[0m\u001b[0;34m)\u001b[0m \u001b[0;34m=\u001b[0m  \u001b[0magents\u001b[0m\u001b[0;34m[\u001b[0m\u001b[0ma\u001b[0m\u001b[0;34m]\u001b[0m\u001b[0;34m\u001b[0m\u001b[0;34m\u001b[0m\u001b[0m\n\u001b[1;32m      6\u001b[0m     \u001b[0;32mfor\u001b[0m \u001b[0;34m(\u001b[0m\u001b[0mt\u001b[0m\u001b[0;34m,\u001b[0m\u001b[0mc\u001b[0m\u001b[0;34m)\u001b[0m \u001b[0;32min\u001b[0m \u001b[0mzip\u001b[0m\u001b[0;34m(\u001b[0m\u001b[0mtasks\u001b[0m\u001b[0;34m,\u001b[0m\u001b[0mcoeff_lst\u001b[0m\u001b[0;34m)\u001b[0m\u001b[0;34m:\u001b[0m\u001b[0;34m\u001b[0m\u001b[0;34m\u001b[0m\u001b[0m\n\u001b[0;32m----> 7\u001b[0;31m         \u001b[0massign\u001b[0m\u001b[0;34m[\u001b[0m\u001b[0ma\u001b[0m\u001b[0;34m]\u001b[0m\u001b[0;34m[\u001b[0m\u001b[0mt\u001b[0m\u001b[0;34m]\u001b[0m \u001b[0;34m=\u001b[0m  \u001b[0mmymodel\u001b[0m\u001b[0;34m.\u001b[0m\u001b[0mNumVar\u001b[0m\u001b[0;34m(\u001b[0m\u001b[0;36m0\u001b[0m\u001b[0;34m,\u001b[0m \u001b[0minf\u001b[0m\u001b[0;34m,\u001b[0m \u001b[0ma\u001b[0m \u001b[0;34m+\u001b[0m \u001b[0mt\u001b[0m\u001b[0;34m)\u001b[0m\u001b[0;34m\u001b[0m\u001b[0;34m\u001b[0m\u001b[0m\n\u001b[0m\u001b[1;32m      8\u001b[0m         \u001b[0mmymodel\u001b[0m\u001b[0;34m.\u001b[0m\u001b[0mObjective\u001b[0m\u001b[0;34m(\u001b[0m\u001b[0;34m)\u001b[0m\u001b[0;34m.\u001b[0m\u001b[0mSetCoefficient\u001b[0m\u001b[0;34m(\u001b[0m\u001b[0massign\u001b[0m\u001b[0;34m[\u001b[0m\u001b[0ma\u001b[0m\u001b[0;34m]\u001b[0m\u001b[0;34m[\u001b[0m\u001b[0mt\u001b[0m\u001b[0;34m]\u001b[0m\u001b[0;34m,\u001b[0m\u001b[0mc\u001b[0m\u001b[0;34m)\u001b[0m\u001b[0;34m\u001b[0m\u001b[0;34m\u001b[0m\u001b[0m\n",
      "\u001b[0;31mNameError\u001b[0m: name 'inf' is not defined"
     ]
    }
   ],
   "source": [
    "# create all assignment variables and a dictionary of dictionaries to access them\n",
    "assign =  dict()\n",
    "for a in agents:\n",
    "    assign[a] =  dict()\n",
    "    (b,coeff_lst) =  agents[a]\n",
    "    for (t,c) in zip(tasks,coeff_lst):\n",
    "        assign[a][t] =  mymodel.NumVar(0, inf, a + t)\n",
    "        mymodel.Objective().SetCoefficient(assign[a][t],c)"
   ]
  },
  {
   "cell_type": "code",
   "execution_count": null,
   "metadata": {},
   "outputs": [],
   "source": []
  }
 ],
 "metadata": {
  "kernelspec": {
   "display_name": "Python 3",
   "language": "python",
   "name": "python3"
  },
  "language_info": {
   "codemirror_mode": {
    "name": "ipython",
    "version": 3
   },
   "file_extension": ".py",
   "mimetype": "text/x-python",
   "name": "python",
   "nbconvert_exporter": "python",
   "pygments_lexer": "ipython3",
   "version": "3.8.5"
  }
 },
 "nbformat": 4,
 "nbformat_minor": 2
}
